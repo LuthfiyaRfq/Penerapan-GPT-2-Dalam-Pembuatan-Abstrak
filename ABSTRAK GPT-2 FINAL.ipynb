{
  "cells": [
    {
      "cell_type": "markdown",
      "metadata": {
        "id": "8kvQIZfUBc3L"
      },
      "source": [
        "# TUGAS AKHIR : ANALISIS GENERATIVE PRETRAINED TRANSFORMERS 2 (GPT-2) DALAM PEMBUATAN ABSTRAK\n",
        "### Peneliti : Luthfiya Rifqi Bahasuan\n",
        "### NRP : 1151900030"
      ]
    },
    {
      "cell_type": "markdown",
      "metadata": {
        "id": "xrgRqdfAB6w3"
      },
      "source": [
        "# Dataset Loader"
      ]
    },
    {
      "cell_type": "code",
      "execution_count": null,
      "metadata": {
        "colab": {
          "base_uri": "https://localhost:8080/"
        },
        "id": "sAjmj-2YB8u3",
        "outputId": "2bf62d83-8bdf-4cf0-c27a-5fb5a3768d18"
      },
      "outputs": [
        {
          "output_type": "stream",
          "name": "stdout",
          "text": [
            "Downloading...\n",
            "From: https://drive.google.com/uc?id=1RwBsnUMf5Xe0k-37cNeBkCnKw7O4WBkX\n",
            "To: /content/dataset_clean_new.txt\n",
            "\r  0% 0.00/2.79M [00:00<?, ?B/s]\r100% 2.79M/2.79M [00:00<00:00, 57.7MB/s]\n"
          ]
        }
      ],
      "source": [
        "!gdown https://drive.google.com/uc?id=1RwBsnUMf5Xe0k-37cNeBkCnKw7O4WBkX\n",
        "# https://drive.google.com/file/d/1d7K9LfsBVTNpluru3qpd951sMZTCVDOr/view?usp=sharing\n",
        "# https://drive.google.com/file/d/1RwBsnUMf5Xe0k-37cNeBkCnKw7O4WBkX/view?usp=sharing new"
      ]
    },
    {
      "cell_type": "markdown",
      "metadata": {
        "id": "_DE1imY5C8eP"
      },
      "source": [
        "# Utility Script Loader"
      ]
    },
    {
      "cell_type": "code",
      "execution_count": null,
      "metadata": {
        "colab": {
          "base_uri": "https://localhost:8080/"
        },
        "id": "0HndzecqC8Bf",
        "outputId": "a1fcc3ac-3532-4f52-cbf1-60aa6ffb0744"
      },
      "outputs": [
        {
          "output_type": "stream",
          "name": "stdout",
          "text": [
            "Downloading...\n",
            "From: https://drive.google.com/uc?id=1rD_Y8MVlOsUPCF6rofbxUfCRsFymvMH4\n",
            "To: /content/Utility_Scripts.zip\n",
            "\r  0% 0.00/7.80k [00:00<?, ?B/s]\r100% 7.80k/7.80k [00:00<00:00, 28.2MB/s]\n"
          ]
        }
      ],
      "source": [
        "!gdown https://drive.google.com/uc?id=1rD_Y8MVlOsUPCF6rofbxUfCRsFymvMH4"
      ]
    },
    {
      "cell_type": "code",
      "execution_count": null,
      "metadata": {
        "id": "yBpV34N3DLDe"
      },
      "outputs": [],
      "source": [
        "import os\n",
        "# os.environ[\"CUDA_VISIBLE_DEVICES\"]= \"1\"\n",
        "import zipfile\n",
        "local_zip = '/content/Utility_Scripts.zip'\n",
        "zip_ref = zipfile.ZipFile(local_zip, 'r')\n",
        "zip_ref.extractall('/content')\n",
        "zip_ref.close()"
      ]
    },
    {
      "cell_type": "markdown",
      "metadata": {
        "id": "bMcNfKZyQNIB"
      },
      "source": [
        "## Perbaharui run language modelling.py"
      ]
    },
    {
      "cell_type": "code",
      "execution_count": null,
      "metadata": {
        "colab": {
          "base_uri": "https://localhost:8080/"
        },
        "id": "n0L3tAdQP9BW",
        "outputId": "9daee296-2f50-46e9-cbaf-f489971ae29f"
      },
      "outputs": [
        {
          "output_type": "stream",
          "name": "stdout",
          "text": [
            "/content/Utility_Scripts\n",
            "Downloading...\n",
            "From: https://drive.google.com/uc?id=1VpJkXlKJt7zqbkTQ2ZkmotXmKKI0MEf4\n",
            "To: /content/Utility_Scripts/run_language_modeling_py.py\n",
            "100% 11.0k/11.0k [00:00<00:00, 38.1MB/s]\n",
            "/content\n"
          ]
        }
      ],
      "source": [
        "%cd /content/Utility_Scripts\n",
        "# https://drive.google.com/file/d/1VpJkXlKJt7zqbkTQ2ZkmotXmKKI0MEf4/view?usp=sharing\n",
        "!gdown https://drive.google.com/uc?id=1VpJkXlKJt7zqbkTQ2ZkmotXmKKI0MEf4\n",
        "%cd .."
      ]
    },
    {
      "cell_type": "markdown",
      "metadata": {
        "id": "eVvdnwXgCTOn"
      },
      "source": [
        "# Membuat file Train & Test"
      ]
    },
    {
      "cell_type": "code",
      "execution_count": null,
      "metadata": {
        "colab": {
          "base_uri": "https://localhost:8080/"
        },
        "id": "APGQPAvfBc3Q",
        "outputId": "324305aa-8e7b-4dfb-fbc2-898c492937ea"
      },
      "outputs": [
        {
          "output_type": "stream",
          "name": "stdout",
          "text": [
            "Dataset berhasil dipisahkan.\n"
          ]
        }
      ],
      "source": [
        "def split_dataset(input_file, train_file, val_file, split_ratio):\n",
        "    # Membaca isi file input\n",
        "    with open(input_file, 'r') as file:\n",
        "        lines = file.readlines()\n",
        "\n",
        "    # Menghitung jumlah data untuk setiap set\n",
        "    num_samples = len(lines)\n",
        "    num_train = int(num_samples * split_ratio)\n",
        "    num_val = num_samples - num_train\n",
        "\n",
        "    # Memecah data menjadi set latihan dan validasi\n",
        "    train_data = lines[:num_train]\n",
        "    val_data = lines[num_train:]\n",
        "\n",
        "    # Menulis data set latihan ke file train\n",
        "    with open(train_file, 'w') as file:\n",
        "        file.writelines(train_data)\n",
        "\n",
        "    # Menulis data set validasi ke file val\n",
        "    with open(val_file, 'w') as file:\n",
        "        file.writelines(val_data)\n",
        "\n",
        "    print(\"Dataset berhasil dipisahkan.\")\n",
        "\n",
        "# Memanggil fungsi split_dataset dengan parameter-file yang sesuai\n",
        "split_dataset('/content/dataset_clean_new.txt', '/content/dataset_train.txt', '/content/dataset_val.txt', 0.9)"
      ]
    },
    {
      "cell_type": "markdown",
      "metadata": {
        "id": "XAhFHdLbBc3Q"
      },
      "source": [
        "# Requirements\n",
        "Finetune using HuggingFace's run_language_modeling.py script and [raymond's](https://towardsdatascience.com/fine-tuning-gpt2-for-text-generation-using-pytorch-2ee61a4f1ba7) modification."
      ]
    },
    {
      "cell_type": "code",
      "execution_count": null,
      "metadata": {
        "colab": {
          "base_uri": "https://localhost:8080/"
        },
        "id": "BqfFtB5H_xrZ",
        "outputId": "6e6b23ea-aa8e-4200-86e0-6e59a67daec9"
      },
      "outputs": [
        {
          "output_type": "stream",
          "name": "stdout",
          "text": [
            "Collecting transformers[torch]\n",
            "  Downloading transformers-4.31.0-py3-none-any.whl (7.4 MB)\n",
            "\u001b[2K     \u001b[90m━━━━━━━━━━━━━━━━━━━━━━━━━━━━━━━━━━━━━━━━\u001b[0m \u001b[32m7.4/7.4 MB\u001b[0m \u001b[31m46.0 MB/s\u001b[0m eta \u001b[36m0:00:00\u001b[0m\n",
            "\u001b[?25hRequirement already satisfied: filelock in /usr/local/lib/python3.10/dist-packages (from transformers[torch]) (3.12.2)\n",
            "Collecting huggingface-hub<1.0,>=0.14.1 (from transformers[torch])\n",
            "  Downloading huggingface_hub-0.16.4-py3-none-any.whl (268 kB)\n",
            "\u001b[2K     \u001b[90m━━━━━━━━━━━━━━━━━━━━━━━━━━━━━━━━━━━━━━\u001b[0m \u001b[32m268.8/268.8 kB\u001b[0m \u001b[31m30.4 MB/s\u001b[0m eta \u001b[36m0:00:00\u001b[0m\n",
            "\u001b[?25hRequirement already satisfied: numpy>=1.17 in /usr/local/lib/python3.10/dist-packages (from transformers[torch]) (1.23.5)\n",
            "Requirement already satisfied: packaging>=20.0 in /usr/local/lib/python3.10/dist-packages (from transformers[torch]) (23.1)\n",
            "Requirement already satisfied: pyyaml>=5.1 in /usr/local/lib/python3.10/dist-packages (from transformers[torch]) (6.0.1)\n",
            "Requirement already satisfied: regex!=2019.12.17 in /usr/local/lib/python3.10/dist-packages (from transformers[torch]) (2023.6.3)\n",
            "Requirement already satisfied: requests in /usr/local/lib/python3.10/dist-packages (from transformers[torch]) (2.31.0)\n",
            "Collecting tokenizers!=0.11.3,<0.14,>=0.11.1 (from transformers[torch])\n",
            "  Downloading tokenizers-0.13.3-cp310-cp310-manylinux_2_17_x86_64.manylinux2014_x86_64.whl (7.8 MB)\n",
            "\u001b[2K     \u001b[90m━━━━━━━━━━━━━━━━━━━━━━━━━━━━━━━━━━━━━━━━\u001b[0m \u001b[32m7.8/7.8 MB\u001b[0m \u001b[31m89.6 MB/s\u001b[0m eta \u001b[36m0:00:00\u001b[0m\n",
            "\u001b[?25hCollecting safetensors>=0.3.1 (from transformers[torch])\n",
            "  Downloading safetensors-0.3.2-cp310-cp310-manylinux_2_17_x86_64.manylinux2014_x86_64.whl (1.3 MB)\n",
            "\u001b[2K     \u001b[90m━━━━━━━━━━━━━━━━━━━━━━━━━━━━━━━━━━━━━━━━\u001b[0m \u001b[32m1.3/1.3 MB\u001b[0m \u001b[31m78.2 MB/s\u001b[0m eta \u001b[36m0:00:00\u001b[0m\n",
            "\u001b[?25hRequirement already satisfied: tqdm>=4.27 in /usr/local/lib/python3.10/dist-packages (from transformers[torch]) (4.66.1)\n",
            "Requirement already satisfied: torch!=1.12.0,>=1.9 in /usr/local/lib/python3.10/dist-packages (from transformers[torch]) (2.0.1+cu118)\n",
            "Collecting accelerate>=0.20.3 (from transformers[torch])\n",
            "  Downloading accelerate-0.21.0-py3-none-any.whl (244 kB)\n",
            "\u001b[2K     \u001b[90m━━━━━━━━━━━━━━━━━━━━━━━━━━━━━━━━━━━━━━\u001b[0m \u001b[32m244.2/244.2 kB\u001b[0m \u001b[31m30.6 MB/s\u001b[0m eta \u001b[36m0:00:00\u001b[0m\n",
            "\u001b[?25hRequirement already satisfied: psutil in /usr/local/lib/python3.10/dist-packages (from accelerate>=0.20.3->transformers[torch]) (5.9.5)\n",
            "Requirement already satisfied: fsspec in /usr/local/lib/python3.10/dist-packages (from huggingface-hub<1.0,>=0.14.1->transformers[torch]) (2023.6.0)\n",
            "Requirement already satisfied: typing-extensions>=3.7.4.3 in /usr/local/lib/python3.10/dist-packages (from huggingface-hub<1.0,>=0.14.1->transformers[torch]) (4.7.1)\n",
            "Requirement already satisfied: sympy in /usr/local/lib/python3.10/dist-packages (from torch!=1.12.0,>=1.9->transformers[torch]) (1.12)\n",
            "Requirement already satisfied: networkx in /usr/local/lib/python3.10/dist-packages (from torch!=1.12.0,>=1.9->transformers[torch]) (3.1)\n",
            "Requirement already satisfied: jinja2 in /usr/local/lib/python3.10/dist-packages (from torch!=1.12.0,>=1.9->transformers[torch]) (3.1.2)\n",
            "Requirement already satisfied: triton==2.0.0 in /usr/local/lib/python3.10/dist-packages (from torch!=1.12.0,>=1.9->transformers[torch]) (2.0.0)\n",
            "Requirement already satisfied: cmake in /usr/local/lib/python3.10/dist-packages (from triton==2.0.0->torch!=1.12.0,>=1.9->transformers[torch]) (3.27.2)\n",
            "Requirement already satisfied: lit in /usr/local/lib/python3.10/dist-packages (from triton==2.0.0->torch!=1.12.0,>=1.9->transformers[torch]) (16.0.6)\n",
            "Requirement already satisfied: charset-normalizer<4,>=2 in /usr/local/lib/python3.10/dist-packages (from requests->transformers[torch]) (3.2.0)\n",
            "Requirement already satisfied: idna<4,>=2.5 in /usr/local/lib/python3.10/dist-packages (from requests->transformers[torch]) (3.4)\n",
            "Requirement already satisfied: urllib3<3,>=1.21.1 in /usr/local/lib/python3.10/dist-packages (from requests->transformers[torch]) (2.0.4)\n",
            "Requirement already satisfied: certifi>=2017.4.17 in /usr/local/lib/python3.10/dist-packages (from requests->transformers[torch]) (2023.7.22)\n",
            "Requirement already satisfied: MarkupSafe>=2.0 in /usr/local/lib/python3.10/dist-packages (from jinja2->torch!=1.12.0,>=1.9->transformers[torch]) (2.1.3)\n",
            "Requirement already satisfied: mpmath>=0.19 in /usr/local/lib/python3.10/dist-packages (from sympy->torch!=1.12.0,>=1.9->transformers[torch]) (1.3.0)\n",
            "Installing collected packages: tokenizers, safetensors, huggingface-hub, transformers, accelerate\n",
            "Successfully installed accelerate-0.21.0 huggingface-hub-0.16.4 safetensors-0.3.2 tokenizers-0.13.3 transformers-4.31.0\n"
          ]
        }
      ],
      "source": [
        "!pip install transformers[torch]"
      ]
    },
    {
      "cell_type": "code",
      "execution_count": null,
      "metadata": {
        "colab": {
          "base_uri": "https://localhost:8080/"
        },
        "id": "08n1t0kcBc3R",
        "outputId": "f94544d2-e7bf-49f1-a64e-e73da54dbc45"
      },
      "outputs": [
        {
          "output_type": "stream",
          "name": "stdout",
          "text": [
            "4.31.0\n"
          ]
        }
      ],
      "source": [
        "import transformers\n",
        "print(transformers.__version__)"
      ]
    },
    {
      "cell_type": "markdown",
      "metadata": {
        "id": "RUBeF17en2L2"
      },
      "source": [
        "# Train"
      ]
    },
    {
      "cell_type": "markdown",
      "source": [
        "### Mulai Modelling"
      ],
      "metadata": {
        "id": "yugVyp7ajAW2"
      }
    },
    {
      "cell_type": "code",
      "source": [
        "from google.colab import drive\n",
        "drive.mount('/content/drive')"
      ],
      "metadata": {
        "colab": {
          "base_uri": "https://localhost:8080/"
        },
        "id": "70DOQroPsddD",
        "outputId": "ebd333b7-60a6-49c2-96e0-2611ba0047ce"
      },
      "execution_count": null,
      "outputs": [
        {
          "output_type": "stream",
          "name": "stdout",
          "text": [
            "Mounted at /content/drive\n"
          ]
        }
      ]
    },
    {
      "cell_type": "code",
      "execution_count": null,
      "metadata": {
        "colab": {
          "base_uri": "https://localhost:8080/"
        },
        "id": "_iYNvhMmBc3S",
        "outputId": "b6c2c30c-6e81-481e-fa10-020790ebd618"
      },
      "outputs": [
        {
          "output_type": "stream",
          "name": "stdout",
          "text": [
            "2023-08-02 07:06:25.998297: W tensorflow/compiler/tf2tensorrt/utils/py_utils.cc:38] TF-TRT Warning: Could not find TensorRT\n",
            "08/02/2023 07:06:31 - WARNING - __main__ -   Process rank: 0, device: cuda:0, n_gpu: 1, distributed training: True, 16-bits training: False\n",
            "08/02/2023 07:06:31 - INFO - __main__ -   Training/evaluation parameters TrainingArguments(\n",
            "_n_gpu=1,\n",
            "adafactor=False,\n",
            "adam_beta1=0.9,\n",
            "adam_beta2=0.999,\n",
            "adam_epsilon=1e-08,\n",
            "auto_find_batch_size=False,\n",
            "bf16=False,\n",
            "bf16_full_eval=False,\n",
            "data_seed=None,\n",
            "dataloader_drop_last=False,\n",
            "dataloader_num_workers=0,\n",
            "dataloader_pin_memory=True,\n",
            "ddp_backend=None,\n",
            "ddp_broadcast_buffers=None,\n",
            "ddp_bucket_cap_mb=None,\n",
            "ddp_find_unused_parameters=None,\n",
            "ddp_timeout=1800,\n",
            "debug=[],\n",
            "deepspeed=None,\n",
            "disable_tqdm=False,\n",
            "do_eval=True,\n",
            "do_predict=False,\n",
            "do_train=True,\n",
            "eval_accumulation_steps=None,\n",
            "eval_delay=0,\n",
            "eval_steps=None,\n",
            "evaluation_strategy=no,\n",
            "fp16=False,\n",
            "fp16_backend=auto,\n",
            "fp16_full_eval=False,\n",
            "fp16_opt_level=O1,\n",
            "fsdp=[],\n",
            "fsdp_config={'fsdp_min_num_params': 0, 'xla': False, 'xla_fsdp_grad_ckpt': False},\n",
            "fsdp_min_num_params=0,\n",
            "fsdp_transformer_layer_cls_to_wrap=None,\n",
            "full_determinism=False,\n",
            "gradient_accumulation_steps=1,\n",
            "gradient_checkpointing=False,\n",
            "greater_is_better=None,\n",
            "group_by_length=False,\n",
            "half_precision_backend=auto,\n",
            "hub_model_id=None,\n",
            "hub_private_repo=False,\n",
            "hub_strategy=every_save,\n",
            "hub_token=<HUB_TOKEN>,\n",
            "ignore_data_skip=False,\n",
            "include_inputs_for_metrics=False,\n",
            "jit_mode_eval=False,\n",
            "label_names=None,\n",
            "label_smoothing_factor=0.0,\n",
            "learning_rate=5e-05,\n",
            "length_column_name=length,\n",
            "load_best_model_at_end=False,\n",
            "local_rank=0,\n",
            "log_level=passive,\n",
            "log_level_replica=warning,\n",
            "log_on_each_node=True,\n",
            "logging_dir=/content/drive/MyDrive/TA_28epoch/runs/Aug02_07-06-31_0185df818937,\n",
            "logging_first_step=False,\n",
            "logging_nan_inf_filter=True,\n",
            "logging_steps=250,\n",
            "logging_strategy=steps,\n",
            "lr_scheduler_type=linear,\n",
            "max_grad_norm=1.0,\n",
            "max_steps=-1,\n",
            "metric_for_best_model=None,\n",
            "mp_parameters=,\n",
            "no_cuda=False,\n",
            "num_train_epochs=28.0,\n",
            "optim=adamw_hf,\n",
            "optim_args=None,\n",
            "output_dir=/content/drive/MyDrive/TA_28epoch,\n",
            "overwrite_output_dir=False,\n",
            "past_index=-1,\n",
            "per_device_eval_batch_size=8,\n",
            "per_device_train_batch_size=8,\n",
            "prediction_loss_only=False,\n",
            "push_to_hub=False,\n",
            "push_to_hub_model_id=None,\n",
            "push_to_hub_organization=None,\n",
            "push_to_hub_token=<PUSH_TO_HUB_TOKEN>,\n",
            "ray_scope=last,\n",
            "remove_unused_columns=True,\n",
            "report_to=['tensorboard'],\n",
            "resume_from_checkpoint=None,\n",
            "run_name=/content/drive/MyDrive/TA_28epoch,\n",
            "save_on_each_node=False,\n",
            "save_safetensors=False,\n",
            "save_steps=3000,\n",
            "save_strategy=steps,\n",
            "save_total_limit=None,\n",
            "seed=42,\n",
            "sharded_ddp=[],\n",
            "skip_memory_metrics=True,\n",
            "tf32=None,\n",
            "torch_compile=False,\n",
            "torch_compile_backend=None,\n",
            "torch_compile_mode=None,\n",
            "torchdynamo=None,\n",
            "tpu_metrics_debug=False,\n",
            "tpu_num_cores=None,\n",
            "use_ipex=False,\n",
            "use_legacy_prediction_loop=False,\n",
            "use_mps_device=False,\n",
            "warmup_ratio=0.0,\n",
            "warmup_steps=0,\n",
            "weight_decay=0.0,\n",
            "xpu_backend=None,\n",
            ")\n",
            "Downloading (…)lve/main/config.json: 100% 573/573 [00:00<00:00, 3.97MB/s]\n",
            "Downloading (…)okenizer_config.json: 100% 16.0/16.0 [00:00<00:00, 124kB/s]\n",
            "Downloading (…)olve/main/vocab.json: 100% 894k/894k [00:00<00:00, 14.7MB/s]\n",
            "Downloading (…)olve/main/merges.txt: 100% 452k/452k [00:00<00:00, 2.81MB/s]\n",
            "Downloading (…)cial_tokens_map.json: 100% 357/357 [00:00<00:00, 1.42MB/s]\n",
            "/usr/local/lib/python3.10/dist-packages/transformers/models/auto/modeling_auto.py:1423: FutureWarning: The class `AutoModelWithLMHead` is deprecated and will be removed in a future version. Please use `AutoModelForCausalLM` for causal language models, `AutoModelForMaskedLM` for masked language models and `AutoModelForSeq2SeqLM` for encoder-decoder models.\n",
            "  warnings.warn(\n",
            "Downloading pytorch_model.bin: 100% 510M/510M [00:04<00:00, 109MB/s]\n",
            "/usr/local/lib/python3.10/dist-packages/transformers/data/datasets/language_modeling.py:119: FutureWarning: This dataset will be removed from the library soon, preprocessing should be handled with the 🤗 Datasets library. You can have a look at this example script for pointers: https://github.com/huggingface/transformers/blob/main/examples/pytorch/language-modeling/run_mlm.py\n",
            "  warnings.warn(\n",
            "/usr/local/lib/python3.10/dist-packages/transformers/trainer.py:1500: FutureWarning: `model_path` is deprecated and will be removed in a future version. Use `resume_from_checkpoint` instead.\n",
            "  warnings.warn(\n",
            "/usr/local/lib/python3.10/dist-packages/transformers/optimization.py:411: FutureWarning: This implementation of AdamW is deprecated and will be removed in a future version. Use the PyTorch implementation torch.optim.AdamW instead, or set `no_deprecation_warning=True` to disable this warning\n",
            "  warnings.warn(\n",
            "  0% 0/3276 [00:00<?, ?it/s]You're using a GPT2TokenizerFast tokenizer. Please note that with a fast tokenizer, using the `__call__` method is faster than using a method to encode the text followed by a call to the `pad` method to get a padded encoding.\n",
            "{'loss': 3.6345, 'learning_rate': 4.618437118437119e-05, 'epoch': 2.14}\n",
            "{'loss': 2.759, 'learning_rate': 4.236874236874237e-05, 'epoch': 4.27}\n",
            "{'loss': 2.2158, 'learning_rate': 3.8553113553113556e-05, 'epoch': 6.41}\n",
            "{'loss': 1.8093, 'learning_rate': 3.473748473748474e-05, 'epoch': 8.55}\n",
            "{'loss': 1.5022, 'learning_rate': 3.0921855921855924e-05, 'epoch': 10.68}\n",
            "{'loss': 1.2339, 'learning_rate': 2.7106227106227105e-05, 'epoch': 12.82}\n",
            "{'loss': 1.0383, 'learning_rate': 2.3290598290598293e-05, 'epoch': 14.96}\n",
            "{'loss': 0.8753, 'learning_rate': 1.9474969474969477e-05, 'epoch': 17.09}\n",
            "{'loss': 0.7501, 'learning_rate': 1.565934065934066e-05, 'epoch': 19.23}\n",
            "{'loss': 0.6606, 'learning_rate': 1.1843711843711844e-05, 'epoch': 21.37}\n",
            "{'loss': 0.5896, 'learning_rate': 8.028083028083029e-06, 'epoch': 23.5}\n",
            "{'loss': 0.5444, 'learning_rate': 4.212454212454213e-06, 'epoch': 25.64}\n",
            "{'loss': 0.5086, 'learning_rate': 3.9682539682539683e-07, 'epoch': 27.78}\n",
            "{'train_runtime': 4398.232, 'train_samples_per_second': 5.959, 'train_steps_per_second': 0.745, 'train_loss': 1.3869921936948075, 'epoch': 28.0}\n",
            "100% 3276/3276 [1:13:18<00:00,  1.34s/it]\n",
            "08/02/2023 08:20:06 - INFO - __main__ -   *** Evaluate ***\n",
            "100% 13/13 [00:05<00:00,  2.46it/s]\n",
            "08/02/2023 08:20:11 - INFO - __main__ -   ***** Eval results *****\n",
            "08/02/2023 08:20:11 - INFO - __main__ -     perplexity = 95.91777791737414\n"
          ]
        }
      ],
      "source": [
        "!python /content/Utility_Scripts/run_language_modeling_py.py \\\n",
        "--output_dir='/content/drive/MyDrive/TA_28epoch' \\\n",
        "--model_type=gpt2 \\\n",
        "--model_name_or_path='cahya/gpt2-small-indonesian-522M' \\\n",
        "--do_train \\\n",
        "--train_data_file='/content/dataset_train.txt' \\\n",
        "--do_eval \\\n",
        "--eval_data_file='/content/dataset_val.txt' \\\n",
        "--per_device_train_batch_size=8 \\\n",
        "--per_device_eval_batch_size=8 \\\n",
        "--line_by_line \\\n",
        "--logging_steps=250 \\\n",
        "--save_steps=3000 \\\n",
        "--learning_rate 5e-5 \\\n",
        "--num_train_epochs=28"
      ]
    },
    {
      "cell_type": "code",
      "source": [
        "import pandas as pd\n",
        "\n",
        "# Data yang diberikan\n",
        "data = [\n",
        "    {'loss': 3.6345, 'learning_rate': 4.618437118437119e-05, 'epoch': 2.14},\n",
        "    {'loss': 2.759, 'learning_rate': 4.236874236874237e-05, 'epoch': 4.27},\n",
        "    {'loss': 2.2158, 'learning_rate': 3.8553113553113556e-05, 'epoch': 6.41},\n",
        "    {'loss': 1.8093, 'learning_rate': 3.473748473748474e-05, 'epoch': 8.55},\n",
        "    {'loss': 1.5022, 'learning_rate': 3.0921855921855924e-05, 'epoch': 10.68},\n",
        "    {'loss': 1.2339, 'learning_rate': 2.7106227106227105e-05, 'epoch': 12.82},\n",
        "    {'loss': 1.0383, 'learning_rate': 2.3290598290598293e-05, 'epoch': 14.96},\n",
        "    {'loss': 0.8753, 'learning_rate': 1.9474969474969477e-05, 'epoch': 17.09},\n",
        "    {'loss': 0.7501, 'learning_rate': 1.565934065934066e-05, 'epoch': 19.23},\n",
        "    {'loss': 0.6606, 'learning_rate': 1.1843711843711844e-05, 'epoch': 21.37},\n",
        "    {'loss': 0.5896, 'learning_rate': 8.028083028083029e-06, 'epoch': 23.5},\n",
        "    {'loss': 0.5444, 'learning_rate': 4.212454212454213e-06, 'epoch': 25.64},\n",
        "    {'loss': 0.5086, 'learning_rate': 3.9682539682539683e-07, 'epoch': 27.78}\n",
        "]\n",
        "\n",
        "# # Membuat DataFrame menggunakan pandas\n",
        "# df = pd.DataFrame(data)\n",
        "\n",
        "# # Menampilkan tabel\n",
        "# print(df)\n",
        "# Membuat DataFrame menggunakan pandas\n",
        "df = pd.DataFrame(data)\n",
        "\n",
        "# Menerapkan style pada tabel\n",
        "def highlight_min(s):\n",
        "    is_min = s == s.min()\n",
        "    return ['background-color:' if v else '' for v in is_min]\n",
        "\n",
        "styled_df = df.style.apply(highlight_min, subset=['loss']).format({'learning_rate': '{:.2e}'})\n",
        "\n",
        "# Menampilkan tabel dengan style\n",
        "styled_df"
      ],
      "metadata": {
        "colab": {
          "base_uri": "https://localhost:8080/",
          "height": 457
        },
        "id": "8gMvyvFIPHKt",
        "outputId": "3f9a1143-bb13-4226-d85a-699f91edf476"
      },
      "execution_count": null,
      "outputs": [
        {
          "output_type": "execute_result",
          "data": {
            "text/plain": [
              "<pandas.io.formats.style.Styler at 0x7843c5344970>"
            ],
            "text/html": [
              "<style type=\"text/css\">\n",
              "#T_5c3b3_row12_col0 {\n",
              "  background-color: ;\n",
              "}\n",
              "</style>\n",
              "<table id=\"T_5c3b3\" class=\"dataframe\">\n",
              "  <thead>\n",
              "    <tr>\n",
              "      <th class=\"blank level0\" >&nbsp;</th>\n",
              "      <th id=\"T_5c3b3_level0_col0\" class=\"col_heading level0 col0\" >loss</th>\n",
              "      <th id=\"T_5c3b3_level0_col1\" class=\"col_heading level0 col1\" >learning_rate</th>\n",
              "      <th id=\"T_5c3b3_level0_col2\" class=\"col_heading level0 col2\" >epoch</th>\n",
              "    </tr>\n",
              "  </thead>\n",
              "  <tbody>\n",
              "    <tr>\n",
              "      <th id=\"T_5c3b3_level0_row0\" class=\"row_heading level0 row0\" >0</th>\n",
              "      <td id=\"T_5c3b3_row0_col0\" class=\"data row0 col0\" >3.634500</td>\n",
              "      <td id=\"T_5c3b3_row0_col1\" class=\"data row0 col1\" >4.62e-05</td>\n",
              "      <td id=\"T_5c3b3_row0_col2\" class=\"data row0 col2\" >2.140000</td>\n",
              "    </tr>\n",
              "    <tr>\n",
              "      <th id=\"T_5c3b3_level0_row1\" class=\"row_heading level0 row1\" >1</th>\n",
              "      <td id=\"T_5c3b3_row1_col0\" class=\"data row1 col0\" >2.759000</td>\n",
              "      <td id=\"T_5c3b3_row1_col1\" class=\"data row1 col1\" >4.24e-05</td>\n",
              "      <td id=\"T_5c3b3_row1_col2\" class=\"data row1 col2\" >4.270000</td>\n",
              "    </tr>\n",
              "    <tr>\n",
              "      <th id=\"T_5c3b3_level0_row2\" class=\"row_heading level0 row2\" >2</th>\n",
              "      <td id=\"T_5c3b3_row2_col0\" class=\"data row2 col0\" >2.215800</td>\n",
              "      <td id=\"T_5c3b3_row2_col1\" class=\"data row2 col1\" >3.86e-05</td>\n",
              "      <td id=\"T_5c3b3_row2_col2\" class=\"data row2 col2\" >6.410000</td>\n",
              "    </tr>\n",
              "    <tr>\n",
              "      <th id=\"T_5c3b3_level0_row3\" class=\"row_heading level0 row3\" >3</th>\n",
              "      <td id=\"T_5c3b3_row3_col0\" class=\"data row3 col0\" >1.809300</td>\n",
              "      <td id=\"T_5c3b3_row3_col1\" class=\"data row3 col1\" >3.47e-05</td>\n",
              "      <td id=\"T_5c3b3_row3_col2\" class=\"data row3 col2\" >8.550000</td>\n",
              "    </tr>\n",
              "    <tr>\n",
              "      <th id=\"T_5c3b3_level0_row4\" class=\"row_heading level0 row4\" >4</th>\n",
              "      <td id=\"T_5c3b3_row4_col0\" class=\"data row4 col0\" >1.502200</td>\n",
              "      <td id=\"T_5c3b3_row4_col1\" class=\"data row4 col1\" >3.09e-05</td>\n",
              "      <td id=\"T_5c3b3_row4_col2\" class=\"data row4 col2\" >10.680000</td>\n",
              "    </tr>\n",
              "    <tr>\n",
              "      <th id=\"T_5c3b3_level0_row5\" class=\"row_heading level0 row5\" >5</th>\n",
              "      <td id=\"T_5c3b3_row5_col0\" class=\"data row5 col0\" >1.233900</td>\n",
              "      <td id=\"T_5c3b3_row5_col1\" class=\"data row5 col1\" >2.71e-05</td>\n",
              "      <td id=\"T_5c3b3_row5_col2\" class=\"data row5 col2\" >12.820000</td>\n",
              "    </tr>\n",
              "    <tr>\n",
              "      <th id=\"T_5c3b3_level0_row6\" class=\"row_heading level0 row6\" >6</th>\n",
              "      <td id=\"T_5c3b3_row6_col0\" class=\"data row6 col0\" >1.038300</td>\n",
              "      <td id=\"T_5c3b3_row6_col1\" class=\"data row6 col1\" >2.33e-05</td>\n",
              "      <td id=\"T_5c3b3_row6_col2\" class=\"data row6 col2\" >14.960000</td>\n",
              "    </tr>\n",
              "    <tr>\n",
              "      <th id=\"T_5c3b3_level0_row7\" class=\"row_heading level0 row7\" >7</th>\n",
              "      <td id=\"T_5c3b3_row7_col0\" class=\"data row7 col0\" >0.875300</td>\n",
              "      <td id=\"T_5c3b3_row7_col1\" class=\"data row7 col1\" >1.95e-05</td>\n",
              "      <td id=\"T_5c3b3_row7_col2\" class=\"data row7 col2\" >17.090000</td>\n",
              "    </tr>\n",
              "    <tr>\n",
              "      <th id=\"T_5c3b3_level0_row8\" class=\"row_heading level0 row8\" >8</th>\n",
              "      <td id=\"T_5c3b3_row8_col0\" class=\"data row8 col0\" >0.750100</td>\n",
              "      <td id=\"T_5c3b3_row8_col1\" class=\"data row8 col1\" >1.57e-05</td>\n",
              "      <td id=\"T_5c3b3_row8_col2\" class=\"data row8 col2\" >19.230000</td>\n",
              "    </tr>\n",
              "    <tr>\n",
              "      <th id=\"T_5c3b3_level0_row9\" class=\"row_heading level0 row9\" >9</th>\n",
              "      <td id=\"T_5c3b3_row9_col0\" class=\"data row9 col0\" >0.660600</td>\n",
              "      <td id=\"T_5c3b3_row9_col1\" class=\"data row9 col1\" >1.18e-05</td>\n",
              "      <td id=\"T_5c3b3_row9_col2\" class=\"data row9 col2\" >21.370000</td>\n",
              "    </tr>\n",
              "    <tr>\n",
              "      <th id=\"T_5c3b3_level0_row10\" class=\"row_heading level0 row10\" >10</th>\n",
              "      <td id=\"T_5c3b3_row10_col0\" class=\"data row10 col0\" >0.589600</td>\n",
              "      <td id=\"T_5c3b3_row10_col1\" class=\"data row10 col1\" >8.03e-06</td>\n",
              "      <td id=\"T_5c3b3_row10_col2\" class=\"data row10 col2\" >23.500000</td>\n",
              "    </tr>\n",
              "    <tr>\n",
              "      <th id=\"T_5c3b3_level0_row11\" class=\"row_heading level0 row11\" >11</th>\n",
              "      <td id=\"T_5c3b3_row11_col0\" class=\"data row11 col0\" >0.544400</td>\n",
              "      <td id=\"T_5c3b3_row11_col1\" class=\"data row11 col1\" >4.21e-06</td>\n",
              "      <td id=\"T_5c3b3_row11_col2\" class=\"data row11 col2\" >25.640000</td>\n",
              "    </tr>\n",
              "    <tr>\n",
              "      <th id=\"T_5c3b3_level0_row12\" class=\"row_heading level0 row12\" >12</th>\n",
              "      <td id=\"T_5c3b3_row12_col0\" class=\"data row12 col0\" >0.508600</td>\n",
              "      <td id=\"T_5c3b3_row12_col1\" class=\"data row12 col1\" >3.97e-07</td>\n",
              "      <td id=\"T_5c3b3_row12_col2\" class=\"data row12 col2\" >27.780000</td>\n",
              "    </tr>\n",
              "  </tbody>\n",
              "</table>\n"
            ]
          },
          "metadata": {},
          "execution_count": 9
        }
      ]
    },
    {
      "cell_type": "markdown",
      "source": [
        "# PENGUJIAN"
      ],
      "metadata": {
        "id": "Bqa-xLlulCkF"
      }
    },
    {
      "cell_type": "code",
      "source": [
        "from transformers import(\n",
        "    pipeline,\n",
        "    AutoModelWithLMHead,\n",
        "    AutoTokenizer\n",
        ")"
      ],
      "metadata": {
        "id": "yugvGSkOlp2d"
      },
      "execution_count": null,
      "outputs": []
    },
    {
      "cell_type": "code",
      "source": [
        "model = AutoModelWithLMHead.from_pretrained(\"/content/drive/MyDrive/TA_28epoch\")\n",
        "tokenizer = AutoTokenizer.from_pretrained('cahya/gpt2-small-indonesian-522M')\n",
        "generator = pipeline(\"text-generation\", model=model, tokenizer=tokenizer, max_length=512)"
      ],
      "metadata": {
        "id": "0KEct7yilEJG",
        "colab": {
          "base_uri": "https://localhost:8080/",
          "height": 266,
          "referenced_widgets": [
            "25199f6da84543de8730a1f219167aa3",
            "f98f9d6ebb83442ab20e40e6c68e5025",
            "4abfe0494035444d884f7a5b9656743d",
            "87ca2ab063244851bfbd8d034fcf2461",
            "7d14cc6bf67845fe8a15be5df46bbf72",
            "012607f9c1b14583b73baa622d66dd55",
            "70273c06b9a14e63a6774b785c2ee37a",
            "5a7ee41585674a508553783a5241fa32",
            "b122b88e36f94136bf9b8fa7aa76a4c1",
            "f35d733c56d340ada31546fe47682e49",
            "49b9be77529148f8a190d20de408843c",
            "72a2f55b05d04c93827765ea7cfdac0e",
            "24a792b176bf4d2b8d140de2fe6ec6b8",
            "1a2dd704df79459d83f734bfe5e65467",
            "4e8e2dc60b6543a8b938634fb3d3a0eb",
            "f5b1838fd1b848d580d8a7fb1027eb80",
            "d5f023e958604b799959a6c2a75a5a24",
            "792b3fd0b1624621a39806fa415112da",
            "f173aa0ab7384191acb0842ab853e493",
            "1defeb6e0d0c4f1691598b70da170503",
            "e841c3c83aa74def98b291dee75897f1",
            "ee11504e073f4e2fb2dfb88f42d82e64",
            "e9afad8e4ad84de9a299516f48a231db",
            "f032cb047a3b49208ac0c77285e3dbc2",
            "f4b44933331c46829f2806e112175d39",
            "9744838a8591481ab27cbe3b53c1807c",
            "0fce381c4afb4dd895a99812cae59325",
            "2502ee6312614f8da1d3d61b009fac23",
            "df752527b396442691e98106545d7a26",
            "12a782d3503d447089118f6757c6dd71",
            "90e4f77ef8444bcda18a57bdeb3a3004",
            "d91960ade6084c9abcb9306c4a300353",
            "43aa2ede86034bcf8be01aa03705487a",
            "3d2f38cf23fb4ff682cf052349076f4d",
            "01393b3990504e4fb99a2b38799e5f11",
            "7fae2259afb7477db4c034c69249dcb4",
            "2c47ba4e345c41628e0d1b1b29d113f9",
            "a99d60ea2bb94a708a71cdceb40b7e80",
            "61309ad2b7f4472487d22a1100ce0dee",
            "4462f3c4b3014c70af145cc353edb116",
            "abbb51b12a974ef2a3775a904cdd11bb",
            "ac0fce26a6e54f7e89cbe7095130458c",
            "0045b5e1bcff40efa2a10a39b761a363",
            "f6e13629259740a6be43c95b8690b3ff",
            "05c4e44f79574cf5ae67916c83d6b864",
            "b41b81e156c34e1a9fc7ce62c112bef4",
            "b521528d35c14dca8bfdeb182d01304d",
            "3f775222ec4f44a5bb371f81456ac806",
            "9889b5eb630141f695739d480d77a805",
            "aca1d8f843c44466b4ff18d812cdaabc",
            "8de5857ab4ce455fb35eda1a93a92449",
            "b1d070e532104e888c0b4fe0ac60c40f",
            "5415892e1c3e4f4bb3c663bcbd48f37e",
            "f1365fc001904cd385b81cb41a154e7e",
            "da89c056b0c542fb89c24e0cdd1d7510"
          ]
        },
        "outputId": "6611efc7-69ac-4c6e-b43b-987cd4bbc29c"
      },
      "execution_count": null,
      "outputs": [
        {
          "output_type": "stream",
          "name": "stderr",
          "text": [
            "/usr/local/lib/python3.10/dist-packages/transformers/models/auto/modeling_auto.py:1423: FutureWarning: The class `AutoModelWithLMHead` is deprecated and will be removed in a future version. Please use `AutoModelForCausalLM` for causal language models, `AutoModelForMaskedLM` for masked language models and `AutoModelForSeq2SeqLM` for encoder-decoder models.\n",
            "  warnings.warn(\n"
          ]
        },
        {
          "output_type": "display_data",
          "data": {
            "text/plain": [
              "Downloading (…)okenizer_config.json:   0%|          | 0.00/16.0 [00:00<?, ?B/s]"
            ],
            "application/vnd.jupyter.widget-view+json": {
              "version_major": 2,
              "version_minor": 0,
              "model_id": "25199f6da84543de8730a1f219167aa3"
            }
          },
          "metadata": {}
        },
        {
          "output_type": "display_data",
          "data": {
            "text/plain": [
              "Downloading (…)lve/main/config.json:   0%|          | 0.00/573 [00:00<?, ?B/s]"
            ],
            "application/vnd.jupyter.widget-view+json": {
              "version_major": 2,
              "version_minor": 0,
              "model_id": "72a2f55b05d04c93827765ea7cfdac0e"
            }
          },
          "metadata": {}
        },
        {
          "output_type": "display_data",
          "data": {
            "text/plain": [
              "Downloading (…)olve/main/vocab.json:   0%|          | 0.00/894k [00:00<?, ?B/s]"
            ],
            "application/vnd.jupyter.widget-view+json": {
              "version_major": 2,
              "version_minor": 0,
              "model_id": "e9afad8e4ad84de9a299516f48a231db"
            }
          },
          "metadata": {}
        },
        {
          "output_type": "display_data",
          "data": {
            "text/plain": [
              "Downloading (…)olve/main/merges.txt:   0%|          | 0.00/452k [00:00<?, ?B/s]"
            ],
            "application/vnd.jupyter.widget-view+json": {
              "version_major": 2,
              "version_minor": 0,
              "model_id": "3d2f38cf23fb4ff682cf052349076f4d"
            }
          },
          "metadata": {}
        },
        {
          "output_type": "display_data",
          "data": {
            "text/plain": [
              "Downloading (…)cial_tokens_map.json:   0%|          | 0.00/357 [00:00<?, ?B/s]"
            ],
            "application/vnd.jupyter.widget-view+json": {
              "version_major": 2,
              "version_minor": 0,
              "model_id": "05c4e44f79574cf5ae67916c83d6b864"
            }
          },
          "metadata": {}
        },
        {
          "output_type": "stream",
          "name": "stderr",
          "text": [
            "Xformers is not installed correctly. If you want to use memory_efficient_attention to accelerate training use the following command to install Xformers\n",
            "pip install xformers.\n"
          ]
        }
      ]
    },
    {
      "cell_type": "code",
      "source": [
        "def clean_text_corr(input_sentence):\n",
        "  p = generator(\"<s>\" + input_sentence + \"</s>>>>><p>\")\n",
        "  return p[0][\"generated_text\"].split(\"</s>>>>><p>\")[1].split(\"</p>\")[0]\n"
      ],
      "metadata": {
        "id": "QaNYdm1RmpjE"
      },
      "execution_count": null,
      "outputs": []
    },
    {
      "cell_type": "markdown",
      "source": [
        "## Pengujian Jurnal 1 (8 halaman)"
      ],
      "metadata": {
        "id": "pfevrZUAPykx"
      }
    },
    {
      "cell_type": "code",
      "source": [
        "result1 = clean_text_corr(\"Kemiskinan  merupakan permasalahan  serius  yang  dapat  menghambat  pembangunan ekonomi dalam sebuahnegara. Setiap negara pasti melakukan suatu usaha untuk mengurangi angka kemiskinan salah satunya negara Indonesia [1].Kemiskinan Indonesia dapat dilihat dari berbagai  segi  ekonomi  seperti tidak  mendapatkan  pekerjaan tetap  sehingga  tidak  mempunyaipenghasilan  yang  pada  akhirnya  tidak  memiliki tabungan  guna  memenuhi kebutuhan  primer, sekunder dan tersier dalam kehidupan sehari-hari [2].Awal    mula setelahmasa    kemerdekaan    pemerintah Indonesia    menindaklanjuti permasalahan   kemiskinan yang   terjadi   terhadapmasyarakat   dengan   program-program pembangunan.  Namun,kemiskinan  Indonesia  masih  menjadi  permasalahan  berkelanjutandikarenakan program-program tersebut belum bisa berjalan dengan semestinya[3]. Dalam hal ini, pemerintah Indonesia telah membuat strategi untuk mengurangi angka kemiskinan. Pertama, mencukupi  kebutuhan  masyarakat  miskin  dalam  berbagai  aspek  kehidupan  dan  melindungi sebuah keluarga. Kedua, memberikan sebuah pengarahan atau sejenis dengan pelatihan terhadap masyarakat  sesuai  dengan  bidang  yang  diminati  serta  memberikan  upaya  pencegahan  dalam mengurangi   angka   kemiskinan   di   Indonesia. Dengan   demikian,   upaya   yang   dilakukan pemerintah dapat menciptakan masyarakat sejahtera. [4].Berdasarkan data BPS Kota Probolinggo menyatakan bahwa nilai angka kemiskinan Kota Probolinggo  mengalami  penurunan  secara  signifikan di  setiap  tahunnya.  Pada  tahun  2009 kemiskinan  di  kota  Probolinggo  mengalami  puncak  kenaikan  hingga  mencapai  47  ribu penduduk  per  tahun.  Kemudian,  pada  tahun  2012  terjadi  penurunan  secara  drastis  hingga mencapai 24 ribu penduduk per tahun.\")\n",
        "print(result1)"
      ],
      "metadata": {
        "colab": {
          "base_uri": "https://localhost:8080/"
        },
        "id": "0Jd1Ys8Omum-",
        "outputId": "1fcbf0b0-fe27-432a-b3e5-4af554ae0f15"
      },
      "execution_count": null,
      "outputs": [
        {
          "output_type": "stream",
          "name": "stderr",
          "text": [
            "Setting `pad_token_id` to `eos_token_id`:50256 for open-end generation.\n"
          ]
        },
        {
          "output_type": "stream",
          "name": "stdout",
          "text": [
            "Kemiskinan merupakan masalah penting dalam pembangunan perekonomian di Indonesia. Masalah kemiskinan merupakan masalah penting dalam pembangunan perekonomian Indonesia.\n"
          ]
        }
      ]
    },
    {
      "cell_type": "code",
      "source": [
        "result2 = clean_text_corr(\"Namun, dalam duatahun terakhir ini pada tahun 2020 dan 2021 terjadi kenaikan kembali hingga mencapai 17 ribu penduduk per tahun. Dengan hal ini bisa menjadi indikator bahwa secara pola data historinya menunjukkan pola data trendnaik dan trendturun. Peramalan dapat  ditentukan  dengan  metode yang  tepat sehingga menghasilkan  akurasipaling baik Metode yang dilakukan pada penelitian ini yaituanalisis deret waktu (time series) atauanalisis beruntun terhadap waktu [5]. Pemilihan analisis deret waktu untuk peramalan ini dikarenakan  menggunakandata  kemiskinan  yang  bergulir  tahunan  periode  tahun  2009-2021. Beberapa  metode  peramalan  dapat  digunakan  dalam  analisis  deret  waktu  seperti Pemulusan Eksponensial  Satu  (SES),  Pemulusan  Eksponensial  Ganda  (DES),  Pemulusan  Eksponensial Tiga (TES). Oleh karena itu, metode peramalan time series yangdigunakan dalam penelitian ini adalah  metode Double  Exponential Smoothing(DES) untuk  meramalkan  data  dengan  pola trend.Double Exponential Smoothingadalah metode yang biasa digunakan untuk menampilkan pola  data  yang  mengalami trend. Metode Double  Exponential  Smoothingdibagi menjadi  dua yaitu Double  Exponential  Smoothingsatu  parameter  dari Browndan Double  Exponential Smoothingdua parameter dari Holt. Metode Double Exponential Smoothingdua parameter dari Holt  dapat  digunakan  untuk  menyelesaikan  trend  linier.  Metode Holtdigunakan  sedemikian rupa  sehingga  nilai  trend  tidak  direktifikasi  dengan Double  Smoothing, tetapi menggunakan berbagai  parameter  yang  berbeda  dengan  parameter    yang  digunakan  pada  data  asli trend Smoothing baru bisa dilakukan[6].Penelitian prediksi atau peramalan merupakan hal yang umum dalam penelitian, maka dari beberapa  penelitian  tersebut  dapat  dijadikan  acuan  untuk  memulai  penelitian  ini.  \")\n",
        "print(result2)"
      ],
      "metadata": {
        "colab": {
          "base_uri": "https://localhost:8080/"
        },
        "id": "djXJJMmKC2t1",
        "outputId": "2baae776-1d19-491b-e689-a660d3948066"
      },
      "execution_count": null,
      "outputs": [
        {
          "output_type": "stream",
          "name": "stderr",
          "text": [
            "Setting `pad_token_id` to `eos_token_id`:50256 for open-end generation.\n"
          ]
        },
        {
          "output_type": "stream",
          "name": "stdout",
          "text": [
            "Dalam penelitian ini, deret waktu menunjukkan pola data yang signifikan. Distribusi data dilakukan secara acak pada periode tahun 2009-2018.\n"
          ]
        }
      ]
    },
    {
      "cell_type": "code",
      "source": [
        "result3 = clean_text_corr(\"Terdapat beberapa  penelitian  sebelumnya  yang  menggunakan  metode Double  Exponential  Smoothing, salah  satunya  dengan  judul  “Prediksi  tingkat  inflasi  kota  Samarinda  dengan  menggunakan metode double exponential smoothing” (studi kasus:Badan Pusat Statistik Kota Samarinda)”, yang ditulisoleh Akmal Erfani Armi, Awang Harsa Kridalaksana dan Zainal Arifin. Penelitian ini  mengenai  kenaikan  atau  penurunan  inflasi  pada  suatu  periode  waktu  tertentu  yang  akan membantu Kota Samarinda dalam menghadapinya, hal tersebut supaya tidak berdampak negatif bagi masyarakat sekitar di masa yang akan datang. Data yang digunakan inflasi  Januari 2013 sampai  dengan  Desember  2017  untuk  meramalkan  inflasi    tahun  2018  dan  kesimpulannya sistem  ini  mempermudah  masyarakat  dalam  membuat  peramalan  inflasi  sehingga  dapat mempersiapkan langkah selanjutnya  untuk mencegah deflasi. Ada juga  penelitian peramalan atau forecastinglainnya yang berjudul “Prakiraan Inflasi di Indonesia dengan menggunakan metode Moving Average, Single Exponential Smoothingdan Double Exponential Smoothing” oleh  Nugroho  Arif  Sudibyo,  Ardymulya  Iswardani,  Arif  Wicaksono  Septyanto  dan  Tyan Ganang Wicaksono yang berhasil membandingkan ketiga metode tersebut.\")\n",
        "print(result3)"
      ],
      "metadata": {
        "colab": {
          "base_uri": "https://localhost:8080/"
        },
        "id": "tgallmDLDPsw",
        "outputId": "8ac216b6-f68e-4327-b876-a62b67c98d64"
      },
      "execution_count": null,
      "outputs": [
        {
          "output_type": "stream",
          "name": "stderr",
          "text": [
            "Setting `pad_token_id` to `eos_token_id`:50256 for open-end generation.\n"
          ]
        },
        {
          "output_type": "stream",
          "name": "stdout",
          "text": [
            "Penelitian ini menggunakan metode double exponential smoothing, model prediksi peramalan untuk prediksi  inflasi.\n"
          ]
        }
      ]
    },
    {
      "cell_type": "code",
      "source": [
        "result4 = clean_text_corr(\"Dari ketiga metode tersebut, MAPE, MAD dan MSD adalah yang terbaik yaitu. metode Single Exponential Smoothing yang menghasilkan peramalan inflasi Indonesia akan menjadi 1,41746% pada Agustus 2020[7].Berdasarkan penjelasan yang telah dipaparkan penelitian ini dilakukan bertujuan agar memperoleh nilai yang paling akurat terhadap peramalan dengan model estimasi pemulusan menggunakan metode pemulusan eksponensial ganda (DES) dua parameter dari Holt dengan data yang berkisar dari periode tahun 2009 hingga tahun 2021. Kemiskinan adalah sebuah permasalahan dalam suatu negara yang bersifat kompleks hampir dialami di seluruh negara di berbagai belahan bumi. Berbagai upaya telah dilakukan agar mengurangi angka kemiskinan, dimulai dari suatu wilayah atau lingkup daerah, nasional dan internasional. Kemiskinan timbul adanya masalah pengangguran. Kedua masalah ini saling keterkaitan dengan suatu daerah yang memiliki sumber daya manusia. Terdapat beberapa contoh salah satunya yaitu jika seseorang ingin melanjutkan pendidikan yang lebih tinggi tetapi terkendala dengan biaya yang tidak mencukupi maka seseorang tersebut tidak dapat melanjutkan pendidikan dikarenakan rendahnya sebuah pendidikan yang dimiliki seseorang terbatas membuat dirinya terbatas untuk memperoleh pekerjaan [8]. Oleh karena itu, rantai kemiskinan harus diatasi apabila terus dibiarkan maka siklus tersebut akan terus berputar.\")\n",
        "print(result4)"
      ],
      "metadata": {
        "colab": {
          "base_uri": "https://localhost:8080/"
        },
        "id": "ATYNzr6kLHwE",
        "outputId": "46acf973-890e-43a2-f5a2-b4e70f853f73"
      },
      "execution_count": null,
      "outputs": [
        {
          "output_type": "stream",
          "name": "stderr",
          "text": [
            "Setting `pad_token_id` to `eos_token_id`:50256 for open-end generation.\n"
          ]
        },
        {
          "output_type": "stream",
          "name": "stdout",
          "text": [
            "Metode ini menghasilkan peramalan persentase efisien peramalan dengan model prediksi pemulusan cepat, efisien, dan efisien.\n"
          ]
        }
      ]
    },
    {
      "cell_type": "code",
      "source": [
        "result5 = clean_text_corr(\"Salah satu upaya yang harus dilakukan yaitu memperbaiki kualitas sumber daya manusia di setiap daerah yang berperan sebagai motor penggerak perekonomian suatu daerah [9]. Peramalan berasal dari kata forecast yang berarti meramalkan keadaan yang akan datang. Peramalan merupakan salah satun bentuk kegiatan dalam memprediksi kondisi masa depan dengan cara menguji kondisi masa lalu dalam bentuk model matematis. Jika ingin memprediksi suatu kondisi, maka membutuhkanperhitungan yang akurat agarmendapatkan prediksi yang tepat. Secara umum, peramalan diklasifikasikan menjadi dua jenis. Pertama, peramalan kualitatif adalah salah satu yang menggabungkan beberapa faktor seperti pengambilan keputusan, pengalaman pribadi, dan sistem nilai. Kedua, peramalan kuantitatif adalah peramalan model matematis yang menguji kondisi masa lalu dan variabel penyebab untuk memprediksi permintaan [10]. Tentunya dalam keseharian kita bahwa segala sesuatu tidak pasti adanya sehingga dibutuhkan suatu peramalan agar lebih memudahkan dalam melakukan segala hal. Dengan  kata lain, peramalan  ditujukan untuk memperoleh peramalan dengan kesalahan ramalan bernilai kecil [11].Metode Pemulusan Eksponensial (Exponential Smoothing)Metode Pemulusan Eksponensial (Exponential Smoothing)adalah metodeyang berfokus pada   pengurangan objek pengamatan yang lebih Panjang secara eksponensial.\")\n",
        "print(result5)"
      ],
      "metadata": {
        "colab": {
          "base_uri": "https://localhost:8080/"
        },
        "id": "6K25zy2KL3Pw",
        "outputId": "132dafc7-167e-4b6b-8dc4-3d638c146656"
      },
      "execution_count": null,
      "outputs": [
        {
          "output_type": "stream",
          "name": "stderr",
          "text": [
            "Setting `pad_token_id` to `eos_token_id`:50256 for open-end generation.\n"
          ]
        },
        {
          "output_type": "stream",
          "name": "stdout",
          "text": [
            "Peramalan menggunakan metode Exponential Smoothing untuk mengoptimalkan kemampuan berpikir kritis siswa.\n"
          ]
        }
      ]
    },
    {
      "cell_type": "code",
      "source": [
        "result6 = clean_text_corr(\"Dengan Exponential  Smoothing satu  atau  lebih  parameter  pemulusan  didefinisikan  secara  eksplisit sehingga hasilnya menentukan bobot nilai yang diamati[12].2.4.Metode Pemulusan Eksponensial Ganda (Double Exponential Smoothing)Metode Pemulusan  Eksponensial  Ganda  (Double  Exponential Smoothing) adalah  model pemulusan   eksponensial   linier,   biasanya   digunakan ketika   ada trend   pada  data. Trendmerupakanestimasi pemulusan dari rata-rata kenaikan pada akhir setiap  periode. Metode DES merupakan  pengembangan  dari  metode  pemulusan  eksponensial  yang  menggunakan  dua parameter  untuk  menghilangkan  perbedaan antara  data  aktual  dan  data  nilai  prediksi  ketika terdapat kecenderungan pola data.Parameter yang digunakan adalah α dan β. Kedua parameter ini adalah kunci untuk menentukan model terbaik.Mean Absolute Percentage Error (MAPE)Metode  yang  biasa  digunakan  dalam  mengetahui  besar error dalam  suatu  system  adalahMAPE.  Metode  evaluasi  ini  digunakan  karena  variabel  peramalan  menentukan  besarnya kesalahan  peramalan  dibandingan  dengan  nilai  asli [13].  Perhitungan  MAPE  dilakukan menggunakan rata-rata persentase absolute kesalahan dan biasa digunakan untuk data interval kurun waktu berbeda. Nilai MAPE dapat dihitung menggunakan rumus persamaan.Metode PenelitianPenelitian ini menggunakan data tahunan penduduk miskin kota Probolinggo dari tahun 2009 sampai dengan 2021. Data diambil dari website resmi Badan Pusat Statistik https://probolinggokota.bps.go.id/. Sampel data dapat dilihat pada tabel Tabel 2. Sampel Data Penduduk Miskin Tahun Penduduk Miskin200947,10201041,40201138,80⁞⁞201916,37202017,72202117,91.\")\n",
        "print(result6)"
      ],
      "metadata": {
        "colab": {
          "base_uri": "https://localhost:8080/"
        },
        "id": "Ytv1k47AMDHg",
        "outputId": "9726df85-b187-406a-d9ff-80a4c7048308"
      },
      "execution_count": null,
      "outputs": [
        {
          "output_type": "stream",
          "name": "stderr",
          "text": [
            "Setting `pad_token_id` to `eos_token_id`:50256 for open-end generation.\n"
          ]
        },
        {
          "output_type": "stream",
          "name": "stdout",
          "text": [
            "Metode pemulusan merupakan metode umum untuk menentukan model pemulusan. Metode ini menggunakan rata-rata persentase penurunan pada data peramalan dengan model yang digunakan.\n"
          ]
        }
      ]
    },
    {
      "cell_type": "code",
      "source": [
        "result7 = clean_text_corr(\"Berikut ini Langkah-langkah untuk melakukan permalan menggunakan metode Double Exponential Smoothing (DES) : 1.Mencari data sebagai acuan penelitian dan juga referensi penelitian yang berhubungan dengan peramalan atau prediksi.2.Tahap kedua yaitu mengambil data kemiskinan dalam situs resmi yaitu BPS Kota Probolinggo.3.Menginputkan data kemiskinan pada tahun 2009 hingga tahun 2021.4.Tahap selanjutnya, melakukan plotting data menggunakan analisis time series (Stasioner, Trend dan Seasonal).5.Melukakan trial dan error menggunakan parameter α dengan rentan bernilai 0 hingga 1.6.Menghitung dan membandingkan tingkat akurasi MAPE.7.Menyeleksi peramalan untuk menentukan model terbaik.8.Melakukan peramalan dengan model yang telah dihitung sebelumnya berdasarkan nilai MAPE terkecil. Hasil dan PembahasanPada  penelitian  ini  data  yang  diolah  yaitu  data  penduduk  miskin  kota  Probolinggo  tahun 2009  hingga  2021.  Langkah  pertama  yang  harus  dilakukan  adalah plottingdata penduduk miskin untuk mengetahui pola  data time  seriesyang  terbentuk. Pola  pada suatu data  berguna untuk mengidentifikasi metode yang cocok digunakan dalam melakukan peramalan. \")\n",
        "print(result7)"
      ],
      "metadata": {
        "colab": {
          "base_uri": "https://localhost:8080/"
        },
        "id": "xV4AKAhIMy2Y",
        "outputId": "2e83ff8c-298c-4f1d-83a1-12a4430ce4ae"
      },
      "execution_count": null,
      "outputs": [
        {
          "output_type": "stream",
          "name": "stderr",
          "text": [
            "Setting `pad_token_id` to `eos_token_id`:50256 for open-end generation.\n"
          ]
        },
        {
          "output_type": "stream",
          "name": "stdout",
          "text": [
            "Metode Double Exponential Smoothing digunakan untuk mencari model terbaik.\n"
          ]
        }
      ]
    },
    {
      "cell_type": "code",
      "source": [
        "result8 = clean_text_corr(\"Gambar 2 : Plot Pola Data Time Series KemiskinanPada Gambar 2 terlihat bahwa pola time series menunjukkan trend naik dan turun tanpa ada pola musiman. Setelah dilakukannya analisis pola time series, selanjutnya adalah melakukan pembentukan model untuk menentukan metode terbaik dalam melakukan peramalan penduduk miskin kota Probolinggo.Berdasarkan Tabel 3,telah dibentuk enam model menggunakan nilai alpha (α) dan beta (β) yang berbeda. Berdasarkan model yang didapat terlihat perbedaan nilai MAPE yang sangat kecil antara parameter-parameter data saat dilakukan trial and error. Dari percobaan tersebut dapat terlihat bahwa pada parameter alpha 0,9 dan beta 0,4 menghasilkan nilai MAPE yang terkecil, yaitu 14,92%. Selanjutnya adalah melakukan plotting dengan menggunakan model terbaik yang didapatkan. Plotting hasil peramalan menggunakan DES diperlihatkan pada Gambar 3. Berdasarkan Gambar 3 dapat terlihat bahwa hasil prediksi menunjukkan pola trend naik. Pada metode ini didapatkan nilai MAPE sebesar 14,92% yang didasarkan pada Tabel 3. Nilai tersebut termasuk kategori baik dalam melakukan peramalan. Terdapat beberapa  faktor angka kemiskinan penduduk di Kota Probolinggo belum bisa berkurang. \")\n",
        "print(result8)"
      ],
      "metadata": {
        "colab": {
          "base_uri": "https://localhost:8080/"
        },
        "id": "0Gydam41MzCA",
        "outputId": "8c8ec8b8-ee0d-4b3b-ce43-a527fd6756fb"
      },
      "execution_count": null,
      "outputs": [
        {
          "output_type": "stream",
          "name": "stderr",
          "text": [
            "Setting `pad_token_id` to `eos_token_id`:50256 for open-end generation.\n"
          ]
        },
        {
          "output_type": "stream",
          "name": "stdout",
          "text": [
            "Model untuk peramalan kemiskinan kota Probolinggo memiliki pola time series. Model terbaik adalah model MAPE, dengan nilai MAPE sebesar 14,92%. Plotting hasil prediksi menunjukkan pola data cerah.\n"
          ]
        }
      ]
    },
    {
      "cell_type": "code",
      "source": [
        "result9 = clean_text_corr(\"Pertama,kurangnya lapangan pekerjaan sehingga masyarakat sulit untuk mencukupi kebutuhan sehari-hari. Kedua, dari faktor Pendidikan kurangnya fasilitas pendidikan sekaligus tenaga pendidik sehingga masyarakat tidak mendapatkan pendidikan selayaknya mengakibatkan sulit medapatkan pekerjaan.Langkah selanjutnya yaitu menghitung nilai peramalan dengan menggunakan model yang telah  didapatkan  berdasarkan Gambar  3.  Hasil  perhitungan  peramalan  diperlihatkan  pada Tabel 4.Berdasarkan Tabel 4 terlihat bahwa kemiskinan di kota Probolinggo mengalami kenaikan pada  tiap  tahunnya.  Langkah  yang  harus  dilakukan  untuk  mencegah  adanya  peningkatan kemiskinan  yaitu  pemerintah  Kota  Probolinggo  seharusnya  melakukan  evaluasi  terhadap masyarakat  dan  segera  melakukan  upaya  seperti  bantuanlangsung  secara  tunai,  program keuarga  harapan,  jaminan  Kesehatan,  bantuan  Pendidikan,  bantuan  modal  usaha  dan  lain sebagainya.Hasil peramalan yang didapatkan dari model terbaik memiliki pola trend yang naik untuk 5 tahun kedepan.5\")\n",
        "print(result9)"
      ],
      "metadata": {
        "colab": {
          "base_uri": "https://localhost:8080/"
        },
        "id": "dbxqTI0dOGlp",
        "outputId": "4156ef94-e473-4a4d-99b7-9cd118510970"
      },
      "execution_count": null,
      "outputs": [
        {
          "output_type": "stream",
          "name": "stderr",
          "text": [
            "Setting `pad_token_id` to `eos_token_id`:50256 for open-end generation.\n"
          ]
        },
        {
          "output_type": "stream",
          "name": "stdout",
          "text": [
            "Diperlukan data lebih akurat dan cepat untuk prediksi peramalan.\n"
          ]
        }
      ]
    },
    {
      "cell_type": "code",
      "source": [
        "result10 = clean_text_corr(\"Berdasarkan perhitungan yang telah dilakukan dan tersususn secara sistematis dapat ditarik kesimpulan bahwa pada penelitian ini data aktualyang berbeda berubah secara signifikan dari tahun ke tahun dapat mengubah nilai α terbaik, sehingga prediksi tingkatkemiskinan penduduk Kota Probolinggo dapat berubah sebesar nilai α setiap tahunnya sesuai dengan data aktualyang diperoleh. Hasil prediksi diambil dari error terkecil yang menghasilkan nilai MAPE (Mean Absolute Percentage Error). Hasil yang diperoleh untuk memprediksi tingkat kemiskinan Kota Probolinggo adalah 14,52% dengan α = 0,9 dan β = 0,4.Pola data prediksiyang dihasilkan cenderung naik terhadap data historis.\")\n",
        "print(result10)"
      ],
      "metadata": {
        "colab": {
          "base_uri": "https://localhost:8080/"
        },
        "id": "L6YneaTqPiQd",
        "outputId": "19c1b70d-afa5-4f87-f869-6aa3f60d7e77"
      },
      "execution_count": null,
      "outputs": [
        {
          "output_type": "stream",
          "name": "stderr",
          "text": [
            "Setting `pad_token_id` to `eos_token_id`:50256 for open-end generation.\n"
          ]
        },
        {
          "output_type": "stream",
          "name": "stdout",
          "text": [
            "Data aktual menunjukkan nilai μ yang berbeda, namun pola data prediksi dapat berubah.\n"
          ]
        }
      ]
    },
    {
      "cell_type": "code",
      "source": [
        "combined_result = result1 + \"\\n\" + result2 + \"\\n\" + result3 + \"\\n\" + result4 + \"\\n\" + result5 + \"\\n\" + result6 + \"\\n\" + result7 + \"\\n\" + result8 + \"\\n\" + result9 + \"\\n\" + result10\n",
        "print(combined_result)"
      ],
      "metadata": {
        "colab": {
          "base_uri": "https://localhost:8080/"
        },
        "id": "ysyBdx7SrTqb",
        "outputId": "ca83fa64-a959-4fb3-d9e8-8f923ec5fd84"
      },
      "execution_count": null,
      "outputs": [
        {
          "output_type": "stream",
          "name": "stdout",
          "text": [
            "Kemiskinan merupakan masalah penting dalam pembangunan perekonomian di Indonesia. Masalah kemiskinan merupakan masalah penting dalam pembangunan perekonomian Indonesia.\n",
            "Dalam penelitian ini, deret waktu menunjukkan pola data yang signifikan. Distribusi data dilakukan secara acak pada periode tahun 2009-2018.\n",
            "Penelitian ini menggunakan metode double exponential smoothing, model prediksi peramalan untuk prediksi  inflasi.\n",
            "Metode ini menghasilkan peramalan persentase efisien peramalan dengan model prediksi pemulusan cepat, efisien, dan efisien.\n",
            "Peramalan menggunakan metode Exponential Smoothing untuk mengoptimalkan kemampuan berpikir kritis siswa.\n",
            "Metode pemulusan merupakan metode umum untuk menentukan model pemulusan. Metode ini menggunakan rata-rata persentase penurunan pada data peramalan dengan model yang digunakan.\n",
            "Metode Double Exponential Smoothing digunakan untuk mencari model terbaik.\n",
            "Model untuk peramalan kemiskinan kota Probolinggo memiliki pola time series. Model terbaik adalah model MAPE, dengan nilai MAPE sebesar 14,92%. Plotting hasil prediksi menunjukkan pola data cerah.\n",
            "Diperlukan data lebih akurat dan cepat untuk prediksi peramalan.\n",
            "Data aktual menunjukkan nilai μ yang berbeda, namun pola data prediksi dapat berubah.\n"
          ]
        }
      ]
    },
    {
      "cell_type": "markdown",
      "source": [
        "## Pengujian jurnal 2 (6 halaman)"
      ],
      "metadata": {
        "id": "qWiGI7a7zxhU"
      }
    },
    {
      "cell_type": "code",
      "source": [
        "result1 = clean_text_corr(\"Menggigil setelah operasi adalah salah satu komplikasi anestesi umum yang paling umum. Menggigil dapat menimbulkan berbagai risiko dan kondisi tidak nyaman, khususnya bagi pasien berumur tua. Terjadinya menggigil dapat terjadi segera setelah anestesi, di tengah operasi atau di ruang pemulihan1. Kejadian mengigil pasca anestesi berkisar antara 20% hingga 70% dalam anestesi umum 2. Menggigil didefinisikan sebagai tremor atau fasikulasi yang dapat dideteksi yang melibatkan kepala, leher, badan, bahu, dan ekstremitas, atau goncangan umum dan terlihat yang menyerupai menggigil termogenik normal. Kejadian menggigil pasca operasi dapat merupakan kombinasi gangguan termoregulasi yang diinduksi anestesi dan paparan lingkungan yang dingin, sehingga membuat sebagian besar pasien dalam operasi akan terjadi hipotermia3. Menggigil pasca operasi dapat disebabkan oleh beberapa faktor seperti jenis anestesi yang digunakan, umur pasien, jenis kelamin pasien, durasi anestesi dan operasi, maupun jenis operasi4. Umur merupakan salah satu faktor yang memepengaruhi menggigil. Semakin bertambahnya umur, organ-organ tubuh akan mengalami penurunan fungsi. Penurunan fungsi tersebut, dapat berpengaruh pada termoregulasi terhadap panas dan dingin. Bertambahnya umur juga dapat mengakibatkan perubahan struktural kulit dan perubahan metabolisme yang berdampak langsung kepada kemampuan orang tua untuk menpertahankan suhunya.\")\n",
        "print(result1)"
      ],
      "metadata": {
        "colab": {
          "base_uri": "https://localhost:8080/"
        },
        "id": "i6n40mcH0Wyz",
        "outputId": "895f105d-84f7-4c8a-86ce-ec9c2f81e2ad"
      },
      "execution_count": null,
      "outputs": [
        {
          "output_type": "stream",
          "name": "stderr",
          "text": [
            "Setting `pad_token_id` to `eos_token_id`:50256 for open-end generation.\n"
          ]
        },
        {
          "output_type": "stream",
          "name": "stdout",
          "text": [
            "Menggigil dalam operasi penting untuk kesehatan, terutama untuk pencegahan penyakit.\n"
          ]
        }
      ]
    },
    {
      "cell_type": "code",
      "source": [
        "result2 = clean_text_corr(\"Dalam sebuah penelitian yang pernah dilakukan, ditemukan proporsi pasien mengalami hipotermia pasca operasi paling banyak di umur 25-50 tahun dengan presentase sebanyak 56,36%, sedangkan untuk umur 18-24 tahun presentasenya sebanyak 26,358%, dan untuk umur >50 tahun dengan presentasi sebesar 16,58%5. Menggigil dapat menyebabkan efek samping seperti, peningkatan konsumsi oksigen, gangguan faktor pembekuan darah, peningkatam tekanan intrakranial dan intraokuler, peningkatan produksi karbondioksida, penurunan saturasi oksigen arteri, penurunan respon imun, gangguan penyembuhan luka, dan kejadian yang lama dapat mengakibatkan iskemik jantung6. Penelitian bertujuan untuk mengetahui hubungan umur dengan kejadian menggigil pasca operasi. METODE PENELITIAN Penelitian ini adalah penelitian kuantitatif observasional analitik dengan menggunakan pendekatan cross-sectional. Penelitian ini dilakukann di RSUD Salatiga. Populasi yang digunakan dalam penelitian ini adalah semua subjek menjalani operasi ringan hingga sedang dengan anestesi umum. Sampel yang digunakan adalah subjek pasca operasi dengan anestesi umum, dengan teknik penggambilan sampel menggunakan teknik consecutive sampling. Kriteria inklusi adalah subjek dengan umur 17 tahun keatas yang melakukan operasi ringan hingga sedang dan menggunakan anestesi umum sevofluran. Variabel independent penelitian ini yaitu umur. Variabel dependent adalah kejadian menggigil pasca operasi.\")\n",
        "print(result2)"
      ],
      "metadata": {
        "colab": {
          "base_uri": "https://localhost:8080/"
        },
        "id": "NHHdzP9e0hWr",
        "outputId": "5279619a-b5bc-4859-a214-fd826d2de219"
      },
      "execution_count": null,
      "outputs": [
        {
          "output_type": "stream",
          "name": "stderr",
          "text": [
            "Setting `pad_token_id` to `eos_token_id`:50256 for open-end generation.\n"
          ]
        },
        {
          "output_type": "stream",
          "name": "stdout",
          "text": [
            "Pasien dengan konsentrasi COVID-19 paling banyak di usia 25-50 tahun di usia 25-59 tahun.\n"
          ]
        }
      ]
    },
    {
      "cell_type": "code",
      "source": [
        "result3 = clean_text_corr(\"Penelitian ini menggunakan data primer. Teknik pengumpulan data menggunakan lembar observasi. Analisis data yang digunakan yaitu analisis univariat dan bivariat, dengan uji statistik chi-square. Jika nilai P<0,05 maka hipotesis diterima atau ada hubungan antara umur dengan menggigil pasca operasi pada anestesi umum. Pelaksanaan dimulai dengan penyusunan proposal penelitian, dilanjutkan dengan pengajuan izin etik kepada Komite Etik Fakultas Kedokteran dan Ilmu Kesehatan UMY, dan pengajuan surat pengantar dari Kesbangpol Salatiga untuk mendapatkan izin melakukan penelitian di RSUD Salatiga. Proses pengumpulan data dilakukan dengan memenuhi kriteria eksklusi dan inklusi sampai jumlah sampel yang dibutuhkan terpenuhi. Umur subjek dibagi menjadi 3 kelompok yaitu: umur 17-25 tahun(remaja), 25-45 tahun (dewasa), dan 45-65 tahun (tua), sesuai dari Departemen Kesehatan Indonesia7. Data diolah dan dianalisis menggunakan komputer dengan program SPSS v.21.\")\n",
        "print(result3)"
      ],
      "metadata": {
        "colab": {
          "base_uri": "https://localhost:8080/"
        },
        "id": "E9KZAyOD0xXq",
        "outputId": "ac0c9ba0-0952-43ac-8fa9-088175552e52"
      },
      "execution_count": null,
      "outputs": [
        {
          "output_type": "stream",
          "name": "stderr",
          "text": [
            "Setting `pad_token_id` to `eos_token_id`:50256 for open-end generation.\n"
          ]
        },
        {
          "output_type": "stream",
          "name": "stdout",
          "text": [
            "Penelitian ini menggunakan data primer, sampel, dan bivariat, dengan uji statistik preventif dan bivariat. Analisis preventif dari data primer dan preventif dilakukan dengan tes statistik preventif dan uji normalitas.\n"
          ]
        }
      ]
    },
    {
      "cell_type": "code",
      "source": [
        "result4 = clean_text_corr(\"HASIL DAN PEMBAHASAN Hasil penelitian dilakukan dengan mengambil data melalui observasi secara langsung dari mulai bulan Maret 2022. Karakteristik subjek dapat dilihat pada Tabel 1. Karakteristik Frekuensi (n) Presentase (%) Jenis kelamin Laki-lak 19 36,5 Perempuan 33 63,5 Total 52 100 Umur (tahun) 17-25 21 40,4 25-45 45-65 Total 22 9 52 42,3 17,3 100 Tabel 1. Distribusi Subyek Berdasarkan Jenis Kelamin dan Umur Berdasarkan Tabel 1. didapatkan subjek yang menjalani operasi menggunakan anestesi umum laki-laki sebanyak 19 orang (63%) dan perempuan 11 orang (36%). Jika berdasarkan distribusi umur didapatkan subjek dengan umur 17-25 tahun sebanyak 21 orang (36,5%), umur 25-45 tahun sebanyak 22 orang (42,3%), umur 45-65 tahun sebanyak 9 orang (17,3%). Berdasarkan uji Chi square didapatkan bahwa nilai p value 0,198 yang dimana lebih dari 0,05 artinya tidak terdapat hubungan yang signifikan antara umur dengan kejadian menggigil pasca operasi. Pada umur 17-25 tahun didapatkan 1 orang (4,8%) menggigil, umur 25-45 tahun didapatkan 1 orang menggigil, umur 45-65 tahun didapatkan 2 orang (22,2%) menggigil. Hasil dapat dilihat pada Tabel 2. Tabel 2. Hubungan Umur dengan Kejadian Menggigil Pasca Operasi Umur (tahun) Menggigil Total p value Ya Tidak f f % f 17-25 1 4,8 20 95,2 100 0,198 25-45 1 4,5 21 95,5 100 45-65 2 22,2 7 77,8 100Total 4 7,7 56 45,5 100\")\n",
        "print(result4)"
      ],
      "metadata": {
        "colab": {
          "base_uri": "https://localhost:8080/"
        },
        "id": "Gct2VdFD0_ef",
        "outputId": "f0e3a0ca-2b49-4e8d-cf09-8115bd696960"
      },
      "execution_count": null,
      "outputs": [
        {
          "output_type": "stream",
          "name": "stderr",
          "text": [
            "Setting `pad_token_id` to `eos_token_id`:50256 for open-end generation.\n"
          ]
        },
        {
          "output_type": "stream",
          "name": "stdout",
          "text": [
            "Hasil penelitian menunjukkan bahwa frekuensi preventive responden memberikan pengaruh terhadap responsiveness dan rasa aman pasien.\n"
          ]
        }
      ]
    },
    {
      "cell_type": "code",
      "source": [
        "result5 = clean_text_corr(\"Pembahasan Pada hasil yang telah didapatkan, mayoritas pasien yang mengalami menggigil pasca operasi sebanyak 2 pasien dengan umur 45-65 tahun (tua), 1 pasien dengan umur 25-45 tahun (dewasa), dan 1 pasien dengan umur 17-25 tahun (remaja). Secara statistik umur dengan kejadian menggil pasca operasi dengan anestesi umum di RSUD Salatiga tidak terdapat hubungan atau korelasi, tetapi didapatkan hasil semakin tua sering terjadi menggigil. Kejadian menggigil terjadi diantara kategori umur tua akhir yaitu umur 56-65 tahun. Penelitian Harahap (2014) menunjukkan bahwa pasien umur lanjut termasuk dalam kategori umur yang ekstrem, sehingga memiliki risiko tinggi menggigil pasca operasi. Anestesi umum yang dilakukan pada pasien umur lanjut juga dapat mengakibatkan pergeseran ambang termoregulasi ke derajat yang lebih tinggi dibanding pasien berumur muda8. Teori yang dikemukakan Joshi, Shivkumaran, Bhargava, Kausara & Sharma (2006) mengatakan kejadian menggigil pada pasien umur lanjut disebabkan oleh kekakuan paru-paru, fungsi kardiovaskular yang berubah (dinding arteri yang kaku, resistensi vaskular perifer meningkat, curah jantung menurun), dan penurunan aktivitas otot pernafasan yang mengakibatkan difusi, ventilasi dan oksigenasi tidak efektif9.\")\n",
        "print(result5)"
      ],
      "metadata": {
        "colab": {
          "base_uri": "https://localhost:8080/"
        },
        "id": "swYQtOOZ1H54",
        "outputId": "0d6a6b34-cb28-4109-8b86-c93b088af49e"
      },
      "execution_count": null,
      "outputs": [
        {
          "output_type": "stream",
          "name": "stderr",
          "text": [
            "Setting `pad_token_id` to `eos_token_id`:50256 for open-end generation.\n"
          ]
        },
        {
          "output_type": "stream",
          "name": "stdout",
          "text": [
            "Hasil penelitian menunjukkan bahwa pasien dengan kondisi awal 30-65 tahun menunjukkan kondisi yang tidak normal (ftal 71,3). Kondisi awal 30-65 tahun menunjukkan kondisi yang tidak normal (ftal 71,4). Keluhan meningkat pada 72,6% pasien dengan kondisi awal 30-65 tahun.\n"
          ]
        }
      ]
    },
    {
      "cell_type": "code",
      "source": [
        "result6 = clean_text_corr(\"Pada penelitian ini penggunaan gas anestesi sevofluran, mungkin dapat menghambat termoregulasi. Secara khusus, gas ini menurunkan ambang vasokonstriksi dan memicu suhu inti (menggigil). Induksi anestesi menghambat vasokonstriksi tonik dan memfasilitasi redistribusi cepat dari panas tubuh inti ke perifer. Redistribusi panas tubuh ini merupakan penyebab utama hipotermia selama satu jam pertama anestesi. Satu jam setelah induksi gas anestesi sevofluran, suhu inti dapat turun 0,8  0,2°C10. Pada pasien yang lebih muda jarang terjadi menggigil dikarenakan umur muda memiliki lebih banyak lemak subkutan yang melindungi mereka dari kondisi dingin, tonus otot istirahat yang stabil, tingkat metabolisme masih tinggi, kemampuan mereka untuk mengatur dan mempertahankan suhu tubuh normal secara efektif lebih baik daripada di umur tua, dan tindakan termoregulasi pada umur muda secara signifikan lebih baik daripada umur tua11. Pada penelitian ini kemungkinan yang menyebakan tidak terjadi kejadian mengigil, pertama dari durasi operasi yang tidak terlalu lama dan jenis operasi ringan hingga sedang. Diketahui bahwa kehilangan panas lebih tinggi dan hipotermia lebih sering terjadi pada prosedur bedah jangka panjang dan intervensi bedah yang melibatkan rongga tubuh besar.\")\n",
        "print(result6)"
      ],
      "metadata": {
        "colab": {
          "base_uri": "https://localhost:8080/"
        },
        "id": "niU5ACEQ1RWo",
        "outputId": "ecb0d4c4-8d7e-44e2-ebb8-0a7e3d08965d"
      },
      "execution_count": null,
      "outputs": [
        {
          "output_type": "stream",
          "name": "stderr",
          "text": [
            "Setting `pad_token_id` to `eos_token_id`:50256 for open-end generation.\n"
          ]
        },
        {
          "output_type": "stream",
          "name": "stdout",
          "text": [
            "Penggunaan gas anestesi sevofluran, meningkatkan efisiensi termoregulasi dan waktu operasi, meningkatkan efisiensi waktu operasi, dan meningkatkan efisiensi waktu operasi.\n"
          ]
        }
      ]
    },
    {
      "cell_type": "code",
      "source": [
        "result7 = clean_text_corr(\"Dalam penelitian Aksu (2014), menunjukkan bahwa menggigil lebih umum di antara pasien yang menjalani operasi dada atau perut terbuka seperti laparoskopi, sedangkan normotermia lebih umum di antara pasien yang menjalani operasi ekstremitas. Berkenaan dengan durasi operasi, rata-rata operasi yang dilakukan sebentar tidak menimbulkan kejadian menggigil pada pasien. Kedua adalah suhu ruangan yang kurang dingin. Diketahui bahwa suhu kamar yang lebih rendah dari 23°C merupakan dasar untuk menggigil. Penelitian yang dilakukan Aksu, kejadian menggigil banyak terjadi pada suhu 20°C - 22°C. Dalam penelitian ini, suhu rata-rata ruang operasi adalah 23°C. Suhu ruangan yang dapat diatur dapat memberikan keuntungan bagi pasien memiliki risiko tinggi untuk mengalami menggigil12 KESIMPULAN Pada penelitian ini tidak terdapat hubugan antara umur dengan kejadian meggigil pasca operasi dengan anestesi umum. Terdapat kecenderungan usia tua lebih banyak kejadian menggigil pasca operasi.\")\n",
        "print(result7)"
      ],
      "metadata": {
        "colab": {
          "base_uri": "https://localhost:8080/"
        },
        "id": "sDEVyDG31bjt",
        "outputId": "10b8866c-c9aa-4550-fe45-062c0c203d26"
      },
      "execution_count": null,
      "outputs": [
        {
          "output_type": "stream",
          "name": "stderr",
          "text": [
            "Setting `pad_token_id` to `eos_token_id`:50256 for open-end generation.\n"
          ]
        },
        {
          "output_type": "stream",
          "name": "stdout",
          "text": [
            "Pemberian terapi suportif pada kondisi dada atau perut terbuka meningkatkan kondisi pasien.\n"
          ]
        }
      ]
    },
    {
      "cell_type": "code",
      "source": [
        "combined_result = result1 + \"\\n\" + result2 + \"\\n\" + result3 + \"\\n\" + result4 + \"\\n\" + result5 + \"\\n\" + result6 + \"\\n\" + result7\n",
        "print(combined_result)"
      ],
      "metadata": {
        "colab": {
          "base_uri": "https://localhost:8080/"
        },
        "id": "WtDPVt1D1mWd",
        "outputId": "ef7861d7-8f02-488c-a1a2-9590d53212b2"
      },
      "execution_count": null,
      "outputs": [
        {
          "output_type": "stream",
          "name": "stdout",
          "text": [
            "Menggigil dalam operasi penting untuk kesehatan, terutama untuk pencegahan penyakit.\n",
            "Pasien dengan konsentrasi COVID-19 paling banyak di usia 25-50 tahun di usia 25-59 tahun.\n",
            "Penelitian ini menggunakan data primer, sampel, dan bivariat, dengan uji statistik preventif dan bivariat. Analisis preventif dari data primer dan preventif dilakukan dengan tes statistik preventif dan uji normalitas.\n",
            "Hasil penelitian menunjukkan bahwa frekuensi preventive responden memberikan pengaruh terhadap responsiveness dan rasa aman pasien.\n",
            "Hasil penelitian menunjukkan bahwa pasien dengan kondisi awal 30-65 tahun menunjukkan kondisi yang tidak normal (ftal 71,3). Kondisi awal 30-65 tahun menunjukkan kondisi yang tidak normal (ftal 71,4). Keluhan meningkat pada 72,6% pasien dengan kondisi awal 30-65 tahun.\n",
            "Penggunaan gas anestesi sevofluran, meningkatkan efisiensi termoregulasi dan waktu operasi, meningkatkan efisiensi waktu operasi, dan meningkatkan efisiensi waktu operasi.\n",
            "Pemberian terapi suportif pada kondisi dada atau perut terbuka meningkatkan kondisi pasien.\n"
          ]
        }
      ]
    },
    {
      "cell_type": "markdown",
      "source": [
        "## Pengujian jurnal 3 (6 halaman)"
      ],
      "metadata": {
        "id": "UGDPHWpR19Uo"
      }
    },
    {
      "cell_type": "code",
      "source": [
        "result1 = clean_text_corr(\"Ikan cupang dengan nama ilmiah Betta splendens merupakan salah satu jenis ikan hias yang berasal dari Asia tenggara. Ikan ini pertama kali ditemukan di Thailand dan Malaysia, dan sampai saat ini juga dibudidayakan sebagai salah satu ikan hias di Indonesia (Susanto, 1992). Ikan cupang adalah salah satu jenis ikan hias yang digemari, bukan hanya untuk sekedar hobi untuk pecinta ikan hias melainkan untuk keperluan kontes atau perlombaan. Peminat ikan ini ikut bertambah seiring dengan perkembangan teknologi dan pemasaran, terlihat dengan makin banyaknya toko-toko online maupun offline yang memperjualbelikan jenis ikan ini. Pemeliharaan ikan Cupang, memerlukan perawatan dan perhatian yang lebih jika dibanding dengan ikan-ikan konsumsi pada umumnya.\")\n",
        "print(result1)"
      ],
      "metadata": {
        "colab": {
          "base_uri": "https://localhost:8080/"
        },
        "id": "4m2iwd-J2UI1",
        "outputId": "51182638-e475-4d5b-dfdf-0411b1d4fc7a"
      },
      "execution_count": null,
      "outputs": [
        {
          "output_type": "stream",
          "name": "stderr",
          "text": [
            "Setting `pad_token_id` to `eos_token_id`:50256 for open-end generation.\n"
          ]
        },
        {
          "output_type": "stream",
          "name": "stdout",
          "text": [
            "Cupang dari Asia tenggara memiliki karakteristik tubuh berwarna keperakan dengan bundaran hitam dan bintik-bintik hitam pada sirip punggung.\n"
          ]
        }
      ]
    },
    {
      "cell_type": "code",
      "source": [
        "result2 = clean_text_corr(\"Salah satu faktor yang harus dikontrol dalam pemeliharaannnya adalah ketersediaan dan jenis pakan yang memadai dan mencukupi kebutuhan nutrisi untuk pertumbuhan dan perkembangannya. Berdasarkan survei yang telah dilakukan pada beberapa toko ikan hias dan pembudidaya ikan Cupang di Yogyakarta, diketahui ada dua jenis pakan yang biasa digunakan yaitu pakan alami dan buatan. Pakan buatan yang dimaksud adalah pakan dalam bentuk pellet, sementara pakan alami yang biasa digunakan diantaranya jentik nyamuk, Moina sp. atau yang dikenal masyarakat dengan kutu air dan cacing darah yang tidak lain adalah larva Chironomus sp.\")\n",
        "print(result2)"
      ],
      "metadata": {
        "colab": {
          "base_uri": "https://localhost:8080/"
        },
        "id": "b8fQIyylReBJ",
        "outputId": "e723f69f-6493-4fd6-aa48-3beb05074e1f"
      },
      "execution_count": null,
      "outputs": [
        {
          "output_type": "stream",
          "name": "stderr",
          "text": [
            "Setting `pad_token_id` to `eos_token_id`:50256 for open-end generation.\n"
          ]
        },
        {
          "output_type": "stream",
          "name": "stdout",
          "text": [
            "Penentuan kondisi optimal untuk pertumbuhan dan perkembangan ikan. Analisa menggunakan pellet menunjukkan lingkungan yang baik untuk pertumbuhan dan perkembangan ikan.\n"
          ]
        }
      ]
    },
    {
      "cell_type": "code",
      "source": [
        "result3 = clean_text_corr(\"Kendala yang kadang ditemui dalam pemberian pakan buatan adalah pertumbuhan dan perkembangan ikan Cupang tidak maksimal atau tidak sesuai dengan usianya. Oleh sebab itu, pembudidaya lebih memilih menggunakan pakan alami. Ketersediaan pakan, sampai pemilihan pakan yang tepat untuk menjamin kelangsungan hidup ikan, adalah hal yang penting diperhatikan agar pertumbuhan dan perkembangan ikan Cupang menjadi lebih pesat. Pakan alami yang akan diuji efektifitasnya adalah jentik nyamuk, cacing darah (Larva Chironomus sp.) dan Moina sp. Hipotesis yang akan diuji dalam penelitian ini adalah Ho: Pemberian pakan alami yang berbeda diduga tidak berpengaruh terhadap pertumbuhan ikan Cupang (Betta splendens) H1: Pemberian pakan alami yang berbeda diduga berpengaruh terhadap pertumbuhan ikan Cupang (Betta splendens). \")\n",
        "print(result3)"
      ],
      "metadata": {
        "colab": {
          "base_uri": "https://localhost:8080/"
        },
        "id": "Bpy520W02hhL",
        "outputId": "74d2df36-ce2f-4747-c364-85bcf6b82e8b"
      },
      "execution_count": null,
      "outputs": [
        {
          "output_type": "stream",
          "name": "stderr",
          "text": [
            "Setting `pad_token_id` to `eos_token_id`:50256 for open-end generation.\n"
          ]
        },
        {
          "output_type": "stream",
          "name": "stdout",
          "text": [
            "Penambahan pakan alami penting untuk pertumbuhan dan perkembangan ikan.\n"
          ]
        }
      ]
    },
    {
      "cell_type": "code",
      "source": [
        "result4 = clean_text_corr(\"Metode Penelitian ini menggunakan rancangan acak lengkap (RAL) dengan 3 perlakuan dan masing-masing perlakuan 3 ulangan. Perlakuan yang dimaksud adalah pemberian pakan akami jentik nyamuk, cacing darah (Larva Chironomus sp.) dan Moina sp. Prosedur penelitian meliputi: Tahap Adaptasi Ikan Cupang yang digunakan sebagai sampel terlebih dahulu diadaptasikan dengan lingkungan penelitian dan pakan uji selama 3 hari. Hal tersebut dilakukan agar ikan Cupang terbiasa dengan kondisi lingkungan penelitian dan pakan uji yang akan diberikan. Air yang digunakan sebagai media adalah air sumur yang diberi daun ketapang kering, kemudian diendapkan selama 1 malam. Hal tersebut dilakukan untuk menjaga kondisi kesehatan ikan Cupang. Tahap Pengamatan dan Pengumpulan Data Ikan Cupang kemudian dimasukkan ke dalam wadah pemeliharaan dengan kepadatan 5 ekor/wadah pemeliharaan. Pakan yang diberikan disesuaikan dengan perlakuan. Pemberian pakan dilakukan 3 kali sehari dan sebelum diberi pakan, pakan diberi 6 tetes methylene blue. Lama pemeliharaan adalah 4 minggu. Hal yang diamati adalah penambahan biomassa ikan Cupang tiap perlakuan dengan melakukan penimbangan tiap 1 minggu sekali dengan Timbangan analitik. Untuk mengetahui kualitas air yang digunakan dilakukan pengukuran suhu, pH dan DO yang dilakukan 1 kali setiap hari. \")\n",
        "print(result4)"
      ],
      "metadata": {
        "colab": {
          "base_uri": "https://localhost:8080/"
        },
        "id": "AxKTOfdJ3k-O",
        "outputId": "cbacb7c0-73df-4feb-b79e-10239fe0a35e"
      },
      "execution_count": null,
      "outputs": [
        {
          "output_type": "stream",
          "name": "stderr",
          "text": [
            "Setting `pad_token_id` to `eos_token_id`:50256 for open-end generation.\n"
          ]
        },
        {
          "output_type": "stream",
          "name": "stdout",
          "text": [
            "Metode penelitian meliputi rancangan acak lengkap dengan 3 perlakuan dan penimbangan, seleksi, dan penimbangan.\n"
          ]
        }
      ]
    },
    {
      "cell_type": "code",
      "source": [
        "result5 = clean_text_corr(\"Analisis Data Pertambahan Biomassa ikan Cupang dihitung dengan menggunakan rumus Effendie (1997) yaitu: W= Wt-W0 Keterangan: W : Pertambahan biomassa ikan (g) Wt : Berat ikan uji pada akhir penelitian (g) W0 : Berat ikan uji pada awal penelitian (g) Data yang diperoleh dianalisis dengan menggunakan analisis ragam dengan one way Anova untuk melihat ada tidaknya pengaruh perlakuan terhadap pertumbuhan ikan Cupang (Srigandono, 1983). Sebelum dilakukan analisis ragam terlebih dahulu dilakukan uji normalitas dan homogenitas ragam data pertumbuhan yang diperoleh. Jika hasil analisis ragam menunjukkan ada perbedaan pengaruh antar perlakuan, maka dilanjutkan dengan uji Tukey untuk mengetahui beda nilai tengah (Srigandono, 1983). Sementara untuk data kualitas air akan dianalisis secara deskriptif.\")\n",
        "print(result5)"
      ],
      "metadata": {
        "colab": {
          "base_uri": "https://localhost:8080/"
        },
        "id": "bsKCSYp94D14",
        "outputId": "a227fb87-d36b-4437-d20d-b29d0bd82545"
      },
      "execution_count": null,
      "outputs": [
        {
          "output_type": "stream",
          "name": "stderr",
          "text": [
            "Setting `pad_token_id` to `eos_token_id`:50256 for open-end generation.\n"
          ]
        },
        {
          "output_type": "stream",
          "name": "stdout",
          "text": [
            "Penelitian ini menggunakan indeks kontras untuk mengetahui pengaruh antar perlakuan, serta uji normalitas untuk melihat pengaruh antar perlakuan.\n"
          ]
        }
      ]
    },
    {
      "cell_type": "code",
      "source": [
        "result6 = clean_text_corr(\"Hasil dan Pembahasan Data biomassa ikan Cupang yang diperoleh selama 4 minggu waktu pemeliharaan disajikan dalam Tabel 1. Data pada Tabel 1, kemudian diuji untuk melihat normalitas dan homogenitas data yang diperoleh dengan a= 0,05. Berdasarkan uji Liliefors diketahui bahwa data terdistribusi normal dengan nilai signifikansi seluruh variable 0,200, dan uji homogenitas dengan One Way Anova menunjukkan data homogen dengan signifikansi 0,430. Diperolah data pertumbuhan biomassa ikan Cupang tiap perlakuan (Tabel 2). Dari data pertumbuhan biomassa ikan pada Tabel 2, diperoleh Rata-rata pertumbuhan biomassa ikan tiap perlakuan. Rata-rata pertumbuhan biomassa ikan Cupang masingmasing perlakuan disajikan dalam Gambar 1. Data pertumbuhan biomassa ikan kemudian dianalisis dengan uji one-way Anova dengan membandingkan F hitung dan F tabel dengan a= 0,05. Nilai F hitung 0,757, sementara nilai F tabel adalah 3,220. Karena F hitung = F tabel, maka Ho diterima.\")\n",
        "print(result6)"
      ],
      "metadata": {
        "colab": {
          "base_uri": "https://localhost:8080/"
        },
        "id": "qfpy2-Lf40Kx",
        "outputId": "5b835e89-be33-497b-e1b1-d39a1af2e5a3"
      },
      "execution_count": null,
      "outputs": [
        {
          "output_type": "stream",
          "name": "stderr",
          "text": [
            "Setting `pad_token_id` to `eos_token_id`:50256 for open-end generation.\n"
          ]
        },
        {
          "output_type": "stream",
          "name": "stdout",
          "text": [
            "Hasil dan Pembahasan Data genom ikan menunjukkan perbedaan signifikan pada data. Diperlukan data tambahan, termasuk tabel uji.\n"
          ]
        }
      ]
    },
    {
      "cell_type": "code",
      "source": [
        "result7 = clean_text_corr(\"Berdasarkan Tabel 4. Jenis pakan alami yang memiliki kandungan protein paling tinggi adalah Jentik nyamuk, kemudian cacing darah (Larva Chironomus sp.), dan yang paling sedikit kandungan proteinnya Moina sp. Kandungan lemak yang paling besar terdapat juga pada jentik nyamuk, kemudian pada Moina sp. dan lemak paling sedikit terdapat pada cacing darah (Larva Chironomus sp.). Meskipun jumlah kandungan protein berbeda, akan tetapi jumlahnya tidak berbeda jauh. Kandungan protein ketiga pakan alami ini terbilang tinggi, sehingga baik diaplikasikan sebagai alternatif pakan alami. Jumlah protein yang dibutuhkan ikan Cupang dalam masa pertumbuhannya adalah pada kisaran 50%. Protein dibutuhkan untuk pembentukan, pertumbuhan dan perkembangan jaringan serta juga berperan sebagai sumber energi (Sukamti, 1994). Sehingga jika dihubungkan dengan informasi dalam Tabel 4, pakan dengan kandungan protein tinggi seperti jentik nyamuk dan cacing darah sangat baik digunakan dalam masa pertumbuhan. Kandungan lemak dalam pakan juga dibutuhkan dalam masa pertumbuhan sebagai sumber energi (Sukamti, 1994). Lemak yang kurang jumlahnya dalam pakan mengakibatkan fungsi lemak sebagai sumber energi digantikan oleh protein sehingga jumlah protein untuk pertumbuhan menjadi berkurang, yang berakibat pada tidak optimalnya pertumbuhan. \")\n",
        "print(result7)"
      ],
      "metadata": {
        "colab": {
          "base_uri": "https://localhost:8080/"
        },
        "id": "z9plpebj5Rlt",
        "outputId": "1fedb7a8-efd8-4424-8d0c-b9f6d1685172"
      },
      "execution_count": null,
      "outputs": [
        {
          "output_type": "stream",
          "name": "stderr",
          "text": [
            "Setting `pad_token_id` to `eos_token_id`:50256 for open-end generation.\n"
          ]
        },
        {
          "output_type": "stream",
          "name": "stdout",
          "text": [
            "Kecukupan gizi dan protein yang tinggi, dapat menjadi alternatif pakan alami.\n"
          ]
        }
      ]
    },
    {
      "cell_type": "code",
      "source": [
        "result8 = clean_text_corr(\"Faktor yang berpengaruh dalam pertumbuhan ikan selain faktor gen juga dipengaruhi oleh kandungan nutrisi dalam pakan dan kualitas air yang digunakan dalam pemeliharaan serta yang tidak kalah penting adalah kesesuaian ukuran bukaan mulut ikan dengan ukuran pakan. Ukuran pakan yang sesuai dengan bukaan mulut ikan akan meningkatkan efisiensi pakan serta meningkatkan pertumbuhan (Priyadi, 2010). Ukuran jentik nyamuk adalah 10-25mm (Agus, (2010)), cacing darah (Larva Chironomus sp.) 1mm-2cm (Johnson & Krieger, (2005)), Moina sp. 500-1.000 mikron (Mudjiman, (2008)). Hasil penelitian ini yang menunjukkan pertumbuhan biomassa yang paling besar adalah pada perlakuan pakan Cacing darah (Larva Chironomus sp.). Sehingga dapat dikatakan bahwa cacing darah sesuai dengan ukuran bukaan mulut ikan Cupang usia 3 bulan. Perlakuan pakan dengan Moina sp. menunjukkan pertumbuhan biomassa yang paling kecil. Hal tersebut selain diakibatkan jumlah protein yang lebih sedikit dibanding perlakuan jenis pakan alami yang lain, juga dapat diakibatkan oleh ukuran Moina sp. yang sangat kecil jika dibandingkan dengan bukaan mulut ikan Cupang, sehingga tingkat konsumsi pakan menjadi rendah, yang berakibat pada rendahnya pertumbuhan biomassa. Sehingga pakan ini menjadi tidak efektif untuk menunjang pertumbuhan ikan Cupang usia 3 bulan.\")\n",
        "print(result8)"
      ],
      "metadata": {
        "colab": {
          "base_uri": "https://localhost:8080/"
        },
        "id": "xfMky6Pq5o9N",
        "outputId": "52cc69c0-72d8-4462-be7c-86942826cde0"
      },
      "execution_count": null,
      "outputs": [
        {
          "output_type": "stream",
          "name": "stderr",
          "text": [
            "Setting `pad_token_id` to `eos_token_id`:50256 for open-end generation.\n"
          ]
        },
        {
          "output_type": "stream",
          "name": "stdout",
          "text": [
            "Faktor yang mempengaruhi pertumbuhan ikan adalah faktor genetik, kualitas air, ketahanan tubuh ikan, dan peningkatan kualitas air.\n"
          ]
        }
      ]
    },
    {
      "cell_type": "code",
      "source": [
        "result9 = clean_text_corr(\"Kualitas air selama pemeliharaan juga berpengaruhi terhadap daya tahan dari ikan Cupang. Oleh sebab itu kualitas air selalu dipantau dengan mengukur pH, Suhu dan oksigen terlarut (DO). Selain itu air juga diganti setiap 3 hari sekali untuk memastikan air tetap dalam kualitas yang baik. Data kualitas air pada Tabel 3, menunjukkan bahwa pH air selama pemeliharaan ada pada kisaran 6-7, sementara suhu pada 26-27oC dan DO 4,06-7,54 ppm. Setyowati (2014), menyebutkan bahwa lingkungan perairan yang paling cocok untuk pemeliharaan ikan hias, termasuk ikan Cupang adalah pada pH 6-7, suhu 26-27oC dan DO > 3ppm. Sehingga dapat dikatakan bahwa kualitas air yang digunakan dalam penelitian ada dalam kondisi yang baik, sehingga memungkinkan ikan Cupang untuk tetap hidup. pH berpengaruh terhadap pertumbuhan. pH air dibawah 4,5 menyebabkan pertumbuhan terhambat karena air dikategorikan bersifat toksik bagi ikan. pH paling baik untuk pertumbuhan adalah pada kisaran 6,5-9,0 (SITH-ITB, 2009). Suhu juga ikut berpengaruh terhadap pertumbuhan ikan. Suhu dipengaruhi oleh jumlah amoniak yang terdapat pada air, sehingga mempengaruhi kualitas air. Amoniak berasal dari zat sisa yang dikeluarkan oleh ikan itu sendiri. Suhu optimum yang mendukung pertumbuhan ikan adalah pada kisaran suhu 25-26oC (Tsuji dkk., 2014).\")\n",
        "print(result9)"
      ],
      "metadata": {
        "colab": {
          "base_uri": "https://localhost:8080/"
        },
        "id": "zo0-bGP9YqGj",
        "outputId": "3d1a3f12-0f1e-4d31-d54d-8a9b0d2bf52e"
      },
      "execution_count": null,
      "outputs": [
        {
          "output_type": "stream",
          "name": "stderr",
          "text": [
            "Setting `pad_token_id` to `eos_token_id`:50256 for open-end generation.\n"
          ]
        },
        {
          "output_type": "stream",
          "name": "stdout",
          "text": [
            "Kualitas air mempengaruhi daya tahan ikan selama pemeliharaan.\n"
          ]
        }
      ]
    },
    {
      "cell_type": "code",
      "source": [
        "result10 = clean_text_corr(\"DO air yang digunakan dalam pemeliharaan tidak kalah pentingnya untuk selalu diukur. DO menunjukkan jumlah oksigen terlarut dalam air. Oksigen dibutuhkan dalam proses respirasi dan oksidasi. Ikan Cupang merupakan ikan yang memiliki toleransi terhadap DO yang cukup tinggi. Sehingga ikan ini dapat tetap hidup dalam lingkungan dengan jumlah oksigen yang tidak terlalu melimpah. Hal ini disebabkan karena ikan ini merupakan kelompok ikan labirin terbesar (Fahmi, 2015). Labirin adalah alat pernafasan tambahan yang dimiliki oleh beberapa ikan. Labirin memungkinkan ikan mampu mengikat oksigen langsung dari udara. Sehingga dengan kondisi oksigen yang minim, ikan tidak menjadi stress (Ahmadi, 2012).\")\n",
        "print(result10)"
      ],
      "metadata": {
        "colab": {
          "base_uri": "https://localhost:8080/"
        },
        "id": "SquXqCxeZgJu",
        "outputId": "17b80a8e-1a5a-4645-f7a7-24818b110b51"
      },
      "execution_count": null,
      "outputs": [
        {
          "output_type": "stream",
          "name": "stderr",
          "text": [
            "Setting `pad_token_id` to `eos_token_id`:50256 for open-end generation.\n"
          ]
        },
        {
          "output_type": "stream",
          "name": "stdout",
          "text": [
            "Didapatkan konsentrasi oksigen terlarut dalam air.\n"
          ]
        }
      ]
    },
    {
      "cell_type": "code",
      "source": [
        "result11 = clean_text_corr(\"Simpulan Perbedaan jenis pakan alami tidak memberikan pengaruh berbeda terhadap pertumbuhan ikan Cupang (Betta spendens). Pertumbuhan biomassa ikan Cupang (Betta spendens) yang diberi pakan jentik nyamuk adalah 2,04 gram, yang diberi pakan Cacing darah (Larva Chironomus sp.) 2,15 gram dan dengan pakan alami Moina sp. 1,9 gram. \")\n",
        "print(result11)"
      ],
      "metadata": {
        "colab": {
          "base_uri": "https://localhost:8080/"
        },
        "id": "1Ygm9QNmZ7GF",
        "outputId": "bdbd129d-1c3b-48bb-bc77-a767de402851"
      },
      "execution_count": null,
      "outputs": [
        {
          "output_type": "stream",
          "name": "stderr",
          "text": [
            "Setting `pad_token_id` to `eos_token_id`:50256 for open-end generation.\n"
          ]
        },
        {
          "output_type": "stream",
          "name": "stdout",
          "text": [
            "Betta spendens memiliki pertumbuhan ikan lebih baik, dengan peningkatan laju pertumbuhan ikan.\n"
          ]
        }
      ]
    },
    {
      "cell_type": "code",
      "source": [
        "combined_result = result1 + \"\\n\" + result2 + \"\\n\" + result3 + \"\\n\" + result4 + \"\\n\" + result5 + \"\\n\" + result6 + \"\\n\" + result7 + \"\\n\" + result8 + \"\\n\" + result9 + \"\\n\" + result10 + \"\\n\" + result11\n",
        "print(combined_result)"
      ],
      "metadata": {
        "colab": {
          "base_uri": "https://localhost:8080/"
        },
        "id": "n9XVz0RX6PCT",
        "outputId": "5480f92a-2b6a-42be-e472-162f90a2a9d8"
      },
      "execution_count": null,
      "outputs": [
        {
          "output_type": "stream",
          "name": "stdout",
          "text": [
            "Cupang dari Asia tenggara memiliki karakteristik tubuh berwarna keperakan dengan bundaran hitam dan bintik-bintik hitam pada sirip punggung.\n",
            "Penentuan kondisi optimal untuk pertumbuhan dan perkembangan ikan. Analisa menggunakan pellet menunjukkan lingkungan yang baik untuk pertumbuhan dan perkembangan ikan.\n",
            "Penambahan pakan alami penting untuk pertumbuhan dan perkembangan ikan.\n",
            "Metode penelitian meliputi rancangan acak lengkap dengan 3 perlakuan dan penimbangan, seleksi, dan penimbangan.\n",
            "Penelitian ini menggunakan indeks kontras untuk mengetahui pengaruh antar perlakuan, serta uji normalitas untuk melihat pengaruh antar perlakuan.\n",
            "Hasil dan Pembahasan Data genom ikan menunjukkan perbedaan signifikan pada data. Diperlukan data tambahan, termasuk tabel uji.\n",
            "Kecukupan gizi dan protein yang tinggi, dapat menjadi alternatif pakan alami.\n",
            "Faktor yang mempengaruhi pertumbuhan ikan adalah faktor genetik, kualitas air, ketahanan tubuh ikan, dan peningkatan kualitas air.\n",
            "Kualitas air mempengaruhi daya tahan ikan selama pemeliharaan.\n",
            "Didapatkan konsentrasi oksigen terlarut dalam air.\n",
            "Betta spendens memiliki pertumbuhan ikan lebih baik, dengan peningkatan laju pertumbuhan ikan.\n"
          ]
        }
      ]
    },
    {
      "cell_type": "code",
      "source": [
        "import re\n",
        "# Membaca teks dari file\n",
        "with open('/content/6_1.txt', 'r', encoding='utf-8', errors='ignore') as file:\n",
        "    lines = file.readlines()\n",
        "\n",
        "# Inisialisasi teks hasil pengolahan\n",
        "results = []\n",
        "\n",
        "# Mengolah setiap teks secara bergantian\n",
        "for line in lines:\n",
        "    # Menghilangkan karakter newline dan spasi ekstra\n",
        "    line = line.strip()\n",
        "   # line = re.sub(\"\\s+\", \" \", line)\n",
        "    # Memeriksa apakah baris tersebut kosong\n",
        "    if line:\n",
        "        # Memanggil fungsi clean_text_corr untuk mengolah teks\n",
        "        processed_line = clean_text_corr(line)\n",
        "        # Menambahkan teks yang telah diolah ke daftar hasil\n",
        "        results.append(processed_line)\n",
        "\n",
        "# Menyatukan teks yang telah diolah\n",
        "result_text = ' '.join(results)\n",
        "\n",
        "\n",
        "# Menulis teks yang telah diolah kembali ke file\n",
        "with open('/content/output_6_1.txt', 'w', encoding='utf-8', errors='ignore') as output_file:\n",
        "    output_file.write(result_text)"
      ],
      "metadata": {
        "colab": {
          "base_uri": "https://localhost:8080/"
        },
        "id": "PubFQXU6czV9",
        "outputId": "200aa527-2403-4291-988c-36042aeb3874"
      },
      "execution_count": null,
      "outputs": [
        {
          "output_type": "stream",
          "name": "stderr",
          "text": [
            "Setting `pad_token_id` to `eos_token_id`:50256 for open-end generation.\n",
            "Setting `pad_token_id` to `eos_token_id`:50256 for open-end generation.\n",
            "Setting `pad_token_id` to `eos_token_id`:50256 for open-end generation.\n",
            "Setting `pad_token_id` to `eos_token_id`:50256 for open-end generation.\n",
            "Setting `pad_token_id` to `eos_token_id`:50256 for open-end generation.\n",
            "Setting `pad_token_id` to `eos_token_id`:50256 for open-end generation.\n",
            "Setting `pad_token_id` to `eos_token_id`:50256 for open-end generation.\n",
            "Setting `pad_token_id` to `eos_token_id`:50256 for open-end generation.\n",
            "Setting `pad_token_id` to `eos_token_id`:50256 for open-end generation.\n",
            "Setting `pad_token_id` to `eos_token_id`:50256 for open-end generation.\n",
            "Setting `pad_token_id` to `eos_token_id`:50256 for open-end generation.\n"
          ]
        }
      ]
    },
    {
      "cell_type": "code",
      "source": [
        "result_text"
      ],
      "metadata": {
        "colab": {
          "base_uri": "https://localhost:8080/",
          "height": 157
        },
        "id": "s6YHtmexdvs_",
        "outputId": "baaf2e64-29f2-4889-ff9e-cc3ce8f1c517"
      },
      "execution_count": null,
      "outputs": [
        {
          "output_type": "execute_result",
          "data": {
            "text/plain": [
              "'Cupang dari Asia tenggara memiliki karakteristik tubuh berwarna keperakan dengan bundaran hitam dan bintik-bintik hitam pada sirip punggung. Penentuan kondisi optimal untuk pertumbuhan dan perkembangan ikan. Analisa menggunakan pellet menunjukkan lingkungan yang baik untuk pertumbuhan dan perkembangan ikan. Penambahan pakan alami, termasuk ikan air tawar, ikan air tawar, dan ikan air tawar. Metode penelitian ini menggunakan rancangan acak lengkap dengan 3 perlakuan dan perlakuan 3 ulangan. Penelitian ini menggunakan indeks kontras untuk mengetahui pengaruh antar perlakuan, serta uji normalitas untuk melihat pengaruh antar perlakuan. Hasil dan Pembahasan Data genom ikan menunjukkan perbedaan signifikan pada data. Diperlukan data tambahan, termasuk tabel uji. Kecukupan protein dalam air masih sedikit, protein yang paling sedikit kandungan lemak dalam air adalah Jentik nyamuk, dan lemak yang paling sedikit kandungan lemak dalam air. Faktor yang mempengaruhi pertumbuhan ikan adalah faktor genetik, kualitas air, ketahanan tubuh ikan, dan peningkatan kualitas air. Kualitas air mempengaruhi daya tahan ikan selama pemeliharaan. Didapatkan konsentrasi oksigen terlarut dalam air. Betta spendens memiliki pertumbuhan ikan lebih baik pada pertumbuhan ikan dibandingkan dengan ikan tanpa pakan.'"
            ],
            "application/vnd.google.colaboratory.intrinsic+json": {
              "type": "string"
            }
          },
          "metadata": {},
          "execution_count": 55
        }
      ]
    },
    {
      "cell_type": "markdown",
      "source": [
        "## Pengujian jurnal 4 (6 halaman)"
      ],
      "metadata": {
        "id": "vy-Dr83U6_8I"
      }
    },
    {
      "cell_type": "code",
      "source": [
        "result1 = clean_text_corr(\"Benih kedelai merupakan benih yang tidak memiliki masa dormansi, kandungan protein dan lemaknya menyebabkan umur simpan benih sangat rendah. Benih kedelai varietas Grobogan memiliki kandungan protein tinggi yaitu 42,32% sedangkan kedelai impor hanya 37,84% (Nurrahman, 2015). Hal ini menyebabkan benih kedelai akan cepat mengalami deteriorasi atau penurunan mutu. Mutu benih yang rendah mengakibatkan rendahnya kualitas perkecambahan sehingga mempengaruhi nilai produksi. Sedangkan untuk memenuhi kebutuhan kedelai nasional yang meningkat setiap tahunnya diperlukan benih dengan mutu yang baik sehingga dapat menghasilkan tanaman dengan produktivitas yang tinggi . Salah satu cara untuk meningkatkan mutu benih kedelai yang sudah mengalami deteriorasi adalah dengan perlakuan pemeraman atau priming. Priming adalah kegiatan hidrasi secara perlahan sebelum benih dikecambahkan, bertujuan agar potensi air benih mencapai keseimbangan untuk mengaktifkan kegiatan metabolisme dalam benih (Rouhi dkk., 2011). \")\n",
        "print(result1)"
      ],
      "metadata": {
        "colab": {
          "base_uri": "https://localhost:8080/"
        },
        "id": "QwYWcqyA7WNE",
        "outputId": "8656d6d5-0c2b-48e4-9095-19b4a0a75529"
      },
      "execution_count": null,
      "outputs": [
        {
          "output_type": "stream",
          "name": "stderr",
          "text": [
            "Setting `pad_token_id` to `eos_token_id`:50256 for open-end generation.\n"
          ]
        },
        {
          "output_type": "stream",
          "name": "stdout",
          "text": [
            "Benih kedelai memiliki masa dormansi, pertumbuhan, dan peningkatan kualitas.\n"
          ]
        }
      ]
    },
    {
      "cell_type": "code",
      "source": [
        "result2 = clean_text_corr(\"Perlakuan priming dapat dikombinasikan dengan pemberian agen hayati yang mampu untuk meningkatkan kualitas perkecambahan benih, misalnya dengan mikroba pengikat nitrogen atau mikroba yang mampu menghasilkan hormon pertumbuhan atau mikroba untuk meningkatkan ketahanan terhadap cekaman. Perlakuan kombinasi ini dikenal dengan bio-priming. Salah satu mikroba yang dapat ditambahkan adalah Trichoderma harzianum, yaitu fungi yang dapat hidup di perakaran tanaman dan mampu meningkatkan panjang akar dan tinggi kecambah kedelai (Anitha dkk., 2015; Entesari dkk., 2013). Mikroba lain yang dapat ditambahkan adalah dengan EM-4, yaitu larutan yang berisi mikroba alami (Maspary, 2011). Diharapkan mikroorganisme yang terdapat dalam larutan EM-4 dapat meningkatkan mutu perkecambahan benih kedelai yang telah mengalami deteriorasi. Untuk itu melalui penelitian ini akan dilihat pengaruh pemberian EM-4, T. harzianum dan kombinasi keduanya dalam proses bio-priming terhadap mutu perkecambahan benih kedelai.\")\n",
        "print(result2)"
      ],
      "metadata": {
        "colab": {
          "base_uri": "https://localhost:8080/"
        },
        "id": "62DIPxEb7c4W",
        "outputId": "999636fe-78a2-4278-d7db-267c66e2471d"
      },
      "execution_count": null,
      "outputs": [
        {
          "output_type": "stream",
          "name": "stderr",
          "text": [
            "Setting `pad_token_id` to `eos_token_id`:50256 for open-end generation.\n"
          ]
        },
        {
          "output_type": "stream",
          "name": "stdout",
          "text": [
            "Perlakuan antibakteri dan bio-pasteurisasi dapat dikombinasikan dengan bio-pasteurisasi untuk meningkatkan kualitas perkecambahan benih.\n"
          ]
        }
      ]
    },
    {
      "cell_type": "code",
      "source": [
        "result3 = clean_text_corr(\"Bahan utama yang digunakan dalam penelitian ini adalah benih kedelai kuning varietas Grobogan yang sudah mengalami masa simpan 3 bulan, kertas merang untuk uji perkecambahan secara Uji Kertas Digulung didirikan (UKDd), larutan EM-4 dan kultur T. harzianum. Dalam penelitian ini terdapat 5 perlakuan, yaitu: 1) kontrol (K) merupakan benih kedelai tanpa perlakuan, 2) priming (M) merupakan perlakuan matriks priming dengan memasukkan benih kedelai ke dalam media arang sekam lembab dengan perbandingan benih : arang sekam : air = 3 : 10 : 3 (b/b/v), 3) biopriming dengan EM-4 (E) dilakukan dengan perendaman benih dalam larutan EM-4 0.3% selama satu jam, 4) bio-priming dengan T. harzianum (T) yaitu priming benih dengan 75 g Trichoderma harzianum selama satu hari, dan 5) bio-priming dengan EM-4 + T. harzianum (ET) merupakan perlakuan perendaman benih dalam larutan EM-4 0,3% selama satu jam, lalu dilanjutkan dengan pemberian 75 g T. harzianum selama satu hari. Pengujian perkecambahan dilakukan dengan metode UKDd dan diulang sebanyak 5 kali. Rancangan percobaan menggunakan RAK dan data yang diperoleh dianalisis sidik ragam dengan uji BNJ taraf signifikansi 5% yang akan dinyatakan hasilnya dengan pemberian kode huruf pada nilai pengamatan. Huruf yang sama menunjukkan tidak adanya perbedaan yang nyata, sedangkan huruf yang berbeda menunjukkan adanya perbedaan yang nyata pada hasil pengamatan. Pengamatan yang dilakukan dalam penelitian ini adalah: 1. Daya berkecambah (DB) 2. Kecepatan tumbuh (KCT) 3.Keserempakan tumbuh (KST)\")\n",
        "print(result3)"
      ],
      "metadata": {
        "colab": {
          "base_uri": "https://localhost:8080/"
        },
        "id": "PuLZ68Qu8lc5",
        "outputId": "c76c7157-2756-481f-cc34-6d6b0d92150a"
      },
      "execution_count": null,
      "outputs": [
        {
          "output_type": "stream",
          "name": "stderr",
          "text": [
            "Setting `pad_token_id` to `eos_token_id`:50256 for open-end generation.\n"
          ]
        },
        {
          "output_type": "stream",
          "name": "stdout",
          "text": [
            "Bahan dan bahan digunakan dalam penelitian ini, yaitu susu kedelai kuning, air, dan kultur temulawak dengan Uji BNJ.\n"
          ]
        }
      ]
    },
    {
      "cell_type": "code",
      "source": [
        "result4 = clean_text_corr(\"Hasil dan Pembahasan Viabilitas benih Kemampuan benih untuk berkecambah secara normal sangat dipengaruhi oleh mutu fisiologis benih. Mutu fisiologis akan mencapai nilai maksimal saat masak fisiologis dan akan mengalami penurunan atau deteriorasi selama masa penyimpanan. Dalam penelitian ini diamati viabilitas benih yang digambarkan melalui daya berkecambah, yaitu antara benih tanpa perlakuan priming (kontrol) dengan benih yang diberi perlakuan.\")\n",
        "print(result4)"
      ],
      "metadata": {
        "colab": {
          "base_uri": "https://localhost:8080/"
        },
        "id": "fk9JacUe89Ui",
        "outputId": "05a404f2-e093-49f9-a0f0-5cfcf823f030"
      },
      "execution_count": null,
      "outputs": [
        {
          "output_type": "stream",
          "name": "stderr",
          "text": [
            "Setting `pad_token_id` to `eos_token_id`:50256 for open-end generation.\n"
          ]
        },
        {
          "output_type": "stream",
          "name": "stdout",
          "text": [
            "Hasil dan Pembahasan menunjukkan bahwa kontrol dan kematangan tanaman sayuran, serta kontrol kualitas fisiologis tanaman sayuran, memiliki nilai maksimal.\n"
          ]
        }
      ]
    },
    {
      "cell_type": "code",
      "source": [
        "result5 = clean_text_corr(\"Hasil pengujian menunjukkan daya berkecambah tertinggi ada pada perlakuan biopriming dengan EM-4 (E) dan diikuti dengan perlakuan priming (M), sedangkan perlakuan bio-priming dengan T. Harzianum (T) tidak berbeda nyata dibandingkan kontrol dan perlakuan bio-priming dengan EM-4 + T. harzianum (ET) cenderung menurunkan daya berkecambah benih. Peningkatan daya berkecambah benih kedelai pada perlakuan E yaitu 72% dan M yaitu 55,2% dibandingkan kontrol yang hanya 44,8% menunjukkan adanya perbaikan seluler dalam benih selama proses priming. Selain itu pada perlakuan E dengan adanya mikroba yang mampu menghasilkan nutrisi selama proses priming akan memacu aktivitas sel di dalam benih sehingga dapat meningkatkan daya berkecambah benih kedelai. Pada perlakuan ET yaitu dengan pemberian Trichoderma harzianum setelah priming dengan EM-4 cenderung menurunkan daya berkecambah benih. Penurunan ini diduga karena Trichoderma harzianum menghasilkan alkohol. Contreras- Cornejo dkk., (2009) menduga alkohol yang dihasilkan merupakan hasil perombakan dari nutrisi yang dihasilkan mikroba melalui perendaman dengan EM-4 sebelumnya. Alkohol yang dihasilkan oleh mikroba dapat merusak membran sel sehingga menimbulkan kebocoran sel benih kedelai dan mengakibatkan rendahnya daya berkecambah benih.\")\n",
        "print(result5)"
      ],
      "metadata": {
        "colab": {
          "base_uri": "https://localhost:8080/"
        },
        "id": "_4Fdb7J29l7W",
        "outputId": "b40fc888-3ad4-4d44-9c0d-55e47c5615f7"
      },
      "execution_count": null,
      "outputs": [
        {
          "output_type": "stream",
          "name": "stderr",
          "text": [
            "Setting `pad_token_id` to `eos_token_id`:50256 for open-end generation.\n"
          ]
        },
        {
          "output_type": "stream",
          "name": "stdout",
          "text": [
            "Pemberian ekstrak biji kedelai dan turunannya melalui perlakuan bio- bioprure meningkatkan daya kecambah benih.\n"
          ]
        }
      ]
    },
    {
      "cell_type": "code",
      "source": [
        "result6 = clean_text_corr(\"Vigor benih Nilai vigor benih pada penelitian ini dilihat dari nilai kecepatan tumbuh (KCT) dan keserempakan tumbuh (KST) (Tabel 1). KCT menggambarkan persentase pertambahan kecambah normal per hari selama proses pengujian, sedangkan keserempakan tumbuh (KST) merupakan nilai yang menunjukkan persentase kecambah normal pada pengamatan KNH1 (kecambah normal hari pertama) yaitu hari ke-5. Apabila dibandingkan dengan benih kontrol (K), perlakuan priming dengan matriks priming (M) dapat meningkatkan nilai KCT dan perlakuan bio-priming dengan EM-4 (E) menunjukkan nilai KCT tertinggi. Nilai KST benih kedelai dengan perlakuan E juga menunjukkan nilai tertinggi dibandingkan kontrol maupun perlakuan lain. Hal ini disebabkan waktu hidrasi dengan perlakuan E cukup panjang dan selama proses priming tersebut benih melakukan proses perbaikan seluler dengan memanfaatkan nutrisi yang dihasilkan oleh mikroba di dalam EM-4. Lamanya waktu priming juga berpengaruh pada proses metabolisme awal dari benih sebelum memasuki fase munculnya radikula (Yuanasari dkk., 2015). Proses inilah yang mendukung pembentukan kecambah normal pada perlakuan E lebih cepat dan lebih serempak dibandingkan perlakuan lain.\")\n",
        "print(result6)"
      ],
      "metadata": {
        "colab": {
          "base_uri": "https://localhost:8080/"
        },
        "id": "hUhUM5Sw-A3F",
        "outputId": "9cf9f043-aa77-411f-f260-bcbe232ca16f"
      },
      "execution_count": null,
      "outputs": [
        {
          "output_type": "stream",
          "name": "stderr",
          "text": [
            "Setting `pad_token_id` to `eos_token_id`:50256 for open-end generation.\n"
          ]
        },
        {
          "output_type": "stream",
          "name": "stdout",
          "text": [
            "Variasi kecepatan pertumbuhan tanaman dan peningkatan pertumbuhan tanaman sesuai dengan percobaan.\n"
          ]
        }
      ]
    },
    {
      "cell_type": "code",
      "source": [
        "result7 = clean_text_corr(\"Pertumbuhan kecambah Pertumbuhan kecambah yang diamati meliputi tinggi, panjang akar dan berat kering kecambah. Tinggi kecambah yang diamati meliputi tinggi epikotil dan hipokotil (Gambar 2). Benih kedelai dengan perlakuan E menunjukkan kemampuan terbaik dibandingkan perlakuan yang lain, yaitu mengalami peningkatan vigor kecambah hingga pertumbuhan epikotil dan hipokotil tertinggi. Besarnya nilai tersebut juga didukung oleh nilai KCT dan KST. Benih dengan perlakuan E juga menunjukkan nilai KCT dan KST tertinggi dibandingkan perlakuan lain. Pada saat benih cepat berkecambah sehingga nilai KCT tinggi, maka benih tersebut akan tumbuh lebih dulu sehingga pada waktu pengamatan yang sama benih yang telah berkecambah tersebut akan lebih tinggi. Priming menggunakan EM-4 yang di dalamnya terkandung mikroba alami terbukti mampu meningkatkan kualitas perkecambahan karena mikroba di dalamnya mampu melarutkan ion fosfat dan menghasilkan asam amino, gula, serta hormon (Wididana, 2014). Menurut Ekosari dkk., (2011) kualitas perkecambahan yang baik ditunjukkan oleh kemampuan menghasilkan tinggi kecambah (epikotil dan hipokotil) serta akar yang lebih panjang. Tabel 2 menunjukkan nilai tinggi kecambah yaitu penjumlahan epikotil dan hipokotil, panjang akar, dan berat kering kecambah. Pada pengamatan panjang akar tidak ada perbedaan yang nyata antar perlakuan, karena perlakuan priming tidak berpengaruh langsung terhadap pertumbuhan akar. Panjang akar akan lebih banyak dipengaruhi oleh ketersediaan air selama proses perkecambahan.\")\n",
        "print(result7)"
      ],
      "metadata": {
        "colab": {
          "base_uri": "https://localhost:8080/"
        },
        "id": "-HC-Oty2-coa",
        "outputId": "f71275e6-2389-4fa9-c33d-1b8e4a2a7c83"
      },
      "execution_count": null,
      "outputs": [
        {
          "output_type": "stream",
          "name": "stderr",
          "text": [
            "Setting `pad_token_id` to `eos_token_id`:50256 for open-end generation.\n"
          ]
        },
        {
          "output_type": "stream",
          "name": "stdout",
          "text": [
            "Pertumbuhan kecambah yang diamati menunjukkan pertumbuhan kecambah tinggi, panjang akar, dan peningkatan pertumbuhan tanaman berdasarkan standar.\n"
          ]
        }
      ]
    },
    {
      "cell_type": "code",
      "source": [
        "result8 = clean_text_corr(\"Bobot kering (BK) kecambah menggambarkan jumlah biomassa yang tersimpan di dalam kecambah kedelai. Pada umumnya biomassa tanaman terbentuk dari hasil fotosintesis, tetapi biomassa pada tahap perkecambahan akan lebih banyak dipengaruhi oleh kandungan cadangan makanan yang tersimpan di dalam benih. Benih yang sudah mengalami deteriorasi akan mengalami kerusakan atau kebocoran sel, hal ini dapat menyebabkan keluarnya cadangan makanan terlarut saat benih mengalami imbibisi. Perlakuan bio-priming bertujuan agar pada benih terjadi perbaikan seluler sehingga kebocoran benih dapat ditutupi. Diharapkan selama proses pemeraman tersebut terdapat interaksi yang menguntungkan antara benih dengan mikroba. Mikroba dapat memanfaatkan bahan bocoran sel untuk menghasilkan hormon-hormon tertentu yang mendukung perkecambahan benih (Zulueta-Rodrguez dkk., 2015). Nilai BK dapat menggambarkan energi perkecambahan, artinya pada benih dengan BK tinggi memiliki energi perkecambahan yang tinggi (Sadeghi dkk., 2011). Pada Tabel 2 terlihat adanya peningkatan BK kecambah antara kontrol dengan benih yang diberi perlakuan priming kecuali perlakuan ET, bahkan nilai BK pada perlakuan ET lebih rendah dibandingkan K. Hal ini karena waktu priming benih yang terlalu lama menyebabkan kerusakan sel yang lebih tinggi, sehingga kebocoran sel tersebut menyebabkan keluarnya cadangan makanan dari dalam benih yang berakibat menurunkan energi perkecambahan.\")\n",
        "print(result8)"
      ],
      "metadata": {
        "colab": {
          "base_uri": "https://localhost:8080/"
        },
        "id": "X79gCOnh--zF",
        "outputId": "e95e7302-44ef-4756-a28e-a65217539a00"
      },
      "execution_count": null,
      "outputs": [
        {
          "output_type": "stream",
          "name": "stderr",
          "text": [
            "Setting `pad_token_id` to `eos_token_id`:50256 for open-end generation.\n"
          ]
        },
        {
          "output_type": "stream",
          "name": "stdout",
          "text": [
            "Bobot kering menggambarkan jumlah biomassa yang tersimpan di dalam benih, mempengaruhi pertumbuhan tanaman.\n"
          ]
        }
      ]
    },
    {
      "cell_type": "code",
      "source": [
        "result9 = clean_text_corr(\"Simpulan Berdasarkan hasil penelitian dapat disimpulkan bahwa bio-priming menggunakan EM-4 dapat memperbaiki mutu perkecambahan berdasarkan pengamatan viabilitas, vigor, dan pertumbuhan kecambah kedelai. Bio-priming menggunakan T. harzianum tidak mampu memperbaiki mutu perkecambahan benih kedelai dan bio-priming menggunakan kombinasi EM-4 dan T. harzianum cenderung menurunkan mutu perkecambahan kedelai dibandingkan kontrol.\")\n",
        "print(result9)"
      ],
      "metadata": {
        "colab": {
          "base_uri": "https://localhost:8080/"
        },
        "id": "bekLSyBOoeD3",
        "outputId": "0fcda491-35f4-4515-e43c-659c875eed1d"
      },
      "execution_count": null,
      "outputs": [
        {
          "output_type": "stream",
          "name": "stderr",
          "text": [
            "Setting `pad_token_id` to `eos_token_id`:50256 for open-end generation.\n"
          ]
        },
        {
          "output_type": "stream",
          "name": "stdout",
          "text": [
            "Penelitian menunjukkan bahwa bio-priming dan bio-variabel perlu dilakukan.\n"
          ]
        }
      ]
    },
    {
      "cell_type": "code",
      "source": [
        "combined_result = result1 + \"\\n\" + result2 + \"\\n\" + result3 + \"\\n\" + result4 + \"\\n\" + result5 + \"\\n\" + result6 + \"\\n\" + result7 + \"\\n\" + result8 + \"\\n\" + result9\n",
        "print(combined_result)"
      ],
      "metadata": {
        "colab": {
          "base_uri": "https://localhost:8080/"
        },
        "id": "S0mjx7z-_b__",
        "outputId": "60af3a3d-b80c-4c1c-f386-6b23aae361e1"
      },
      "execution_count": null,
      "outputs": [
        {
          "output_type": "stream",
          "name": "stdout",
          "text": [
            "Benih kedelai memiliki masa dormansi, pertumbuhan, dan peningkatan kualitas.\n",
            "Perlakuan antibakteri dan bio-pasteurisasi dapat dikombinasikan dengan bio-pasteurisasi untuk meningkatkan kualitas perkecambahan benih.\n",
            "Bahan dan bahan digunakan dalam penelitian ini, yaitu susu kedelai kuning, air, dan kultur temulawak dengan Uji BNJ.\n",
            "Hasil dan Pembahasan menunjukkan bahwa kontrol dan kematangan tanaman sayuran, serta kontrol kualitas fisiologis tanaman sayuran, memiliki nilai maksimal.\n",
            "Pemberian ekstrak biji kedelai dan turunannya melalui perlakuan bio- bioprure meningkatkan daya kecambah benih.\n",
            "Variasi kecepatan pertumbuhan tanaman dan peningkatan pertumbuhan tanaman sesuai dengan percobaan.\n",
            "Pertumbuhan kecambah yang diamati menunjukkan pertumbuhan kecambah tinggi, panjang akar, dan peningkatan pertumbuhan tanaman berdasarkan standar.\n",
            "Bobot kering menggambarkan jumlah biomassa yang tersimpan di dalam benih, mempengaruhi pertumbuhan tanaman.\n",
            "Penelitian menunjukkan bahwa bio-priming dan bio-variabel perlu dilakukan.\n"
          ]
        }
      ]
    },
    {
      "cell_type": "code",
      "source": [
        "import re\n",
        "# Membaca teks dari file\n",
        "with open('/content/6_2.txt', 'r', encoding='utf-8', errors='ignore') as file:\n",
        "    lines = file.readlines()\n",
        "\n",
        "# Inisialisasi teks hasil pengolahan\n",
        "results = []\n",
        "\n",
        "# Mengolah setiap teks secara bergantian\n",
        "for line in lines:\n",
        "    # Menghilangkan karakter newline dan spasi ekstra\n",
        "    line = line.strip()\n",
        "   # line = re.sub(\"\\s+\", \" \", line)\n",
        "    # Memeriksa apakah baris tersebut kosong\n",
        "    if line:\n",
        "        # Memanggil fungsi clean_text_corr untuk mengolah teks\n",
        "        processed_line = clean_text_corr(line)\n",
        "        # Menambahkan teks yang telah diolah ke daftar hasil\n",
        "        results.append(processed_line)\n",
        "\n",
        "# Menyatukan teks yang telah diolah\n",
        "result_text = ' '.join(results)\n",
        "\n",
        "\n",
        "# Menulis teks yang telah diolah kembali ke file\n",
        "with open('/content/output_6_2.txt', 'w', encoding='utf-8', errors='ignore') as output_file:\n",
        "    output_file.write(result_text)"
      ],
      "metadata": {
        "colab": {
          "base_uri": "https://localhost:8080/"
        },
        "id": "5SmC_UtUqI4s",
        "outputId": "a7fb5f74-13a0-45de-87b9-7d775f906314"
      },
      "execution_count": null,
      "outputs": [
        {
          "output_type": "stream",
          "name": "stderr",
          "text": [
            "Setting `pad_token_id` to `eos_token_id`:50256 for open-end generation.\n",
            "Setting `pad_token_id` to `eos_token_id`:50256 for open-end generation.\n",
            "Setting `pad_token_id` to `eos_token_id`:50256 for open-end generation.\n",
            "Setting `pad_token_id` to `eos_token_id`:50256 for open-end generation.\n",
            "Setting `pad_token_id` to `eos_token_id`:50256 for open-end generation.\n",
            "Setting `pad_token_id` to `eos_token_id`:50256 for open-end generation.\n",
            "Setting `pad_token_id` to `eos_token_id`:50256 for open-end generation.\n",
            "Setting `pad_token_id` to `eos_token_id`:50256 for open-end generation.\n",
            "Setting `pad_token_id` to `eos_token_id`:50256 for open-end generation.\n"
          ]
        }
      ]
    },
    {
      "cell_type": "code",
      "source": [
        "result_text"
      ],
      "metadata": {
        "colab": {
          "base_uri": "https://localhost:8080/",
          "height": 140
        },
        "id": "mAkx0YyjrCn2",
        "outputId": "00205e5f-875c-4014-f7cd-ea0bdd964827"
      },
      "execution_count": null,
      "outputs": [
        {
          "output_type": "execute_result",
          "data": {
            "text/plain": [
              "'Benih kedelai memiliki masa dormansi, menurunnya kualitas, dan meningkatkan kualitas. Perlakuan antibakteri dan bio-pasteurisasi dapat dikombinasikan dengan bio-pasteurisasi untuk meningkatkan kualitas perkecambahan benih. Bahan dan bahan digunakan dalam penelitian ini, yaitu susu kedelai kuning, air, dan kultur temulawak dengan Uji BNJ. Hasil dan Pembahasan menunjukkan bahwa kontrol dan kematangan tanaman sayuran, serta kontrol kualitas fisiologis tanaman sayuran, memiliki nilai maksimal. Pemberian ekstrak biji kedelai dan turunannya melalui perlakuan bio- bioprure meningkatkan daya kecambah benih. Variasi kecepatan pertumbuhan tanaman dan peningkatan pertumbuhan tanaman sesuai dengan percobaan. Pertumbuhan kecambah yang diamati menunjukkan pertumbuhan kecambah tinggi, panjang akar, dan peningkatan pertumbuhan tanaman berdasarkan standar. Bobot kering menggambarkan jumlah biomassa yang tersimpan di dalam benih, mempengaruhi pertumbuhan tanaman. Penelitian menunjukkan bahwa bio-priming dan bio-variabel perlu dilakukan.'"
            ],
            "application/vnd.google.colaboratory.intrinsic+json": {
              "type": "string"
            }
          },
          "metadata": {},
          "execution_count": 92
        }
      ]
    },
    {
      "cell_type": "markdown",
      "source": [
        "## Pengujian jurnal 5 (6 halaman)"
      ],
      "metadata": {
        "id": "kYcYFw-XA8Lt"
      }
    },
    {
      "cell_type": "code",
      "source": [
        "result1 = clean_text_corr(\"Berdasarkan penelitiuan Joko (2011) tentang evaluasi pembinaan sebuah klub karate INKAI yang ada di kota Tegal. Penelitian ini merupakan penelitian kualitatif naturalistik. Subyek penelitian ini adalah klub karate INKAI yang ada dikota Tegal. Data yang diambil menggunakan teknik pengumpulan data yang dapat dilakukan dengan observasi, wawancara, dokumentasi. Hasil penelitian diketahui dalam tahap context, perencanaan program pembinaan olahraga karate INKAI yang ada di kota Tegal, dan sosialisasi programnya sudah berjalan dengan cukup baik, ditunjang adanya dukungan pemerintah dan masyarakat serta sumber daya manusia tersedia. Dalam tahap input, pelaksanaan penerimaan atlet, pelatih dan asisten pelatih berjalan / sudah dilakukan dengan baik berdasarkan ketentuan yang ditetapkan sesuai dengan situasi dan kondisi di masing-masing ranting, dalam penganggaran masih kurang, karena hanya mengandalkan dari iuran orang tua atlet dan sebagian kecil dari ranting sehingga masih perlu sistem penganggaran yang cukup banyak dari berbagai pihak. Dalam tahap process, pelaksanaan koordinasi pengurus, pelatih, atlet, orang tua atlet dan pemerintah berjalan dengan baik, kesejahteraan masih perlu untuk diperhatikan dan ditingkatkan, baik untuk atlet, pengurus maupun pelatih. keberadaan tenaga penunjang dalam pembinaan di masing-masing ranting telah terpenuhi. Dalam tahap product, hasil pembinaan karate di ranting GOR Wisanggeni, Kodim 0712 dan ranting SUPM negeri telah melahirkan atlet-atlet yang berprestasi terutama atlet-atlet yunior pada kejuaraan Popda/Porda di kota Tegal dan juga beberapa atlet sampai tingkat Propinsi/Nasional. \")\n",
        "print(result1)"
      ],
      "metadata": {
        "colab": {
          "base_uri": "https://localhost:8080/"
        },
        "id": "j4kzB8DOBCNl",
        "outputId": "ef8c3894-2a30-4822-ac48-5f76756cbe3d"
      },
      "execution_count": null,
      "outputs": [
        {
          "output_type": "stream",
          "name": "stderr",
          "text": [
            "Setting `pad_token_id` to `eos_token_id`:50256 for open-end generation.\n"
          ]
        },
        {
          "output_type": "stream",
          "name": "stdout",
          "text": [
            "Penelitian ini menganalisis kinerja dan prestasi dari pelatihan dan pembelajaran siswa karate INKAI di kota Tegal, analisis dilakukan dengan pendekatan kuantitatif. Penelitian ini menganalisis kinerja dan prestasi dari pelatihan dan pembelajaran siswa.\n"
          ]
        }
      ]
    },
    {
      "cell_type": "code",
      "source": [
        "result2 = clean_text_corr(\"Sekolah dasar merupakan jenjang awal yang sangat vital dalam pembinaan olahraga, sebab siswa diajarkan gerakan-gerakan dasar, keterampilan serta sikap yang sangat penting sebagai landasan pembinaan olahraga di masa yang akan datang (Soegijono, dalam Triyasari et al., 2016:42). Pembinaan dilakukan oleh induk organisasi cabang olahraga baik pada tingkat daerah maupun pada tingkat pusat. Pembinaan juga dilaksanakan dengan memberdayakan perkumpulan olahraga menumbuh kembangkan sentra pembinaan olahraga yang bersifat nasional dan daerah serta menyelenggarakan kompetisi secara berjenjang dan berkesinambungan (Undang-undang Nomor 3 tahun 2005).\")\n",
        "print(result2)"
      ],
      "metadata": {
        "colab": {
          "base_uri": "https://localhost:8080/"
        },
        "id": "U3AXWMmUBdPG",
        "outputId": "4bf4f3b5-f7ea-47f7-f876-47ee5520cad1"
      },
      "execution_count": null,
      "outputs": [
        {
          "output_type": "stream",
          "name": "stderr",
          "text": [
            "Setting `pad_token_id` to `eos_token_id`:50256 for open-end generation.\n"
          ]
        },
        {
          "output_type": "stream",
          "name": "stdout",
          "text": [
            "Pendidikan dasar adalah pendidikan dasar untuk mengembangkan pola-pola dasar olahraga yang benar-benar penting.\n"
          ]
        }
      ]
    },
    {
      "cell_type": "code",
      "source": [
        "result3 = clean_text_corr(\"Pencapaian prestasi atlet juga diperlukan usaha dan daya melatih yang dituangkan dalam rencana program latihan tertulis yang tersusun secara sistematis sebagai pedoman arah kegiatan untuk mencapai tujuan secara efektif dan efisien (Tohar, 2004). Dalam hal ini, untuk pencapaian prestasi puncak olahraga nasional ditempuh melalui suatu pola pembinaan olahraga nasional yang mengacu pada sistem piramida. Sistem piramida yang dimaksud mencakup pemasalan, pembibitan, pembinaan prestasi untuk mencapai prestasi puncak (Dirjen Olahraga dan Depdiknas, 2004:1). Arikunto (2009:17) evaluasi program adalah upaya untuk mengetahui efektivitas komponen program dalam mendukung pencapaian tujuan program. Kebijakan yang sudah dikeluarkan oleh pengambilan keputusan belum tentu dapat direalisasikan dengan baik sesuai dengan jiwa kebijakan Untuk mencapai prestasi maksimal olahraga harus dikembangkan melalui kegiatan pembinaan yang terprogram, terarah, terencana, melalui kegiatan berjenjang dalam waktu yang relatif lama (Lutan dkk 2000).\")\n",
        "print(result3)"
      ],
      "metadata": {
        "colab": {
          "base_uri": "https://localhost:8080/"
        },
        "id": "2dzcT3K9Bdl1",
        "outputId": "975ebd4c-c623-4d33-ce09-ad7ff054a12c"
      },
      "execution_count": null,
      "outputs": [
        {
          "output_type": "stream",
          "name": "stderr",
          "text": [
            "Setting `pad_token_id` to `eos_token_id`:50256 for open-end generation.\n"
          ]
        },
        {
          "output_type": "stream",
          "name": "stdout",
          "text": [
            "Prestasi dalam program latihan tertulis melibatkan peningkatan kemampuan fisik, mental, dan prestasi individu.\n"
          ]
        }
      ]
    },
    {
      "cell_type": "code",
      "source": [
        "result4 = clean_text_corr(\"Harsono (2004:65) menyatakan bahwa salah satu strategi yang paling mendasar dalam upaya mewujudkan sumber daya manusia Indonesia khususnya di bidang olahraga adalah dengan memusatkan perhatian dan orientasi pembangunan olahraga sedini mungkin yakni dengan melakukan pembinaan dan pengembangan olahraga bagi generasi muda sejak dini. Tanpa pembibitan jangan diharapkan akan diperoleh olahragawan berprestasi. Tercapainya prestasi puncak adalah hasil dari persiapan atlet yang amat cermat berdasar program latihan yang terorganisasi secara sangat rinci, direncana secara bertahap, obyektif dan diterapkan secara berkesinambungan (Harsuki, 2003:308). Menurut Stufflebeam (2003: 10) Evaluasi merupakan suatu proses menyediakan informasi yang dapat dijadikan sebagai pertimbangan untuk memutuskan harga dari tujuan yang dicapai, desain, implementasi dan dampak untuk membantu membuat keputusan, membantu pertanggungjawaban, dan meningkatkan pemahaman tentang fenomena. Menurut definisi tersebut inti dari evaluasi adalah penyediaan informasi yang dapat dijadikan sebagai bahan pertimbangan dalam pengambilan keputusan. \")\n",
        "print(result4)"
      ],
      "metadata": {
        "colab": {
          "base_uri": "https://localhost:8080/"
        },
        "id": "gn95lWIQBdxj",
        "outputId": "275930e4-292f-4308-d032-19b70b831b20"
      },
      "execution_count": null,
      "outputs": [
        {
          "output_type": "stream",
          "name": "stderr",
          "text": [
            "Setting `pad_token_id` to `eos_token_id`:50256 for open-end generation.\n"
          ]
        },
        {
          "output_type": "stream",
          "name": "stdout",
          "text": [
            "Strategi pemasaran mengoptimalkan penggunaan sumber daya manusia Indonesia untuk membangun olahraga, terutama sepak bola. Evaluasi meningkatkan pemahaman tentang masalah yang dihadapi oleh generasi muda dalam upaya menciptakan olahraga yang efektif.\n"
          ]
        }
      ]
    },
    {
      "cell_type": "code",
      "source": [
        "result5 = clean_text_corr(\"Sukar atau mudahnya suatu bentuk latihan atau gerakan dilakukan adalah ditentukan oleh besar kecilnya unsur kelemasan, kekuatan, keseimbangan dan ketangkasan yang terdapat pada bentuk latihan atau gerakan itu (Agus Mahendra, 2002:195). Peter H. Werner dalam Sibagariang (2013) mengatakan, senam dapat diartikan sebagai bentuk latihan tubuh pada lantai, atau pada alat, yang dirancang untuk meningkatkan daya tahan, kekuatan, kelenturan, kelincahan, koordinasi serta kontrol tubuh. Pada umumnya, pesenam mampu mencapai puncak prestasi sekitar umur 14-18 tahun untuk pesenam putri dan umur 18-24 tahun untuk pesenam putra (Bompa, 1986: 26). Ada tiga sekolah dasar yang berhasil membawa nama Kabupaten Pemalang untuk menjadi juara dalam kompetisi senam artistik tingkat Jawa Tengah diantaranya adalah SDN Padek 01, SDN Pamutih 02 dan MI Muhammadiyah Kecamatan Ulujami Kabupaten Pemalang. Demi proses pembinaan menuju prestasi yang setinggi-tingginya, perkumpulan olahraga (klub) berada pada tempat yang strategis, karena berada diposisi terdepan dan menjadi ujung tombak pembinaan prestasi (Tafaqur, 2012:20). \")\n",
        "print(result5)"
      ],
      "metadata": {
        "colab": {
          "base_uri": "https://localhost:8080/"
        },
        "id": "lkl177wrBd9Z",
        "outputId": "50a1f490-c2fa-4a60-94f9-16b31192b1bf"
      },
      "execution_count": null,
      "outputs": [
        {
          "output_type": "stream",
          "name": "stderr",
          "text": [
            "Setting `pad_token_id` to `eos_token_id`:50256 for open-end generation.\n"
          ]
        },
        {
          "output_type": "stream",
          "name": "stdout",
          "text": [
            "Metode pelatihan pesenam adalah sederhana, aman, sehat, dan efisien.\n"
          ]
        }
      ]
    },
    {
      "cell_type": "code",
      "source": [
        "result6 = clean_text_corr(\"Model evaluasi yang dipakai dalam penelitian ini adalah model evaluasi CIPP. Model CIPP bertujuan untuk membantu dalam mengevaluasi program, projek, atau institusi. Model evaluasi CIPP dilakukan secara komperhensif untuk memahami aktivitas-aktivitas program mulai dari munculnya ide program sampai pada hasil yang dicapai setelah program dilaksanakan. Pengumpulan data menggunakan teknik Pengamatan (observasi), wawancara (interview) dan dokumentasi berupa arsip sebagai data pendukung. Sedangkan informan yang digunakan adalah Kepala Sekolah, Guru Penjasorkes/pelatih, siswa sebagai pesenam serta orang tua siswa. Teknik analisis yang digunakan adalah analisis deskriptif.\")\n",
        "print(result6)"
      ],
      "metadata": {
        "colab": {
          "base_uri": "https://localhost:8080/"
        },
        "id": "OtLy_YGYClq-",
        "outputId": "f1a554ad-d307-422b-c19a-b2c51f693f89"
      },
      "execution_count": null,
      "outputs": [
        {
          "output_type": "stream",
          "name": "stderr",
          "text": [
            "Setting `pad_token_id` to `eos_token_id`:50256 for open-end generation.\n"
          ]
        },
        {
          "output_type": "stream",
          "name": "stdout",
          "text": [
            "Model evaluasi menunjukkan kepuasan dengan data, wawancara, dan dokumentasi.\n"
          ]
        }
      ]
    },
    {
      "cell_type": "code",
      "source": [
        "result7 = clean_text_corr(\"HASIL DAN PEMBAHASAN Penelitian ini menghasilkan 4 aspek konsep input yang dievaluasi, yaitu terdiri dari: 1) aspek peserta program, 2) aspek ketersediaan sarana dan prasarana, dan 3) aspek tenaga kompeten, 4) aspek dukungan pemerintah dan masyarakat program pembinaan senam artistik sekolah dasar di Kabupaten Pemalang. Aspek peserta dalam sebuah program adalah wajib karena sebuah program dikatakan berhasil apabila adanya yang akan deprogram dan ada yang melaksanakan program, seleksi ini dilakukan sesuai dengan kriteria, Perlunya peserta dalam sebuah program itu adalah wajib karena sebuah program dikatakan berhasil apabila adanya yang diprogram dan ada yang melaksanakan program. Peserta program direncanakan seperti pembentukan rencana program latihan yang akan mendukung proses pelaksanaan latihan, struktur organisasi yang akan melaksanakan proses pembinaan, adanya dukungan dan partisipasi dari orang tua dan pembina sekolah, yang tidak kalah pentingnya bahwa karena pelatih atau guru berhubungan dengan siswa maka diperlukan adanya surat ijin dari orang tua dengan harapan orang tua tidak merasa dirugikan dan tidak merasa was-was. Bahkan kesehatan juga perlu diperhatikan karena nantinya guru olahragalah yang akan mengetahui tingkat kesehatan atletnya. \")\n",
        "print(result7)"
      ],
      "metadata": {
        "colab": {
          "base_uri": "https://localhost:8080/"
        },
        "id": "yXUDv1JiC7BE",
        "outputId": "e3f0ef1a-4b88-4431-bc71-88e76773b71d"
      },
      "execution_count": null,
      "outputs": [
        {
          "output_type": "stream",
          "name": "stderr",
          "text": [
            "Setting `pad_token_id` to `eos_token_id`:50256 for open-end generation.\n"
          ]
        },
        {
          "output_type": "stream",
          "name": "stdout",
          "text": [
            "Penelitian ini menghasilkan 3 aspek konsep input, elemen sistem input, dan faktor dukungan. Aspek-aspek tersebut meningkatkan kemampuan peserta program, sehingga strategi dalam program adalah efektif.\n"
          ]
        }
      ]
    },
    {
      "cell_type": "code",
      "source": [
        "result8 = clean_text_corr(\"Ketersediaan sarana dan prasarana yang mendukung sangat penting dalam pengembangan dan pembinaan. Sarana dan prasarana merupakan faktor pendukung keberhasilan tersebut, ketersediaan tempat latihan yang memadai semua kebutuhan untuk latihan perlu dilakukan, sarana dan prasarana yang dimiliki ke tiga sekolah tersebut saat ini kurang baik, karena sebagian sudah rusak dan dibuat secara tradisional, ketersediaan tempat latihan ketiga sekolahan hampir sama karena minimnya perlengkapan, untuk kostum sendiri harus menyiapakan dari anggaran sendiri. Tenaga kompeten seperti pelatih yang sudah berpengalaman akan mudah dalam proses latihan, perlu adanya pelatihan-pelatihan senam artistik untuk menunjang latihan, keberanian harus dimiliki oleh pelatih senam artistik. Berdasarkan dukungan pemerintah dan masyarakat pembinaan senam artistik sekolah dasar di kabupaten mendapat dukungan penunjang dari pemerintah untuk pelaksaan latihan sehingga dapat lebih baik ditingkatkan prestasinya, dukungan dari masyarakat juga antusias, banyak masyarakat yang ingin anaknya ikut latihan senam artistik.\")\n",
        "print(result8)"
      ],
      "metadata": {
        "colab": {
          "base_uri": "https://localhost:8080/"
        },
        "id": "QJc8pjZ3DNfG",
        "outputId": "cb3069e6-c411-4ca5-fdca-e090a252336d"
      },
      "execution_count": null,
      "outputs": [
        {
          "output_type": "stream",
          "name": "stderr",
          "text": [
            "Setting `pad_token_id` to `eos_token_id`:50256 for open-end generation.\n"
          ]
        },
        {
          "output_type": "stream",
          "name": "stdout",
          "text": [
            "Penggunaan sarana dan prasarana yang mendukung pengembangan dan pembinaan, memerlukan fasilitas dan prasarana, termasuk sarana dan prasarana.\n"
          ]
        }
      ]
    },
    {
      "cell_type": "code",
      "source": [
        "result9 = clean_text_corr(\"Penelitian ini juga menghasilkan 4 aspek konsep proses yang dievaluasi, yaitu terdiri dari: 1) aspek waktu pelaksanan, 2) aspek koordinasi, dan 3) aspek seleksi penerimaan atlet, 4) aspek kelayakan sarana dan prasarana. Waktu latihan dilaksanakan pada pagi hari antara pukul 07-00 sampai 09.00 diluar jam pelajaran. Pelaksanaan latihan pada pagi hari ini jika sudah mendekati waktu pertandingan. Pengaturan jadwal latihan sangat penting agar tidak terjaditabrakan dengan jadwal kegiatan sekolah yang lain. Kegiatan latihan diambil sore hari saja apabila lomba masih agak jauh. Koordinasi pengurus dan pemerintah sudah baik karena pemerintah selalu memberikan dukungan baik secara moril maupun semangat, namun masih perlu adanya peningkatan koordinasi agar pemerintah lebih berperan aktif dalam rangka peningkatan pembinaan senam artistik. Koordinasi ini juga dilakukan oleh guru penjasorkes atau pelatih untuk mengkoordinasi kapan akan dilaksanakan suatu pertandingan. Dengan beberapa penetapan yang disesuaikan dengan kalender pertandingan yang telah disusun oleh pemerintah melalui dinas pendidikan baik kecamatan, daerah maupun provinsi. Sedangkan cara penilaian sesuai kode of poin pada senam artistik yang berlaku. Dengan urutan sebagai berikut, untuk ditingkat kecamatan pada bulan Oktober - November, tingkat kabupaten Januari - Februari, tingkat provinsi Mei - Juni.\")\n",
        "print(result9)"
      ],
      "metadata": {
        "colab": {
          "base_uri": "https://localhost:8080/"
        },
        "id": "ToiWiL7XDNnL",
        "outputId": "117bb119-1b89-4fb0-ec20-a6928086fab3"
      },
      "execution_count": null,
      "outputs": [
        {
          "output_type": "stream",
          "name": "stderr",
          "text": [
            "Setting `pad_token_id` to `eos_token_id`:50256 for open-end generation.\n"
          ]
        },
        {
          "output_type": "stream",
          "name": "stdout",
          "text": [
            "Penelitian ini menghasilkan 4 aspek konsep proses seleksi, aspek waktu pelaksan, dan aspek biaya.\n"
          ]
        }
      ]
    },
    {
      "cell_type": "code",
      "source": [
        "result10 = clean_text_corr(\"Seleksi Penerimaan Atlet bahwa seleksi atlet tidak begitu memperhatikan kemampuan akademik, namun dicari yang memiliki kriteria kekuatan (power), daya tahan (endurance), kelentukan (flexibility). Seleksi dilakukan secara suka rela atau sesuai bakat dan kemampuan agar anak akan merasa senang. Penelitian ini menghasilkan 2 aspek konsep produk yang dievaluasi, yaitu terdiri dari aspek prestasi dan penghargaan program pembinaan. Prestasi program pembinaan yang dilakukan ketiga sekolah dasar tersebut sangatlah naik turun karena keterbenturan sarana dan prasarana. Kegiatan pembinaan dari ketiga sekolahan tersebut berdampak positif kepada sekolah dan siswa-siswanya pada mereka yang bisa memanfaatkan waktu luangnya dengan berolahraga, dapat melahirkan kreatifitas baru, meningkatkan keterampilan bermain, meningkatkan mental bertanding dan meningkatkan pengetahuan peserta didik. Penghargaan suatu kebanggan bila seorang siswa bisa mendapat prestasi yang gemilang, dapat membanggakan sekolah tersebut. Prestasi yang diraih dapat memberi peluang siswa untuk sekolah yang lebih tinggi.\")\n",
        "print(result10)"
      ],
      "metadata": {
        "colab": {
          "base_uri": "https://localhost:8080/"
        },
        "id": "uR_t0sqmEQP5",
        "outputId": "790d34eb-b8cc-428c-b7b0-cdc1ddee9fb3"
      },
      "execution_count": null,
      "outputs": [
        {
          "output_type": "stream",
          "name": "stderr",
          "text": [
            "Setting `pad_token_id` to `eos_token_id`:50256 for open-end generation.\n"
          ]
        },
        {
          "output_type": "stream",
          "name": "stdout",
          "text": [
            "Seleksi penerimaan siswa berdasarkan bakat dan prestasi akademik menunjukkan prestasi yang tinggi.\n"
          ]
        }
      ]
    },
    {
      "cell_type": "code",
      "source": [
        "result11 = clean_text_corr(\"KESIMPULAN Kesimpulan dalam penelitian ini adalah Input pelaksanan peserta dalam program pembinaan dan perekrutan atlet dilakukan secara sukarela sesuai dengan minat dan bakat dari peserta didik, fasilitas-fasilitas kurang memadai, tempat latihan kurang memenuhi standar dalam code of point. Pembiayaan dan sarana yang masih terbatas. Masyarakat cukup antusias dalam memberikan dukungan terhadap pembinaan senam artistik sekolah dasar ini namun dukungan dari pemerintah masih perlu ditingkatkan lagi untuk mencapai keberhasilan pembinaan. Proses pelaksanaan program latihan dapat dilaksanakan dengan baik, persiapan lomba diikuti oleh ketiga sekolahan dengan baik, jadwal latihan dan jadwal pertandingan sesuai dengan jadwal kegiatan POPDA dalam hal ini melalui dinas pendidikan. Produk prestasi yang dicapai kurang maksimal karena selama lima tahun terakhir ketercapaian pembinaan belum sesuai dengan apa yang diharapkan. \")\n",
        "print(result11)"
      ],
      "metadata": {
        "colab": {
          "base_uri": "https://localhost:8080/"
        },
        "id": "KxtY1KzQEsuB",
        "outputId": "b9da9969-895e-46a2-cc9d-c8f8131621ad"
      },
      "execution_count": null,
      "outputs": [
        {
          "output_type": "stream",
          "name": "stderr",
          "text": [
            "Setting `pad_token_id` to `eos_token_id`:50256 for open-end generation.\n"
          ]
        },
        {
          "output_type": "stream",
          "name": "stdout",
          "text": [
            "Hasil penelitian menunjukkan bahwa Input penyeleksian peserta didik dengan alat peraga sesuai dengan minat dan bakat peserta didik.\n"
          ]
        }
      ]
    },
    {
      "cell_type": "code",
      "source": [
        "combined_result = result1 + \"\\n\" + result2 + \"\\n\" + result3 + \"\\n\" + result4 + \"\\n\" + result5 + \"\\n\" + result6 + \"\\n\" + result7 + \"\\n\" + result8 + \"\\n\" + result9 + \"\\n\" + result10 + \"\\n\" + result11\n",
        "print(combined_result)"
      ],
      "metadata": {
        "colab": {
          "base_uri": "https://localhost:8080/"
        },
        "id": "b3hHBPGJE_-M",
        "outputId": "83476294-3548-4669-8c7a-4fdf360bbd09"
      },
      "execution_count": null,
      "outputs": [
        {
          "output_type": "stream",
          "name": "stdout",
          "text": [
            "Penelitian ini menganalisis kinerja dan prestasi dari pelatihan dan pembelajaran siswa karate INKAI di kota Tegal, analisis dilakukan dengan pendekatan kuantitatif. Penelitian ini menganalisis kinerja dan prestasi dari pelatihan dan pembelajaran siswa.\n",
            "Pendidikan dasar adalah pendidikan dasar untuk mengembangkan pola-pola dasar olahraga yang benar-benar penting.\n",
            "Prestasi dalam program latihan tertulis melibatkan peningkatan kemampuan fisik, mental, dan prestasi individu.\n",
            "Strategi pemasaran mengoptimalkan penggunaan sumber daya manusia Indonesia untuk membangun olahraga, terutama sepak bola. Evaluasi meningkatkan pemahaman tentang masalah yang dihadapi oleh generasi muda dalam upaya menciptakan olahraga yang efektif.\n",
            "Metode pelatihan pesenam adalah sederhana, aman, sehat, dan efisien.\n",
            "Model evaluasi menunjukkan kepuasan dengan data, wawancara, dan dokumentasi.\n",
            "Penelitian ini menghasilkan 3 aspek konsep input, elemen sistem input, dan faktor dukungan. Aspek-aspek tersebut meningkatkan kemampuan peserta program, sehingga strategi dalam program adalah efektif.\n",
            "Penggunaan sarana dan prasarana yang mendukung pengembangan dan pembinaan, memerlukan fasilitas dan prasarana, termasuk sarana dan prasarana.\n",
            "Penelitian ini menghasilkan 4 aspek konsep proses seleksi, aspek waktu pelaksan, dan aspek biaya.\n",
            "Seleksi penerimaan siswa berdasarkan bakat dan prestasi akademik menunjukkan prestasi yang tinggi.\n",
            "Hasil penelitian menunjukkan bahwa Input penyeleksian peserta didik dengan alat peraga sesuai dengan minat dan bakat peserta didik.\n"
          ]
        }
      ]
    },
    {
      "cell_type": "code",
      "source": [
        "import re\n",
        "# Membaca teks dari file\n",
        "with open('/content/6_3.txt', 'r', encoding='utf-8', errors='ignore') as file:\n",
        "    lines = file.readlines()\n",
        "\n",
        "# Inisialisasi teks hasil pengolahan\n",
        "results = []\n",
        "\n",
        "# Mengolah setiap teks secara bergantian\n",
        "for line in lines:\n",
        "    # Menghilangkan karakter newline dan spasi ekstra\n",
        "    line = line.strip()\n",
        "   # line = re.sub(\"\\s+\", \" \", line)\n",
        "    # Memeriksa apakah baris tersebut kosong\n",
        "    if line:\n",
        "        # Memanggil fungsi clean_text_corr untuk mengolah teks\n",
        "        processed_line = clean_text_corr(line)\n",
        "        # Menambahkan teks yang telah diolah ke daftar hasil\n",
        "        results.append(processed_line)\n",
        "\n",
        "# Menyatukan teks yang telah diolah\n",
        "result_text = ' '.join(results)\n",
        "\n",
        "\n",
        "# Menulis teks yang telah diolah kembali ke file\n",
        "with open('/content/output_6_3.txt', 'w', encoding='utf-8', errors='ignore') as output_file:\n",
        "    output_file.write(result_text)"
      ],
      "metadata": {
        "colab": {
          "base_uri": "https://localhost:8080/"
        },
        "id": "xNhuuX2q1rBx",
        "outputId": "e0c4e1e3-cb33-4632-8031-67b8bbdd8015"
      },
      "execution_count": null,
      "outputs": [
        {
          "output_type": "stream",
          "name": "stderr",
          "text": [
            "Setting `pad_token_id` to `eos_token_id`:50256 for open-end generation.\n",
            "Setting `pad_token_id` to `eos_token_id`:50256 for open-end generation.\n",
            "Setting `pad_token_id` to `eos_token_id`:50256 for open-end generation.\n",
            "Setting `pad_token_id` to `eos_token_id`:50256 for open-end generation.\n",
            "Setting `pad_token_id` to `eos_token_id`:50256 for open-end generation.\n",
            "Setting `pad_token_id` to `eos_token_id`:50256 for open-end generation.\n",
            "Setting `pad_token_id` to `eos_token_id`:50256 for open-end generation.\n",
            "Setting `pad_token_id` to `eos_token_id`:50256 for open-end generation.\n",
            "Setting `pad_token_id` to `eos_token_id`:50256 for open-end generation.\n",
            "Setting `pad_token_id` to `eos_token_id`:50256 for open-end generation.\n",
            "Setting `pad_token_id` to `eos_token_id`:50256 for open-end generation.\n"
          ]
        }
      ]
    },
    {
      "cell_type": "code",
      "source": [
        "result_text"
      ],
      "metadata": {
        "colab": {
          "base_uri": "https://localhost:8080/",
          "height": 140
        },
        "id": "CXunFqBB2AtB",
        "outputId": "819834e4-be9b-4481-aa8f-1f8e2e6c751f"
      },
      "execution_count": null,
      "outputs": [
        {
          "output_type": "execute_result",
          "data": {
            "text/plain": [
              "'Penelitian ini menganalisis kinerja para remaja yang mengikuti pelatihan dan pengawasan orang tua untuk pelatihan. Pendidikan dasar adalah pendidikan dasar untuk mengembangkan pola-pola dasar olahraga yang benar-benar penting. Prestasi dalam program latihan tertulis melibatkan peningkatan kemampuan fisik, mental, dan prestasi individu. Strategi pembangunan olahraga penting untuk menciptakan sumber daya manusia Indonesia, terutama untuk negara-negara yang jauh. Metode pelatihan pesenam adalah sederhana, aman, sehat, aman, dan nyaman. Model evaluasi menunjukkan kepuasan dengan data, wawancara, dan dokumentasi. Penelitian ini menghasilkan desain program, saran, dan penelitian. Penggunaan sarana dan prasarana yang mendukung pengembangan dan pembinaan, memerlukan fasilitas dan prasarana, termasuk sarana dan prasarana. Penelitian ini menghasilkan 4 aspek konsep proses seleksi, aspek waktu pelaksan, dan aspek biaya. Seleksi penerimaan siswa berdasarkan bakat dan prestasi akademik menunjukkan prestasi yang tinggi. Hasil penelitian menunjukkan bahwa ekstrak daun beluntas dengan pelarut aquades memberikan dukungan nyata.'"
            ],
            "application/vnd.google.colaboratory.intrinsic+json": {
              "type": "string"
            }
          },
          "metadata": {},
          "execution_count": 116
        }
      ]
    },
    {
      "cell_type": "markdown",
      "source": [
        "## Pengujian jurnal 6 (7 halaman)"
      ],
      "metadata": {
        "id": "Wxw03TzWFiyH"
      }
    },
    {
      "cell_type": "code",
      "source": [
        "result1 = clean_text_corr(\"Menurut catatan WDR research, pertumbuhan pengguna internet di Indonesia mencapai 105% per tahun dan merupakan pertumbuhan paling tinggi di antara negara-negara di Asia setelah China (Boerhanoeddin, 2003 dalam Ainur, 2007). Ada enam alasan mengapa teknologi internet begitu populer. Keenam alasan tersebut adalah internet memiliki konektivitas dan jangkauan yang luas, dapat mengurangi biaya komunikasi, biaya transaksi yang lebih rendah dapat mengurangi biaya agency, interaktif, fleksibel, dan mudah, serta memiliki kemampuan untuk mendistribusikan pengetahuan secara cepat. Konsep yang dinilai salah satunya merupakan paradigma bisnis baru adalah embanking. Embanking sebagai bidang kajian yang relatif masih baru dan akan terus berkembang, embanking berdampak besar pada praktek perbankan, setidaknya dalam hal penyempurnaan pelayanan dan mempermudah akses perbankan. Bagi pihak bank, cyberbanking memberikan alternatif yang lebih efisien dibandingkan branch banking (melayani nasabah di kantor cabang). Bank juga dapat memanfaatkannya untuk keperluan implementasi strategi relationship marketing. Selain itu, bank juga bisa melayani nasabah yang lokasinya susah dijangkau atau belum dilayani dengan kantor cabang yang bersangkutan. Bagi nasabah, layanan cyberbanking memberikan sejumlah manfaat seperti hemat biaya dan waktu, transaksi relatif aman, dan melakukan berbagai transaksi secara nyaman dan fleksibel tanpa terikat waktu (misalnya membayar tagihan listrik dan telepon, memeriksa saldo, mentransfer uang, membayar tagihan kartu kredit, mengajukan kredit dan layanan lainnya).\")\n",
        "print(result1)"
      ],
      "metadata": {
        "colab": {
          "base_uri": "https://localhost:8080/"
        },
        "id": "ONphAUCTFAfC",
        "outputId": "f96935fb-e9af-417c-fc4a-338c948a5607"
      },
      "execution_count": null,
      "outputs": [
        {
          "output_type": "stream",
          "name": "stderr",
          "text": [
            "Setting `pad_token_id` to `eos_token_id`:50256 for open-end generation.\n"
          ]
        },
        {
          "output_type": "stream",
          "name": "stdout",
          "text": [
            "Pertumbuhan pengguna internet di Indonesia, mencapai 105% per tahun. Di Indonesia, internet tumbuh dengan baik.\n"
          ]
        }
      ]
    },
    {
      "cell_type": "code",
      "source": [
        "result2 = clean_text_corr(\"Internet banking memberikan keuntungan bagi nasabah maupun bank. Bagi nasabah, internet banking menawarkan kemudahan dan kecepatan dalam melakukan transaksi perbankan. Keuntungan dari menyediakan layanan internet banking bagi bank adalah internet banking bisa menjadi solusi murah pengembangan infrastruktur dibanding membuka outlet ATM, contohnya klik bca saat ini telah menggantikan fungsi 160 ATM dan menghemat biaya pencetakan formulir yang harus diisi nasabah untuk bertransaksi, brosur, katalog, dan menggantinya dengan data elektronik. Tetapi internet banking juga membuka peluang timbulnya kejahatan menggunakan internet banking. Seberapa besar tingkat keamanan dan kerahasiaan data-data pribadi maupun keuangan dalam internet banking seringkali dipertanyakan oleh nasabah sebelum mereka memutuskan untuk menggunakan internet banking\")\n",
        "print(result2)"
      ],
      "metadata": {
        "colab": {
          "base_uri": "https://localhost:8080/"
        },
        "id": "gg8su_u3HoVb",
        "outputId": "cd1914a9-3088-4eb7-af80-4053ac458321"
      },
      "execution_count": null,
      "outputs": [
        {
          "output_type": "stream",
          "name": "stderr",
          "text": [
            "Setting `pad_token_id` to `eos_token_id`:50256 for open-end generation.\n"
          ]
        },
        {
          "output_type": "stream",
          "name": "stdout",
          "text": [
            "Diharapkan dengan layanan internet banking, kemudahan dan kecukupan data, online banking meningkatkan efisiensi dan efisiensi transaksi perbankan.\n"
          ]
        }
      ]
    },
    {
      "cell_type": "code",
      "source": [
        "result3 = clean_text_corr(\"Untuk melihat kesuksesan dalam penerapan internet banking harus memperhatikan aspek perilaku. Aspek perilaku tersebut tercermin dalam Technology Acceptance Model yang dikembangkan oleh Davis (1986 dalam Sri Maharsi dan Yuliani Mulyadi, 2007). Konsep tersebut digunakan untuk melihat pengaruh variabel perceived ease of use (persepsi kemudahan untuk menggunakan), perceived usefulness (persepsi pada daya guna), variabel perceived of credibility (sikap pengguna) terhadap behavior intention (minat untuk menggunakan) teknologi informasi. Selain variabel tersebut yang tidak kalah penting yaitu resiko (risk) dan kepercayaan (trust) transaksi internet banking merupakan hal yang sangat dipertimbangkan dalam melakukan transaksi maya (virtual) karena jarak, kemampuan teknologi dalam memfasilitasi transaksi, layanan yang tidak bertatap muka dengan teller / customer service dan banyak hal yang dipertimbangkan nasabah bank dalam transaksi melalui online banking (Shergill dan Li, 2005). Variabel risk dan trust ditambahkan untuk melihat bagaimana perilaku nasabah bank untuk menggunakan internet banking ini. Dari latar belakang di atas maka peneliti bermaksud ingin meneliti tentang Pengaruh Trust, Risk And Technology Acceptance Models (Tritam) Terhadap Keputusan Nasabah Dengan Minat Nasabah Sebagai Variabel Intervening Berdasarkan latar belakang masalah di atas, perumusan masalah dalam penelitian ini adalah bagaimana pengaruh trust, risk and technology acceptance models, perceived case of use, perceived usefulness, perceived of credibility, terhadap minat nasabah dalam menggunakan internet banking Dan bagaimana pengaruh minat nasabah dalam menggunakan internet banking terhadap keputusan dalam bertransaksi dengan internet banking Serta bagaimana pengaruh minat nasabah dalam menggunakan internet banking memediasi hubungan antara trust, risk and technology acceptance models dengan keputusan dalam bertransaksi dengan internet banking.\")\n",
        "print(result3)"
      ],
      "metadata": {
        "colab": {
          "base_uri": "https://localhost:8080/"
        },
        "id": "yDsnqitFIzXC",
        "outputId": "65b1d7f2-d0c2-44a5-cd46-7f2e9bfb0354"
      },
      "execution_count": null,
      "outputs": [
        {
          "output_type": "stream",
          "name": "stderr",
          "text": [
            "Setting `pad_token_id` to `eos_token_id`:50256 for open-end generation.\n"
          ]
        },
        {
          "output_type": "stream",
          "name": "stdout",
          "text": [
            "Kegunaan dan Keandalan model, termasuk dalam teknologi, adalah untuk melihat pengaruh, kemudahan, dan kepercayaan terhadap risk and technology.\n"
          ]
        }
      ]
    },
    {
      "cell_type": "code",
      "source": [
        "result4 = clean_text_corr(\"Tujuan Penelitian untuk mengetahui pengaruh trust, risk and technology acceptance models, perceived case of use, perceived usefulness, perceived of credibility, terhadap minat nasabah dalam menggunakan internet banking Dan bagaimana pengaruh minat nasabah dalam menggunakan internet banking terhadap keputusan dalam bertransaksi dengan internet banking Serta bagaimana pengaruh minat nasabah dalam menggunakan internet banking memediasi hubungan antara trust, risk and technology acceptance models dengan keputusan dalam bertransaksi dengan internet banking? Kegunaan dari Penelitian ini bagi kalangan akademisi, dapat memberikan informasi secara ilmiah dan dapat dijadikan referensi penelitian selanjutnya. Sedangkan bagi pihak bank, diharapkan dapat menjadi masukan faktor-faktor apa saja yang berpengaruh terhadap minat pengguna internet banking dan keputusan bertransaksi.\")\n",
        "print(result4)"
      ],
      "metadata": {
        "colab": {
          "base_uri": "https://localhost:8080/"
        },
        "id": "wpsv99QkJNfA",
        "outputId": "e56217b2-534f-4098-cd8d-fdc3ad480ff2"
      },
      "execution_count": null,
      "outputs": [
        {
          "output_type": "stream",
          "name": "stderr",
          "text": [
            "Setting `pad_token_id` to `eos_token_id`:50256 for open-end generation.\n"
          ]
        },
        {
          "output_type": "stream",
          "name": "stdout",
          "text": [
            "Penelitian menunjukkan pengaruh trust, risk and technology acceptance models, dan perceived, terhadap minat dan minat pengguna internet, termasuk emosinya.\n"
          ]
        }
      ]
    },
    {
      "cell_type": "code",
      "source": [
        "result5 = clean_text_corr(\"Telaah Pustaka dari penelitian ini adalah tentang Pengertian Bank Menurut UU No. 10 tahun 1998 perubahan atas UU No. 7 tahun 1992 Pasal 1 ayat 2 tentang perbankan, yang dimaksud bank adalah badan usaha yang menghimpun dana dari masyarakat dalam bentuk simpanan dan menyalurkannya kepada masyarakat dalam bentk kredit dan atau bentuk-bentuk lainnnya dalam rangka meningkatkan taraf hidup rakyat banyak. Internet Banking adalah kegiatan perbankan yang dilakukan secara online dalam hal ini adalah internet banking sifatnya lebih fleksibel karena tidak diatasi ruang dan waktu, sehingga nasabah dapat menjangkau layanan perbankan dari manapun dan kapanpun. Jadi, dapat dikatakan bahwa internet banking seperti kantor cabang suatu bank yang tidak berwujud karena semua kegaitan di dalamnya dilakukan secara online. Persepsi Manfaat (Perceived Usefulness) internet banking merupakan manfaat yang diperoleh atau diharapkan oleh para nasabah dalam melakukan tugas dan pekerjaannya. Seseorang akan mengadopsi internet banking apabila orang tersebut mempercayai bahwa internet banking dapat memberikan manfaat terhadap pekerjaannya dan pencapaian prestasi kerjanya. Oleh karena itu, tingkat kemanfaatan internet banking mempengaruhi sikap para nasabah terhadap sistem tersebut. Persepsi Kemudahan Penggunaan (Perceived Easy of Use) adalah Pengertian perspektif memberikan indikasi bahwa suatu sistem dirancang bukan untuk menyulitkan pemakainya, akan tetapi penggunaan sistem justru mempermudah seseorang dalam menyelesaikan pekerjaannya. Dengan kata lain, seseorang yang menggunakan sistem akan bekerja lebih mudah dibandingkan dengan seseorang yang menggunakan sistem manual. Persepsi Kredibilitas (Perceived Credibility) adalah persepsi atas suatu kondisi yang dapat diberikan kepercayaan, karena memiliki kredibilitas yang baik. dalam penelitian ini, perceived crediblity adalah persepsi terhadap kredibilitas internet banking yang berhubungan dengan kepercayaa kepada perusahaan perbankan seperti reputasi, prestasi dan sebagainya.\")\n",
        "print(result5)"
      ],
      "metadata": {
        "colab": {
          "base_uri": "https://localhost:8080/"
        },
        "id": "8Hb7Dez8Jvk2",
        "outputId": "1ae81a50-cf00-4235-f6f7-6bbbd1b68b68"
      },
      "execution_count": null,
      "outputs": [
        {
          "output_type": "stream",
          "name": "stderr",
          "text": [
            "Setting `pad_token_id` to `eos_token_id`:50256 for open-end generation.\n"
          ]
        },
        {
          "output_type": "stream",
          "name": "stdout",
          "text": [
            "Penelitian ini menganalisis pengaruh penggunaan internet banking terhadap kondisi bank dan memberikan manfaat untuk meningkatkan taraf hidup masyarakat.\n"
          ]
        }
      ]
    },
    {
      "cell_type": "code",
      "source": [
        "result6 = clean_text_corr(\"\")Resiko (Risk) adalah suatu keadaan uncertainty yang dipertimbangkan orang untuk memutuskan atau tidak melakukan transaksi secara online. Orang-orang benar-benar mempertimbangkan jarak dan suasana impersonal dalam transaksi online dan infrastruktur global yang banyak mengandung unsur resiko. Besarnya persepsi konsumen mengenai resiko memengaruhi besarnya kepercayaan mereka terhadap online bank dan sistem dari online bank tersebut sehingga ketika memproses informasi online, konsumen sering menganggap bahwa ada resiko yang tinggi walaupun resiko tersebut sebenarnya rendah. Kepercayaan (Trust) pada penyelenggara transaksi online (banking/retailer/produsen) dan kepercayaan pada mekanisme operasional dari transaksi yang dilakukan. Upaya tinggi harus dilakukan oleh penyelenggara transaksi online agar kepercayaan konsumen semakin tinggi, karena trust mempunyai pengaruh besar pada niat konsumen untuk melakukan transaksi secara online atau tidak melakukannya. Minat menggunakan Internet Banking digambarkan sebagai hubungan secara online antar nasabah dan banking online. Penelitian ini mempertimbangkan minat untuk bertransaksi secara online, yaitu transfer antar rekening, pembayaran tagihan, informasi saldo, pembukaan dan penempatan deposito, dan lain sebagainya. Dalam TAM, faktor persepsi terhadap kemudahan untuk menggunakan teknologi dan persepsi terhadap daya guna sebuah teknologi berhubungan dengan sikap seseorang pada penggunaan teknologi tersebut. Sikap suka atau tidak suka terhadap suatu produk ini dapat digunakan untuk memprediksi perilaku minat seseorang untuk menggunakan suatu produk atau tidak menggunakannya.\n",
        "print(result6)"
      ],
      "metadata": {
        "colab": {
          "base_uri": "https://localhost:8080/"
        },
        "id": "1-aoR05TKS0I",
        "outputId": "395c9ec0-cc8b-449a-ea72-85218788a543"
      },
      "execution_count": null,
      "outputs": [
        {
          "output_type": "stream",
          "name": "stderr",
          "text": [
            "Setting `pad_token_id` to `eos_token_id`:50256 for open-end generation.\n"
          ]
        },
        {
          "output_type": "stream",
          "name": "stdout",
          "text": [
            "Resiko menunjukkan positif dan negatif pada data transaksi online, termasuk transparansi dan kebijakan layanan pelanggan.\n"
          ]
        }
      ]
    },
    {
      "cell_type": "code",
      "source": [
        "result7 = clean_text_corr(\"Pengembangan Model yang digunakan dalam penelitian ini adalah model dasar dari penelitian Lui dan Jamieson (2003) serta penelitian Shergill dan Li (2005). Lui dan Jamieson menggunakan konsep TRITAM yang merupakan modifikasi dari model TAM, sedangkan Shergill dan Li meneliti mengenai faktor-faktor yang mempengaruhi trust. Berdasarkan penelitian Maharsi dan Fenny (2006) dapat diketahui Kepercayaan pengguna pada internet banking (TRU) terbukti memberikan pengaruh yang signifikan terhadap loyalitas pengguna untuk menggunakan internet banking. Berdasarkan teori di atas, maka penulis menggunakan konsep TRITAM sehingga diperoleh kerangka pemikiran sebagai berikut : Gambar 1. Kerangka Analisis Metode dalam penelitian ini untuk obyek dan sasaran dilakukan pada perusahaan jasa perbankan yang menerapkan internet banking dan sasarannya adalah pengguna internet banking di Jabodetabek. Jenis dan Sumber Data Penelitian ini menggunakan data primer, yaitu data yang bersumber dari responden secara langsung dari hasil pengisian kuesioner. Metode Pengumpulan data dalam penelitian ini menggunakan metode survei dengan instrumen penelitian berupa kuesioner.Populasi dan Sampel dalam penelitian ini adalah nasabah bank umum maupun swasta yang pernah menggunakan internet banking di Jabodetabek. Metode pengambilan sampel menggunakan metode accidental sampling, yaitu nasabah yang menggunakan internet banking serta mampu menjawab setiap butir pernyataan kuesioner yang diberikan dengan baik.\")\n",
        "print(result7)"
      ],
      "metadata": {
        "colab": {
          "base_uri": "https://localhost:8080/"
        },
        "id": "jVcZF_OnnQc0",
        "outputId": "c35fa1e3-8076-4f0d-c39a-7a55c3d4c010"
      },
      "execution_count": null,
      "outputs": [
        {
          "output_type": "stream",
          "name": "stderr",
          "text": [
            "Setting `pad_token_id` to `eos_token_id`:50256 for open-end generation.\n"
          ]
        },
        {
          "output_type": "stream",
          "name": "stdout",
          "text": [
            "Pengembangan model menggunakan TRITAM, tujuan penelitian ini adalah analisis data untuk mengetahui pengaruh tujuan dan manfaat dari penggunaan teknologi internet banking dan tujuan.\n"
          ]
        }
      ]
    },
    {
      "cell_type": "code",
      "source": [
        "result8 = clean_text_corr(\"Penelitian ini dilakukan pada perusahaan jasa perbankan yang menerapkan internet banking dan sasarannya adalah pengguna internet banking di Jabodetabek. Penelitian ini menggunakan data primer, yaitu data yang bersumber dari responden secara langsung dari hasil pengisian kuesioner. Pengumpulan data dalam penelitian ini menggunakan metode survei dengan instrumen penelitian berupa kuesioner. Populasi dalam penelitian ini adalah nasabah bank umum maupun swasta yang pernah menggunakan internet banking di Jabodetabek. Metode pengambilan sampel menggunakan metode accidental sampling, yaitu nasabah yang menggunakan internet banking serta mampu menjawab setiap butir pernyataan kuesioner yang diberikan dengan baik. Teknik Analisis Data dalam penelitian ini adalah dengan cara: Pengukuran Variabel, Uji Validitas, Standardized loading, Structural Equation Modeling (SEM). Ada tujuh langkah yang harus dilakukan apabila menggunakan Structural Equation Modelling (SEM): ada tahapan-tahapannya adalah : a. Pengembangan model teoritis b. Pengembangan diagram alur (path diagram). c. Konversi diagram alur ke dalam persamaan d. Memilih matrik input dan estimasi model menggunakan matriks varians/kovarians atau matrik korelasi untuk keseluruhan estimasi yang dilakukan. e. Kemungkinan munculnya masalah identifikasi f. Evaluasi kriteria goodness of fit, Pada tahap yang terakhir adalah menginterpretasikan model dan memodifikasi model bagi model-model yang tidak memenuhi syarat pengujian yang dilakukan. \")\n",
        "print(result8)"
      ],
      "metadata": {
        "colab": {
          "base_uri": "https://localhost:8080/"
        },
        "id": "AX0aItbbnmi7",
        "outputId": "289c51d5-5c23-4c1a-ce8a-e78ef3f62417"
      },
      "execution_count": null,
      "outputs": [
        {
          "output_type": "stream",
          "name": "stderr",
          "text": [
            "Setting `pad_token_id` to `eos_token_id`:50256 for open-end generation.\n"
          ]
        },
        {
          "output_type": "stream",
          "name": "stdout",
          "text": [
            "Penelitian ini menggunakan data primer, analisis statistik, uji validitas, dan analisis matriks. Metode Analisis Evaluasi ini menggunakan data sekunder, yaitu data yang bersumber dari responden secara langsung dari hasil pengisian kuesioner. Evaluasi dilakukan dengan menggunakan uji validitas, uji korelasi, dan uji korelasi.\n"
          ]
        }
      ]
    },
    {
      "cell_type": "code",
      "source": [
        "result9 = clean_text_corr(\"Pengujian hipotesis dilakukan dengan melakukan uji- t untuk melihat signifikansi koefisisen regresi yang dihasilkan oleh berbagai hubungan kausalitas dalam model. Pengujian mediasi dilakukan dengan prosedur yang dikembangkan oleh Sobel dan dikenal dengan uji Sobel (Sobel test). Pembahasan dalam penelitian ini dapat dilihat bahwa pada Hipotesis pertama menyatakan trust berpengaruh terhadap minat nasabah dalam menggunakan internet banking. Berdasarkan hasil analisis dapat diketahui adanya pengaruh yang positif trust terhadap minat menggunakan internet banking. Hasil penelitian ini konsisten dengan penelitian Maharsi dan Fenny (2006) dapat diketahui kepercayaan pengguna pada internet banking (TRU) terbukti memberikan pengaruh yang signifikan terhadap loyalitas pengguna untuk menggunakan internet banking. Hipotesis kedua menyatakan risk berpengaruh terhadap minat nasabah dalam menggunakan internet banking. Berdasarkan hasil analisis dapat diketahui variabel risk memiliki pengaruh yang negatif terhadap minat menggunakan internet banking, yaitu semakin tinggi risiko maka akan semakin rendah minat menggunakan internet banking. Hal ini berarti terdapat pengaruh negatif dan signifikan dari variabel risk terhadap minat menggunakan internet banking. Hasil penelitian ini ada kesesuaian dengan penelitian Lui dan Jamieson (2003) dapat diketahui perceived risk memiliki pengaruh terhadap intensitas untuk bertransaksi. \")\n",
        "print(result9)"
      ],
      "metadata": {
        "colab": {
          "base_uri": "https://localhost:8080/"
        },
        "id": "SVTJzBsFoNy5",
        "outputId": "738f3a43-2f75-4954-efe4-363af3774937"
      },
      "execution_count": null,
      "outputs": [
        {
          "output_type": "stream",
          "name": "stderr",
          "text": [
            "Setting `pad_token_id` to `eos_token_id`:50256 for open-end generation.\n"
          ]
        },
        {
          "output_type": "stream",
          "name": "stdout",
          "text": [
            "Pengujian hipotesis dilakukan dengan uji t untuk melihat pengaruh positif terhadap minat menggunakan internet banking.\n"
          ]
        }
      ]
    },
    {
      "cell_type": "code",
      "source": [
        "result10 = clean_text_corr(\"Pengujian hipotesis ketiga dan keempat merupakan pengembangan dari hasil penelitian Lui dan Jamieson (2003) dapat diketahui perceived case of use dan perceived usefullnes memiliki pengaruh terhadap intensitas untuk bertransaksi. Hipotesis ketiga dan keempat tersebut adalah perceived case of use berpengaruh terhadap minat nasabah dalam menggunakan internet banking dan perceived usefullnes berpengaruh terhadap minat nasabah dalam menggunakan internet banking. Berdasarkan hasil analisis dapat diketahui perceived case of use memiliki pengaruh yang positif terhadap minat menggunakan internet banking, yaitu semakin baik perceived case of use maka akan mengakibatkan minat menggunakan internet banking semakin tinggi. Hasil penelitian ini juga menghasilkan kesimpulan terdapat pengaruh positif dari variabel perceived usefullnes terhadap minat menggunakan internet banking, artinya semakin baik perceived usefullnes, maka minat menggunakan internet banking juga akan semakin kuat. Hipotesis kelima menyatakan perceived of credibility berpengaruh terhadap minat nasabah dalam menggunakan internet banking. Berdasarkan hasil analisis dapat diketahui terdapat pengaruh positif dan signifikan dari variabel perceived of credibility terhadap minat menggunakan internet banking. Hasil penelitian ini ada kesesuaian dengan penelitian Maharsi dan Fenny (2006) dapat diketahui Kepercayaan pengguna pada Perceived of credibility terbukti memberikan pengaruh yang signifikan terhadap loyalitas pengguna untuk menggunakan internet banking.\")\n",
        "print(result10)"
      ],
      "metadata": {
        "colab": {
          "base_uri": "https://localhost:8080/"
        },
        "id": "uTxV98nMogZN",
        "outputId": "1ae08f8d-185f-4564-fea0-a68a69b258e7"
      },
      "execution_count": null,
      "outputs": [
        {
          "output_type": "stream",
          "name": "stderr",
          "text": [
            "Setting `pad_token_id` to `eos_token_id`:50256 for open-end generation.\n"
          ]
        },
        {
          "output_type": "stream",
          "name": "stdout",
          "text": [
            "Pengujian hipotesis keempat dan kelima dilakukan uji coba sistem dengan informasi dan analisis data.\n"
          ]
        }
      ]
    },
    {
      "cell_type": "code",
      "source": [
        "result11 = clean_text_corr(\"Hipotesis keenam menyatakan minat nasabah dalam menggunakan internet banking berpengaruh terhadap keputusan dalam bertransaksi. Berdasarkan hasil analisis dapat diketahui variabel minat menggunakan internet banking memiliki pengaruh yang positif terhadap keputusan bertransaksi dengan menggunakan internet banking, yaitu semakin kuat minat menggunakan internet banking maka akan mengakibatkan keputusan bertransaksi dengan menggunakan internet banking semakin baik. Hasil penelitian ini ada kesesuaian dengan penelitian Prabowo (2007) dapat diketahui bahwa minat berpengaruh terhadap keputusan konsumen dalam bertransaksi. Hipotesis ketujuh menyatakan minat nasabah dalam menggunakan internet banking dapat memediasi hubungan antara trust, risk and technology acceptance models dengan keputusan dalam bertransaksi dengan internet banking. Berdasarkan hasil analisis dapat diketahui minat dapat memediasi trust, risk, perceived case of use, dan perceived usefulness dengan keputusan menggunakan internet banking, sedangkan variabel perceived of credibility tidak dapat dimediasi oleh minat terhadap keputusan menggunakan internet banking.\")\n",
        "print(result11)"
      ],
      "metadata": {
        "colab": {
          "base_uri": "https://localhost:8080/"
        },
        "id": "QTnoJuWko6tm",
        "outputId": "c46d3f45-f5e1-471f-da96-f22cf74b5c80"
      },
      "execution_count": null,
      "outputs": [
        {
          "output_type": "stream",
          "name": "stderr",
          "text": [
            "Setting `pad_token_id` to `eos_token_id`:50256 for open-end generation.\n"
          ]
        },
        {
          "output_type": "stream",
          "name": "stdout",
          "text": [
            "Hipotesis ketujuh menyatakan minat positif, positif, dan negatif. Hasil penelitian menunjukkan bahwa minat positif, positif, dan negatif menunjukkan keputusan berpengaruh positif.\n"
          ]
        }
      ]
    },
    {
      "cell_type": "code",
      "source": [
        "result12 = clean_text_corr(\"Kesimpulan dari penelitian ini berdasarkan hasil pembahasan di atas, adalah sebagai berikut: 1. Trust berpengaruh terhadap minat nasabah dalam menggunakan internet banking.2. Risk berpengaruh terhadap minat nasabah dalam menggunakan internet banking. 3. Perceived case of use berpengaruh terhadap minat nasabah dalam menggunakan internet banking. 4. Perceived usefullnes berpengaruh terhadap minat nasabah dalam menggunakan internet banking. 5. Perceived of credibility berpengaruh terhadap minat nasabah dalam menggunakan interne banking. 6. Minat nasabah dalam menggunakan internet banking berpengaruh terhadap keputusa dalam bertransaksi. 7. Minat nasabah dalam menggunakan internet banking dapat memediasi hubungan antara trust, risk and technology acceptance models dengan keputusan dalam bertransaksi dengan internet banking\")\n",
        "print(result12)"
      ],
      "metadata": {
        "colab": {
          "base_uri": "https://localhost:8080/"
        },
        "id": "KmCPboRrpTuw",
        "outputId": "f89e86c7-a6a2-4b57-b131-cf71621a27e8"
      },
      "execution_count": null,
      "outputs": [
        {
          "output_type": "stream",
          "name": "stderr",
          "text": [
            "Setting `pad_token_id` to `eos_token_id`:50256 for open-end generation.\n"
          ]
        },
        {
          "output_type": "stream",
          "name": "stdout",
          "text": [
            "Penelitian ini menganalisis pengaruh internet banking terhadap minat dan minat konsumen dalam menggunakan internet banking.\n"
          ]
        }
      ]
    },
    {
      "cell_type": "code",
      "source": [
        "combined_result = result1 + \"\\n\" + result2 + \"\\n\" + result3 + \"\\n\" + result4 + \"\\n\" + result5 + \"\\n\" + result6 + \"\\n\" + result7 + \"\\n\" + result8 + \"\\n\" + result9 + \"\\n\" + result10 + \"\\n\" + result11 + \"/n\" + result12\n",
        "print(combined_result)"
      ],
      "metadata": {
        "colab": {
          "base_uri": "https://localhost:8080/"
        },
        "id": "baSGdQ8Epm7v",
        "outputId": "2ca506ec-b6c0-4035-ca62-17b604133e20"
      },
      "execution_count": null,
      "outputs": [
        {
          "output_type": "stream",
          "name": "stdout",
          "text": [
            "Pertumbuhan pengguna internet di Indonesia, mencapai 105% per tahun. Di Indonesia, internet tumbuh dengan baik.\n",
            "Diharapkan dengan layanan internet banking, kemudahan dan kecukupan data, online banking meningkatkan efisiensi dan efisiensi transaksi perbankan.\n",
            "Kegunaan dan Keandalan model, termasuk dalam teknologi, adalah untuk melihat pengaruh, kemudahan, dan kepercayaan terhadap risk and technology.\n",
            "Penelitian menunjukkan pengaruh trust, risk and technology acceptance models, dan perceived, terhadap minat dan minat pengguna internet, termasuk emosinya.\n",
            "Penelitian ini menganalisis pengaruh penggunaan internet banking terhadap kondisi bank dan memberikan manfaat untuk meningkatkan taraf hidup masyarakat.\n",
            "Resiko menunjukkan positif dan negatif pada data transaksi online, termasuk transparansi dan kebijakan layanan pelanggan.\n",
            "Pengembangan model menggunakan TRITAM, tujuan penelitian ini adalah analisis data untuk mengetahui pengaruh tujuan dan manfaat dari penggunaan teknologi internet banking dan tujuan.\n",
            "Penelitian ini menggunakan data primer, analisis statistik, uji validitas, dan analisis matriks. Metode Analisis Evaluasi ini menggunakan data sekunder, yaitu data yang bersumber dari responden secara langsung dari hasil pengisian kuesioner. Evaluasi dilakukan dengan menggunakan uji validitas, uji korelasi, dan uji korelasi.\n",
            "Pengujian hipotesis dilakukan dengan uji t untuk melihat pengaruh positif terhadap minat menggunakan internet banking.\n",
            "Pengujian hipotesis keempat dan kelima dilakukan uji coba sistem dengan informasi dan analisis data.\n",
            "Hipotesis ketujuh menyatakan minat positif, positif, dan negatif. Hasil penelitian menunjukkan bahwa minat positif, positif, dan negatif menunjukkan keputusan berpengaruh positif./nPenelitian ini menganalisis pengaruh internet banking terhadap minat dan minat konsumen dalam menggunakan internet banking.\n"
          ]
        }
      ]
    },
    {
      "cell_type": "code",
      "source": [
        "import re\n",
        "# Membaca teks dari file\n",
        "with open('/content/7_1.txt', 'r', encoding='utf-8', errors='ignore') as file:\n",
        "    lines = file.readlines()\n",
        "\n",
        "# Inisialisasi teks hasil pengolahan\n",
        "results = []\n",
        "\n",
        "# Mengolah setiap teks secara bergantian\n",
        "for line in lines:\n",
        "    # Menghilangkan karakter newline dan spasi ekstra\n",
        "    line = line.strip()\n",
        "   # line = re.sub(\"\\s+\", \" \", line)\n",
        "    # Memeriksa apakah baris tersebut kosong\n",
        "    if line:\n",
        "        # Memanggil fungsi clean_text_corr untuk mengolah teks\n",
        "        processed_line = clean_text_corr(line)\n",
        "        # Menambahkan teks yang telah diolah ke daftar hasil\n",
        "        results.append(processed_line)\n",
        "\n",
        "# Menyatukan teks yang telah diolah\n",
        "result_text = ' '.join(results)\n",
        "\n",
        "\n",
        "# Menulis teks yang telah diolah kembali ke file\n",
        "with open('/content/output_7_1.txt', 'w', encoding='utf-8', errors='ignore') as output_file:\n",
        "    output_file.write(result_text)"
      ],
      "metadata": {
        "colab": {
          "base_uri": "https://localhost:8080/"
        },
        "id": "qqEwxPRBPiou",
        "outputId": "12b929d6-9fbd-4552-febf-4206ed484712"
      },
      "execution_count": null,
      "outputs": [
        {
          "output_type": "stream",
          "name": "stderr",
          "text": [
            "Setting `pad_token_id` to `eos_token_id`:50256 for open-end generation.\n",
            "Setting `pad_token_id` to `eos_token_id`:50256 for open-end generation.\n",
            "Setting `pad_token_id` to `eos_token_id`:50256 for open-end generation.\n",
            "Setting `pad_token_id` to `eos_token_id`:50256 for open-end generation.\n",
            "Setting `pad_token_id` to `eos_token_id`:50256 for open-end generation.\n",
            "Setting `pad_token_id` to `eos_token_id`:50256 for open-end generation.\n",
            "Setting `pad_token_id` to `eos_token_id`:50256 for open-end generation.\n",
            "Setting `pad_token_id` to `eos_token_id`:50256 for open-end generation.\n",
            "Setting `pad_token_id` to `eos_token_id`:50256 for open-end generation.\n",
            "Setting `pad_token_id` to `eos_token_id`:50256 for open-end generation.\n",
            "Setting `pad_token_id` to `eos_token_id`:50256 for open-end generation.\n"
          ]
        }
      ]
    },
    {
      "cell_type": "code",
      "source": [
        "result_text"
      ],
      "metadata": {
        "colab": {
          "base_uri": "https://localhost:8080/",
          "height": 192
        },
        "id": "9VZ5yTUZP7Ii",
        "outputId": "20aea96f-01fd-4f90-a48e-6d1dac8fd713"
      },
      "execution_count": null,
      "outputs": [
        {
          "output_type": "execute_result",
          "data": {
            "text/plain": [
              "'Pertumbuhan pengguna internet di Indonesia, mencapai 105% per tahun. Di Indonesia, internet tumbuh dengan baik. Diharapkan dengan layanan internet banking, kemudahan dan kecukupan data, online banking meningkatkan efisiensi dan efisiensi transaksi perbankan. Kegunaan dan Keandalan model, termasuk dalam teknologi, adalah untuk melihat pengaruh, kemudahan, dan kepercayaan terhadap risk and technology. Penelitian menunjukkan pengaruh trust, risk and technology acceptance models, dan perceived, terhadap minat dan minat pengguna internet, termasuk emosinya. Penelitian ini menganalisis pengaruh penggunaan internet banking terhadap kondisi bank dan memberikan manfaat untuk meningkatkan taraf hidup masyarakat. Resiko menunjukkan hubungan positif, negatif, dan negatif, dengan mekanisme operasional dan pengawasan. Pengembangan model menggunakan TRITAM, tujuan penelitian ini adalah analisis data untuk mengetahui pengaruh tujuan dan manfaat dari penggunaan teknologi internet banking dan tujuan. Penelitian ini menggunakan data primer, analisis statistik, uji validitas, dan analisis matriks. Evaluasi kriteria goodness of fit, termasuk tes validitas, uji korelasi, uji korelasi, dan uji korelasi. Pengujian hipotesis dilakukan dengan uji t untuk melihat pengaruh positif, positif, dan negatif terhadap minat menggunakan internet banking. Hipotesis ketujuh menyatakan minat positif, positif, dan negatif. Hasil penelitian menunjukkan bahwa minat positif, positif, dan negatif menunjukkan keputusan berpengaruh positif. Penelitian ini menganalisis pengaruh internet banking terhadap minat dan minat konsumen dalam menggunakan internet banking.'"
            ],
            "application/vnd.google.colaboratory.intrinsic+json": {
              "type": "string"
            }
          },
          "metadata": {},
          "execution_count": 175
        }
      ]
    },
    {
      "cell_type": "markdown",
      "source": [
        "## Pengujian jurnal 7 (7 halaman)"
      ],
      "metadata": {
        "id": "FWvDVS6Wp9Du"
      }
    },
    {
      "cell_type": "code",
      "source": [
        "result1 = clean_text_corr(\"Diabetes Mellitus (DM) termasuk penyakit degeneratif yang bersifat kronis dengan prevalensi yang terus mengalami peningkatan dari 366 juta penderita pada 2011 menjadi 522 juta pada 2030 (Olokoba dkk., 2012). Diabetes Mellitus merupakan suatu kelompok penyakit metabolik dengan karakteristik hiperglikemia kronis akibat defek pada sekresi insulin, kerja insulin atau keduanya (ADA, 2012). Penelitian oleh Shaw dkk., (2010) menunjukkan prevalensi diabetes di seluruh dunia pada populasi dewasa usia 20\u001070 tahun adalah 6,4% pada tahun 2010, diderita oleh 287 juta orang dewasa dan diperkirakan akan meningkat hingga 7,7% dan diderita oleh 439 juta orang dewasa pada tahun 2030. Prevalensi DM di Indonesia diperkirakan akan meningkat dari 5,1% di tahun 2000 menjadi 6,3% di Tahun 2010 (Mihardja dkk., 2009). Patogenesis DMT2 didasari atas gangguan sekresi insulin dan gangguan kerja insulin akibat ketidakpekaan (resistensi) insulin oleh stress oksidasi, penggunaan unsur mineral menyebabkan pencegahan stress oksidatif akan memberikan hasil optimal (Bleys dkk., 2007). Salah satu pemeriksaan laboratorium untuk mengontrol gula darah adalah Hemoglobin glikosilasi atau HbA1c (Florkowaki, 2013). Persisten hiperglikemi menyebabkan glikosilasi dari protein hemoglobin. Hemoglobin glikosilasi diestimasi dengan persentase glikasi hemoglobin (HbA1c) yang digunakan secara klinik sejak 30 tahun yang lalu untuk menilai derajad kronik hiperglikemi pada penderita DM (Pujar dkk., 2014). Nilainya menunjukkan berat ringanya level gula rerata pada periode 3 bulan; bermanfaat mengetahui karakteristik disglikemia pada populasi studi karena sederhana dibanding oral glukosa toleransi test (OGTT). Pada diabetes peningkatan HbA1c 1 persen berhubungan dengan 20\u001030% peningkatan mortalitas dan morbiditas penyakit kardiovaskuler (Pujar dkk., 2014; Naomi dkk., 2008).\")\n",
        "print(result1)"
      ],
      "metadata": {
        "colab": {
          "base_uri": "https://localhost:8080/"
        },
        "id": "FOR1Vqy7qPGg",
        "outputId": "ee976a1f-bbcb-4929-fbf9-b2d0f1925bdc"
      },
      "execution_count": null,
      "outputs": [
        {
          "output_type": "stream",
          "name": "stderr",
          "text": [
            "Setting `pad_token_id` to `eos_token_id`:50256 for open-end generation.\n"
          ]
        },
        {
          "output_type": "stream",
          "name": "stdout",
          "text": [
            "Penyakit degeneratif dengan gejala klinis tinggi, penurunan konsentrasi, resiko penyakit, dan waktu tunggu yang tidak normal.\n"
          ]
        }
      ]
    },
    {
      "cell_type": "code",
      "source": [
        "result2 = clean_text_corr(\"Pengendalian DM sangat diperlukan dengan cara mengusahakan kadar gula darah yang mendekati normal. Salah satu pilar utama dalam pengelolaan DM adalah terapi gizi medis. Terapi gizi medis atau lebih dikenal dengan diit atau pengaturan makanan bagi penyandang DM merupakan faktor yang sangat penting dalam mengendalikan gula darah (Evert dkk., 2013). Trace mineral sangat penting diperhatikan bagi tubuh, khusus pada penderita DMT2. Mineral Zinc dan Selenium termasuk jenis trace mineral, dalam tubuh terdapat dalam jumlah sedikit , tetapi mempunyai peranan sangat vital (Ahmed dkk., 2014). Mineral ini termasuk dalam kelompok mineral metaloenzim yang bekerjanya sebagai antioksidan yang dapat mencegah terjadinya radikal bebas, meningkatkan sensitifitas reseptor insulin, sehingga berpotensi mencegah penyakit degeneratif (Ozenc dkk., 2015). Zinc misalnya merupakan unsur essensial untuk sintesis, penyimpanan, dan sekresi insulin. Zinc adalah komponen dari beberapa enzim (metaloenzim, a.l:superoksid dismutase, carbonic anhidrase). Zinc memiliki peran penting dalam menjaga keseimbangan fungsi beberapa jaringan dan memiliki peran penting dalam modulasi sistim imun (Akhuemokhan dkk., 2013). Kemampuan tubuh untuk mensintesis dan mengeluarkan insulin dipengaruhi oleh zinc dalam tubuh, karena zinc terlibat dalam mekanisme regulasi dan sintesis reseptor insulin (Wierensperger dkk., 2010). \")\n",
        "print(result2)"
      ],
      "metadata": {
        "colab": {
          "base_uri": "https://localhost:8080/"
        },
        "id": "g9Fh0-b1q2KS",
        "outputId": "5029d441-c16d-4a86-b585-358f83994206"
      },
      "execution_count": null,
      "outputs": [
        {
          "output_type": "stream",
          "name": "stderr",
          "text": [
            "Setting `pad_token_id` to `eos_token_id`:50256 for open-end generation.\n"
          ]
        },
        {
          "output_type": "stream",
          "name": "stdout",
          "text": [
            "Pengendalian DM penting untuk kesehatan dan ketahanan tubuh.\n"
          ]
        }
      ]
    },
    {
      "cell_type": "code",
      "source": [
        "result3 = clean_text_corr(\"Selenium berfungsi sebagai protein yang dikenal sebagai seleno protein. Melalui seleno protein ini, Se memainkan peran sebagai mekanisme defensif untuk stres oksidatif, untuk pengaturan aktivitas hormon tiroid, dan untuk status redoks vitamin C dan molekul lainnya (Bleys dkk., 2013). Namun, diketahui bahwa jendela WHUDSHWLN\u0003 Se terbatas, dan efeknya terhadap kesehatan yang merugikan dapat terjadi karena asupan Se yang berlebih (supranutritional) atau bawah tingkat yang diperlukan untuk keracunan (Praveeena dkk., 2013). Selenium berperan sebagai antioksidan dan berkontribusi dalam mengatur integritas membran sel dan menurunkan risiko kerusakan oksidatif (Jayawardena dkk., 2012). Diet Se tinggi dapat merangsang pelepasan glukagon, mempromosikan hiperglikemia, atau dapat menyebabkan berlebihnya gluthathion peroksidase-1 dan seleno protein antioksidan lainnya yang mengakibatkan resistensi insulin dan obesitas (Yerlikaya dkk., 2013). Tujuan penelitian ini adalah membuktikan hubungan antara asupan Zinc dan Selenium dengan kadar HbA1c pada pasien DMT2 dalam komunitas persatuan diabetes (Persadia).\")\n",
        "print(result3)"
      ],
      "metadata": {
        "colab": {
          "base_uri": "https://localhost:8080/"
        },
        "id": "OH-OTM3crWC2",
        "outputId": "281f15b9-9c9b-49c3-c069-e785ea513dfc"
      },
      "execution_count": null,
      "outputs": [
        {
          "output_type": "stream",
          "name": "stderr",
          "text": [
            "Setting `pad_token_id` to `eos_token_id`:50256 for open-end generation.\n"
          ]
        },
        {
          "output_type": "stream",
          "name": "stdout",
          "text": [
            "Selenium berperan dalam pengaturan aktivitas hormon, termasuk aktivitas antioksidan, sebagai kontrol selenium.\n"
          ]
        }
      ]
    },
    {
      "cell_type": "code",
      "source": [
        "result4 = clean_text_corr(\"Metode Penelitian Penelitian ini adalah penelitian observasional analitik dengan rancangan studi belah lintang (cross sectional), yang dilaksanakan pada bulan Januari 2011 sampai Desember 2013. Penelitian dilaksanakan di beberapa Rumah Sakit di Bandung. Penelitian menggunakan semua pasien DMT2 yang melakukan rawat jalan di poliklinik endokrin di Rumah Sakit di Bandung dan tergabung Anggota Persatuan Diabetes (Persadia). Sampel penelitian berjumlah 108 orang. Sampel diperoleh dengan cara purposive sampling dengan kriteria sebagai berikut: Pasien DMT2 yang memiliki riwayat hasil HbA1c, Usia < 65 tahun, tidak mempunyai penyakit kelainan darah, sudah pernah mendapatkan edukasi gizi, tidak memiliki penyakit komplikasi, tidak hamil dan bersedia menjadi subyek penelitian dengan menandatangani informed consent. Instrumen penelitian adalah kuesioner kebiasaan makan menggunakan Food Frequency Questionnaire (FFQ) yang dianalisis dengan nutrisurvey. Data asupan trace mineral Zn dan Se dikumpulkan menggunakan Food Frequency Questionnaire (FFQ) (Pestitchek dkk., 2013) Data HbA1c diukur dengan metode afinitas kromatografi (Florkowaki, 2013). Pengolahan dan anilisis data menggunakan software komputer dengan tingkat kemaknaan p<0,05 dan tingkat kepercayaan 95% (Jayawardena dkk., 2012). Data dianalisis dalam format univariat dan bivariat. Hubungan antarvariabel bebas dan variabel terikat dianalisis menggunakan analisis statistik non parametrik Fisher Exact, korelasi Spearman (p<0,05). Penelitian ini telah mendapat ethical clearance.\")\n",
        "print(result4)"
      ],
      "metadata": {
        "colab": {
          "base_uri": "https://localhost:8080/"
        },
        "id": "fnUKWEI4rrXm",
        "outputId": "a05e7b1e-4be6-493f-fff4-8cdc08843652"
      },
      "execution_count": null,
      "outputs": [
        {
          "output_type": "stream",
          "name": "stderr",
          "text": [
            "Setting `pad_token_id` to `eos_token_id`:50256 for open-end generation.\n"
          ]
        },
        {
          "output_type": "stream",
          "name": "stdout",
          "text": [
            "Penelitian ini menggunakan metode Fuzzy Logic untuk menentukan tingkat kepercayaan dan penyakit pada kuesioner.\n"
          ]
        }
      ]
    },
    {
      "cell_type": "code",
      "source": [
        "result5 = clean_text_corr(\"Karakteristik Sampel Berdasarkan hasil penelitian karakteristik sampel meliputi umur, latarbelakang pendidikan, pekerjaan, dan lain-lain pada penelitian ini. Asupan Zinc, asupan Selenium dan kadar HbA1c sampel Asupan Zinc menunjukkan pada rerata sebesar 8,32,62 g dengan nilai asupan minimum sebesar 5,2 dan maksimum 18 g. Tingkat kecukupan gizi anjuran (KGA) kurang dari 80% sebesar 56 (61,5%). Asupan selenium menunjukkan pada posisi rerata sebesar 74,6215,46 g dengan nilai asupan minimum sebesar 41 dan maksimum 104 g dapat dilihat pada Tabel 2. Data ini menunjukkan bahwa sebagian besar pasien berada dalam asupan Zinc yang belum memenuhi anjuran gizi yang ideal yang dipersyaratkan oleh KGA. Kajian terhadap kadar HbA1c menunjukkan rerata sebesar 8,42,17 persen dengan capaian nilai minimum sebesar 5,7 dan maksimum 15,4 persen. Hal ini menunjukkan bahwa sebagian besar pasien berada pada kadar HbA1c yang tinggi atau regulasi tidak terkendali. Akibatnya akan terjadi berbagai komplikasi melalui toksisitas seluler dan menyebabkan kerusakan end-organ.\")\n",
        "print(result5)"
      ],
      "metadata": {
        "colab": {
          "base_uri": "https://localhost:8080/"
        },
        "id": "36oDeatSr6I5",
        "outputId": "84438227-f125-413c-cafd-7422f1a777f7"
      },
      "execution_count": null,
      "outputs": [
        {
          "output_type": "stream",
          "name": "stderr",
          "text": [
            "Setting `pad_token_id` to `eos_token_id`:50256 for open-end generation.\n"
          ]
        },
        {
          "output_type": "stream",
          "name": "stdout",
          "text": [
            "Ciri-ciri Sampel Berdasarkan hasil penelitian menunjukkan bahwa kadar HbA1c lebih rendah daripada sampel lainnya.\n"
          ]
        }
      ]
    },
    {
      "cell_type": "code",
      "source": [
        "result6 = clean_text_corr(\"Hubungan asupan zinc dan asupan selenium dengan kadar HbA1c Berdasarkan analisis data hubungan asupan Zinc, selenium dengan kadar HbA1c diperoleh data sebagai berikut tersajikan pada Tabel 3. Hasil analisis hubungan asupan Zinc terhadap sampel penderita DMT2 menunjukkan bahwa asupan Zinc berhubungan bermakna dengan kadar HbA1c (r=-0,482, p<0,01). Penemuan ini memberikan indikasi perbaikan asupan Zinc yang memenuhi kecukupan gizi anjuran ( KGA) dapat menurunkan kadar HbA1c pada penderita DMT2. Asupan Selenium juga menunjukkan hubungan bermakna dengan kadar HbA1c (r=- 0,863, p<0,05). Hasil analisis ini memberikan indikasi bahwa peningkatan asupan Selenium sesuai dengan tingkat kecukupan anjuran menunjukkan adanya penurunan terhadap kadar HbA1c. Pengaruh asupan Zinc, Selenium terhadap HbA1c Berdasarkan analisis regresi pengaruh asupan Zinc, Selenium terhadap kadar HbA1c diperoleh data sebagai berikut : Kadar HbA1c = 13.6-0,44 (asupan zinc) -3,03 (asupan selenium), dengan nilai koefisien r =0,773 atau 77,3% kadar HbA1c sangat ditentukan oleh asupan Zinc dan Selenium, selebihnya dipengaruhi faktor lain yaitu ketaatan berdiit, konsumsi obat, olahraga, faktor keturunan, pola kebiasaan dan makan (p<0,001).\")\n",
        "print(result6)"
      ],
      "metadata": {
        "colab": {
          "base_uri": "https://localhost:8080/"
        },
        "id": "nQzrRpd1sHl6",
        "outputId": "b4fa42fa-9cd5-450e-d713-18fcfb2157d8"
      },
      "execution_count": null,
      "outputs": [
        {
          "output_type": "stream",
          "name": "stderr",
          "text": [
            "Setting `pad_token_id` to `eos_token_id`:50256 for open-end generation.\n"
          ]
        },
        {
          "output_type": "stream",
          "name": "stdout",
          "text": [
            "Hubungan asupan Zinc dan asupan selenium memenuhi standar internasional, termasuk dalam penelitian, uji statistik, dan uji korelasi.\n"
          ]
        }
      ]
    },
    {
      "cell_type": "code",
      "source": [
        "result7 = clean_text_corr(\"Penelitian ini telah menunjukkan adanya hubungan bermakna antara asupan Zinc dengan kadar HbA1c, walaupun hubungannya negatif lemah (r=-0,4). Penelitian ini juga menunjukkan adanya hubungan bermakna antara asupan Selenium dengan kadar HbA1c p<0,001. Hasil ini sejalan dengan penelitian yang dilakukan oleh Jayawardena dkk., bahwa semakin baik nilai Zinc dalam darah, maka individu akan berada pada status regulasi DM yang lebih baik, tetapi lebih rendah bila dibandingkan dengan regulasi pada individu non DM (Jayawardena dkk., 2012). Penelitian Song dkk., (1999), penderita DMT2 yang diberikan pro-z (tepung dan seng) selama 3 bulan ternyata dapat menurunkan kadar HbA1c secara bermakna. Zinc merupakan mikronutrien penting yang diperlukan untuk lebih dari 300 proses seluler yang berbeda, termasuk DNA, sintesis protein, aktivitas enzim, dan sinyal intraseluler. Homeostasis Zn seluler memerlukan kompartementalisasi Zn ke dalam organel intraseluler, yang diatur erat melalui integrasi Zn transport mekanisme (Kelleher dkk., 2011). Zinc bekerja sebagai antioksidan untuk melindungi intraseluler dari proses oksidasi yang akan menghasilkan radikal bebas juga bekerja sebagai pensintesis, penyimpan dan pensekresi insulin (Sekler dkk., 2007). Zinc berperan protektif terhadap kerusakan sel beta pankreas, kurangnya Zinc memengaruhi sel beta pankreas dalam menanggapi panggilan tubuh untuk memproduksi dan mengeluarkan insulin, menurunkan sekresi insulin dan meningkatkan resistensi insulin (Daradkeh dkk., 2014). Jika pankreas tidak memproduksi dan mengeluarkan insulin yang cukup kadar glukosa dalam tubuh tetap tinggi, sehingga dengan terus tingginya kadar glukosa dalam tubuh maka regulasi gula darah tidak baik (Aronoff dkk., 2004).\")\n",
        "print(result7)"
      ],
      "metadata": {
        "colab": {
          "base_uri": "https://localhost:8080/"
        },
        "id": "q-6rDJ-5sc39",
        "outputId": "dea8004f-6a1f-47e1-dd0e-cf9f2b9aaee3"
      },
      "execution_count": null,
      "outputs": [
        {
          "output_type": "stream",
          "name": "stderr",
          "text": [
            "Setting `pad_token_id` to `eos_token_id`:50256 for open-end generation.\n"
          ]
        },
        {
          "output_type": "stream",
          "name": "stdout",
          "text": [
            "Penelitian ini menunjukkan hubungan positif antara asupan Zinc dan kadar HbA1c, dengan hasil penelitian menunjukkan hubungan positif signifikan antara asupan selenium dan kadar HbA1c.\n"
          ]
        }
      ]
    },
    {
      "cell_type": "code",
      "source": [
        "result8 = clean_text_corr(\"Peran Zinc sebagai antioksidan adalah penghambatan ROS melalui pengurangan toksisitas glukosa oleh Zinc. Zinc menstimulasi metallothionein transkripsi. Metallothionein sendiri memiliki efek antioksidan (Bosco dkk., 2010). Zinc memberikan perlindungan terhadap mediator imun serangan radikal bebas (immunemediated free radical attack) dengan melindungi kelompok sulfhidril (SH) terhadap oksidasi. Juga partisipasi dalam penghambatan produksi radikal bebas (Haber Weiss siklus) dengan bersaing dengan transisi logam (Birben dkk., 2012). Zinc berkontribusi pada stabilisasi SH dengan melindungi protein dari oksidasi. Hal ini juga mengurangi langsung O2 dan radikal OH-, H2O2, dan tingkat xantin oksidase, dengan demikian meningkatkan fungsi mitokondria. Penurunan radikal ini menurunkan peroksidasi lipid. Zinc juga merangsang aktivitas PDX-1 promotor insulin, dan menghambat aktivitas xanthine oksidase, sehingga mengurangi peroksidasi lipid (Bosco dkk., 2010). Penelitian asupan Selenium (Se) pada pasien diabetes terdahulu menunjukkan adanya temuan yang berlawanan dengan kemungkinan hubungan antara tingkat pengendalian diabetes dan perubahan kadar mineral ini. Asupan Se dalam penelitian ini diukur dan hubungan antara asupan ini dan kontrol metabolik diabetes, sebagaimana ditentukan oleh hemoglobin glikosilasi (HbA1c). Sebuah korelasi negatif antara asupan Se dan HbA1c ditemukan (Ozenc dkk., 2015). Beberapa studi menunjukkan tingkat Selenium serum lebih rendah pada kelompok diabetes dibandingkan dengan subyek non\u0010diabetes (Sotiropolos dkk., 2011). Data penelitian menunjukkan bahwa Selenium memainkan peran dengan peraturan spesifik gen target sel beta dan berpotensi mendorong peningkatan secara keseluruhan disfungsi pulau Langerhans (Stranges dkk., 2007). Di sisi lain, telah menunjukkan bahwa tingkat Selenium yang tinggi dikaitkan dengan prevalensi diabetes.\")\n",
        "print(result8)"
      ],
      "metadata": {
        "colab": {
          "base_uri": "https://localhost:8080/"
        },
        "id": "EN5BpauGstDy",
        "outputId": "0260acb3-f267-4e39-a751-9fc9f3c0c819"
      },
      "execution_count": null,
      "outputs": [
        {
          "output_type": "stream",
          "name": "stderr",
          "text": [
            "Setting `pad_token_id` to `eos_token_id`:50256 for open-end generation.\n"
          ]
        },
        {
          "output_type": "stream",
          "name": "stdout",
          "text": [
            "Peran Zinc sebagai antioksidan adalah mengurangi ROS melalui pengurangan toksisitas, mengurangi ROS, dan meningkatkan nilai glikosida (HbA2 ).\n"
          ]
        }
      ]
    },
    {
      "cell_type": "code",
      "source": [
        "result9 = clean_text_corr(\"Selain karena asupan Zinc dan Selenium yang sudah memenuhi kecukupan, kadar HbA1c juga dipengaruhi oleh faktor lain, diantaranya adalah penggunaan terapi farmakologis. Hasil penelitian menunjukkan bahwa hampir semua sampel (90%) menggunakan terapi farmakologis. Obat hipoglikemik oral dan obat injeksi yang diberikan kepada pasien diabetes melitus dapat mereduksi secara bermakna HbA1c antara 0,5\u00103,5% (Unnikrishnan dkk., 2012). Simpulan dan Saran Simpulan Penelitian ini menunjukkan adanya hubungan antara asupan Zinc dan Selenium dengan kadar HbA1c pada pasien diabetes melitus tipe 2 (DMT2). Saran Disarankan penatalaksanaan diit pada pasien DMT2 perlu memperhatikan asupan Zinc dan Se yang sesuai kecukupan yang dianjurkan untuk mendapatkan kadar HbA1c yang terkendali. Perlu diperiksa gluthathion peroksidase-1 dan selenoprotein antioksi dan lainnya seperti Copper (Cu) yang mengakibatkan resistensi insulin dan obesitas. \")\n",
        "print(result9)"
      ],
      "metadata": {
        "colab": {
          "base_uri": "https://localhost:8080/"
        },
        "id": "rybhS5ZTtO4c",
        "outputId": "2fd9635e-ed53-4bfb-9fa1-588c2948d3bc"
      },
      "execution_count": null,
      "outputs": [
        {
          "output_type": "stream",
          "name": "stderr",
          "text": [
            "Setting `pad_token_id` to `eos_token_id`:50256 for open-end generation.\n"
          ]
        },
        {
          "output_type": "stream",
          "name": "stdout",
          "text": [
            "Peningkatan konsentrasi HbA1c dengan selenium meningkatkan konsentrasi HbA1c, Copper (Cu ) meningkatkan konsentrasi, mengurangi penggunaan obat antioksi dan obesitas.\n"
          ]
        }
      ]
    },
    {
      "cell_type": "code",
      "source": [
        "combined_result = result1 + \"\\n\" + result2 + \"\\n\" + result3 + \"\\n\" + result4 + \"\\n\" + result5 + \"\\n\" + result6 + \"\\n\" + result7 + \"\\n\" + result8 + \"\\n\" + result9\n",
        "print(combined_result)"
      ],
      "metadata": {
        "colab": {
          "base_uri": "https://localhost:8080/"
        },
        "id": "ONI1BEPZtkjE",
        "outputId": "38773bed-f89a-480b-bd81-a61860507725"
      },
      "execution_count": null,
      "outputs": [
        {
          "output_type": "stream",
          "name": "stdout",
          "text": [
            "Penyakit degeneratif dengan gejala klinis tinggi, penurunan konsentrasi, resiko penyakit, dan waktu tunggu yang tidak normal.\n",
            "Pengendalian DM penting untuk kesehatan dan ketahanan tubuh.\n",
            "Selenium berperan dalam pengaturan aktivitas hormon, termasuk aktivitas antioksidan, sebagai kontrol selenium.\n",
            "Penelitian ini menggunakan metode Fuzzy Logic untuk menentukan tingkat kepercayaan dan penyakit pada kuesioner.\n",
            "Ciri-ciri Sampel Berdasarkan hasil penelitian menunjukkan bahwa kadar HbA1c lebih rendah daripada sampel lainnya.\n",
            "Hubungan asupan Zinc dan asupan selenium memenuhi standar internasional, termasuk dalam penelitian, uji statistik, dan uji korelasi.\n",
            "Penelitian ini menunjukkan hubungan positif antara asupan Zinc dan kadar HbA1c, dengan hasil penelitian menunjukkan hubungan positif signifikan antara asupan selenium dan kadar HbA1c.\n",
            "Peran Zinc sebagai antioksidan adalah mengurangi ROS melalui pengurangan toksisitas, mengurangi ROS, dan meningkatkan nilai glikosida (HbA2 ).\n",
            "Peningkatan konsentrasi HbA1c dengan selenium meningkatkan konsentrasi HbA1c, Copper (Cu ) meningkatkan konsentrasi, mengurangi penggunaan obat antioksi dan obesitas.\n"
          ]
        }
      ]
    },
    {
      "cell_type": "code",
      "source": [
        "import re\n",
        "# Membaca teks dari file\n",
        "with open('/content/7_2.txt', 'r', encoding='utf-8', errors='ignore') as file:\n",
        "    lines = file.readlines()\n",
        "\n",
        "# Inisialisasi teks hasil pengolahan\n",
        "results = []\n",
        "\n",
        "# Mengolah setiap teks secara bergantian\n",
        "for line in lines:\n",
        "    # Menghilangkan karakter newline dan spasi ekstra\n",
        "    line = line.strip()\n",
        "   # line = re.sub(\"\\s+\", \" \", line)\n",
        "    # Memeriksa apakah baris tersebut kosong\n",
        "    if line:\n",
        "        # Memanggil fungsi clean_text_corr untuk mengolah teks\n",
        "        processed_line = clean_text_corr(line)\n",
        "        # Menambahkan teks yang telah diolah ke daftar hasil\n",
        "        results.append(processed_line)\n",
        "\n",
        "# Menyatukan teks yang telah diolah\n",
        "result_text = ' '.join(results)\n",
        "\n",
        "\n",
        "# Menulis teks yang telah diolah kembali ke file\n",
        "with open('/content/output_7_2.txt', 'w', encoding='utf-8', errors='ignore') as output_file:\n",
        "    output_file.write(result_text)"
      ],
      "metadata": {
        "colab": {
          "base_uri": "https://localhost:8080/"
        },
        "id": "SPn1L8d0XV2W",
        "outputId": "90c60f97-27b7-4a22-b7ec-37f62bfaa497"
      },
      "execution_count": null,
      "outputs": [
        {
          "output_type": "stream",
          "name": "stderr",
          "text": [
            "Setting `pad_token_id` to `eos_token_id`:50256 for open-end generation.\n",
            "Setting `pad_token_id` to `eos_token_id`:50256 for open-end generation.\n",
            "Setting `pad_token_id` to `eos_token_id`:50256 for open-end generation.\n",
            "Setting `pad_token_id` to `eos_token_id`:50256 for open-end generation.\n",
            "Setting `pad_token_id` to `eos_token_id`:50256 for open-end generation.\n",
            "Setting `pad_token_id` to `eos_token_id`:50256 for open-end generation.\n",
            "Setting `pad_token_id` to `eos_token_id`:50256 for open-end generation.\n",
            "Setting `pad_token_id` to `eos_token_id`:50256 for open-end generation.\n",
            "Setting `pad_token_id` to `eos_token_id`:50256 for open-end generation.\n"
          ]
        }
      ]
    },
    {
      "cell_type": "code",
      "source": [
        "result_text"
      ],
      "metadata": {
        "colab": {
          "base_uri": "https://localhost:8080/",
          "height": 140
        },
        "id": "PD29rhNrYQpu",
        "outputId": "7e647f26-80c8-426f-a9d8-17e2f5465806"
      },
      "execution_count": null,
      "outputs": [
        {
          "output_type": "execute_result",
          "data": {
            "text/plain": [
              "'Penyakit degeneratif dengan gejala klinis tinggi, penurunan konsentrasi, resiko penyakit, dan waktu tunggu yang tidak normal. Pengendalian DM penting untuk kesehatan dan ketahanan tubuh. Selenium berperan dalam pengaturan aktivitas hormon, termasuk aktivitas antioksidan, sebagai kontrol selenium. Penelitian ini menggunakan metode Fuzzy Logic untuk menentukan tingkat kepercayaan dan penyakit pada kuesioner. Ciri-ciri Sampel Berdasarkan hasil penelitian menunjukkan bahwa kadar HbA1c lebih rendah daripada sampel lainnya. Hubungan asupan Zinc dan asupan selenium memenuhi standar internasional, termasuk dalam penelitian, uji statistik, dan uji korelasi. Penelitian ini menunjukkan hubungan positif antara asupan Zinc dan kadar HbA1c, dengan hasil penelitian menunjukkan hubungan positif signifikan antara asupan selenium dan kadar HbA1c. Peran Zinc sebagai antioksidan adalah mengurangi ROS melalui pengurangan toksisitas, mengurangi ROS, dan meningkatkan nilai glikosida (HbA2 ). Peningkatan konsentrasi HbA1c dengan terapi antibakteri dan antibakteri.'"
            ],
            "application/vnd.google.colaboratory.intrinsic+json": {
              "type": "string"
            }
          },
          "metadata": {},
          "execution_count": 214
        }
      ]
    },
    {
      "cell_type": "markdown",
      "source": [
        "## Pengujian jurnal 8 (7 halaman)"
      ],
      "metadata": {
        "id": "CsZS4OVOt-CV"
      }
    },
    {
      "cell_type": "code",
      "source": [
        "result1 = clean_text_corr(\"PENDAHULUAN Komoditas kedelai sudah umum dimanfaatkan sebagai sumber protein dan bahan baku pembuatan tempe, tahu, kecap, serta bungkil kedelai yang digunakan sebagai pakan ternak. Dewasa ini kedelai tidak hanya digunakan sebagai sumber protein, tetapi juga sebagai pangan fungsional yang dapat mencegah penyakit degenaratif seperti jantung koroner dan hipertensi karena mengandung zat isoflavon yang merupakan antioksidan (Balitbang Tanaman Pangan, 2008). Tahun 2014 untuk memenuhi kebutuhan kedelai dalam negeri pemerintah telah mengimpor sebanyak 1.39 juta ton (BPS, 2015). Berdasarkan data BPS (2016) produksi kedelai pada tahun 2015 mencapai 963,000 ton. Konsumsi kedelai dari tahun ketahun semakin meningkat yaitu 2.35 juta ton (Atman, 2009) dan pada tahun 2018 diperkirakan akan meningkat menjadi 2.5 juta ton. Nusa Tenggara Barat (NTB) merupakan salah satu provinsi penghasil kedelai di Indonesia dan pada tahun 2012-2013 menduduki peringkat ketiga setelah Jawa Timur dan Jawa Tengah. Karakteristik biofisik lahan dan radiasi penyinaran di NTB sesuai untuk pertumbuhan tanaman kedelai. Potensi ini memberi peluang NTB sebagai penghasil benih kedelai.\")\n",
        "print(result1)"
      ],
      "metadata": {
        "colab": {
          "base_uri": "https://localhost:8080/"
        },
        "id": "rUOz7VGquESa",
        "outputId": "f16c67ee-29fc-4cfc-be32-5b02ddd36347"
      },
      "execution_count": null,
      "outputs": [
        {
          "output_type": "stream",
          "name": "stderr",
          "text": [
            "Setting `pad_token_id` to `eos_token_id`:50256 for open-end generation.\n"
          ]
        },
        {
          "output_type": "stream",
          "name": "stdout",
          "text": [
            "Kandungan karbohidrat dan protein kedelai tinggi, namun kekurangan cadangan untuk tanaman kedelai.\n"
          ]
        }
      ]
    },
    {
      "cell_type": "code",
      "source": [
        "result2 = clean_text_corr(\"Penelitian lapangan tentang interval pemberian air untuk memenuhi kebutuhan air pada kedelai di lahan sawah beriklim kering dan untuk lahan potensial bagi pertumbuhan kedelai belum banyak dilakukan. Muhumed et al. (2014) dalam laporan penelitiannya menyebutkan dengan mengatur frekuensi pemberian air dan mengelola ketersediaan air mampu meningkatkan produktivitas kedelai. Sacita (2016) dalam penelitiannya menunjukkan bahwa varietas Argomulyo mampu beradaptasi dan lebih toleran pada musim kemarau di dalam rumah plastik dengan interval penyiraman 5 dan 10 hari sekali pada fase vegetatif dan generatif. NTB memiliki bulan basah kurang dari 3-4 bulan dan musim kemarau berlangsung dari bulan April sampai November, berdasarkan hal tersebut daerah yang memiliki bulan basah kurang dari 3-4 bulan dan bulan kering 4-6 bulan diatas 6 bulan dimasukkan ke dalam daerah dengan tipe iklim kering (Oldeman et al., 1980). Berdasarkan hal tersebut perlu dilakukan penelitian di lapangan untuk mendapatkan pertumbuhan dan hasil biji berbagai varietas kedelai pada berbagai interval pemberian air irigasi di lahan sawah beriklim kering.\")\n",
        "print(result2)"
      ],
      "metadata": {
        "colab": {
          "base_uri": "https://localhost:8080/"
        },
        "id": "flK04P2vydfu",
        "outputId": "48ddc6b2-1bca-42ba-b75b-4728d76bc1ef"
      },
      "execution_count": null,
      "outputs": [
        {
          "output_type": "stream",
          "name": "stderr",
          "text": [
            "Setting `pad_token_id` to `eos_token_id`:50256 for open-end generation.\n"
          ]
        },
        {
          "output_type": "stream",
          "name": "stdout",
          "text": [
            "Penelitian ini menentukan interval pemberian air dan pengelolaan sumber air untuk tanaman hidroponik tanaman hidroponik.\n"
          ]
        }
      ]
    },
    {
      "cell_type": "code",
      "source": [
        "result3 = clean_text_corr(\"Penelitian dilaksanakan di lahan sawah beriklim kering berlokasi di Desa Sesela, Kecamatan Gunung Sari, Kabupaten Lombok Barat, Nusa Tenggara Barat pada bulan Juli hingga Oktober 2015. Penelitian menggunakan rancangan petak terpisah terdiri atas dua faktor. Faktor pertama sebagai petak utama adalah interval pemberian air (PA) yang terdiri atas beberapa taraf yaitu 2 hari sekali (A), 9 hari sekali (B), 16 hari sekali (C), 23 hari sekali (D), dan 30 hari sekali (E). Faktor kedua sebagai anak petak adalah varietas kedelai yaitu Anjasmoro, Burangrang, dan Tanggamus yang benihnya berasal dari Balitkabi sehingga terdapat 15 kombinasi perlakuan dan setiap perlakuan diulang 3 kali sehingga terdapat 45 kombinasi perlakuan. Perlakuan interval pemberian air dimulai pada 2 minggu setelah tanam. Peubah yang diamati terdiri dari komponen pertumbuhan dan komponen produksi. Data hasil pengamatan diolah dan dianalisis dengan sidik ragam taraf kesalahan 5% apabila pengaruh perlakuan nyata maka dilanjutkan dengan uji jarak berganda duncan (Duncan multiple range test) SDGD\u0003 WDUDI\u0003.\u0003 \u0018\b\u0011\u0003 3HQJRODKDQ\u0003 GDWD\u0003PHQJJXQDNDQ\u0003VRIWZDUH\u0003 SAS. Bahan tanam yang digunakan adalah pupuk Urea, SP-36, KCl, pestisida, dan insektisida kimia. Sampel tanah diambil dan dilakukan analisis di Laboratorium fisika dan kimia tanah pada Laboratorium Tanah Balai Pengkajian Teknologi Pertanian NTB dan Laboratorium Tanah IPB Bogor. Pengamatan data iklim menggunakan data logger yang dipasang pada lokasi penelitian yang diperoleh dari Laboratorium Agrometereologi dan Geofisika IPB, Bogor. Persiapan lahan dilakukan dengan cara tanpa olah tanah (TOT), dibuat saluran irigasi dengan kedalaman 25 cm dan lebar 30 cm pada setiap petak. Petakan dibuat bedengan dengan anak petak berukuran 2 m x 5 m, sehingga petak utama berukuran 2 m x 30 m, jarak antar petak utama dengan petak utama yang lain 4 m. Setiap petak utama dikelilingi saluran air yang berukuran lebar 30 cm dengan kedalaman 25 cm. Pemberian air irigasi dilakukan menggunakan pompa serta air berasal dari sungai yang dihubungkan dengan pipa dan dilakukan disesuaikan dengan perlakuan yaitu interval 2, 9, 16, 23, dan 30 hari sekali.\")\n",
        "print(result3)"
      ],
      "metadata": {
        "colab": {
          "base_uri": "https://localhost:8080/"
        },
        "id": "1zkAgfP4zM_W",
        "outputId": "b56d56e2-6b56-4996-f5d6-e77b18d3433a"
      },
      "execution_count": null,
      "outputs": [
        {
          "output_type": "stream",
          "name": "stderr",
          "text": [
            "Setting `pad_token_id` to `eos_token_id`:50256 for open-end generation.\n"
          ]
        },
        {
          "output_type": "stream",
          "name": "stdout",
          "text": [
            "Penelitian dilakukan di lahan pertanian, Desa Sesela, Kecamatan Gunung Sari, Kabupaten Lombok Barat, menggunakan model zona hambat Strength ( RPS ) dan jangkauan deteksi ( SD ) yang lebih besar dari jalur ukur ( SD ) sehingga menghasilkan rasio deteksi 0,4, dan batas atas yang lebih baik ( SD ) sehingga menghasilkan rasio deteksi 0,4, dan batas\n"
          ]
        }
      ]
    },
    {
      "cell_type": "code",
      "source": [
        "result4 = clean_text_corr(\"Penanaman kedelai dilakukan dengan menggunakan jarak tanam 25 cm x 20 cm, setiap lubang diberikan dua benih kedelai. Semua perlakuan diberi pupuk dasar urea 75 kg ha-1, KCl 100 kg ha-1, dan SP-36 100 kg ha-1 yang diberikan pada tanah dengan cara disebar. Pemberian air dilakukan dengan menghubungkan pipa saluran dari sungai ke saluran irigasi dengan pompa. Panen dilakukan ketika semua daun sudah mulai rontok, polong berwarna kuning kecoklatan dan telah mengering. Panen untuk tanaman sampel dilakukan dengan cara mencabut tanaman dengan hati-hati. Penanganan pascapanen terdiri dari penjemuran brangkasan, pembijian, pengeringan, pembersihan dan penyimpanan. Pengubinan dilakukan dengan membuat ukuran petak pengubinan yaitu 1.5 m x 4 m. Pengamatan meliputi umur 70% berbunga (hari), dilakukan pada saat jumlah tanaman telah berbunga 70% dari populasi tanaman. Tinggi tanaman diukur dari leher akar sampai titik ujung batang pokok tertinggi pada umur 10 minggu setelah tanam (MST), jumlah daun trifoliate pada 8 MST, luas daun pada 8 MST (menggunakan metode gravimetri dengan mengambil seluruh sampel daun yang ada pada tanaman kemudian di gambar pada kertas gravimetri kemudian gambaran daun ditimbang). Pengamatan lain yaitu bobot 100 biji dilakukan dengan mengambil 100 biji dari 10 tanaman sampel pada saat panen, umur panen saat 70% daun telah menguning dan jumlah polong produktif saat panen.\")\n",
        "print(result4)"
      ],
      "metadata": {
        "colab": {
          "base_uri": "https://localhost:8080/"
        },
        "id": "UfGgEM3SzYwc",
        "outputId": "ea47139c-2d24-4125-8150-7e8552d08b9b"
      },
      "execution_count": null,
      "outputs": [
        {
          "output_type": "stream",
          "name": "stderr",
          "text": [
            "Setting `pad_token_id` to `eos_token_id`:50256 for open-end generation.\n"
          ]
        },
        {
          "output_type": "stream",
          "name": "stdout",
          "text": [
            "Penanaman kedelai dilakukan dengan jarak 25 cm, perakaran, pembuangan, dan pembuangan.\n"
          ]
        }
      ]
    },
    {
      "cell_type": "code",
      "source": [
        "result5 = clean_text_corr(\"HASIL DAN PEMBAHASAN Kondisi Umum Lahan Penelitian Kondisi cuaca di lokasi penelitian diperoleh dari satu set alat pengamatan cuaca meliputi alat ukur suhu udara, kelembaban udara, kecepatan angin, radiasi penyinaran, dan tekanan udara. Alat ini dilengkapi dengan data logger dan dilakukan mulai 2 MST periode Agustus hingga Oktober 2015. Hasil pengamatan di lapangan yaitu suhu ratarata 26 oC, kelembaban 96%, radiasi penyinaran 26.60 MJ m-2, lama penyinaran rata-rata 9 jam per hari, curah hujan 0 mm hari, kecepatan angin 1014.772 Knot dan tekanan udara 1669 Kpa yang menyebabkan tekanan uap basah menjadi tinggi sehingga walaupun tidak ada hujan akan menyebabkan kelembaban menurun. Unsur cuaca di atas mendukung pertumbuhan dan perkembangan tanaman kedelai. \")\n",
        "print(result5)"
      ],
      "metadata": {
        "colab": {
          "base_uri": "https://localhost:8080/"
        },
        "id": "ecIt6-CvznL2",
        "outputId": "26e1f3d9-01c0-43f5-e1fc-7334dbbdc16c"
      },
      "execution_count": null,
      "outputs": [
        {
          "output_type": "stream",
          "name": "stderr",
          "text": [
            "Setting `pad_token_id` to `eos_token_id`:50256 for open-end generation.\n"
          ]
        },
        {
          "output_type": "stream",
          "name": "stdout",
          "text": [
            "Di lokasi penelitian, kondisi udara memiliki suhu 26 oC, kelembaban 88,9 cm-4,2, suhu udara 25,9 oC, dan kelembaban.\n"
          ]
        }
      ]
    },
    {
      "cell_type": "code",
      "source": [
        "result6 = clean_text_corr(\"Iklim di wilayah ini bersifat monsunal yang dipengaruhi oleh arah angin yang berasal dari Asia dan Australia. Hal ini menyebabkan walaupun terjadi kekeringan tetapi persediaan air pada sumber air di luar musim hujan masih tersedia karena dikelilingi oleh sumber air yaitu sumber air laut dan air sungai dan kelembaban cenderung tidak terlalu turun jauh. Penelitian Sacita (2016) terhadap penanaman kedelai dengan menggunakan rumah plastik dan waktu yang sama diperoleh suhu rata-rata 26 oC, intensitas radiasi perhari rata-rata 13.7 MJ m-2, lama penyinaran rata-rata 7 jam per hari kelembaban udara 82%, menyebabkan defisit tekanan uap tanah yang tinggi dan tekanan basah semakin tinggi. Gambaran kondisi iklim menunjukkan radiasi penyinaran yang ada di lokasi penelitian memiliki radiasi penyinaran yang jumlahnya dua kali lipat dari radiasi penyinaran yang ada di rumah plastik di wilayah Bogor (Sacita, 2016). Radiasi penyinaran didukung dengan ketersediaan air yang mencukupi akan mempengaruhi pertumbuhan dan perkembangan tanaman kedelai. Selain itu, hasil analisis tanah pada awal dan akhir penelitian menunjukkan pH mendekati netral sebesar 6.44 dan 6.41 dengan kondisi kesuburan yang sedang. Tanah memiliki kandungan pasir 44%, debu 40%, dan liat 16% bertekstur lempung. Lahan ini sesuai dengan kategori lahan untuk pertumbuhan dan perkembangan tanaman kedelai (Balitbang Tanaman Pangan, 2008).\")\n",
        "print(result6)"
      ],
      "metadata": {
        "colab": {
          "base_uri": "https://localhost:8080/"
        },
        "id": "2-Hl4TpZ0Wrj",
        "outputId": "0799daac-fa32-4c85-ffe8-373dc3d07f4f"
      },
      "execution_count": null,
      "outputs": [
        {
          "output_type": "stream",
          "name": "stderr",
          "text": [
            "Setting `pad_token_id` to `eos_token_id`:50256 for open-end generation.\n"
          ]
        },
        {
          "output_type": "stream",
          "name": "stdout",
          "text": [
            "Pertanaman selada memiliki suhu rata-rata 25,9 oC, intensitas radiasi maksimum 14,2 MJ. Analisis data menunjukkan bahwa suhu rata-rata untuk penanaman kedelai di wilayah ini berkisar antara 24,3-27,1 oC. Analisis data dilakukan dengan menggunakan aplikasi komputer untuk mendeteksi keberadaan tanaman selada. Data diambil dengan menggunakan program komputer untuk dianalisis.\n"
          ]
        }
      ]
    },
    {
      "cell_type": "code",
      "source": [
        "result7 = clean_text_corr(\"Pengaruh Interval Pemberian Air terhadap Pertumbuhan Tiga Varietas Kedelai Analisis sidik ragam menunjukkan bahwa terdapat pengaruh interaksi antara interval pemberian air dan varietas. Hasil uji lanjut menunjukkan bahwa tinggi tanaman pada umur 10 MST nyata dipengaruhi oleh interval pemberian air dan varietas, tanaman yang paling tinggi adalah Tanggamus dan Anjasmoro dengan interval 2 hari sekali. Akan tetapi terjadi penurunan yang nyata pada tinggi tanaman Ajasmoro jika interval pemberian air 30 hari sekali (Gambar 1). Penurunan tinggi tanaman yang lebih besar menunjukkan kedua varietas peka terhadap keterbatasan air. Pada interval pemberian air 2 dan 9 hari sekali hasil pengukuran tinggi tanaman adalah 90 cm. Berdasarkan deskripsi varietas Tanggamus dan Anjasmoro yang dikeluarkan oleh Badan Litbang Pertanian varietas Tanggamus memiliki tinggi 67 cm dan varietas Anjasmoro 64-68 cm. Ketiga varietas memiliki respon yang berbeda terhadap perbedaan interval pemberian air. Secara umum tinggi tanaman semakin rendah pada interval pemberian air yang semakin menurun, di sebabkan oleh ketersediaan air yang kurang mencukupi sehingga menyebabkan ketersediaan unsur hara dan kelarutan unsur hara dalam tanah akan berkurang. Dengan demikian transpor hara ke jaringan tanaman juga akan semakin rendah. Hal ini selaras dengan penelitian yang dilakukan oleh Nugraha et al. (2014) bahwa tanaman kedelai yang ditanam di rumah plastik dengan interval pemberian air yang dikurangi jumlahnya menyebabkan menurunnya tinggi tanaman sebesar 9.2%. Selain itu, penelitian yang dilakukan Sharifa dan Muriefah (2015) menunjukkan pada kedelai yang diberi cekaman kekeringan dengan mengurangi intensitas pemberian air pada fase generatif juga menyebabkan berkurangnya tinggi tanaman.\")\n",
        "print(result7)"
      ],
      "metadata": {
        "colab": {
          "base_uri": "https://localhost:8080/"
        },
        "id": "6kVGCY5Iz4r8",
        "outputId": "f82b2901-f3a1-4bd7-bff0-5afef4dd2bb9"
      },
      "execution_count": null,
      "outputs": [
        {
          "output_type": "stream",
          "name": "stderr",
          "text": [
            "Setting `pad_token_id` to `eos_token_id`:50256 for open-end generation.\n"
          ]
        },
        {
          "output_type": "stream",
          "name": "stdout",
          "text": [
            "Pengaruh interval terhadap pertumbuhan ragam menunjukkan variasi hubungan antara interval pemberian air dan varietas, meningkatkan jumlah pengamatan, dan peningkatan konsentrasi.\n"
          ]
        }
      ]
    },
    {
      "cell_type": "code",
      "source": [
        "result8 = clean_text_corr(\"Interaksi 3 varietas kedelai dengan beberapa interval pemberian air irigasi, memberikan jumlah daun tertinggi 44 helai terdapat pada perlakuan interval pemberian air 16 hari sekali pada varietas Tanggamus. Sedangkan jumlah daun terendah 16 helai terdapat pada varietas Burangrang pada interval pemberian air 30 hari sekali (Gambar 2). Tanggamus memiliki jumlah daun yang paling banyak pada setiap interval pemberian air walaupun pada kondisi pemberian air 30 hari sekali, hal ini disebabkan varietas Tanggamus lebih tahan terhadap kondisi kurang air. Burangrang memiliki jumlah daun yang paling rendah pada setiap interval pemberian air. Berdasarkan penelitian yang dilakukan Sacita (2016) jumlah daun yang sedikit disebabkan oleh adanya gangguan pertumbuhan serta beberapa upaya adaptasi yang dilakukan oleh tanaman terhadap berkurangnya air yang ada pada jaringan untuk menghadapi kehilangan air yang lebih besar lagi. Perlakuan interval pemberian air dan varietas nyata meningkatkan luas daun kedelai. Kombinasi perlakuan interval pemberian air 2 dan 9 hari sekali pada Anjasmoro menghasilkan luas daun tertinggi yaitu 244 cm2 dan 271 cm2, dan berbeda nyata dengan perlakuan interval pemberian air 30 hari sekali pada Burangrang (36 cm2) (Gambar 3). Hal ini sejalan dengan penelitian yang dilakukan oleh Sarawa et al. (2014) dimana interval penyiraman air 2 hari sekali memberi respon luas daun tertinggi pada pertanaman kedelai. Menurut Sulistyono et al. (2012) respon fisiologi pertama yang dialami tanaman ketika tanaman mengalami kekurangan air atau tercekam kekeringan adalah penurunan ukuran daun. Hal ini akan menyebabkan penurunan jumlah stomata yang akan mempengaruhi proses fotosisintesis. Perubahan ukuran daun merupakan mekanisme adaptasi tanaman terhadap kekurangan air walaupun ukuran daun semakin mengecil akan tetapi proses fotosintesis akan tetap berlangsung.\")\n",
        "print(result8)"
      ],
      "metadata": {
        "colab": {
          "base_uri": "https://localhost:8080/"
        },
        "id": "G3M8s3_K0_6G",
        "outputId": "c09ad52f-f349-43a9-fcb6-0def31b463ac"
      },
      "execution_count": null,
      "outputs": [
        {
          "output_type": "stream",
          "name": "stderr",
          "text": [
            "Setting `pad_token_id` to `eos_token_id`:50256 for open-end generation.\n"
          ]
        },
        {
          "output_type": "stream",
          "name": "stdout",
          "text": [
            "Perbandingan variasi perlakuan interval pemberian air dan varietas sehat dengan variasi perlakuan interval pemberian air dan varietas sehat.\n"
          ]
        }
      ]
    },
    {
      "cell_type": "code",
      "source": [
        "result9 = clean_text_corr(\"Perlakuan interval pemberian air memberikan respon yang berbeda nyata terhadap umur berbunga. Interval pemberian air 2 dan 9 hari sekali pada ketiga varietas memiliki umur berbunga yang lebih lama yaitu 37 hari dan berbeda nyata dengan interval pemberian air 30 hari sekali pada ketiga varietas memberikan respon umur berbunga paling cepat yaitu 30 hari. Berdasarkan deskripsi varietas umur berbunga varietas Anjasmoro 35.7, varietas Burangrang 35 hari dan varietas Tanggamus 35 hari (Balitbang, 2008) (Gambar 4). Dapat dilihat bahwa respon ketiga varietas terhadap pemberian air yang semakin menurun menunjukkan umur berbunga yang semakin cepat. Munawaroh et al. (2016) dalam penelitian tanaman padi menyampaikan bahwa umur berbunga berkorelasi nyata terhadap efesiensi pemakaian air yang menyangkut tingkat ketersedian air pada padi, pemberian air yang menurun menyebabkan umur berbunga tanaman padi semakin cepat. Sabaruddin et al. (2011) dalam penelitiannya menunjukkan pada tanaman kacang hijau pemberian air irigasi yang teratur akan memperpanjang masa pembungaan. Menurut Lin et al. (2007) umur berbunga yang cepat disebabkan oleh adanya cekaman kekeringan.\")\n",
        "print(result9)"
      ],
      "metadata": {
        "colab": {
          "base_uri": "https://localhost:8080/"
        },
        "id": "ce0d4a6D1WLv",
        "outputId": "2a9730e6-3fa5-41ec-b404-db9ece180685"
      },
      "execution_count": null,
      "outputs": [
        {
          "output_type": "stream",
          "name": "stderr",
          "text": [
            "Setting `pad_token_id` to `eos_token_id`:50256 for open-end generation.\n"
          ]
        },
        {
          "output_type": "stream",
          "name": "stdout",
          "text": [
            "Perlakuan interval pemberian air terhadap tanaman kacang hijau memberikan respon berbeda nyata terhadap pertumbuhan tanaman kacang hijau.\n"
          ]
        }
      ]
    },
    {
      "cell_type": "code",
      "source": [
        "result10 = clean_text_corr(\"Pengaruh Interval Pemberian Air terhadap Produksi Tiga Varietas Kedelai Kombinasi perlakuan antara interval pemberian air dan varietas berpengaruh sangat nyata terhadap umur panen. Pada interval pemberian air 2, 9, 16, 23, dan 30 hari sekali pada varietas Tanggamus menunjukkan umur panen lebih lama (100 hari) setelah tanam dibandingkan dengan Burangrang (89 hari) dan Anjasmoro (92 hari); berdasarkan deskripsi varietas, Tanggamus dan Anjasmoro memiliki umur panen yang lebih lama berkisar 82.5- 92.5 hari sementara Burangrang memiliki umur panen 80 hari (Tabel 1). Tanaman akan berusaha mempercepat siklus hidupnya untuk menghindari cekaman kekeringan. Varietas Tanggamus lebih tahan terhadap cekaman kekeringan sehingga mampu bertahan terhadap kondisi keterbatasan air pada tanaman. Pengaruh interaksi interval pemberian air dan varietas kedelai nyata pada bobot 100 biji. Varietas Burangrang menunjukkan nilai pengamatan bobot 100 biji tertinggi pada semua interval pemberian air, sedangkan varietas Tanggamus menunjukkan nilai pengamatan bobot 100 biji paling rendah pada semua interval pemberian air dengan nilai terendah 10.39 g pada perlakuan pemberian air 30 hari sekali (Tabel 1). Berdasarkan deskripsi varietas, Tanggamus memiliki bobot 100 biji sebesar 11g, sementara Burangrang memiliki bobot 100 biji 17 g dan Anjasmoro 15.3 g. Interval pemberian air yang semakin berkurang mengakibatkan tanaman mengalami kekeringan hal ini memberikan dampak terhadap menurunnya produksi hasil biji-bijian (Olievera et al., 2013). Pemberian air yang semakin jarang dilakukan menyebabkan tanaman kekurangan air sehingga proses generatif pada stadia kematangan terganggu (Anjum et al. 2013). Kondisi air yang mencukupi pada stadia kematangan akan membantu proses metabolisme pada tanaman yang kemudian mendukung fotosintat yang diakumulasikan pada biji. Hal ini selaras dengan penelitian yang dilakukan oleh Chafi dan Gohari (2013) pada tanaman kedelai yang ditanam di Iran bahwa pemberian air irigasi dapat meningkatkan bobot 100 biji tanaman kedelai. Amiri dan Shahram (2014) juga melaporkan hasil penelitiannya bahwa pemberian air irigasi dapat mempengaruhi bobot 100 biji pada tanaman kedelai.\")\n",
        "print(result10)"
      ],
      "metadata": {
        "colab": {
          "base_uri": "https://localhost:8080/"
        },
        "id": "cle_woDi1pTZ",
        "outputId": "b0e0f84c-cd63-4fd4-ae87-6e381ca67fa8"
      },
      "execution_count": null,
      "outputs": [
        {
          "output_type": "stream",
          "name": "stderr",
          "text": [
            "Setting `pad_token_id` to `eos_token_id`:50256 for open-end generation.\n"
          ]
        },
        {
          "output_type": "stream",
          "name": "stdout",
          "text": [
            "Pengaruh Interval Pemberian Air terhadap Produksi Jagung, Segar, dan Gula mempengaruhi pertumbuhan tanaman berdasarkan persentase data.\n"
          ]
        }
      ]
    },
    {
      "cell_type": "code",
      "source": [
        "result11 = clean_text_corr(\"Interaksi interval pemberian air dan varietas memberikan pengaruh yang nyata terhadap jumlah polong produktif. Perlakuan terbaik terhadap jumlah polong adalah pemberian interval irigasi 2 dan 16 hari sekali pada varietas Tanggamus, di mana menghasilkan jumlah polong tertinggi 145.60 dan 146.33 polong. Hasil tersebut berbeda nyata dengan varietas Burangrang (55.1 polong) dan Anjasmoro (65.47 polong) pada interval pemberian air 30 hari sekali (Tabel 1). Interval pemberian air yang semakin jarang mengakibatkan tanaman tidak mendapatkan air pada saat dibutuhkan; pada pemberian air 2 dan 16 hari sekali tanaman mendapatkan air saat fase tanaman membutuhkan air yaitu fase berbunga dan pengisian polong, sementara pemberian air 30 hari sekali dilakukan saat tanaman tidak membutuhkan air sehingga akan menghambat proses pembungaan dan hal ini akan berdampak pula pada pengisian polong. Hal yang sama terjadi pada penelitian yang dilakukan oleh Comlekcioglu dan Simsek (2011) pada tanaman kedelai di wilayah Turki yang dilaporkan bahwa interval irigasi yang menurun menyebabkan produksi polong menurun. Tersedianya air pada saat tanaman membutuhkan air menyebabkan daun hijau lebih lama dan aktivitas fotosintesis akan meningkat sehingga fotosintat yang akan dihasilkan cukup untuk memenuhi kebutuhan tanaman pada fase vegetatif, pembentukan, dan pengisian polong. Pengaruh interval irigasi tiga varietas kedelai nyata berpengaruh terhadap produksi biji kedelai. Pengaruh faktor tunggal air, pemberian air 2 hari sekali menghasilkan total produksi biji tertinggi sebesar 5.32 ton ha-1 dan hasil nyata terendah dengan pemberian air 30 hari sekali sebesar 2.62 ton ha-1. Candogan et al. (2013) menyatakan bahwa produksi biji kedelai menurun seiring dengan meningkatnya cekaman kekeringan pada pertanaman kedelai. Interaksi antar varietas dan tingkat pengurangan pemberian air akan mempengaruhi pertumbuhan dan hasil tanaman kedelai (Mapegau, 2006). Varietas yang paling sesuai digunakan untuk kondisi kekurangan air adalah varietas Tanggamus karena pada semua nilai pengamatan terhadap komponen produksi dengan interval pemberian air 23 hari sekali dan 30 hari sekali varietas ini mampu tumbuh dengan baik dan memiliki tingkat kehijauan daun yang lebih lama. Meskipun demikian, umur panen pada varietas ini lebih panjang. Varietas Tanggamus juga memiliki jumlah polong yang lebih tinggi dibandingkan dengan varietas Burangrang dan Anjasmoro. Hal ini juga selaras dengan penelitian yang dilakukan oleh Bachtiar et al. (2015) bahwa varietas Tanggamus adalah varietas yang cukup adaptif dan toleran pada budidaya di lahan kering. Biaya membayar tenaga yang dibutuhkan satu kali dalam memasukkan air menggunakan pompa yaitu Rp 25,000.00 dengan kondisi lahan yang sumber airnya berada dan berasal dari sungai.\")\n",
        "print(result11)"
      ],
      "metadata": {
        "colab": {
          "base_uri": "https://localhost:8080/"
        },
        "id": "QMXUM7Fg1_Ok",
        "outputId": "8ace3621-7a58-4f08-8039-7ff292e7959c"
      },
      "execution_count": null,
      "outputs": [
        {
          "output_type": "stream",
          "name": "stderr",
          "text": [
            "Setting `pad_token_id` to `eos_token_id`:50256 for open-end generation.\n"
          ]
        },
        {
          "output_type": "stream",
          "name": "stdout",
          "text": [
            "Perlakuan terbaik terhadap kacang-kacangan dengan konsentrasi terbaik menunjukkan hasil yang nyata.\n"
          ]
        }
      ]
    },
    {
      "cell_type": "code",
      "source": [
        "result12 = clean_text_corr(\"KESIMPULAN Interval pemberian air dan varietas nyata berpengaruh terhadap pertumbuhan dan produktivitas kedelai dilahan sawah beriklim kering. Interaksi kombinasi perlakuan pemberian air dan varietas juga meningkatkan tinggi tanaman, jumlah daun, luas daun, jumlah polong tanaman, serta bobot 100 biji per tanaman. Pada ketersediaan air rendah, varietas Tanggamus dapat menjadi pilihan untuk dikembangkan. Berdasarkan hasil penelitian, varietas Tanggamus memiliki jumlah polong tertinggi 146.33 serta pemberian air 2 hari sekali nyata meningkatkan produksi hasil biji sebesar 5.32 ton ha-1 pada lahan sawah beriklim kering.\")\n",
        "print(result12)"
      ],
      "metadata": {
        "colab": {
          "base_uri": "https://localhost:8080/"
        },
        "id": "iljLceXT2SD4",
        "outputId": "9366e588-19c6-47c1-a6ae-9d13183bfe80"
      },
      "execution_count": null,
      "outputs": [
        {
          "output_type": "stream",
          "name": "stderr",
          "text": [
            "Setting `pad_token_id` to `eos_token_id`:50256 for open-end generation.\n"
          ]
        },
        {
          "output_type": "stream",
          "name": "stdout",
          "text": [
            "Peningkatan pertumbuhan dan produktivitas tanaman sayuran, meningkatkan produksi tanaman, jumlah daun, dan bobot 100 biji per tanaman.\n"
          ]
        }
      ]
    },
    {
      "cell_type": "code",
      "source": [
        "combined_result = result1 + \"\\n\" + result2 + \"\\n\" + result3 + \"\\n\" + result4 + \"\\n\" + result5 + \"\\n\" + result6 + \"\\n\" + result7 + \"\\n\" + result8 + \"\\n\" + result9 + \"\\n\" + result10 + \"\\n\" + result11 + \"/n\" + result12\n",
        "print(combined_result)"
      ],
      "metadata": {
        "colab": {
          "base_uri": "https://localhost:8080/"
        },
        "id": "Rp6aK-4t2iQ_",
        "outputId": "07d3faba-be02-4fd1-e7ff-70e006bf868c"
      },
      "execution_count": null,
      "outputs": [
        {
          "output_type": "stream",
          "name": "stdout",
          "text": [
            "Kandungan karbohidrat dan protein kedelai tinggi, namun kekurangan cadangan untuk tanaman kedelai.\n",
            "Penelitian ini menentukan interval pemberian air dan pengelolaan sumber air untuk tanaman hidroponik tanaman hidroponik.\n",
            "Penelitian dilakukan di lahan pertanian, Desa Sesela, Kecamatan Gunung Sari, Kabupaten Lombok Barat, menggunakan model zona hambat Strength ( RPS ) dan jangkauan deteksi ( SD ) yang lebih besar dari jalur ukur ( SD ) sehingga menghasilkan rasio deteksi 0,4, dan batas atas yang lebih baik ( SD ) sehingga menghasilkan rasio deteksi 0,4, dan batas\n",
            "Penanaman kedelai dilakukan dengan jarak 25 cm, perakaran, pembuangan, dan pembuangan.\n",
            "Di lokasi penelitian, kondisi udara memiliki suhu 26 oC, kelembaban 88,9 cm-4,2, suhu udara 25,9 oC, dan kelembaban.\n",
            "Pertanaman selada memiliki suhu rata-rata 25,9 oC, intensitas radiasi maksimum 14,2 MJ. Analisis data menunjukkan bahwa suhu rata-rata untuk penanaman kedelai di wilayah ini berkisar antara 24,3-27,1 oC. Analisis data dilakukan dengan menggunakan aplikasi komputer untuk mendeteksi keberadaan tanaman selada. Data diambil dengan menggunakan program komputer untuk dianalisis.\n",
            "Pengaruh interval terhadap pertumbuhan ragam menunjukkan variasi hubungan antara interval pemberian air dan varietas, meningkatkan jumlah pengamatan, dan peningkatan konsentrasi.\n",
            "Perbandingan variasi perlakuan interval pemberian air dan varietas sehat dengan variasi perlakuan interval pemberian air dan varietas sehat.\n",
            "Perlakuan interval pemberian air terhadap tanaman kacang hijau memberikan respon berbeda nyata terhadap pertumbuhan tanaman kacang hijau.\n",
            "Pengaruh Interval Pemberian Air terhadap Produksi Jagung, Segar, dan Gula mempengaruhi pertumbuhan tanaman berdasarkan persentase data.\n",
            "Perlakuan terbaik terhadap kacang-kacangan dengan konsentrasi terbaik menunjukkan hasil yang nyata./nPeningkatan pertumbuhan dan produktivitas tanaman sayuran, meningkatkan produksi tanaman, jumlah daun, dan bobot 100 biji per tanaman.\n"
          ]
        }
      ]
    },
    {
      "cell_type": "markdown",
      "source": [
        "## Pengujian jurnal 9 (8 halaman)"
      ],
      "metadata": {
        "id": "yi0TVBoA3JHg"
      }
    },
    {
      "cell_type": "code",
      "source": [
        "result1 = clean_text_corr(\"Vs30 merupakan nilai kecepatan gelombang geser (shear wave) hingga kedalaman 30 meter. Nilai Vs30 dapat dipergunakan untuk mendiskripsikan litologi permukaan. Data Vs30 dapat diperoleh dari pengukuran active seismic seperti MSAW. Pengukuran dengan metode tersebut membutuhkan rangkaian geophone untuk merekam gelombang geser yang dihasilkan oleh pemukulan dengan martil. Proses perakitan dan akusisi membutuhkan waktu yang lama, sehingga diperlukan metode alternatif untuk menghasilkan data Vs30. Metode tersebut antara lain menggunakan pemodelan elipticity curve berdasarkan kurva HV hasil pengukuran mikrotremor. Pengukuran mikrotremor merupakan pengukuran ambient noise yang dapat dilakukan menggunakan seperangkat seismograph. Pengukuran dengan metode ini relatif lebih cepat dan efisien dibandingkan dengan pengukuran menggunakan MSAW. Alternatif lain untuk memperoleh data Vs30 yaitu dengan menggunakan model Vs30 USGS yang dihasilkan berdasarkan pemodelan topografi [1]. Kemudahan untuk mengakses dan memanfaatkan data Vs30 USGS membuat data ini banyak digunakan dalam persamaan empiris yang membutuhkan data Vs30, sehingga perlu dilakukan validasi model dengan membandingkan model Vs30 USGS dengan model yang dihasilkan dari pengukuran langsung. Pada penelitian ini akan dihitung rasio model Vs30 berdasarkan pengukuran mikrotremor dan Vs30 USGS untuk mengetahui perbedaan nilai kecepatan yang dihasilkan oleh kedua model tersebut. Jika model Vs30 USGS memiliki nilai kecepatan yang tidak jauh berbeda dengan Vs30 pengukuran mikrotremor, maka rasio antara kedua model tersebut mendekati 1.\")\n",
        "print(result1)"
      ],
      "metadata": {
        "colab": {
          "base_uri": "https://localhost:8080/"
        },
        "id": "9iQAHU3B3IUO",
        "outputId": "e8aa6f75-9764-48b0-a7b6-249a773ec10a"
      },
      "execution_count": null,
      "outputs": [
        {
          "output_type": "stream",
          "name": "stderr",
          "text": [
            "Setting `pad_token_id` to `eos_token_id`:50256 for open-end generation.\n"
          ]
        },
        {
          "output_type": "stream",
          "name": "stdout",
          "text": [
            "Vs30 menunjukkan kecepatan gelombang geser, sampel, dan akusisi.\n"
          ]
        }
      ]
    },
    {
      "cell_type": "code",
      "source": [
        "result2 = clean_text_corr(\"Penelitian ini menggunakan dua model Vs30, yaitu Vs30 mikrotremor dan Vs30 USGS. Lokasi sampel penelitian di Kecamatan Jetis, Kabupaten Bantul. Akuisisi data mikrotremor dilakukan pada 11 titik pengukuran. Akuisisi mikrotremor menggunakan TDS-303 portabel seismograph, kompas geologi, GPS, dan Laptop. Standar operasional pengukuran alat tersebut berdasarkan pada SESAME European research project dengan durasi pengukuran 30 menit untuk setiap titiknya. Pengolahan data menggunakan software NetRec, DataPro, Geopsy, Dinver dan Surfer. Metode elipticity curve dilakukan melalui pengolahan menggunakan dinver dengan input kurva HV yang diperoleh dari perhitungan HVSR (Horizontal to Vertical Ratio) menggunakan geopsy. Parameter lain yang digunakan pada metode elipticity curve antara lain poissons ratio, shear wave velocity dan density. Hasil dari model tersebut berupa ground profile dari Vs. Model dengan misfit terendah akan digunakan sebagai model terbaik. Data Vs30 USGS dapat diperoleh dengan mendownload data di alamat https://earthquake.usgs.gov/data/vs30/. Rasio Vs30 dihitung dengan membandingkan Vs30 hasil pengukuran mikrotremor dengan Vs30 USGS.\")\n",
        "print(result2)"
      ],
      "metadata": {
        "colab": {
          "base_uri": "https://localhost:8080/"
        },
        "id": "jxjPD3BrjdcC",
        "outputId": "9c0fd699-549d-44a3-88a1-5a186132bc8e"
      },
      "execution_count": null,
      "outputs": [
        {
          "output_type": "stream",
          "name": "stderr",
          "text": [
            "Setting `pad_token_id` to `eos_token_id`:50256 for open-end generation.\n"
          ]
        },
        {
          "output_type": "stream",
          "name": "stdout",
          "text": [
            "Penelitian ini menggunakan dua model Vs30, Vs30 mikrotremor, dan Vs30 USGS. Hasil penelitian menunjukkan bahwa model Vs30 AC-DC menggunakan berbagai metode geopsy, termasuk algoritma SIFT, SVM-PSO, dan SVM-PSO.\n"
          ]
        }
      ]
    },
    {
      "cell_type": "code",
      "source": [
        "result3 = clean_text_corr(\"Ground Profile Vs, Vs30 mikrotremor dan Vs30 USGS Pengukuran mikrotremor dilakukan pada 11 titik di Kecamatan Jetis Kabupaten Bantul. Nilai Vs dengan metode Elipticity Curve pada 11 titik pengukuran bervariasi dari 52,14 m/s hingga 561,08 m/s. Model Vs dihasilkan dengan memodelkan 3 lapisan material hingga kedalaman 50 meter di setiap lokasi pengukuran. Menunjukkan ground profile Vs pada 11 titik pengukuran. Berdasarkan model tersebut kedalaman lapisan pertama bervariasi antara 1,17 m, 1,87 m, 3,08 m dan 4,82 m. Lapisan kedua memiliki variasi kedalaman 19,39 m, 20,38 m, 20,39 m, 23,67 m dan 27,75 meter, sedangkan lapisan ketiga memiliki variasi kedalaman 52,36 m, 52,39 m, 52,41 m dan 52,42 m.\")\n",
        "print(result3)"
      ],
      "metadata": {
        "colab": {
          "base_uri": "https://localhost:8080/"
        },
        "id": "XNtob_p2j80q",
        "outputId": "5feeb87f-c0b0-457a-cf7e-e46459ced0b2"
      },
      "execution_count": null,
      "outputs": [
        {
          "output_type": "stream",
          "name": "stderr",
          "text": [
            "Setting `pad_token_id` to `eos_token_id`:50256 for open-end generation.\n"
          ]
        },
        {
          "output_type": "stream",
          "name": "stdout",
          "text": [
            "Deteksian mikrotremor dilakukan pada 11 titik di Kecamatan Kepanjen, Kabupaten Malang, dengan variasi waktu, akurasi, dan pengujian.\n"
          ]
        }
      ]
    },
    {
      "cell_type": "code",
      "source": [
        "result4 = clean_text_corr(\"Kecepatan gelombang geser pada lapisan pertama bervariasi dari 66,04 m/s, 66,06 m/s, 68,07 m/s, 92,66 m/s, 100,34 m/s dan 135,24 m/s. Kecepatan gelombang geser pada lapisan kedua 193,50 m/s, 131,26 m/s, 173,44 m/s, 229,16 m/s, 224,65 m/s. Sedangkan kecepatan gelombang geser pada lapisan ketiga bervariasi dari 362,20 m/s, 362,19 m/s, 362,23 m/s, 4244,65 m/s, 424,68 m/s, 424,69 m/s, 455,36 m/s, 545,85 m/s dan 561,08 m/s. Variasi nilai kecepatan gelombang Vs dan kedalaman tidak berbeda jauh antar titik pengukuran, hal ini karena Kecamatan Jetis didominasi oleh Formasi Merapi Muda. Formasi Merapi Muda yang didominasi oleh material sedimen memberikan respon nilai kecepatan yang lebih rendah dibandingkan dengan formasi yang tersusun atas batuan andesit maupun breksi. Vs30 dihitung berdasarkan nilai Vs pada model ground profile hingga kedalaman 30 meter. Hasil perhitungan yang diperoleh dari nilai Vs30 di Kecamatan Jetis bervariasi dari 145,22 m/s, 145,57 m/s, 145,58 m/s, 176,66 m/s, 190,24 m/s, 190,25 m/s, 190,26 m/s, 192,06 m/s, dan 251,24 m/s. Zonasi Vs30 berdasarkan model ground profile seperti pada Gambar 5.\")\n",
        "print(result4)"
      ],
      "metadata": {
        "colab": {
          "base_uri": "https://localhost:8080/"
        },
        "id": "ufEAsDrhk2tD",
        "outputId": "ef40730f-db0e-46e4-86d5-1023bce8d177"
      },
      "execution_count": null,
      "outputs": [
        {
          "output_type": "stream",
          "name": "stderr",
          "text": [
            "Setting `pad_token_id` to `eos_token_id`:50256 for open-end generation.\n"
          ]
        },
        {
          "output_type": "stream",
          "name": "stdout",
          "text": [
            "Kecepatan gelombang geser pada lapisan kedua bervariasi dari 63,22 m/s, 63,23 m/s, 176,23 m/s, dan 186,25 m/s. Berdasarkan hasil perhitungan, Vs30 memiliki nilai Vs.05 ( 7,78 m/s, 7,78 m/s). Sama seperti model di atas, variasi nilai Vs.05 hanya berbeda jauh dengan variasi di atas.\n"
          ]
        }
      ]
    },
    {
      "cell_type": "code",
      "source": [
        "result5 = clean_text_corr(\"Distribusi Vs30 berdasarkan zonasi menunjukkan bahwa semakin ke utara nilai Vs30 semakin tinggi, yaitu dari 140 145 m/s di Desa Patalan, 145 160 m/s di Desa Canden, 145 180 m/s di Desa Sumberagung dan 185 195 m/s di Desa Trimulyo. Vs30 USGS diperoleh dengan mengunduh data tersebut pada situs USGS. Data Vs30 diekstrak untuk memperoleh nilai Vs30 sesuai dengan titik pengukuran mikrotremor. Hasil ekstraksi data Vs30 USGS disajikan pada Tabel 2. Pola distribusi Vs30 USGS di Kecamatan Jetis memiliki pola yang sama dengan Vs30 mikrotremor, dimana semakin ke utara terdapat tren peningkatan kecepatan. Pada Gambar 6, Desa Patalan memiliki nilai Vs30 sebesar 243,07 m/s, Desa Canden 222,52 229,86 m/s, Desa Sumberagung 246,07 260,07 m/s, dan Desa Trimulyo 258,92 384,35 m/s. Rasio Vs30 mikrotremor dan Vs30 USGS Rasio Vs30 pada penelitian ini menunjukkan perbandingan nilai Vs30 mikrotremor dan Vs30 USGS. Secara umum, berdasarkan Tabel 3 ratio Vs30 di Kecamatan Jetis > 0,5, hal ini menunjukkan bahwa berdasarkan nilai rasionya perbedaan antara hasil pengukuran mikrotremor dan model topografi tidak berbeda signifikan. Meskipun berdasarkan nilai Vs30 kedua metode tersebut terdapat perbedaan nilai kecepatan >100 m/s (130 194 m/s) pada empat lokasi, namun kisaran perbedaan nilai tersebut masih dalam kategori jenis material yang sama. Nilai rasio tertinggi terdapat pada titik C9 yaitu 0.97 dan ratio terendah terdapat pada titik B2 yaitu 0.49. Distribusi rasio Vs30 yang tertinggi (mendekati 1) berada di wilayah selatan dan tengah Kecamatan Jetis.\")\n",
        "print(result5)"
      ],
      "metadata": {
        "colab": {
          "base_uri": "https://localhost:8080/"
        },
        "id": "S0hBo6z3lwjB",
        "outputId": "02fa17db-244b-4dcc-c549-6baa0351ea3c"
      },
      "execution_count": null,
      "outputs": [
        {
          "output_type": "stream",
          "name": "stderr",
          "text": [
            "Setting `pad_token_id` to `eos_token_id`:50256 for open-end generation.\n"
          ]
        },
        {
          "output_type": "stream",
          "name": "stdout",
          "text": [
            "Distribusi Vs30 menunjukkan penurunan kecepatan aliran data Vs30 secara signifikan, dengan kisaran 150 m/s, namun hasil ini menunjukkan perbedaan besar.\n"
          ]
        }
      ]
    },
    {
      "cell_type": "code",
      "source": [
        "result6 = clean_text_corr(\"Vs30 berdasarkan data mikrotremor di Kecamatan Jetis bervariasi dari 145,22 251,24 m/s. Vs30 USGS di Kecamatan Jetis bervariasi dari 243,07 384,35 m/s. Rasio Vs30 mikrotremor dan Vs30 USGS bervariasi dari 0,49 0,97. Hal ini menunjukkan bahwa data Vs30 USGS tidak berbeda jauh dengan hasil Vs30 data mikrotremor.\")\n",
        "print(result6)"
      ],
      "metadata": {
        "colab": {
          "base_uri": "https://localhost:8080/"
        },
        "id": "qa5Ymc_smuKh",
        "outputId": "0b230780-6c1f-404e-b211-3d2288e354cf"
      },
      "execution_count": null,
      "outputs": [
        {
          "output_type": "stream",
          "name": "stderr",
          "text": [
            "Setting `pad_token_id` to `eos_token_id`:50256 for open-end generation.\n"
          ]
        },
        {
          "output_type": "stream",
          "name": "stdout",
          "text": [
            "Vs30 variasi siliar dan vs30 USGS bervariasi dari 145,246,426,426 m/s.\n"
          ]
        }
      ]
    },
    {
      "cell_type": "code",
      "source": [
        "combined_result = result1 + \"\\n\" + result2 + \"\\n\" + result3 + \"\\n\" + result4 + \"\\n\" + result5\n",
        "print(combined_result)"
      ],
      "metadata": {
        "colab": {
          "base_uri": "https://localhost:8080/"
        },
        "id": "CP_rukUNsPZ7",
        "outputId": "828643f9-8904-441e-ac9f-1773039267e9"
      },
      "execution_count": null,
      "outputs": [
        {
          "output_type": "stream",
          "name": "stdout",
          "text": [
            "Vs30 menunjukkan kecepatan gelombang geser, sampel, dan akusisi.\n",
            "Penelitian ini menggunakan dua model Vs30, Vs30 mikrotremor, dan Vs30 USGS. Hasil penelitian menunjukkan bahwa model Vs30 AC-DC menggunakan berbagai metode geopsy, termasuk algoritma SIFT, SVM-PSO, dan SVM-PSO.\n",
            "Deteksian mikrotremor dilakukan pada 11 titik di Kecamatan Kepanjen, Kabupaten Malang, dengan variasi waktu, akurasi, dan pengujian.\n",
            "Kecepatan gelombang geser pada lapisan kedua bervariasi dari 63,22 m/s, 63,23 m/s, 176,23 m/s, dan 186,25 m/s. Berdasarkan hasil perhitungan, Vs30 memiliki nilai Vs.05 ( 7,78 m/s, 7,78 m/s). Sama seperti model di atas, variasi nilai Vs.05 hanya berbeda jauh dengan variasi di atas.\n",
            "Distribusi Vs30 menunjukkan penurunan kecepatan aliran data Vs30 secara signifikan, dengan kisaran 150 m/s, namun hasil ini menunjukkan perbedaan besar.\n"
          ]
        }
      ]
    },
    {
      "cell_type": "code",
      "source": [],
      "metadata": {
        "id": "YttiVXkI_W__"
      },
      "execution_count": null,
      "outputs": []
    },
    {
      "cell_type": "markdown",
      "source": [],
      "metadata": {
        "id": "Z1TErLLi_VMO"
      }
    },
    {
      "cell_type": "code",
      "source": [
        "import re\n",
        "# Membaca teks dari file\n",
        "with open('/content/jurnal1.txt', 'r', encoding='utf-8', errors='ignore') as file:\n",
        "    lines = file.readlines()\n",
        "\n",
        "# Inisialisasi teks hasil pengolahan\n",
        "results = []\n",
        "\n",
        "# Mengolah setiap teks secara bergantian\n",
        "for line in lines:\n",
        "    # Menghilangkan karakter newline dan spasi ekstra\n",
        "    line = line.strip()\n",
        "   # line = re.sub(\"\\s+\", \" \", line)\n",
        "    # Memeriksa apakah baris tersebut kosong\n",
        "    if line:\n",
        "        # Memanggil fungsi clean_text_corr untuk mengolah teks\n",
        "        processed_line = clean_text_corr(line)\n",
        "        # Menambahkan teks yang telah diolah ke daftar hasil\n",
        "        results.append(processed_line)\n",
        "\n",
        "# Menyatukan teks yang telah diolah\n",
        "result_text = ' '.join(results)\n",
        "\n",
        "\n",
        "# Menulis teks yang telah diolah kembali ke file\n",
        "with open('/content/output1.txt', 'w', encoding='utf-8', errors='ignore') as output_file:\n",
        "    output_file.write(result_text)"
      ],
      "metadata": {
        "colab": {
          "base_uri": "https://localhost:8080/"
        },
        "id": "p7NT-aIaRZTF",
        "outputId": "7e10734c-39f6-4ec4-ddf7-2af5b82824ae"
      },
      "execution_count": null,
      "outputs": [
        {
          "output_type": "stream",
          "name": "stderr",
          "text": [
            "Setting `pad_token_id` to `eos_token_id`:50256 for open-end generation.\n",
            "Setting `pad_token_id` to `eos_token_id`:50256 for open-end generation.\n",
            "Setting `pad_token_id` to `eos_token_id`:50256 for open-end generation.\n",
            "Setting `pad_token_id` to `eos_token_id`:50256 for open-end generation.\n",
            "Setting `pad_token_id` to `eos_token_id`:50256 for open-end generation.\n",
            "Setting `pad_token_id` to `eos_token_id`:50256 for open-end generation.\n",
            "Setting `pad_token_id` to `eos_token_id`:50256 for open-end generation.\n",
            "Setting `pad_token_id` to `eos_token_id`:50256 for open-end generation.\n",
            "Setting `pad_token_id` to `eos_token_id`:50256 for open-end generation.\n",
            "Setting `pad_token_id` to `eos_token_id`:50256 for open-end generation.\n"
          ]
        }
      ]
    },
    {
      "cell_type": "code",
      "source": [
        "def clean_text_corr(text):"
      ],
      "metadata": {
        "id": "2XIFxvxYth_4"
      },
      "execution_count": null,
      "outputs": []
    },
    {
      "cell_type": "code",
      "source": [
        "result_text"
      ],
      "metadata": {
        "colab": {
          "base_uri": "https://localhost:8080/",
          "height": 123
        },
        "id": "9YpYyDHBTpL2",
        "outputId": "7ebe8d1f-0d4a-448c-9d2a-cb7b890784fe"
      },
      "execution_count": null,
      "outputs": [
        {
          "output_type": "execute_result",
          "data": {
            "text/plain": [
              "'Kemiskinan merupakan masalah penting dalam pembangunan perekonomian Indonesia. Metode peramalan menggunakan metode double exponential Smoothing, digunakan untuk menganalisis tren peramalan dengan metode Double Exponential Smoothing, untuk menganalisis tren peramalan dengan metode Double Exponential Smoothing, membantu pemerintah meningkatkan efisiensi peramalan. Penelitian ini menggunakan metode trend moment untuk analisis trend moment. Peramalan menggunakan metode Exponential Smoothing, untuk prediksi tingkat tinggi, digunakan model matematis. Parameter yang digunakan dalam analisis data adalah model terbaik.MAPE menunjukkan kinerja peramalan dengan data. Model menunjukkan pola data time series, trend tinggi, dan pola musiman. Model ini memiliki nilai MAPE yang besar, stabil, dan pola musiman. Hasil perhitungan peramalan menunjukkan bahwa pola data positif untuk setiap kelurahan, mengurangi tingkat kemiskinan, meningkatkan pelayanan masyarakat, dan meningkatkan pelayanan masyarakat.'"
            ],
            "application/vnd.google.colaboratory.intrinsic+json": {
              "type": "string"
            }
          },
          "metadata": {},
          "execution_count": 32
        }
      ]
    },
    {
      "cell_type": "code",
      "source": [
        "result_text"
      ],
      "metadata": {
        "colab": {
          "base_uri": "https://localhost:8080/",
          "height": 209
        },
        "id": "QnVTnjV9Zyd9",
        "outputId": "901514f3-dc30-4b7e-d521-724865f85eb9"
      },
      "execution_count": null,
      "outputs": [
        {
          "output_type": "execute_result",
          "data": {
            "text/plain": [
              "'Kemiskinan merupakan masalah penting dalam pembangunan perekonomian Indonesia. Dalam dua tahun terakhir, model trend mengalami peningkatan, namun gagal untuk prediksi data. Penelitian ini menggunakan metode double exponential smoothing, hasil peramalan atau prediksi harga saham menggunakan metode double exponential smoothing, membantu pemerintah dalam memprediksi keadaan di masa depan dengan metode trend moment. Metode ini menghasilkan peramalan persentase efisien peramalan dengan model prediksi pemulusan cepat, efisien, dan efisien. Peramalan menggunakan metode Exponential Smoothing untuk menganalisis kondisi masa lalu dengan model matematis. Metode Pemerolehan Pemerolehan Pemerolehan Pemerolehan Pemerolehan Pemerolehan Pemerolehan Pemerolehan Pemerolehan Pemerolehan Pemerolehan Pemerolehan Pemerolehan Pemerolehan Pemerolehan Pemerolehan Pemerolehan Pemerolehan Pemerolehan Pemerolehan Pemerolehan Pemerolehan Pemerolehan Pemerolehan Pemerolehan Pemerolehan Pemerolehan Pemerolehan Pemerolehan Pemerolehan Pemerolehan Pemerolehan Pemerolehan Pemerolehan Pemerolehan Pemerolehan Pemerolehan Pemerolehan Pemerolehan Pemerolehan Pemerolehan Pemerolehan Pemerolehan Pemerolehan Pemerolehan Pemerolehan Pemerolehan Pemerolehan Pemerolehan Pemerolehan Pemerolehan Pemerolehan Pemerolehan Pemerolehan Pemerolehan Pemerolehan Pemerolehan Pemerolehan Pemerolehan Pemerolehan Pem Metode Double Exponential Smoothing digunakan untuk mencari model terbaik. Model untuk peramalan kemiskinan kota Probolinggo memiliki pola time series, terlihat hasil prediksi cerah dengan nilai MAPE. Dibutuhkan bantuan dana, efektif, dan efisien untuk prediksi peramalan. Data aktual menunjukkan nilai MAPE meningkat, variabel data aktual meningkat, dan pola data prediksi mengalami peningkatan.'"
            ],
            "application/vnd.google.colaboratory.intrinsic+json": {
              "type": "string"
            }
          },
          "metadata": {},
          "execution_count": 41
        }
      ]
    },
    {
      "cell_type": "code",
      "source": [
        "result_text"
      ],
      "metadata": {
        "colab": {
          "base_uri": "https://localhost:8080/",
          "height": 140
        },
        "id": "pqCGDCIPiyZm",
        "outputId": "24ba04ff-83c8-4798-d4bd-ffa74c14bb82"
      },
      "execution_count": null,
      "outputs": [
        {
          "output_type": "execute_result",
          "data": {
            "text/plain": [
              "'Kemiskinan di Indonesia menghadapi berbagai masalah, termasuk program pembangunan. Dibangun dengan metode analisis deret waktu untuk peramalan, menghasilkan data baru. Metode peramalan menggunakan metode double exponential Smoothing, digunakan untuk menganalisis tren peramalan dengan metode Double Exponential Smoothing, untuk menganalisis tren peramalan dengan metode Double Exponential Smoothing, membantu pemerintah meningkatkan efisiensi peramalan. Penelitian ini menggunakan metode trend moment untuk analisis trend moment. Peramalan menggunakan metode Exponential Smoothing, exponential Smoothing, dan Exponential Smoothing. Parameter yang digunakan dalam analisis data adalah model terbaik.MAPE menunjukkan kinerja peramalan dengan data. Model menunjukkan pola data time series, trend tinggi, dan pola musiman. Model ini adalah model terbaik, digunakan untuk menentukan metode peramalan. Hasil perhitungan peramalan menunjukkan pola data positif, meningkatkan nilai MAPE, dan meningkatkan nilai MAPE.'"
            ],
            "application/vnd.google.colaboratory.intrinsic+json": {
              "type": "string"
            }
          },
          "metadata": {},
          "execution_count": 44
        }
      ]
    },
    {
      "cell_type": "code",
      "source": [
        "result_text"
      ],
      "metadata": {
        "colab": {
          "base_uri": "https://localhost:8080/",
          "height": 157
        },
        "id": "iC7qyR4VkX_7",
        "outputId": "b92c3862-9ffb-4b0d-e93a-eb3a45d51363"
      },
      "execution_count": null,
      "outputs": [
        {
          "output_type": "execute_result",
          "data": {
            "text/plain": [
              "'Kemiskinan merupakan masalah penting dalam pembangunan perekonomian Indonesia [ 14 ]. Dalam penelitian ini, deret waktu menunjukkan pola data yang signifikan, meningkatkan akurasi, dan menghasilkan output yang baik. Penelitian ini menggunakan metode double exponential smoothing, prestasi olusi tinggi, dan penelitian trial and error dengan metode double exponential smoothing. Metode ini menghasilkan peramalan persentase efisien peramalan dengan model prediksi pemulusan dengan model prediksi pemulusan cepat. Peramalan menggunakan metode Exponential Smoothing untuk memprediksi kondisi masa depan dengan algoritma CRAFT. Metode pemulusan merupakan metode umum untuk menentukan model pemulusan [ 14 ]. Metode ini menggunakan rata-rata penurunan data peramalan dengan model yang digunakan pada prediksi [ 15 ]. Metode Double Exponential Smoothing digunakan untuk mencari model terbaik. Model untuk peramalan kemiskinan kota Probolinggo memiliki pola time series. Model terbaik adalah model MRD (a ) dengan nilai MAPE sebesar 15,92%. Plotting hasil prediksi menunjukkan pola data cerah. Diperlukan data lebih akurat dan cepat untuk prediksi peramalan. Data aktual menunjukkan nilai MAPE meningkat, tetapi tidak menunjukkan pola data aktual.'"
            ],
            "application/vnd.google.colaboratory.intrinsic+json": {
              "type": "string"
            }
          },
          "metadata": {},
          "execution_count": 48
        }
      ]
    },
    {
      "cell_type": "markdown",
      "source": [
        "# Evaluation"
      ],
      "metadata": {
        "id": "g-R4K8TGJyEI"
      }
    },
    {
      "cell_type": "markdown",
      "source": [
        "## BLEU SCORE\n",
        " Metrik evaluasi yang digunakan untuk mengukur kesamaan antara teks hasil terjemahan dan teks referensi. Skor BLEU berkisar antara 0 dan 1, di mana skor yang lebih tinggi menunjukkan kesamaan yang lebih tinggi."
      ],
      "metadata": {
        "id": "BGkGsykRKBIK"
      }
    },
    {
      "cell_type": "code",
      "source": [
        "from nltk.translate.bleu_score import sentence_bleu, corpus_bleu\n",
        "\n",
        "references = [\n",
        "    \"Sifat benih kedelai dengan kandungan protein dan lemak tinggi menjadi penyebab benih kedelai cepat mengalami deteriorasi atau penurunan mutu benih. Salah satu cara untuk meningkatkan mutu perkecambahan adalah dengan perlakuan pemeraman atau bio-priming. Tujuan penelitian ini adalah mengetahui pengaruh bio priming dalam meningkatkan mutu perkecambahan. Penelitian ini menggunakan benih kedelai kuning varietas Grobogan yang sudah disimpan selama tiga bulan. Rancangan percobaan menggunakan Rancangan Acak Kelompok (RAK) dan data yang diperoleh dianalisis sidik ragam dengan uji Beda Nyata Jujur (BNJ) taraf signifikansi 5%. Perlakuan dalam penelitian ini adalah: 1) Kontrol (K), 2) Priming (M) perlakuan matriks priming dengan memasukkan benih kedelai ke dalam media berupa arang sekam lembab dengan perbandingan benih : arang sekam : air = 3 : 10 : 3 (b/b/v), 3) Biopriming menggunakan EM-4 (E) dengan cara merendam benih dalam larutan EM-4 0.3% selama satu jam, 4) Bio-priming menggunakan Trichoderma harzianum (T) yaitu priming benih dengan 75 g Trichoderma harzianum selama satu hari, dan 5) Bio-priming menggunakan EM-4 + Trichoderma harzianum (ET). Hasil penelitian menunjukkan bahwa bio-priming dengan menggunakan EM-4 mampu memperbaiki viabilitas, vigor dan pertumbuhan kecambah kedelai, sedangkan bio-priming menggunakan Trichoderma harzianum tidak menunjukkan perbedaan nyata pada semua variabel pengamatan dibandingkan kontrol. Perlakuan biopriming menggunakan kombinasi EM-4 dan Trichode.\"\n",
        "\n",
        "]\n",
        "output_model = [\n",
        "    \"Benih kedelai memiliki masa dormansi, menurunnya kualitas, dan meningkatkan kualitas. Perlakuan antibakteri dan bio-pasteurisasi dapat dikombinasikan dengan bio-pasteurisasi untuk meningkatkan kualitas perkecambahan benih. Bahan dan bahan digunakan dalam penelitian ini, yaitu susu kedelai kuning, air, dan kultur temulawak dengan Uji BNJ. Hasil dan Pembahasan menunjukkan bahwa kontrol dan kematangan tanaman sayuran, serta kontrol kualitas fisiologis tanaman sayuran, memiliki nilai maksimal. Pemberian ekstrak biji kedelai dan turunannya melalui perlakuan bio- bioprure meningkatkan daya kecambah benih. Variasi kecepatan pertumbuhan tanaman dan peningkatan pertumbuhan tanaman sesuai dengan percobaan. Pertumbuhan kecambah yang diamati menunjukkan pertumbuhan kecambah tinggi, panjang akar, dan peningkatan pertumbuhan tanaman berdasarkan standar. Bobot kering menggambarkan jumlah biomassa yang tersimpan di dalam benih, mempengaruhi pertumbuhan tanaman. Penelitian menunjukkan bahwa bio-priming dan bio-variabel perlu dilakukan.\"\n",
        " ]\n",
        "\n",
        "# Create a list of reference lists\n",
        "references_list = [[ref] for ref in references]\n",
        "\n",
        "# Calculate BLEU score for the entire corpus\n",
        "bleu_score_corpus = corpus_bleu(references_list, output_model)\n",
        "formatted_bleu_score = \"{:.3f}\".format(bleu_score_corpus)\n",
        "print(\"Corpus BLEU Score: \", formatted_bleu_score)"
      ],
      "metadata": {
        "colab": {
          "base_uri": "https://localhost:8080/"
        },
        "id": "BUj0XxrvJ1yh",
        "outputId": "2e448e56-f9c7-47fb-b811-6c1d6ef35670"
      },
      "execution_count": null,
      "outputs": [
        {
          "output_type": "stream",
          "name": "stdout",
          "text": [
            "Corpus BLEU Score:  0.421\n"
          ]
        }
      ]
    },
    {
      "cell_type": "code",
      "source": [
        "from nltk.translate.bleu_score import sentence_bleu, corpus_bleu\n",
        "\n",
        "references = [\"Kemiskinan merupakan permasalahan serius yang dapat menghambat pembangunan ekonomi dalam sebuah negara. Kemiskinan di Jawa Timur untuk saat ini telah mengalami penurunan. Namun, saat ini untuk daerah tertentu terjadi kenaikan angka  kemiskinan yaitu Kota Probolinggo. Kota  Probolinggo  terkenal  sebagai  kota wisata dengan destinasi Gunung Bromo, di sisi lain kemiskinan Kota Probolinggo dalam dua tahun terakhir terjadi kenaikan akibat adanya pandemic Covid-19.Jika  angka kemiskinan wilayah tersebut mengalami kenaikan secara signifikan tiap tahunnya maka menyebabkan negara atau wilayah tersebut mengalami hambatan dalam sebuah pembangunan ekonomi. Penelitian ini dilakukan bertujuan agar memperoleh nilai yang paling akurat terhadap peramalan dengan model estimasi pemulusan menggunakan metode pemulusan eksponensial ganda (DES) dua parameter dari Holt.Hasil peramalan yang paling baik ialah nilai a= 0,9 dan ß= 0,4 dengan MAPE didapatkan yaitu sebesar 14,92% menunjukkan  bahwa  model yang  didapatkan tergolong kategori baik dalam melakukan sebuah peramalan. Hasil prediksi yang dihasilkan menunjukkan trend naik dalam melakukan prediksi kemiskinan dengan jangka waktu 5 tahun kemudian.\"]\n",
        "output_model = [\"Kemiskinan merupakan masalah penting dalam pembangunan perekonomian di Indonesia. Masalah kemiskinan merupakan masalah penting dalam pembangunan perekonomian Indonesia. Dalam penelitian ini, deret waktu menunjukkan pola data yang signifikan. Distribusi data dilakukan secara acak pada periode tahun 2009-2018. Penelitian ini menggunakan metode double exponential smoothing, model prediksi peramalan untuk prediksi  inflasi. Metode ini menghasilkan peramalan persentase efisien peramalan dengan model prediksi pemulusan cepat, efisien, dan efisien. Peramalan menggunakan metode Exponential Smoothing untuk mengoptimalkan kemampuan berpikir kritis siswa. Metode pemulusan merupakan metode umum untuk menentukan model pemulusan. Metode ini menggunakan rata-rata persentase penurunan pada data peramalan dengan model yang digunakan. Metode Double Exponential Smoothing digunakan untuk mencari model terbaik. Model untuk peramalan kemiskinan kota Probolinggo memiliki pola time series. Model terbaik adalah model MAPE, dengan nilai MAPE sebesar 14,92%. Plotting hasil prediksi menunjukkan pola data cerah.Diperlukan data lebih akurat dan cepat untuk prediksi peramalan.Data aktual menunjukkan nilai µ yang berbeda, namun pola data yang dihasilkan cenderung naik.\"]\n",
        "\n",
        "# Create a list of reference lists\n",
        "references_list = [[ref] for ref in references]\n",
        "\n",
        "# Calculate BLEU score for the entire corpus\n",
        "bleu_score_corpus = corpus_bleu(references_list, output_model)\n",
        "formatted_bleu_score = \"{:.3f}\".format(bleu_score_corpus)\n",
        "print(\"Corpus BLEU Score: \", formatted_bleu_score)"
      ],
      "metadata": {
        "colab": {
          "base_uri": "https://localhost:8080/"
        },
        "id": "9UvdexuBsyp_",
        "outputId": "2cf524ed-0037-4cab-da62-a603965d4ec7"
      },
      "execution_count": null,
      "outputs": [
        {
          "output_type": "stream",
          "name": "stdout",
          "text": [
            "Corpus BLEU Score:  0.556\n"
          ]
        }
      ]
    },
    {
      "cell_type": "code",
      "source": [
        "from nltk.translate.bleu_score import sentence_bleu, corpus_bleu\n",
        "\n",
        "references = [\"Menggigil (shivering) pasca operasi adalah salah satu komplikasi yang sering terjadi pada anestesi umum. Menggigil dapat mengakibatkan keadaan yang kurang nyaman dan berbagai resiko seperti perdarahan yang meningkat, gangguan penyembuhan luka, pemulihan yang lama pasca anestesi, serta meningkatkan risiko terkena infeksi. Penelitian ini bertujuan untuk mengetahui adanya hubungan umur dengan kejadian menggigil pasca operasi di rumah sakit. Rancangan penelitian menggunakan metode observasional analitik dengan desain studi cross-sectional, dilakukan di RSUD Salatiga pada bulan Maret 2022. Data penelitian menggunakan data primer dengan subjek semua pasien yang masuk ke RSUD Salatiga dan memenuhi kriteria inklusi operasi elektif ringan hingga sedang menggunakan anestesi umum. Analisis data dengan uji chi-square menggunakan signifikansi (p<0,05). Hasil penelitian didapatkan kejadian menggigil pada 4 kasus (7,7%) dari 52 subjek. Menggigil pasca operasi lebih banyak terjadi pada wanita (3 orang) dibandingkan pria (1 orang). Pada rentang umur 45-65 tahun mempunyai kejadian 2 kasus (22,2%). Dari uji Chi-Square didapatkan bahwa tidak terdapat hubungan yang signifikan antara umur dengan kejadian menggigil (Shivering) pasca operasi (p>0,05). Pada pasien umur lanjut dapat mengakibatkan pergeseran ambang termoregulasi dengan derajat yang lebih tinggi dibanding dengan pasien berumur muda, sehingga memiliki resiko tinggi mengalami menggigil. Kesimpulan penelitian ini tidak didapatkan hubungan antara umur dengan kejadian menggigil pasca anestesi umum, tetapi semakin tua sering terjadi menggigil.\"]\n",
        "output_model = [\"Menggigil dalam operasi penting untuk kesehatan, terutama untuk pencegahan penyakit.Pasien dengan konsentrasi COVID-19 paling banyak di usia 25-50 tahun di usia 25-59 tahun. Penelitian ini menggunakan data primer, sampel, dan bivariat, dengan uji statistik preventif dan bivariat. Analisis preventif dari data primer dan preventif dilakukan dengan tes statistik preventif dan uji normalitas. Hasil penelitian menunjukkan bahwa frekuensi preventive responden memberikan pengaruh terhadap responsiveness dan rasa aman pasien. Hasil penelitian menunjukkan bahwa pasien dengan kondisi awal 30-65 tahun menunjukkan kondisi yang tidak normal (ftal 71,3). Kondisi awal 30-65 tahun menunjukkan kondisi yang tidak normal (ftal 71,4). Keluhan meningkat pada 72,6% pasien dengan kondisi awal 30-65 tahun. Penggunaan gas anestesi sevofluran, meningkatkan efisiensi termoregulasi dan waktu operasi, meningkatkan efisiensi waktu operasi, dan meningkatkan efisiensi waktu operasi. Pemberian terapi suportif pada kondisi dada atau perut terbuka meningkatkan kondisi pasien\"]\n",
        "\n",
        "# Create a list of reference lists\n",
        "references_list = [[ref] for ref in references]\n",
        "\n",
        "# Calculate BLEU score for the entire corpus\n",
        "bleu_score_corpus = corpus_bleu(references_list, output_model)\n",
        "formatted_bleu_score = \"{:.3f}\".format(bleu_score_corpus)\n",
        "print(\"Corpus BLEU Score: \", formatted_bleu_score)"
      ],
      "metadata": {
        "colab": {
          "base_uri": "https://localhost:8080/"
        },
        "id": "I6F7164vRJG6",
        "outputId": "9c1ab459-21f3-4a2d-8e08-fcd4ca44c1a8"
      },
      "execution_count": null,
      "outputs": [
        {
          "output_type": "stream",
          "name": "stdout",
          "text": [
            "Corpus BLEU Score:  0.365\n"
          ]
        }
      ]
    },
    {
      "cell_type": "code",
      "source": [
        "from nltk.translate.bleu_score import sentence_bleu, corpus_bleu\n",
        "\n",
        "references = [\"Ikan Cupang (Betta splendens) merupakan salah satu jenis ikan hias yang digemari di Indonesia. Pemilihan pakan yang kurang tepat menyebabkan pertumbuhan ikan yang tidak sesuai dengan usia ikan. Salah satu alternative makanan yang biasa dipakai adalah pakan alami berupa jentik nyamuk, cacing darah (Larva Chironomus sp.) dan Moina sp. Oleh sebab itu, penelitian ini mengkaji efektifitas pakan alami tersebut terhadap pertumbuhan ikan Cupang. Penelitian menggunakan Rancangan Acak Lengkap, dengan 3 perlakuan, dan setiap perlakuan memiliki 3 ulangan. Sampel tiap perlakuan adalah 5 ekor ikan Cupang betina usia 3 bulan. Pemeliharaan selama 4 minggu, dengan pengukuran biomassa ikan setiap minggu. Parameter tambahan adalah pH, suhu dan oksigen terlarut (DO). Hasil uji normalitas dengan uji Liliefors terhadap biomassa ikan menunjukkan signifikansi 0,200>a 0,05, menunjukkan data berdistribusi normal. Uji variansi dengan uji one-way Anova menunjukkan signifikansi 0,430>a 0,05, menunjukkan data biomassa ikan homogen. Uji F dengan one-way Anova menunjukkan nilai F hitung 0,757, dan nilai F tabel 3,220. F hitung = F tabel, maka Ho diterima. Perbedaan jenis pakan alami tidak memberikan pengaruh yang berbeda pada pertumbuhan ikan Cupang Pertumbuhan biomassa ikan Cupang dengan pakan jentik nyamuk adalah 2,04 gram,pakan Cacing darah (Larva Chironomus sp.) 2,15 gram dan dengan pakan alami Moina sp. 1,9 gram. pH air pada kisaran 6-7, sementara suhu pada 26-27oC dan DO 4,06-7,54ppm.\"]\n",
        "output_model = [\"Cupang dari Asia tenggara memiliki karakteristik tubuh berwarna keperakan dengan bundaran hitam dan bintik-bintik hitam pada sirip punggung. Penentuan kondisi optimal untuk pertumbuhan dan perkembangan ikan. Analisa menggunakan pellet menunjukkan lingkungan yang baik untuk pertumbuhan dan perkembangan ikan. Penambahan pakan alami penting untuk pertumbuhan dan perkembangan ikan. Metode penelitian meliputi rancangan acak lengkap dengan 3 perlakuan dan penimbangan, seleksi, dan penimbangan. Penelitian ini menggunakan indeks kontras untuk mengetahui pengaruh antar perlakuan, serta uji normalitas untuk melihat pengaruh antar perlakuan. Hasil dan Pembahasan Data genom ikan menunjukkan perbedaan signifikan pada data. Diperlukan data tambahan, termasuk tabel uji. Kecukupan gizi dan protein yang tinggi, dapat menjadi alternatif pakan alami. Faktor yang mempengaruhi pertumbuhan ikan adalah faktor genetik, kualitas air, ketahanan tubuh ikan, dan peningkatan kualitas air. Kualitas air mempengaruhi daya tahan ikan selama pemeliharaan. Didapatkan konsentrasi oksigen terlarut dalam air. Betta spendens memiliki pertumbuhan ikan lebih baik, dengan peningkatan laju pertumbuhan ikan.\"]\n",
        "\n",
        "# Create a list of reference lists\n",
        "references_list = [[ref] for ref in references]\n",
        "\n",
        "# Calculate BLEU score for the entire corpus\n",
        "bleu_score_corpus = corpus_bleu(references_list, output_model)\n",
        "formatted_bleu_score = \"{:.3f}\".format(bleu_score_corpus)\n",
        "print(\"Corpus BLEU Score: \", formatted_bleu_score)"
      ],
      "metadata": {
        "colab": {
          "base_uri": "https://localhost:8080/"
        },
        "id": "neFw9aTpRlZq",
        "outputId": "1c0e0b87-616d-4dbf-877c-c31a57433caf"
      },
      "execution_count": null,
      "outputs": [
        {
          "output_type": "stream",
          "name": "stdout",
          "text": [
            "Corpus BLEU Score:  0.495\n"
          ]
        }
      ]
    },
    {
      "cell_type": "code",
      "source": [
        "from nltk.translate.bleu_score import sentence_bleu, corpus_bleu\n",
        "\n",
        "references = [\"Tujuan Penelitian ini untuk mengevaluasi program pembinaan senam artistik di kabupaten pemalang. Metode penelitian yang digunakan yaitu deskriptif kualitatif. Pendekatan yang digunakan dalam penelitian evaluasi program ini adalah CIPP Model (Daniel Stufflebeam’s) ditinjau dari tahap context, input, proces, dan product. Ada tiga sekolah dasar yang berhasil membawa nama kabupaten pemalang untuk menjadi juara dalam kompetisi senam artistik tingkat Jawa Tengah, yaitu dari SDN Padek 01, SDN Pamutih 02 dan MI Muhammadiyah. Pengumpulan data menggunakan teknik Pengamatan(observasi), wawancara (interview) dan dokumentasi berupa arsip sebagai data pendukung. Sedangkan informan yang digunakan adalah Kepala Sekolah, Guru Penjasorkes/pelatih, siswa sebagai pesenam serta orang tua siswa. penelitian menunjukan bahwa: Pada tahap input perekrutan atlet sebagai peserta pelatihan secara suka rela sesuai dengan minat dan bakat dicari sejak dia masuk kelas satu,untuk kriteria yang ditetapkan dilaksanakan dengan baik,fasilitas yang kurang memadai,sarana prasarana kurang memadai dan sederhana.\"]\n",
        "output_model = [\"Penelitian ini menganalisis kinerja dan prestasi dari pelatihan dan pembelajaran siswa karate INKAI di kota Tegal, analisis dilakukan dengan pendekatan kuantitatif. Penelitian ini menganalisis kinerja dan prestasi dari pelatihan dan pembelajaran siswa. Pendidikan dasar adalah pendidikan dasar untuk mengembangkan pola-pola dasar olahraga yang benar-benar penting. Prestasi dalam program latihan tertulis melibatkan peningkatan kemampuan fisik, mental, dan prestasi individu. Strategi pemasaran mengoptimalkan penggunaan sumber daya manusia Indonesia untuk membangun olahraga, terutama sepak bola. Evaluasi meningkatkan pemahaman tentang masalah yang dihadapi oleh generasi muda dalam upaya menciptakan olahraga yang efektif. Metode pelatihan pesenam adalah sederhana, aman, sehat, dan efisien. Model evaluasi menunjukkan kepuasan dengan data, wawancara, dan dokumentasi. Penelitian ini menghasilkan 3 aspek konsep input, elemen sistem input, dan faktor dukungan. Aspek-aspek tersebut meningkatkan kemampuan peserta program, sehingga strategi dalam program adalah efektif. Penggunaan sarana dan prasarana yang mendukung pengembangan dan pembinaan, memerlukan fasilitas dan prasarana, termasuk sarana dan prasarana. Penelitian ini menghasilkan 4 aspek konsep proses seleksi, aspek waktu pelaksan, dan aspek biaya. Seleksi penerimaan siswa berdasarkan bakat dan prestasi akademik menunjukkan prestasi yang tinggi. Hasil penelitian menunjukkan bahwa Input penyeleksian peserta didik dengan alat peraga sesuai dengan minat dan bakat peserta didik.\"]\n",
        "\n",
        "# Create a list of reference lists\n",
        "references_list = [[ref] for ref in references]\n",
        "\n",
        "# Calculate BLEU score for the entire corpus\n",
        "bleu_score_corpus = corpus_bleu(references_list, output_model)\n",
        "formatted_bleu_score = \"{:.3f}\".format(bleu_score_corpus)\n",
        "print(\"Corpus BLEU Score: \", formatted_bleu_score)"
      ],
      "metadata": {
        "colab": {
          "base_uri": "https://localhost:8080/"
        },
        "id": "4MKKLhddR7Kc",
        "outputId": "a891091b-b4d1-43a6-c3b4-68e74e914568"
      },
      "execution_count": null,
      "outputs": [
        {
          "output_type": "stream",
          "name": "stdout",
          "text": [
            "Corpus BLEU Score:  0.466\n"
          ]
        }
      ]
    },
    {
      "cell_type": "code",
      "source": [
        "from nltk.translate.bleu_score import sentence_bleu, corpus_bleu\n",
        "\n",
        "references = [\"Tujuan Penelitian untuk mengetahui pengaruh trust , risk and technology acceptance models, perceived case of use, perceived usefulness, perceived of credibility, terhadap minat nasabah dalam menggunakan internet banking? Dan bagaimana pengaruh minat nasabah dalam menggunakan internet banking terhadap keputusan dalam bertransaksi dengan internet banking? Serta bagaimana pengaruh minat nasabah dalam menggunakan internet banking memediasi hubungan antara trust, risk and technology acceptance models dengan keputusan dalam bertransaksi dengan internet banking? Hasil pembahasan penelitian ini dapat di ambil kesimpulan sebagai berikut: Trust berpengaruh terhadap minat nasabah dalam menggunakan internet banking, Risk berpengaruh terhadap minat nasabah dalam menggunakan internet banking, Perceived case of use berpengaruh terhadap minat nasabah dalam menggunakan internet banking, Perceived usefullnes berpengaruh terhadap minat nasabah dalam menggunakan internet banking, Perceived of credibility berpengaruh terhadap minat nasabah dalam menggunakan internet banking, Minat nasabah dalam menggunakan internet banking berpengaruh terhadap keputusan dalam bertransaksi, Minat nasabah dalam menggunakan internet banking dapat memediasi hubungan antara trust, risk and technology acceptance models dengan keputusan dalam bertransaksi dengan internet banking.\"]\n",
        "output_model = [\"Pertumbuhan pengguna internet di Indonesia, mencapai 105% per tahun. Di Indonesia, internet tumbuh dengan baik. Diharapkan dengan layanan internet banking, kemudahan dan kecukupan data, online banking meningkatkan efisiensi dan efisiensi transaksi perbankan. Kegunaan dan Keandalan model, termasuk dalam teknologi, adalah untuk melihat pengaruh, kemudahan, dan kepercayaan terhadap risk and technology. Penelitian menunjukkan pengaruh trust, risk and technology acceptance models, dan perceived, terhadap minat dan minat pengguna internet, termasuk emosinya. Penelitian ini menganalisis pengaruh penggunaan internet banking terhadap kondisi bank dan memberikan manfaat untuk meningkatkan taraf hidup masyarakat. Resiko menunjukkan hubungan positif, negatif, dan negatif, dengan mekanisme operasional dan pengawasan. Pengembangan model menggunakan TRITAM, tujuan penelitian ini adalah analisis data untuk mengetahui pengaruh tujuan dan manfaat dari penggunaan teknologi internet banking dan tujuan. Penelitian ini menggunakan data primer, analisis statistik, uji validitas, dan analisis matriks. Evaluasi kriteria goodness of fit, termasuk tes validitas, uji korelasi, uji korelasi, dan uji korelasi. Pengujian hipotesis dilakukan dengan uji t untuk melihat pengaruh positif, positif, dan negatif terhadap minat menggunakan internet banking. Hipotesis ketujuh menyatakan minat positif, positif, dan negatif. Hasil penelitian menunjukkan bahwa minat positif, positif, dan negatif menunjukkan keputusan berpengaruh positif. Penelitian ini menganalisis pengaruh internet banking terhadap minat dan minat konsumen dalam menggunakan internet banking.\"]\n",
        "\n",
        "# Create a list of reference lists\n",
        "references_list = [[ref] for ref in references]\n",
        "\n",
        "# Calculate BLEU score for the entire corpus\n",
        "bleu_score_corpus = corpus_bleu(references_list, output_model)\n",
        "formatted_bleu_score = \"{:.3f}\".format(bleu_score_corpus)\n",
        "print(\"Corpus BLEU Score: \", formatted_bleu_score)"
      ],
      "metadata": {
        "colab": {
          "base_uri": "https://localhost:8080/"
        },
        "id": "-iX7zAxHSZRo",
        "outputId": "2440b2af-8a68-416b-ab2f-afccc38b2dc4"
      },
      "execution_count": null,
      "outputs": [
        {
          "output_type": "stream",
          "name": "stdout",
          "text": [
            "Corpus BLEU Score:  0.517\n"
          ]
        }
      ]
    },
    {
      "cell_type": "code",
      "source": [
        "from nltk.translate.bleu_score import sentence_bleu, corpus_bleu\n",
        "\n",
        "references = [\"Diabetes mellitus (DM) adalah penyakit metabolik yang ditandai hiperglikemik kronis. HbA1c merupakan hasil pemeriksaan untuk melihat kontrol glikemik. Zinc dan Selenium merupakan faktor metaloenzim, berperan dalam mekanisme regulasi dan sintesis insulin. Penelitian ini bertujuan untuk mengeksplorasi hubungan antara Zinc dan Selenium dengan HbA1C pada pasien DMT2. Desain cross sectional terhadap pasien DMT2. Sampel berjumlah 108 orang pasien di beberapa Rumah sakit di Bandung dari tahun 2011 s/d 2013. Sampel dilakukan secara purposive sampling. Zinc dan Selenium dikumpulkan dengan Semi Quantitative Food Frequency (SQFF). HbA1c diukur dengan metode afinitas kromatografi. Data dianalisis dengan Fisher Exact dan uji korelasi Spearman (p<0,05). Penelitian ini telah mendapat persetujuan Komite Etik. Penelitian menunjukkan bahwa ada hubungan bermakna antara Zinc, Selenium dan HbA1c (p<0,001). Ada hubungan antara Zinc dan Selenium dengan HbA1c, sehingga penatalaksanaan diit dengan asupan Zinc dan Selenium sangat diperlukan dalam regulasi pasien DMT2.\"]\n",
        "output_model = [\"Penyakit degeneratif dengan gejala klinis tinggi, penurunan konsentrasi, resiko penyakit, dan waktu tunggu yang tidak normal. Pengendalian DM penting untuk kesehatan dan ketahanan tubuh. Selenium berperan dalam pengaturan aktivitas hormon, termasuk aktivitas antioksidan, sebagai kontrol selenium. Penelitian ini menggunakan metode Fuzzy Logic untuk menentukan tingkat kepercayaan dan penyakit pada kuesioner. Ciri-ciri Sampel Berdasarkan hasil penelitian menunjukkan bahwa kadar HbA1c lebih rendah daripada sampel lainnya. Hubungan asupan Zinc dan asupan selenium memenuhi standar internasional, termasuk dalam penelitian, uji statistik, dan uji korelasi. Penelitian ini menunjukkan hubungan positif antara asupan Zinc dan kadar HbA1c, dengan hasil penelitian menunjukkan hubungan positif signifikan antara asupan selenium dan kadar HbA1c. Peran Zinc sebagai antioksidan adalah mengurangi ROS melalui pengurangan toksisitas, mengurangi ROS, dan meningkatkan nilai glikosida (HbA2 ). Peningkatan konsentrasi HbA1c dengan selenium meningkatkan konsentrasi HbA1c, Copper (Cu ) meningkatkan konsentrasi, mengurangi penggunaan obat antioksi dan obesitas.\"]\n",
        "\n",
        "# Create a list of reference lists\n",
        "references_list = [[ref] for ref in references]\n",
        "\n",
        "# Calculate BLEU score for the entire corpus\n",
        "bleu_score_corpus = corpus_bleu(references_list, output_model)\n",
        "formatted_bleu_score = \"{:.3f}\".format(bleu_score_corpus)\n",
        "print(\"Corpus BLEU Score: \", formatted_bleu_score)"
      ],
      "metadata": {
        "colab": {
          "base_uri": "https://localhost:8080/"
        },
        "id": "EgBHj13gS52l",
        "outputId": "9136b297-e646-49fa-c268-85880914f5c5"
      },
      "execution_count": null,
      "outputs": [
        {
          "output_type": "stream",
          "name": "stdout",
          "text": [
            "Corpus BLEU Score:  0.514\n"
          ]
        }
      ]
    },
    {
      "cell_type": "code",
      "source": [
        "from nltk.translate.bleu_score import sentence_bleu, corpus_bleu\n",
        "\n",
        "references = [\"Data Vs30 banyak digunakan dalam berbagai persamaan empiris. Data tersebut dapat diperoleh dari data mikrotremor dan model topografi USGS. Penelitian ini bertujuan untuk menghitung rasio antara Vs30 mikrotremor dan Vs30 USGS. Data yang digunakan sebanyak 11 titik pengukuran mikrotremor di Kecamatan Jetis dan model topografi yang diperoleh dari website USGS. Vs30 mikrotremor dihasilkan dari model ground profile dengan nilai misfit terendah. Hasil perhitungan menunjukkan Vs30 berdasarkan data mikrotremor di Kecamatan Jetis bervariasi dari 145,22 – 251,24 m/s. Vs30 USGS di Kecamatan Jetis bervariasi dari 243,07 – 384,35 m/s. Rasio Vs30 mikrotremor dan Vs30 USGS bervariasi dari 0,49 – 0,97. Hal ini menunjukkan bahwa data Vs30 USGS tidak berbeda jauh dengan hasil Vs30 data mikrotremor.\"]\n",
        "output_model = [\"Vs30 menunjukkan kecepatan gelombang geser, sampel, dan akusisi. Penelitian ini menggunakan dua model Vs30, Vs30 mikrotremor, dan Vs30 USGS. Hasil penelitian menunjukkan bahwa model Vs30 AC-DC menggunakan berbagai metode Geopsy, termasuk algoritma SIFT, SVM-PSO, dan SVM-PSO. Deteksian mikrotremor dilakukan pada 11 titik di Kecamatan Kepanjen, Kabupaten Malang, dengan variasi waktu, akurasi, dan pengujian. Kecepatan gelombang geser pada lapisan kedua bervariasi dari 63,22 m/s, 63,23 m/s, 176,23 m/s, dan 186,25 m/s. Berdasarkan hasil perhitungan, Vs30 memiliki nilai Vs.05 ( 7,78 m/s, 7,78 m/s). Sama seperti model di atas, variasi nilai Vs.05 hanya berbeda jauh dengan variasi di atas. Distribusi Vs30 menunjukkan penurunan kecepatan aliran data Vs30 secara signifikan, dengan kisaran 150 m/s, namun hasil ini menunjukkan perbedaan besar.\"]\n",
        "\n",
        "# Create a list of reference lists\n",
        "references_list = [[ref] for ref in references]\n",
        "\n",
        "# Calculate BLEU score for the entire corpus\n",
        "bleu_score_corpus = corpus_bleu(references_list, output_model)\n",
        "formatted_bleu_score = \"{:.3f}\".format(bleu_score_corpus)\n",
        "print(\"Corpus BLEU Score: \", formatted_bleu_score)"
      ],
      "metadata": {
        "colab": {
          "base_uri": "https://localhost:8080/"
        },
        "id": "SZBm8C-hTJjB",
        "outputId": "7a44b5f1-f585-4e61-962a-a858531fc6bd"
      },
      "execution_count": null,
      "outputs": [
        {
          "output_type": "stream",
          "name": "stdout",
          "text": [
            "Corpus BLEU Score:  0.520\n"
          ]
        }
      ]
    },
    {
      "cell_type": "code",
      "source": [
        "from nltk.translate.bleu_score import sentence_bleu, corpus_bleu\n",
        "\n",
        "references = [\n",
        "    #\"Menggigil (shivering) pasca operasi adalah salah satu komplikasi yang sering terjadi pada anestesi umum. Menggigil dapat mengakibatkan keadaan yang kurang nyaman dan berbagai resiko seperti perdarahan yang meningkat, gangguan penyembuhan luka, pemulihan yang lama pasca anestesi, serta meningkatkan risiko terkena infeksi. Penelitian ini bertujuan untuk mengetahui adanya hubungan umur dengan kejadian menggigil pasca operasi di rumah sakit. Rancangan penelitian menggunakan metode observasional analitik dengan desain studi cross-sectional, dilakukan di RSUD Salatiga pada bulan Maret 2022. Data penelitian menggunakan data primer dengan subjek semua pasien yang masuk ke RSUD Salatiga dan memenuhi kriteria inklusi operasi elektif ringan hingga sedang menggunakan anestesi umum. Analisis data dengan uji chi-square menggunakan signifikansi (p<0,05). Hasil penelitian didapatkan kejadian menggigil pada 4 kasus (7,7%) dari 52 subjek. Menggigil pasca operasi lebih banyak terjadi pada wanita (3 orang) dibandingkan pria (1 orang). Pada rentang umur 45-65 tahun mempunyai kejadian 2 kasus (22,2%). Dari uji Chi-Square didapatkan bahwa tidak terdapat hubungan yang signifikan antara umur dengan kejadian menggigil (Shivering) pasca operasi (p>0,05). Pada pasien umur lanjut dapat mengakibatkan pergeseran ambang termoregulasi dengan derajat yang lebih tinggi dibanding dengan pasien berumur muda, sehingga memiliki resiko tinggi mengalami menggigil. Kesimpulan penelitian ini tidak didapatkan hubungan antara umur dengan kejadian menggigil pasca anestesi umum, tetapi semakin tua sering terjadi menggigil.\".split(),\n",
        "    #\"Ikan Cupang (Betta splendens) merupakan salah satu jenis ikan hias yang digemari di Indonesia. Pemilihan pakan yang kurang tepat menyebabkan pertumbuhan ikan yang tidak sesuai dengan usia ikan. Salah satu alternative makanan yang biasa dipakai adalah pakan alami berupa jentik nyamuk, cacing darah (Larva Chironomus sp.) dan Moina sp. Oleh sebab itu, penelitian ini mengkaji efektifitas pakan alami tersebut terhadap pertumbuhan ikan Cupang. Penelitian menggunakan Rancangan Acak Lengkap, dengan 3 perlakuan, dan setiap perlakuan memiliki 3 ulangan. Sampel tiap perlakuan adalah 5 ekor ikan Cupang betina usia 3 bulan. Pemeliharaan selama 4 minggu, dengan pengukuran biomassa ikan setiap minggu. Parameter tambahan adalah pH, suhu dan oksigen terlarut (DO). Hasil uji normalitas dengan uji Liliefors terhadap biomassa ikan menunjukkan signifikansi 0,200>a 0,05, menunjukkan data berdistribusi normal. Uji variansi dengan uji one-way Anova menunjukkan signifikansi 0,430>a 0,05, menunjukkan data biomassa ikan homogen. Uji F dengan one-way Anova menunjukkan nilai F hitung 0,757, dan nilai F tabel 3,220. F hitung = F tabel, maka Ho diterima. Perbedaan jenis pakan alami tidak memberikan pengaruh yang berbeda pada pertumbuhan ikan Cupang Pertumbuhan biomassa ikan Cupang dengan pakan jentik nyamuk adalah 2,04 gram,pakan Cacing darah (Larva Chironomus sp.) 2,15 gram dan dengan pakan alami Moina sp. 1,9 gram. pH air pada kisaran 6-7, sementara suhu pada 26-27oC dan DO 4,06-7,54ppm.\".split(),\n",
        "    #\"Tujuan Penelitian ini untuk mengevaluasi program pembinaan senam artistik di kabupaten pemalang. Metode penelitian yang digunakan yaitu deskriptif kualitatif. Pendekatan yang digunakan dalam penelitian evaluasi program ini adalah CIPP Model (Daniel Stufflebeam’s) ditinjau dari tahap context, input, proces, dan product. Ada tiga sekolah dasar yang berhasil membawa nama kabupaten pemalang untuk menjadi juara dalam kompetisi senam artistik tingkat Jawa Tengah, yaitu dari SDN Padek 01, SDN Pamutih 02 dan MI Muhammadiyah. Pengumpulan data menggunakan teknik Pengamatan(observasi), wawancara (interview) dan dokumentasi berupa arsip sebagai data pendukung. Sedangkan informan yang digunakan adalah Kepala Sekolah, Guru Penjasorkes/pelatih, siswa sebagai pesenam serta orang tua siswa. penelitian menunjukan bahwa: Pada tahap input perekrutan atlet sebagai peserta pelatihan secara suka rela sesuai dengan minat dan bakat dicari sejak dia masuk kelas satu,untuk kriteria yang ditetapkan dilaksanakan dengan baik,fasilitas yang kurang memadai,sarana prasarana kurang memadai dan sederhana.\".split(),\n",
        "\n",
        "    #\"Tujuan Penelitian untuk mengetahui pengaruh trust , risk and technology acceptance models, perceived case of use, perceived usefulness, perceived of credibility, terhadap minat nasabah dalam menggunakan internet banking? Dan bagaimana pengaruh minat nasabah dalam menggunakan internet banking terhadap keputusan dalam bertransaksi dengan internet banking? Serta bagaimana pengaruh minat nasabah dalam menggunakan internet banking memediasi hubungan antara trust, risk and technology acceptance models dengan keputusan dalam bertransaksi dengan internet banking? Hasil pembahasan penelitian ini dapat di ambil kesimpulan sebagai berikut: Trust berpengaruh terhadap minat nasabah dalam menggunakan internet banking, Risk berpengaruh terhadap minat nasabah dalam menggunakan internet banking, Perceived case of use berpengaruh terhadap minat nasabah dalam menggunakan internet banking, Perceived usefullnes berpengaruh terhadap minat nasabah dalam menggunakan internet banking, Perceived of credibility berpengaruh terhadap minat nasabah dalam menggunakan internet banking, Minat nasabah dalam menggunakan internet banking berpengaruh terhadap keputusan dalam bertransaksi, Minat nasabah dalam menggunakan internet banking dapat memediasi hubungan antara trust, risk and technology acceptance models dengan keputusan dalam bertransaksi dengan internet banking.\".split(),\n",
        "    #\"Kedelai (Glycine max L. Merrill) merupakan komoditas yang cukup penting karena kaya akan kandungan protein dan merupakan pangan fungsional yang mengandung zat isoflavon sebagai antioksidan. Kebutuhan kedelai dalam negeri cukup tinggi sementara produksi dan luas panen menurun, sehingga perlu dilakukan peningkatan melalui perluasan areal tanam. Penelitian ini bertujuan untuk mendapatkan informasi pertumbuhan dan hasil tanaman tiga varietas kedelai terhadap berbagai interval pemberian air irigasi pada lahan sawah beriklim kering. Penelitian dilaksanakan di Desa Sesela, Kecamatan Gunung Sari, Kabupaten Lombok Barat, Nusa Tenggara Barat dari bulan Juli hingga Oktober 2015. Percobaan disusun menggunakan rancangan petak terpisah dengan tiga ulangan. Petak utama yang digunakan adalah interval pemberian air yang terdiri dari 5 taraf yaitu 2, 9, 16, 23, dan 30 hari sekali, sedangkan anak petak terdiri atas varietas kedelai yaitu varietas Anjasmoro, Burangrang dan Tanggamus. Hasil penelitian menunjukkan interaksi antara interval pemberian air dan varietas meningkatkan pertumbuhan yaitu tinggi tanaman, jumlah daun, luas daun, bobot 100 biji, jumlah polong produktif serta produktivitas. Varietas Tanggamus memiliki jumlah polong tertinggi sebanyak 146.33 dan produktivitas 4.2 ton ha dilahan sawah beriklim kering.\".split(),\n",
        "    #\"Diabetes mellitus (DM) adalah penyakit metabolik yang ditandai hiperglikemik kronis. HbA1c merupakan hasil pemeriksaan untuk melihat kontrol glikemik. Zinc dan Selenium merupakan faktor metaloenzim, berperan dalam mekanisme regulasi dan sintesis insulin. Penelitian ini bertujuan untuk mengeksplorasi hubungan antara Zinc dan Selenium dengan HbA1C pada pasien DMT2. Desain cross sectional terhadap pasien DMT2. Sampel berjumlah 108 orang pasien di beberapa Rumah sakit di Bandung dari tahun 2011 s/d 2013. Sampel dilakukan secara purposive sampling. Zinc dan Selenium dikumpulkan dengan Semi Quantitative Food Frequency (SQFF). HbA1c diukur dengan metode afinitas kromatografi. Data dianalisis dengan Fisher Exact dan uji korelasi Spearman (p<0,05). Penelitian ini telah mendapat persetujuan Komite Etik. Penelitian menunjukkan bahwa ada hubungan bermakna antara Zinc, Selenium dan HbA1c (p<0,001). Ada hubungan antara Zinc dan Selenium dengan HbA1c, sehingga penatalaksanaan diit dengan asupan Zinc dan Selenium sangat diperlukan dalam regulasi pasien DMT2.\".split(),\n",
        "\n",
        "    #\"Kemiskinan merupakan permasalahan serius yang dapat menghambat pembangunan ekonomi dalam sebuah negara. Kemiskinan di Jawa Timur untuk saat ini telah mengalami penurunan. Namun, saat ini untuk daerah tertentu terjadi kenaikan angka  kemiskinan yaitu Kota Probolinggo. Kota  Probolinggo  terkenal  sebagai  kota wisata dengan destinasi Gunung Bromo, di sisi lain kemiskinan Kota Probolinggo dalam dua tahun terakhir terjadi kenaikan akibat adanya pandemic Covid-19.Jika  angka kemiskinan wilayah tersebut mengalami kenaikan secara signifikan tiap tahunnya maka menyebabkan negara atau wilayah tersebut mengalami hambatan dalam sebuah pembangunan ekonomi. Penelitian ini dilakukan bertujuan agar memperoleh nilai yang paling akurat terhadap peramalan dengan model estimasi pemulusan menggunakan metode pemulusan eksponensial ganda (DES) dua parameter dari Holt.Hasil peramalan yang paling baik ialah nilai a= 0,9 dan ß= 0,4 dengan MAPE didapatkan yaitu sebesar 14,92% menunjukkan  bahwa  model yang  didapatkan tergolong kategori baik dalam melakukan sebuah peramalan. Hasil prediksi yang dihasilkan menunjukkan trend naik dalam melakukan prediksi kemiskinan dengan jangka waktu 5 tahun kemudian.\".split(),\n",
        "    \"Data Vs30 banyak digunakan dalam berbagai persamaan empiris. Data tersebut dapat diperoleh dari data mikrotremor dan model topografi USGS. Penelitian ini bertujuan untuk menghitung rasio antara Vs30 mikrotremor dan Vs30 USGS. Data yang digunakan sebanyak 11 titik pengukuran mikrotremor di Kecamatan Jetis dan model topografi yang diperoleh dari website USGS. Vs30 mikrotremor dihasilkan dari model ground profile dengan nilai misfit terendah. Hasil perhitungan menunjukkan Vs30 berdasarkan data mikrotremor di Kecamatan Jetis bervariasi dari 145,22 – 251,24 m/s. Vs30 USGS di Kecamatan Jetis bervariasi dari 243,07 – 384,35 m/s. Rasio Vs30 mikrotremor dan Vs30 USGS bervariasi dari 0,49 – 0,97. Hal ini menunjukkan bahwa data Vs30 USGS tidak berbeda jauh dengan hasil Vs30 data mikrotremor.\".split(),\n",
        "]\n",
        "\n",
        "output_model = [\n",
        "    \"Menggigil dalam operasi penting untuk kesehatan, terutama untuk pencegahan penyakit.Pasien dengan konsentrasi COVID-19 paling banyak di usia 25-50 tahun di usia 25-59 tahun. Penelitian ini menggunakan data primer, sampel, dan bivariat, dengan uji statistik preventif dan bivariat. Analisis preventif dari data primer dan preventif dilakukan dengan tes statistik preventif dan uji normalitas. Hasil penelitian menunjukkan bahwa frekuensi preventive responden memberikan pengaruh terhadap responsiveness dan rasa aman pasien. Hasil penelitian menunjukkan bahwa pasien dengan kondisi awal 30-65 tahun menunjukkan kondisi yang tidak normal (ftal 71,3). Kondisi awal 30-65 tahun menunjukkan kondisi yang tidak normal (ftal 71,4). Keluhan meningkat pada 72,6% pasien dengan kondisi awal 30-65 tahun. Penggunaan gas anestesi sevofluran, meningkatkan efisiensi termoregulasi dan waktu operasi, meningkatkan efisiensi waktu operasi, dan meningkatkan efisiensi waktu operasi. Pemberian terapi suportif pada kondisi dada atau perut terbuka meningkatkan kondisi pasien\".split(),\n",
        "    \"Cupang dari Asia tenggara memiliki karakteristik tubuh berwarna keperakan dengan bundaran hitam dan bintik-bintik hitam pada sirip punggung. Penentuan kondisi optimal untuk pertumbuhan dan perkembangan ikan. Analisa menggunakan pellet menunjukkan lingkungan yang baik untuk pertumbuhan dan perkembangan ikan. Penambahan pakan alami penting untuk pertumbuhan dan perkembangan ikan. Metode penelitian meliputi rancangan acak lengkap dengan 3 perlakuan dan penimbangan, seleksi, dan penimbangan. Penelitian ini menggunakan indeks kontras untuk mengetahui pengaruh antar perlakuan, serta uji normalitas untuk melihat pengaruh antar perlakuan. Hasil dan Pembahasan Data genom ikan menunjukkan perbedaan signifikan pada data. Diperlukan data tambahan, termasuk tabel uji. Kecukupan gizi dan protein yang tinggi, dapat menjadi alternatif pakan alami. Faktor yang mempengaruhi pertumbuhan ikan adalah faktor genetik, kualitas air, ketahanan tubuh ikan, dan peningkatan kualitas air. Kualitas air mempengaruhi daya tahan ikan selama pemeliharaan. Didapatkan konsentrasi oksigen terlarut dalam air. Betta spendens memiliki pertumbuhan ikan lebih baik, dengan peningkatan laju pertumbuhan ikan.\".split(),\n",
        "    \"Penelitian ini menganalisis kinerja dan prestasi dari pelatihan dan pembelajaran siswa karate INKAI di kota Tegal, analisis dilakukan dengan pendekatan kuantitatif. Penelitian ini menganalisis kinerja dan prestasi dari pelatihan dan pembelajaran siswa. Pendidikan dasar adalah pendidikan dasar untuk mengembangkan pola-pola dasar olahraga yang benar-benar penting. Prestasi dalam program latihan tertulis melibatkan peningkatan kemampuan fisik, mental, dan prestasi individu. Strategi pemasaran mengoptimalkan penggunaan sumber daya manusia Indonesia untuk membangun olahraga, terutama sepak bola. Evaluasi meningkatkan pemahaman tentang masalah yang dihadapi oleh generasi muda dalam upaya menciptakan olahraga yang efektif. Metode pelatihan pesenam adalah sederhana, aman, sehat, dan efisien. Model evaluasi menunjukkan kepuasan dengan data, wawancara, dan dokumentasi. Penelitian ini menghasilkan 3 aspek konsep input, elemen sistem input, dan faktor dukungan. Aspek-aspek tersebut meningkatkan kemampuan peserta program, sehingga strategi dalam program adalah efektif. Penggunaan sarana dan prasarana yang mendukung pengembangan dan pembinaan, memerlukan fasilitas dan prasarana, termasuk sarana dan prasarana. Penelitian ini menghasilkan 4 aspek konsep proses seleksi, aspek waktu pelaksan, dan aspek biaya. Seleksi penerimaan siswa berdasarkan bakat dan prestasi akademik menunjukkan prestasi yang tinggi. Hasil penelitian menunjukkan bahwa Input penyeleksian peserta didik dengan alat peraga sesuai dengan minat dan bakat peserta didik.\".split(),\n",
        "\n",
        "    \"Pertumbuhan pengguna internet di Indonesia, mencapai 105% per tahun. Di Indonesia, internet tumbuh dengan baik. Diharapkan dengan layanan internet banking, kemudahan dan kecukupan data, online banking meningkatkan efisiensi dan efisiensi transaksi perbankan. Kegunaan dan Keandalan model, termasuk dalam teknologi, adalah untuk melihat pengaruh, kemudahan, dan kepercayaan terhadap risk and technology. Penelitian menunjukkan pengaruh trust, risk and technology acceptance models, dan perceived, terhadap minat dan minat pengguna internet, termasuk emosinya. Penelitian ini menganalisis pengaruh penggunaan internet banking terhadap kondisi bank dan memberikan manfaat untuk meningkatkan taraf hidup masyarakat. Resiko menunjukkan hubungan positif, negatif, dan negatif, dengan mekanisme operasional dan pengawasan. Pengembangan model menggunakan TRITAM, tujuan penelitian ini adalah analisis data untuk mengetahui pengaruh tujuan dan manfaat dari penggunaan teknologi internet banking dan tujuan. Penelitian ini menggunakan data primer, analisis statistik, uji validitas, dan analisis matriks. Evaluasi kriteria goodness of fit, termasuk tes validitas, uji korelasi, uji korelasi, dan uji korelasi. Pengujian hipotesis dilakukan dengan uji t untuk melihat pengaruh positif, positif, dan negatif terhadap minat menggunakan internet banking. Hipotesis ketujuh menyatakan minat positif, positif, dan negatif. Hasil penelitian menunjukkan bahwa minat positif, positif, dan negatif menunjukkan keputusan berpengaruh positif. Penelitian ini menganalisis pengaruh internet banking terhadap minat dan minat konsumen dalam menggunakan internet banking.\".split(),\n",
        "    \"Kandungan karbohidrat dan protein kedelai tinggi, namun kekurangan cadangan untuk tanaman kedelai. Penelitian ini menentukan interval pemberian air dan pengelolaan sumber air untuk tanaman hidroponik tanaman hidroponik. Penelitian dilakukan di lahan pertanian, Desa Sesela, Kecamatan Gunung Sari, Kabupaten Lombok Barat, menggunakan model zona hambat Strength ( RPS ) dan jangkauan deteksi ( SD ) yang lebih besar dari jalur ukur ( SD ) sehingga menghasilkan rasio deteksi 0,4, dan batas atas yang lebih baik ( SD ) sehingga menghasilkan rasio deteksi 0,4, dan batas Penanaman kedelai dilakukan dengan jarak 25 cm, perakaran, pembuangan, dan pembuangan. Di lokasi penelitian, kondisi udara memiliki suhu 26 oC, kelembaban 88,9 cm-4,2, suhu udara 25,9 oC, dan kelembaban. Pertanaman selada memiliki suhu rata-rata 25,9 oC, intensitas radiasi maksimum 14,2 MJ. Analisis data menunjukkan bahwa suhu rata-rata untuk penanaman kedelai di wilayah ini berkisar antara 24,3-27,1 oC. Analisis data dilakukan dengan menggunakan aplik si komputer untuk mendeteksi keberadaan tanaman selada. Data diambil dengan menggunakan program komputer untuk dianalisis. Pengaruh interval terhadap pertumbuhan ragam menunjukkan variasi hubungan antara interval pemberian air dan varietas, meningkatkan jumlah pengamatan, dan peningkatan konsentrasi. Perbandingan variasi perlakuan interval pemberian air dan varietas sehat dengan variasi perlakuan interval pemberian air dan varietas sehat. Perlakuan interval pemberian air terhadap tanaman kacang hijau memberikan respon berbeda nyata terhadap pertumbuhan tanaman kacang hijau. Pengaruh Interval Pemberian Air terhadap Produksi Jagung, Segar, dan Gula mempengaruhi pertumbuhan tanaman berdasarkan persentase data. Perlakuan terbaik terhadap kacang-kacangan dengan konsentrasi terbaik menunjukkan hasil yang nyata./nPeningkatan pertumbuhan dan produktivitas tanaman sayuran, meningkatkan produksi tanaman, jumlah daun, dan bobot 100 biji per tanaman.\".split(),\n",
        "    \"Penyakit degeneratif dengan gejala klinis tinggi, penurunan konsentrasi, resiko penyakit, dan waktu tunggu yang tidak normal. Pengendalian DM penting untuk kesehatan dan ketahanan tubuh. Selenium berperan dalam pengaturan aktivitas hormon, termasuk aktivitas antioksidan, sebagai kontrol selenium. Penelitian ini menggunakan metode Fuzzy Logic untuk menentukan tingkat kepercayaan dan penyakit pada kuesioner. Ciri-ciri Sampel Berdasarkan hasil penelitian menunjukkan bahwa kadar HbA1c lebih rendah daripada sampel lainnya. Hubungan asupan Zinc dan asupan selenium memenuhi standar internasional, termasuk dalam penelitian, uji statistik, dan uji korelasi. Penelitian ini menunjukkan hubungan positif antara asupan Zinc dan kadar HbA1c, dengan hasil penelitian menunjukkan hubungan positif signifikan antara asupan selenium dan kadar HbA1c. Peran Zinc sebagai antioksidan adalah mengurangi ROS melalui pengurangan toksisitas, mengurangi ROS, dan meningkatkan nilai glikosida (HbA2 ). Peningkatan konsentrasi HbA1c dengan selenium meningkatkan konsentrasi HbA1c, Copper (Cu ) meningkatkan konsentrasi, mengurangi penggunaan obat antioksi dan obesitas.\".split(),\n",
        "\n",
        "    \"Kemiskinan merupakan masalah penting dalam pembangunan perekonomian di Indonesia. Masalah kemiskinan merupakan masalah penting dalam pembangunan perekonomian Indonesia. Dalam penelitian ini, deret waktu menunjukkan pola data yang signifikan. Distribusi data dilakukan secara acak pada periode tahun 2009-2018. Penelitian ini menggunakan metode double exponential smoothing, model prediksi peramalan untuk prediksi  inflasi. Metode ini menghasilkan peramalan persentase efisien peramalan dengan model prediksi pemulusan cepat, efisien, dan efisien. Peramalan menggunakan metode Exponential Smoothing untuk mengoptimalkan kemampuan berpikir kritis siswa. Metode pemulusan merupakan metode umum untuk menentukan model pemulusan. Metode ini menggunakan rata-rata persentase penurunan pada data peramalan dengan model yang digunakan. Metode Double Exponential Smoothing digunakan untuk mencari model terbaik. Model untuk peramalan kemiskinan kota Probolinggo memiliki pola time series. Model terbaik adalah model MAPE, dengan nilai MAPE sebesar 14,92%. Plotting hasil prediksi menunjukkan pola data cerah.Diperlukan data lebih akurat dan cepat untuk prediksi peramalan.Data aktual menunjukkan nilai µ yang berbeda, namun pola data yang dihasilkan cenderung naik.\".split(),\n",
        "    \"Vs30 menunjukkan kecepatan gelombang geser, sampel, dan akusisi. Penelitian ini menggunakan dua model Vs30, Vs30 mikrotremor, dan Vs30 USGS. Hasil penelitian menunjukkan bahwa model Vs30 AC-DC menggunakan berbagai metode Geopsy, termasuk algoritma SIFT, SVM-PSO, dan SVM-PSO. Deteksian mikrotremor dilakukan pada 11 titik di Kecamatan Kepanjen, Kabupaten Malang, dengan variasi waktu, akurasi, dan pengujian. Kecepatan gelombang geser pada lapisan kedua bervariasi dari 63,22 m/s, 63,23 m/s, 176,23 m/s, dan 186,25 m/s. Berdasarkan hasil perhitungan, Vs30 memiliki nilai Vs.05 ( 7,78 m/s, 7,78 m/s). Sama seperti model di atas, variasi nilai Vs.05 hanya berbeda jauh dengan variasi di atas. Distribusi Vs30 menunjukkan penurunan kecepatan aliran data Vs30 secara signifikan, dengan kisaran 150 m/s, namun hasil ini menunjukkan perbedaan besar.\".split(),\n",
        "    ]\n",
        "\n",
        "# Create a list of reference lists\n",
        "references_list = [[ref] for ref in references]\n",
        "\n",
        "# Calculate BLEU score for the entire corpus\n",
        "bleu_score_corpus = corpus_bleu(references_list, output_model)\n",
        "formatted_bleu_score = \"{:.3f}\".format(bleu_score_corpus)\n",
        "print(\"Corpus BLEU Score: \", formatted_bleu_score)"
      ],
      "metadata": {
        "colab": {
          "base_uri": "https://localhost:8080/"
        },
        "id": "swx9GAjztgbG",
        "outputId": "0abea225-cb0c-4c19-9ad1-9247abaa8500"
      },
      "execution_count": null,
      "outputs": [
        {
          "output_type": "stream",
          "name": "stdout",
          "text": [
            "Corpus BLEU Score:  0.043\n"
          ]
        }
      ]
    },
    {
      "cell_type": "markdown",
      "source": [
        "## ROUGE SCORE\n",
        "Metrik evaluasi yang fokus pada pengukuran kemiripan antara teks hasil terjemahan atau ringkasan dengan teks referensi. Skor ROUGE juga berkisar antara 0 dan 1, dan skor yang lebih tinggi menunjukkan kesamaan yang lebih besar. ROUGE memiliki beberapa variasi seperti ROUGE-N (untuk n-gram), ROUGE-L (untuk kesamaan urutan kata terpanjang), dan lainnya."
      ],
      "metadata": {
        "id": "Q4H0d7PJf9P3"
      }
    },
    {
      "cell_type": "code",
      "source": [
        "!pip install rouge_score"
      ],
      "metadata": {
        "colab": {
          "base_uri": "https://localhost:8080/"
        },
        "id": "2m1Jhz2ZgHEL",
        "outputId": "d439fab7-726b-486f-b465-1e805c3be2f4"
      },
      "execution_count": null,
      "outputs": [
        {
          "output_type": "stream",
          "name": "stdout",
          "text": [
            "Collecting rouge_score\n",
            "  Downloading rouge_score-0.1.2.tar.gz (17 kB)\n",
            "  Preparing metadata (setup.py) ... \u001b[?25l\u001b[?25hdone\n",
            "Requirement already satisfied: absl-py in /usr/local/lib/python3.10/dist-packages (from rouge_score) (1.4.0)\n",
            "Requirement already satisfied: nltk in /usr/local/lib/python3.10/dist-packages (from rouge_score) (3.8.1)\n",
            "Requirement already satisfied: numpy in /usr/local/lib/python3.10/dist-packages (from rouge_score) (1.23.5)\n",
            "Requirement already satisfied: six>=1.14.0 in /usr/local/lib/python3.10/dist-packages (from rouge_score) (1.16.0)\n",
            "Requirement already satisfied: click in /usr/local/lib/python3.10/dist-packages (from nltk->rouge_score) (8.1.7)\n",
            "Requirement already satisfied: joblib in /usr/local/lib/python3.10/dist-packages (from nltk->rouge_score) (1.3.2)\n",
            "Requirement already satisfied: regex>=2021.8.3 in /usr/local/lib/python3.10/dist-packages (from nltk->rouge_score) (2023.6.3)\n",
            "Requirement already satisfied: tqdm in /usr/local/lib/python3.10/dist-packages (from nltk->rouge_score) (4.66.1)\n",
            "Building wheels for collected packages: rouge_score\n",
            "  Building wheel for rouge_score (setup.py) ... \u001b[?25l\u001b[?25hdone\n",
            "  Created wheel for rouge_score: filename=rouge_score-0.1.2-py3-none-any.whl size=24933 sha256=06bbae8bcbc18f7e26e92dc250de9826b913d620d4f8801b643177f40fcdbbd9\n",
            "  Stored in directory: /root/.cache/pip/wheels/5f/dd/89/461065a73be61a532ff8599a28e9beef17985c9e9c31e541b4\n",
            "Successfully built rouge_score\n",
            "Installing collected packages: rouge_score\n",
            "Successfully installed rouge_score-0.1.2\n"
          ]
        }
      ]
    },
    {
      "cell_type": "code",
      "source": [
        "from rouge_score import rouge_scorer\n",
        "\n",
        "scorer = rouge_scorer.RougeScorer(['rouge1', 'rouge2', 'rougeL'], use_stemmer=True)\n",
        "candidate_summary = \"Menggigil dalam operasi penting untuk kesehatan, terutama untuk pencegahan penyakit.Pasien dengan konsentrasi COVID-19 paling banyak di usia 2550 tahun di usia 25-59 tahun. Penelitian ini menggunakan data primer, sampel, dan bivariat, dengan uji statistik preventif dan bivariat. Analisis preventif dari data primer dan preventif dilakukan dengan tes statistik preventif dan uji normalitas. Hasil penelitian menunjukkan bahwa frekuensi preventive responden memberikan pengaruh terhadap responsiveness dan rasa aman pasien. Hasil penelitian menunjukkan bahwa pasien dengan kondisi awal 30-65 tahun menunjukkan kondisi yang tidak normal (ftal 71,3). Kondisi awal 30-65 tahun menunjukkan kondisi yang tidak normal (ftal 71,4). Keluhan meningkat pada 72,6% pasien dengan kondisi awal 30-65 tahun. Penggunaan gas anestesi sevofluran, meningkatkan efisiensi termoregulasi dan waktu operasi, meningkatkan efisiensi waktu operasi, dan meningkatkan efisiensi waktu operasi. Pemberian terapi suportif pada kondisi dada atau perut terbuka meningkatkan kondisi pasien.\"\n",
        "reference_summary = \"Menggigil (shivering) pasca operasi adalah salah satu komplikasi yang sering terjadi pada anestesi umum. Menggigil dapat mengakibatkan keadaan yang kurang nyaman dan berbagai resiko seperti perdarahan yang meningkat, gangguan penyembuhan luka, pemulihan yang lama pasca anestesi, serta meningkatkan risiko terkena infeksi. Penelitian ini bertujuan untuk mengetahui adanya hubungan umur dengan kejadian menggigil pasca operasi di rumah sakit. Rancangan penelitian menggunakan metode observasional analitik dengan desain studi cross-sectional, dilakukan di RSUD Salatiga pada bulan Maret 2022. Data penelitian menggunakan data primer dengan subjek semua pasien yang masuk ke RSUD Salatiga dan memenuhi kriteria inklusi operasi elektif ringan hingga sedang menggunakan anestesi umum. Analisis data dengan uji chi-square menggunakan signifikansi (p<0,05). Hasil penelitian didapatkan kejadian menggigil pada 4 kasus (7,7%) dari 52 subjek. Menggigil pasca operasi lebih banyak terjadi pada wanita (3 orang) dibandingkan pria (1 orang). Pada rentang umur 45-65 tahun mempunyai kejadian 2 kasus (22,2%). Dari uji Chi-Square didapatkan bahwa tidak terdapat hubungan yang signifikan antara umur dengan kejadian menggigil (Shivering) pasca operasi (p>0,05). Pada pasien umur lanjut dapat mengakibatkan pergeseran ambang termoregulasi dengan derajat yang lebih tinggi dibanding dengan pasien berumur muda, sehingga memiliki resiko tinggi mengalami menggigil. Kesimpulan penelitian ini tidak didapatkan hubungan antara umur dengan kejadian menggigil pasca anestesi umum, tetapi semakin tua sering terjadi menggigil.\"\n",
        "scores = scorer.score(reference_summary, candidate_summary)\n",
        "for key in scores:\n",
        "    print(f'{key}: {scores[key]}')"
      ],
      "metadata": {
        "colab": {
          "base_uri": "https://localhost:8080/"
        },
        "id": "TS4FbEghpeF1",
        "outputId": "f72bfaaa-9ffa-42af-9c02-c0242cbe0c7e"
      },
      "execution_count": null,
      "outputs": [
        {
          "output_type": "stream",
          "name": "stdout",
          "text": [
            "rouge1: Score(precision=0.3310344827586207, recall=0.2191780821917808, fmeasure=0.26373626373626374)\n",
            "rouge2: Score(precision=0.041666666666666664, recall=0.027522935779816515, fmeasure=0.03314917127071824)\n",
            "rougeL: Score(precision=0.1793103448275862, recall=0.1187214611872146, fmeasure=0.14285714285714285)\n"
          ]
        }
      ]
    },
    {
      "cell_type": "code",
      "source": [
        "from rouge_score import rouge_scorer\n",
        "\n",
        "scorer = rouge_scorer.RougeScorer(['rouge1', 'rouge2', 'rougeL'], use_stemmer=True)\n",
        "candidate_summary = \"Kemiskinan merupakan masalah penting dalam pembangunan perekonomian di Indonesia. Masalah kemiskinan merupakan masalah penting dalam pembangunan perekonomian Indonesia. Dalam penelitian ini, deret waktu menunjukkan pola data yang signifikan. Distribusi data dilakukan secara acak pada periode tahun 2009-2018. Penelitian ini menggunakan metode double exponential smoothing, model prediksi peramalan untuk prediksi  inflasi. Metode ini menghasilkan peramalan persentase efisien peramalan dengan model prediksi pemulusan cepat, efisien, dan efisien. Peramalan menggunakan metode Exponential Smoothing untuk mengoptimalkan kemampuan berpikir kritis siswa. Metode pemulusan merupakan metode umum untuk menentukan model pemulusan. Metode ini menggunakan rata-rata persentase penurunan pada data peramalan dengan model yang digunakan. Metode Double Exponential Smoothing digunakan untuk mencari model terbaik. Model untuk peramalan kemiskinan kota Probolinggo memiliki pola time series. Model terbaik adalah model MAPE, dengan nilai MAPE sebesar 14,92%. Plotting hasil prediksi menunjukkan pola data cerah. Diperlukan data lebih akurat dan cepat untuk prediksi peramalan. Data aktual menunjukkan nilai µ yang berbeda, namun pola data yang dihasilkan cenderung naik.\"\n",
        "reference_summary = \"Kemiskinan merupakan permasalahan serius yang dapat menghambat pembangunan ekonomi dalam sebuah negara. Kemiskinan di Jawa Timur untuk saat ini telah mengalami penurunan. Namun, saat ini untuk daerah tertentu terjadi kenaikan angka  kemiskinan yaitu Kota Probolinggo. Kota  Probolinggo  terkenal  sebagai  kota wisata dengan destinasi Gunung Bromo, di sisi lain kemiskinan Kota Probolinggo dalam dua tahun terakhir terjadi kenaikan akibat adanya pandemic Covid-19.Jika  angka kemiskinan wilayah tersebut mengalami kenaikan secara signifikan tiap tahunnya maka menyebabkan negara atau wilayah tersebut mengalami hambatan dalam sebuah pembangunan ekonomi. Penelitian ini dilakukan bertujuan agar memperoleh nilai yang paling akurat terhadap peramalan dengan model estimasi pemulusan menggunakan metode pemulusan eksponensial ganda (DES) dua parameter dari Holt.Hasil peramalan yang paling baik ialah nilai a= 0,9 dan ß= 0,4 dengan MAPE didapatkan yaitu sebesar 14,92% menunjukkan  bahwa  model yang  didapatkan tergolong kategori baik dalam melakukan sebuah peramalan. Hasil prediksi yang dihasilkan menunjukkan trend naik dalam melakukan prediksi kemiskinan dengan jangka waktu 5 tahun kemudian.\"\n",
        "scores = scorer.score(reference_summary, candidate_summary)\n",
        "for key in scores:\n",
        "    print(f'{key}: {scores[key]}')"
      ],
      "metadata": {
        "colab": {
          "base_uri": "https://localhost:8080/"
        },
        "id": "ai4bnjY1pvvI",
        "outputId": "7eae0308-c279-43cb-b2eb-39abbcb1d2d5"
      },
      "execution_count": null,
      "outputs": [
        {
          "output_type": "stream",
          "name": "stdout",
          "text": [
            "rouge1: Score(precision=0.3522012578616352, recall=0.35, fmeasure=0.3510971786833855)\n",
            "rouge2: Score(precision=0.08860759493670886, recall=0.0880503144654088, fmeasure=0.08832807570977917)\n",
            "rougeL: Score(precision=0.18238993710691823, recall=0.18125, fmeasure=0.18181818181818182)\n"
          ]
        }
      ]
    },
    {
      "cell_type": "code",
      "source": [
        "from rouge_score import rouge_scorer\n",
        "\n",
        "scorer = rouge_scorer.RougeScorer(['rouge1', 'rouge2', 'rougeL'], use_stemmer=True)\n",
        "reference_summary = [\"Data Vs30 banyak digunakan dalam berbagai persamaan empiris. Data tersebut dapat diperoleh dari data mikrotremor dan model topografi USGS. Penelitian ini bertujuan untuk menghitung rasio antara Vs30 mikrotremor dan Vs30 USGS. Data yang digunakan sebanyak 11 titik pengukuran mikrotremor di Kecamatan Jetis dan model topografi yang diperoleh dari website USGS. Vs30 mikrotremor dihasilkan dari model ground profile dengan nilai misfit terendah. Hasil perhitungan menunjukkan Vs30 berdasarkan data mikrotremor di Kecamatan Jetis bervariasi dari 145,22 – 251,24 m/s. Vs30 USGS di Kecamatan Jetis bervariasi dari 243,07 – 384,35 m/s. Rasio Vs30 mikrotremor dan Vs30 USGS bervariasi dari 0,49 – 0,97. Hal ini menunjukkan bahwa data Vs30 USGS tidak berbeda jauh dengan hasil Vs30 data mikrotremor.\"]\n",
        "candidate_summary = [\"Vs30 menunjukkan kecepatan gelombang geser, sampel, dan akusisi. Penelitian ini menggunakan dua model Vs30, Vs30 mikrotremor, dan Vs30 USGS. Hasil penelitian menunjukkan bahwa model Vs30 AC-DC menggunakan berbagai metode Geopsy, termasuk algoritma SIFT, SVM-PSO, dan SVM-PSO. Deteksian mikrotremor dilakukan pada 11 titik di Kecamatan Kepanjen, Kabupaten Malang, dengan variasi waktu, akurasi, dan pengujian. Kecepatan gelombang geser pada lapisan kedua bervariasi dari 63,22 m/s, 63,23 m/s, 176,23 m/s, dan 186,25 m/s. Berdasarkan hasil perhitungan, Vs30 memiliki nilai Vs.05 ( 7,78 m/s, 7,78 m/s). Sama seperti model di atas, variasi nilai Vs.05 hanya berbeda jauh dengan variasi di atas. Distribusi Vs30 menunjukkan penurunan kecepatan aliran data Vs30 secara signifikan, dengan kisaran 150 m/s, namun hasil ini menunjukkan perbedaan besar.\"]\n",
        "scores = scorer.score(candidate_summary, reference_summary)\n",
        "for key in scores:\n",
        "    print(f'{key}: {scores[key]}')"
      ],
      "metadata": {
        "colab": {
          "base_uri": "https://localhost:8080/",
          "height": 564
        },
        "id": "YSyebzWJfuyc",
        "outputId": "210a9101-f147-499c-e7d2-43eeded4af54"
      },
      "execution_count": null,
      "outputs": [
        {
          "output_type": "error",
          "ename": "AttributeError",
          "evalue": "ignored",
          "traceback": [
            "\u001b[0;31m---------------------------------------------------------------------------\u001b[0m",
            "\u001b[0;31mAttributeError\u001b[0m                            Traceback (most recent call last)",
            "\u001b[0;32m<ipython-input-14-cdb7cabb7c77>\u001b[0m in \u001b[0;36m<cell line: 6>\u001b[0;34m()\u001b[0m\n\u001b[1;32m      4\u001b[0m \u001b[0mreference_summary\u001b[0m \u001b[0;34m=\u001b[0m \u001b[0;34m[\u001b[0m\u001b[0;34m\"Data Vs30 banyak digunakan dalam berbagai persamaan empiris. Data tersebut dapat diperoleh dari data mikrotremor dan model topografi USGS. Penelitian ini bertujuan untuk menghitung rasio antara Vs30 mikrotremor dan Vs30 USGS. Data yang digunakan sebanyak 11 titik pengukuran mikrotremor di Kecamatan Jetis dan model topografi yang diperoleh dari website USGS. Vs30 mikrotremor dihasilkan dari model ground profile dengan nilai misfit terendah. Hasil perhitungan menunjukkan Vs30 berdasarkan data mikrotremor di Kecamatan Jetis bervariasi dari 145,22 – 251,24 m/s. Vs30 USGS di Kecamatan Jetis bervariasi dari 243,07 – 384,35 m/s. Rasio Vs30 mikrotremor dan Vs30 USGS bervariasi dari 0,49 – 0,97. Hal ini menunjukkan bahwa data Vs30 USGS tidak berbeda jauh dengan hasil Vs30 data mikrotremor.\"\u001b[0m\u001b[0;34m]\u001b[0m\u001b[0;34m\u001b[0m\u001b[0;34m\u001b[0m\u001b[0m\n\u001b[1;32m      5\u001b[0m \u001b[0mcandidate_summary\u001b[0m \u001b[0;34m=\u001b[0m \u001b[0;34m[\u001b[0m\u001b[0;34m\"Vs30 menunjukkan kecepatan gelombang geser, sampel, dan akusisi. Penelitian ini menggunakan dua model Vs30, Vs30 mikrotremor, dan Vs30 USGS. Hasil penelitian menunjukkan bahwa model Vs30 AC-DC menggunakan berbagai metode Geopsy, termasuk algoritma SIFT, SVM-PSO, dan SVM-PSO. Deteksian mikrotremor dilakukan pada 11 titik di Kecamatan Kepanjen, Kabupaten Malang, dengan variasi waktu, akurasi, dan pengujian. Kecepatan gelombang geser pada lapisan kedua bervariasi dari 63,22 m/s, 63,23 m/s, 176,23 m/s, dan 186,25 m/s. Berdasarkan hasil perhitungan, Vs30 memiliki nilai Vs.05 ( 7,78 m/s, 7,78 m/s). Sama seperti model di atas, variasi nilai Vs.05 hanya berbeda jauh dengan variasi di atas. Distribusi Vs30 menunjukkan penurunan kecepatan aliran data Vs30 secara signifikan, dengan kisaran 150 m/s, namun hasil ini menunjukkan perbedaan besar.\"\u001b[0m\u001b[0;34m]\u001b[0m\u001b[0;34m\u001b[0m\u001b[0;34m\u001b[0m\u001b[0m\n\u001b[0;32m----> 6\u001b[0;31m \u001b[0mscores\u001b[0m \u001b[0;34m=\u001b[0m \u001b[0mscorer\u001b[0m\u001b[0;34m.\u001b[0m\u001b[0mscore\u001b[0m\u001b[0;34m(\u001b[0m\u001b[0mcandidate_summary\u001b[0m\u001b[0;34m,\u001b[0m \u001b[0mreference_summary\u001b[0m\u001b[0;34m)\u001b[0m\u001b[0;34m\u001b[0m\u001b[0;34m\u001b[0m\u001b[0m\n\u001b[0m\u001b[1;32m      7\u001b[0m \u001b[0;32mfor\u001b[0m \u001b[0mkey\u001b[0m \u001b[0;32min\u001b[0m \u001b[0mscores\u001b[0m\u001b[0;34m:\u001b[0m\u001b[0;34m\u001b[0m\u001b[0;34m\u001b[0m\u001b[0m\n\u001b[1;32m      8\u001b[0m     \u001b[0mprint\u001b[0m\u001b[0;34m(\u001b[0m\u001b[0;34mf'{key}: {scores[key]}'\u001b[0m\u001b[0;34m)\u001b[0m\u001b[0;34m\u001b[0m\u001b[0;34m\u001b[0m\u001b[0m\n",
            "\u001b[0;32m/usr/local/lib/python3.10/dist-packages/rouge_score/rouge_scorer.py\u001b[0m in \u001b[0;36mscore\u001b[0;34m(self, target, prediction)\u001b[0m\n\u001b[1;32m    126\u001b[0m       \u001b[0mprediction_tokens\u001b[0m \u001b[0;34m=\u001b[0m \u001b[0;32mNone\u001b[0m\u001b[0;34m\u001b[0m\u001b[0;34m\u001b[0m\u001b[0m\n\u001b[1;32m    127\u001b[0m     \u001b[0;32melse\u001b[0m\u001b[0;34m:\u001b[0m\u001b[0;34m\u001b[0m\u001b[0;34m\u001b[0m\u001b[0m\n\u001b[0;32m--> 128\u001b[0;31m       \u001b[0mtarget_tokens\u001b[0m \u001b[0;34m=\u001b[0m \u001b[0mself\u001b[0m\u001b[0;34m.\u001b[0m\u001b[0m_tokenizer\u001b[0m\u001b[0;34m.\u001b[0m\u001b[0mtokenize\u001b[0m\u001b[0;34m(\u001b[0m\u001b[0mtarget\u001b[0m\u001b[0;34m)\u001b[0m\u001b[0;34m\u001b[0m\u001b[0;34m\u001b[0m\u001b[0m\n\u001b[0m\u001b[1;32m    129\u001b[0m       \u001b[0mprediction_tokens\u001b[0m \u001b[0;34m=\u001b[0m \u001b[0mself\u001b[0m\u001b[0;34m.\u001b[0m\u001b[0m_tokenizer\u001b[0m\u001b[0;34m.\u001b[0m\u001b[0mtokenize\u001b[0m\u001b[0;34m(\u001b[0m\u001b[0mprediction\u001b[0m\u001b[0;34m)\u001b[0m\u001b[0;34m\u001b[0m\u001b[0;34m\u001b[0m\u001b[0m\n\u001b[1;32m    130\u001b[0m     \u001b[0mresult\u001b[0m \u001b[0;34m=\u001b[0m \u001b[0;34m{\u001b[0m\u001b[0;34m}\u001b[0m\u001b[0;34m\u001b[0m\u001b[0;34m\u001b[0m\u001b[0m\n",
            "\u001b[0;32m/usr/local/lib/python3.10/dist-packages/rouge_score/tokenizers.py\u001b[0m in \u001b[0;36mtokenize\u001b[0;34m(self, text)\u001b[0m\n\u001b[1;32m     48\u001b[0m \u001b[0;34m\u001b[0m\u001b[0m\n\u001b[1;32m     49\u001b[0m   \u001b[0;32mdef\u001b[0m \u001b[0mtokenize\u001b[0m\u001b[0;34m(\u001b[0m\u001b[0mself\u001b[0m\u001b[0;34m,\u001b[0m \u001b[0mtext\u001b[0m\u001b[0;34m)\u001b[0m\u001b[0;34m:\u001b[0m\u001b[0;34m\u001b[0m\u001b[0;34m\u001b[0m\u001b[0m\n\u001b[0;32m---> 50\u001b[0;31m     \u001b[0;32mreturn\u001b[0m \u001b[0mtokenize\u001b[0m\u001b[0;34m.\u001b[0m\u001b[0mtokenize\u001b[0m\u001b[0;34m(\u001b[0m\u001b[0mtext\u001b[0m\u001b[0;34m,\u001b[0m \u001b[0mself\u001b[0m\u001b[0;34m.\u001b[0m\u001b[0m_stemmer\u001b[0m\u001b[0;34m)\u001b[0m\u001b[0;34m\u001b[0m\u001b[0;34m\u001b[0m\u001b[0m\n\u001b[0m",
            "\u001b[0;32m/usr/local/lib/python3.10/dist-packages/rouge_score/tokenize.py\u001b[0m in \u001b[0;36mtokenize\u001b[0;34m(text, stemmer)\u001b[0m\n\u001b[1;32m     47\u001b[0m \u001b[0;34m\u001b[0m\u001b[0m\n\u001b[1;32m     48\u001b[0m   \u001b[0;31m# Convert everything to lowercase.\u001b[0m\u001b[0;34m\u001b[0m\u001b[0;34m\u001b[0m\u001b[0m\n\u001b[0;32m---> 49\u001b[0;31m   \u001b[0mtext\u001b[0m \u001b[0;34m=\u001b[0m \u001b[0mtext\u001b[0m\u001b[0;34m.\u001b[0m\u001b[0mlower\u001b[0m\u001b[0;34m(\u001b[0m\u001b[0;34m)\u001b[0m\u001b[0;34m\u001b[0m\u001b[0;34m\u001b[0m\u001b[0m\n\u001b[0m\u001b[1;32m     50\u001b[0m   \u001b[0;31m# Replace any non-alpha-numeric characters with spaces.\u001b[0m\u001b[0;34m\u001b[0m\u001b[0;34m\u001b[0m\u001b[0m\n\u001b[1;32m     51\u001b[0m   \u001b[0mtext\u001b[0m \u001b[0;34m=\u001b[0m \u001b[0mNON_ALPHANUM_RE\u001b[0m\u001b[0;34m.\u001b[0m\u001b[0msub\u001b[0m\u001b[0;34m(\u001b[0m\u001b[0;34m\" \"\u001b[0m\u001b[0;34m,\u001b[0m \u001b[0msix\u001b[0m\u001b[0;34m.\u001b[0m\u001b[0mensure_str\u001b[0m\u001b[0;34m(\u001b[0m\u001b[0mtext\u001b[0m\u001b[0;34m)\u001b[0m\u001b[0;34m)\u001b[0m\u001b[0;34m\u001b[0m\u001b[0;34m\u001b[0m\u001b[0m\n",
            "\u001b[0;31mAttributeError\u001b[0m: 'list' object has no attribute 'lower'"
          ]
        }
      ]
    },
    {
      "cell_type": "markdown",
      "source": [
        "## SARI\n",
        "Metrik evaluasi untuk mengevaluasi seberapa baik sistem mampu mengambil inti informasi dari teks sumber dan menggambarkannya dalam ringkasan. Metrik SARI memiliki rentang skor dari 0 hingga 100, di mana skor yang lebih tinggi menunjukkan kualitas terjemahan atau ringkasan yang lebih baik.\n",
        "\n",
        "\n",
        "\n",
        "\n",
        "\n",
        "\n"
      ],
      "metadata": {
        "id": "0GZeSfcXp7wY"
      }
    },
    {
      "cell_type": "code",
      "source": [
        "!pip install sacrebleu sacremoses"
      ],
      "metadata": {
        "colab": {
          "base_uri": "https://localhost:8080/"
        },
        "id": "-MPmUOnpp-0D",
        "outputId": "a63f06ae-8dca-449e-db75-16c3f37737cb"
      },
      "execution_count": null,
      "outputs": [
        {
          "output_type": "stream",
          "name": "stdout",
          "text": [
            "Collecting sacrebleu\n",
            "  Downloading sacrebleu-2.3.1-py3-none-any.whl (118 kB)\n",
            "\u001b[?25l     \u001b[90m━━━━━━━━━━━━━━━━━━━━━━━━━━━━━━━━━━━━━━━━\u001b[0m \u001b[32m0.0/118.9 kB\u001b[0m \u001b[31m?\u001b[0m eta \u001b[36m-:--:--\u001b[0m\r\u001b[2K     \u001b[91m━━━━━━━━━━━━━━━━━━━━━━━━━━━━━━━━━━━━\u001b[0m\u001b[91m╸\u001b[0m\u001b[90m━━\u001b[0m \u001b[32m112.6/118.9 kB\u001b[0m \u001b[31m3.9 MB/s\u001b[0m eta \u001b[36m0:00:01\u001b[0m\r\u001b[2K     \u001b[90m━━━━━━━━━━━━━━━━━━━━━━━━━━━━━━━━━━━━━━━\u001b[0m \u001b[32m118.9/118.9 kB\u001b[0m \u001b[31m3.0 MB/s\u001b[0m eta \u001b[36m0:00:00\u001b[0m\n",
            "\u001b[?25hCollecting sacremoses\n",
            "  Downloading sacremoses-0.0.53.tar.gz (880 kB)\n",
            "\u001b[2K     \u001b[90m━━━━━━━━━━━━━━━━━━━━━━━━━━━━━━━━━━━━━━\u001b[0m \u001b[32m880.6/880.6 kB\u001b[0m \u001b[31m10.6 MB/s\u001b[0m eta \u001b[36m0:00:00\u001b[0m\n",
            "\u001b[?25h  Preparing metadata (setup.py) ... \u001b[?25l\u001b[?25hdone\n",
            "Collecting portalocker (from sacrebleu)\n",
            "  Downloading portalocker-2.7.0-py2.py3-none-any.whl (15 kB)\n",
            "Requirement already satisfied: regex in /usr/local/lib/python3.10/dist-packages (from sacrebleu) (2023.6.3)\n",
            "Requirement already satisfied: tabulate>=0.8.9 in /usr/local/lib/python3.10/dist-packages (from sacrebleu) (0.9.0)\n",
            "Requirement already satisfied: numpy>=1.17 in /usr/local/lib/python3.10/dist-packages (from sacrebleu) (1.23.5)\n",
            "Collecting colorama (from sacrebleu)\n",
            "  Downloading colorama-0.4.6-py2.py3-none-any.whl (25 kB)\n",
            "Requirement already satisfied: lxml in /usr/local/lib/python3.10/dist-packages (from sacrebleu) (4.9.3)\n",
            "Requirement already satisfied: six in /usr/local/lib/python3.10/dist-packages (from sacremoses) (1.16.0)\n",
            "Requirement already satisfied: click in /usr/local/lib/python3.10/dist-packages (from sacremoses) (8.1.7)\n",
            "Requirement already satisfied: joblib in /usr/local/lib/python3.10/dist-packages (from sacremoses) (1.3.2)\n",
            "Requirement already satisfied: tqdm in /usr/local/lib/python3.10/dist-packages (from sacremoses) (4.66.1)\n",
            "Building wheels for collected packages: sacremoses\n",
            "  Building wheel for sacremoses (setup.py) ... \u001b[?25l\u001b[?25hdone\n",
            "  Created wheel for sacremoses: filename=sacremoses-0.0.53-py3-none-any.whl size=895240 sha256=4002d5c76a60b35e63790b2169822a69a1c72b152aaa5eaee344712a00f5d677\n",
            "  Stored in directory: /root/.cache/pip/wheels/00/24/97/a2ea5324f36bc626e1ea0267f33db6aa80d157ee977e9e42fb\n",
            "Successfully built sacremoses\n",
            "Installing collected packages: sacremoses, portalocker, colorama, sacrebleu\n",
            "Successfully installed colorama-0.4.6 portalocker-2.7.0 sacrebleu-2.3.1 sacremoses-0.0.53\n"
          ]
        }
      ]
    },
    {
      "cell_type": "code",
      "source": [
        "!pip install evaluate"
      ],
      "metadata": {
        "colab": {
          "base_uri": "https://localhost:8080/"
        },
        "id": "KEwhR0nPqKO5",
        "outputId": "e1d31e73-00e7-4dc7-8d65-25e13ff27792"
      },
      "execution_count": null,
      "outputs": [
        {
          "output_type": "stream",
          "name": "stdout",
          "text": [
            "Collecting evaluate\n",
            "  Downloading evaluate-0.4.0-py3-none-any.whl (81 kB)\n",
            "\u001b[2K     \u001b[90m━━━━━━━━━━━━━━━━━━━━━━━━━━━━━━━━━━━━━━━━\u001b[0m \u001b[32m81.4/81.4 kB\u001b[0m \u001b[31m2.6 MB/s\u001b[0m eta \u001b[36m0:00:00\u001b[0m\n",
            "\u001b[?25hCollecting datasets>=2.0.0 (from evaluate)\n",
            "  Downloading datasets-2.14.4-py3-none-any.whl (519 kB)\n",
            "\u001b[2K     \u001b[90m━━━━━━━━━━━━━━━━━━━━━━━━━━━━━━━━━━━━━━━\u001b[0m \u001b[32m519.3/519.3 kB\u001b[0m \u001b[31m9.2 MB/s\u001b[0m eta \u001b[36m0:00:00\u001b[0m\n",
            "\u001b[?25hRequirement already satisfied: numpy>=1.17 in /usr/local/lib/python3.10/dist-packages (from evaluate) (1.23.5)\n",
            "Collecting dill (from evaluate)\n",
            "  Downloading dill-0.3.7-py3-none-any.whl (115 kB)\n",
            "\u001b[2K     \u001b[90m━━━━━━━━━━━━━━━━━━━━━━━━━━━━━━━━━━━━━━━\u001b[0m \u001b[32m115.3/115.3 kB\u001b[0m \u001b[31m7.6 MB/s\u001b[0m eta \u001b[36m0:00:00\u001b[0m\n",
            "\u001b[?25hRequirement already satisfied: pandas in /usr/local/lib/python3.10/dist-packages (from evaluate) (1.5.3)\n",
            "Requirement already satisfied: requests>=2.19.0 in /usr/local/lib/python3.10/dist-packages (from evaluate) (2.31.0)\n",
            "Requirement already satisfied: tqdm>=4.62.1 in /usr/local/lib/python3.10/dist-packages (from evaluate) (4.66.1)\n",
            "Collecting xxhash (from evaluate)\n",
            "  Downloading xxhash-3.3.0-cp310-cp310-manylinux_2_17_x86_64.manylinux2014_x86_64.whl (194 kB)\n",
            "\u001b[2K     \u001b[90m━━━━━━━━━━━━━━━━━━━━━━━━━━━━━━━━━━━━━━\u001b[0m \u001b[32m194.1/194.1 kB\u001b[0m \u001b[31m10.2 MB/s\u001b[0m eta \u001b[36m0:00:00\u001b[0m\n",
            "\u001b[?25hCollecting multiprocess (from evaluate)\n",
            "  Downloading multiprocess-0.70.15-py310-none-any.whl (134 kB)\n",
            "\u001b[2K     \u001b[90m━━━━━━━━━━━━━━━━━━━━━━━━━━━━━━━━━━━━━━\u001b[0m \u001b[32m134.8/134.8 kB\u001b[0m \u001b[31m12.3 MB/s\u001b[0m eta \u001b[36m0:00:00\u001b[0m\n",
            "\u001b[?25hRequirement already satisfied: fsspec[http]>=2021.05.0 in /usr/local/lib/python3.10/dist-packages (from evaluate) (2023.6.0)\n",
            "Collecting huggingface-hub>=0.7.0 (from evaluate)\n",
            "  Downloading huggingface_hub-0.16.4-py3-none-any.whl (268 kB)\n",
            "\u001b[2K     \u001b[90m━━━━━━━━━━━━━━━━━━━━━━━━━━━━━━━━━━━━━━\u001b[0m \u001b[32m268.8/268.8 kB\u001b[0m \u001b[31m13.7 MB/s\u001b[0m eta \u001b[36m0:00:00\u001b[0m\n",
            "\u001b[?25hRequirement already satisfied: packaging in /usr/local/lib/python3.10/dist-packages (from evaluate) (23.1)\n",
            "Collecting responses<0.19 (from evaluate)\n",
            "  Downloading responses-0.18.0-py3-none-any.whl (38 kB)\n",
            "Requirement already satisfied: pyarrow>=8.0.0 in /usr/local/lib/python3.10/dist-packages (from datasets>=2.0.0->evaluate) (9.0.0)\n",
            "Requirement already satisfied: aiohttp in /usr/local/lib/python3.10/dist-packages (from datasets>=2.0.0->evaluate) (3.8.5)\n",
            "Requirement already satisfied: pyyaml>=5.1 in /usr/local/lib/python3.10/dist-packages (from datasets>=2.0.0->evaluate) (6.0.1)\n",
            "Requirement already satisfied: filelock in /usr/local/lib/python3.10/dist-packages (from huggingface-hub>=0.7.0->evaluate) (3.12.2)\n",
            "Requirement already satisfied: typing-extensions>=3.7.4.3 in /usr/local/lib/python3.10/dist-packages (from huggingface-hub>=0.7.0->evaluate) (4.7.1)\n",
            "Requirement already satisfied: charset-normalizer<4,>=2 in /usr/local/lib/python3.10/dist-packages (from requests>=2.19.0->evaluate) (3.2.0)\n",
            "Requirement already satisfied: idna<4,>=2.5 in /usr/local/lib/python3.10/dist-packages (from requests>=2.19.0->evaluate) (3.4)\n",
            "Requirement already satisfied: urllib3<3,>=1.21.1 in /usr/local/lib/python3.10/dist-packages (from requests>=2.19.0->evaluate) (2.0.4)\n",
            "Requirement already satisfied: certifi>=2017.4.17 in /usr/local/lib/python3.10/dist-packages (from requests>=2.19.0->evaluate) (2023.7.22)\n",
            "Requirement already satisfied: python-dateutil>=2.8.1 in /usr/local/lib/python3.10/dist-packages (from pandas->evaluate) (2.8.2)\n",
            "Requirement already satisfied: pytz>=2020.1 in /usr/local/lib/python3.10/dist-packages (from pandas->evaluate) (2023.3)\n",
            "Requirement already satisfied: attrs>=17.3.0 in /usr/local/lib/python3.10/dist-packages (from aiohttp->datasets>=2.0.0->evaluate) (23.1.0)\n",
            "Requirement already satisfied: multidict<7.0,>=4.5 in /usr/local/lib/python3.10/dist-packages (from aiohttp->datasets>=2.0.0->evaluate) (6.0.4)\n",
            "Requirement already satisfied: async-timeout<5.0,>=4.0.0a3 in /usr/local/lib/python3.10/dist-packages (from aiohttp->datasets>=2.0.0->evaluate) (4.0.3)\n",
            "Requirement already satisfied: yarl<2.0,>=1.0 in /usr/local/lib/python3.10/dist-packages (from aiohttp->datasets>=2.0.0->evaluate) (1.9.2)\n",
            "Requirement already satisfied: frozenlist>=1.1.1 in /usr/local/lib/python3.10/dist-packages (from aiohttp->datasets>=2.0.0->evaluate) (1.4.0)\n",
            "Requirement already satisfied: aiosignal>=1.1.2 in /usr/local/lib/python3.10/dist-packages (from aiohttp->datasets>=2.0.0->evaluate) (1.3.1)\n",
            "Requirement already satisfied: six>=1.5 in /usr/local/lib/python3.10/dist-packages (from python-dateutil>=2.8.1->pandas->evaluate) (1.16.0)\n",
            "Installing collected packages: xxhash, dill, responses, multiprocess, huggingface-hub, datasets, evaluate\n",
            "Successfully installed datasets-2.14.4 dill-0.3.7 evaluate-0.4.0 huggingface-hub-0.16.4 multiprocess-0.70.15 responses-0.18.0 xxhash-3.3.0\n"
          ]
        }
      ]
    },
    {
      "cell_type": "code",
      "source": [
        "from evaluate import load\n",
        "\n",
        "# Menginisialisasi SARI\n",
        "sari = load(\"sari\")\n",
        "\n",
        "# Teks abstrak dari model\n",
        "hypothesis = \"Menggigil dalam operasi penting untuk kesehatan, terutama untuk pencegahan penyakit.Pasien dengan konsentrasi COVID-19 paling banyak di usia 2550 tahun di usia 25-59 tahun. Penelitian ini menggunakan data primer, sampel, dan bivariat, dengan uji statistik preventif dan bivariat. Analisis preventif dari data primer dan preventif dilakukan dengan tes statistik preventif dan uji normalitas. Hasil penelitian menunjukkan bahwa frekuensi preventive responden memberikan pengaruh terhadap responsiveness dan rasa aman pasien. Hasil penelitian menunjukkan bahwa pasien dengan kondisi awal 30-65 tahun menunjukkan kondisi yang tidak normal (ftal 71,3). Kondisi awal 30-65 tahun menunjukkan kondisi yang tidak normal (ftal 71,4). Keluhan meningkat pada 72,6% pasien dengan kondisi awal 30-65 tahun. Penggunaan gas anestesi sevofluran, meningkatkan efisiensi termoregulasi dan waktu operasi, meningkatkan efisiensi waktu operasi, dan meningkatkan efisiensi waktu operasi. Pemberian terapi suportif pada kondisi dada atau perut terbuka meningkatkan kondisi pasien.\"\n",
        "\n",
        "# Teks abstrak dari jurnal asli\n",
        "reference = \"Menggigil (shivering) pasca operasi adalah salah satu komplikasi yang sering terjadi pada anestesi umum. Menggigil dapat mengakibatkan keadaan yang kurang nyaman dan berbagai resiko seperti perdarahan yang meningkat, gangguan penyembuhan luka, pemulihan yang lama pasca anestesi, serta meningkatkan risiko terkena infeksi. Penelitian ini bertujuan untuk mengetahui adanya hubungan umur dengan kejadian menggigil pasca operasi di rumah sakit. Rancangan penelitian menggunakan metode observasional analitik dengan desain studi cross-sectional, dilakukan di RSUD Salatiga pada bulan Maret 2022. Data penelitian menggunakan data primer dengan subjek semua pasien yang masuk ke RSUD Salatiga dan memenuhi kriteria inklusi operasi elektif ringan hingga sedang menggunakan anestesi umum. Analisis data dengan uji chi-square menggunakan signifikansi (p<0,05). Hasil penelitian didapatkan kejadian menggigil pada 4 kasus (7,7%) dari 52 subjek. Menggigil pasca operasi lebih banyak terjadi pada wanita (3 orang) dibandingkan pria (1 orang). Pada rentang umur 45-65 tahun mempunyai kejadian 2 kasus (22,2%). Dari uji Chi-Square didapatkan bahwa tidak terdapat hubungan yang signifikan antara umur dengan kejadian menggigil (Shivering) pasca operasi (p>0,05). Pada pasien umur lanjut dapat mengakibatkan pergeseran ambang termoregulasi dengan derajat yang lebih tinggi dibanding dengan pasien berumur muda, sehingga memiliki resiko tinggi mengalami menggigil. Kesimpulan penelitian ini tidak didapatkan hubungan antara umur dengan kejadian menggigil pasca anestesi umum, tetapi semakin tua sering terjadi menggigil.\"\n",
        "\n",
        "# Menghitung skor SARI\n",
        "sari_score = sari.compute(sources=[hypothesis], predictions=[hypothesis], references=[[reference]])\n",
        "print(sari_score)"
      ],
      "metadata": {
        "colab": {
          "base_uri": "https://localhost:8080/",
          "height": 66,
          "referenced_widgets": [
            "cf251a89730d400e8bfda40ff9ebc10b",
            "9074d4f558f747d3b4a3584f873bfb14",
            "56e92bec7bf645278005ba6013f2b779",
            "b5f470c465114ad4a87df7349167702a",
            "c970992b19484dd88bfc8c9f7c947c46",
            "a9bb5365b273473888a8e900cb68a6f5",
            "16646f9264794e77bb2d068368ba8f69",
            "727e2897aa96477483fe7436d9952527",
            "895dc6513263475ab940034f1f8c5fd8",
            "ec740b6457014ac88dfad0ebd6b98871",
            "c4226418c1044e509d875e2cbf1c634a"
          ]
        },
        "id": "oep-kFKbqG_m",
        "outputId": "e8fce770-d1a6-444a-b6b5-cf323526a4a1"
      },
      "execution_count": null,
      "outputs": [
        {
          "output_type": "display_data",
          "data": {
            "text/plain": [
              "Downloading builder script:   0%|          | 0.00/12.1k [00:00<?, ?B/s]"
            ],
            "application/vnd.jupyter.widget-view+json": {
              "version_major": 2,
              "version_minor": 0,
              "model_id": "cf251a89730d400e8bfda40ff9ebc10b"
            }
          },
          "metadata": {}
        },
        {
          "output_type": "stream",
          "name": "stdout",
          "text": [
            "{'sari': 38.82007465451139}\n"
          ]
        }
      ]
    },
    {
      "cell_type": "code",
      "source": [
        "from evaluate import load\n",
        "\n",
        "# Menginisialisasi SARI\n",
        "sari = load(\"sari\")\n",
        "\n",
        "# Teks abstrak dari model\n",
        "hypothesis = \"Kemiskinan merupakan masalah penting dalam pembangunan perekonomian di Indonesia. Masalah kemiskinan merupakan masalah penting dalam pembangunan perekonomian Indonesia. Dalam penelitian ini, deret waktu menunjukkan pola data yang signifikan. Distribusi data dilakukan secara acak pada periode tahun 2009-2018. Penelitian ini menggunakan metode double exponential smoothing, model prediksi peramalan untuk prediksi  inflasi. Metode ini menghasilkan peramalan persentase efisien peramalan dengan model prediksi pemulusan cepat, efisien, dan efisien. Peramalan menggunakan metode Exponential Smoothing untuk mengoptimalkan kemampuan berpikir kritis siswa. Metode pemulusan merupakan metode umum untuk menentukan model pemulusan. Metode ini menggunakan rata-rata persentase penurunan pada data peramalan dengan model yang digunakan. Metode Double Exponential Smoothing digunakan untuk mencari model terbaik. Model untuk peramalan kemiskinan kota Probolinggo memiliki pola time series. Model terbaik adalah model MAPE, dengan nilai MAPE sebesar 14,92%. Plotting hasil prediksi menunjukkan pola data cerah.Diperlukan data lebih akurat dan cepat untuk prediksi peramalan.Data aktual menunjukkan nilai µ yang berbeda, namun pola data yang dihasilkan cenderung naik.\"\n",
        "\n",
        "# Teks abstrak dari jurnal asli\n",
        "reference = \"Kemiskinan merupakan permasalahan serius yang dapat menghambat pembangunan ekonomi dalam sebuah negara. Kemiskinan di Jawa Timur untuk saat ini telah mengalami penurunan. Namun, saat ini untuk daerah tertentu terjadi kenaikan angka  kemiskinan yaitu Kota Probolinggo. Kota  Probolinggo  terkenal  sebagai  kota wisata dengan destinasi Gunung Bromo, di sisi lain kemiskinan Kota Probolinggo dalam dua tahun terakhir terjadi kenaikan akibat adanya pandemic Covid-19.Jika  angka kemiskinan wilayah tersebut mengalami kenaikan secara signifikan tiap tahunnya maka menyebabkan negara atau wilayah tersebut mengalami hambatan dalam sebuah pembangunan ekonomi. Penelitian ini dilakukan bertujuan agar memperoleh nilai yang paling akurat terhadap peramalan dengan model estimasi pemulusan menggunakan metode pemulusan eksponensial ganda (DES) dua parameter dari Holt.Hasil peramalan yang paling baik ialah nilai a= 0,9 dan ß= 0,4 dengan MAPE didapatkan yaitu sebesar 14,92% menunjukkan  bahwa  model yang  didapatkan tergolong kategori baik dalam melakukan sebuah peramalan. Hasil prediksi yang dihasilkan menunjukkan trend naik dalam melakukan prediksi kemiskinan dengan jangka waktu 5 tahun kemudian.\"\n",
        "\n",
        "# Menghitung skor SARI\n",
        "sari_score = sari.compute(sources=[hypothesis], predictions=[hypothesis], references=[[reference]])\n",
        "print(sari_score)"
      ],
      "metadata": {
        "colab": {
          "base_uri": "https://localhost:8080/"
        },
        "id": "gtVaoP5MqWQR",
        "outputId": "b9b8f72b-b2db-42e0-8b65-2bfb6f59e300"
      },
      "execution_count": null,
      "outputs": [
        {
          "output_type": "stream",
          "name": "stdout",
          "text": [
            "{'sari': 39.33675845283297}\n"
          ]
        }
      ]
    },
    {
      "cell_type": "code",
      "source": [
        "from evaluate import load\n",
        "sari = load(\"sari\")\n",
        "sources=[\"Kemiskinan merupakan permasalahan serius yang dapat menghambat pembangunan ekonomi dalam sebuahnegara. Setiap negara pasti melakukan suatu usaha untuk mengurangi angka kemiskinan salah satunya negara Indonesia [1].Kemiskinan Indonesia dapat dilihat dari berbagai segi ekonomi seperti tidak mendapatkan pekerjaan tetap sehingga tidak mempunyai penghasilan yang pada akhirnya tidak memiliki tabungan guna memenuhi kebutuhan primer, sekunder dan tersier dalam kehidupan sehari-hari [2].Awal mula setelahmasa kemerdekaan pemerintah Indonesia menindaklanjuti permasalahan kemiskinan yang terjadi terhadap masyarakat dengan program-program pembangunan. Namun,kemiskinan Indonesia masih menjadi permasalahan berkelanjutan dikarenakan program-program tersebut belum bisa berjalan dengan semestinya[3]. Dalam hal ini, pemerintah Indonesia telah membuat strategi untuk mengurangi angka kemiskinan. Pertama, mencukupi kebutuhan masyarakat miskin dalam berbagai aspek kehidupan dan melindungi sebuah keluarga. Kedua, memberikan sebuah pengarahan atau sejenis dengan pelatihan terhadap masyarakat sesuai dengan bidang yang diminati serta memberikan upaya pencegahan dalam mengurangi angka kemiskinan di Indonesia. Dengan demikian, upaya yang dilakukan pemerintah dapat menciptakan masyarakat sejahtera. [4].Berdasarkan data BPS Kota Probolinggo menyatakan bahwa nilai angka kemiskinan Kota Probolinggo mengalami penurunan secara signifikan di setiap tahunnya. Pada tahun 2009 kemiskinan di kota Probolinggo mengalami puncak kenaikan hingga mencapai 47 ribu penduduk per tahun. Kemudian, pada tahun 2012 terjadi penurunan secara drastis hingga mencapai 24 ribu penduduk per tahun. Namun, dalam duatahun terakhir ini pada tahun 2020 dan 2021 terjadi kenaikan kembali hingga mencapai 17 ribu penduduk per tahun. Dengan hal ini bisa menjadi indikator bahwa secara pola data historinya menunjukkan pola data trendnaik dan trendturun. Peramalan dapat ditentukan dengan metode yang tepat sehingga menghasilkan akurasipaling baik Metode yang dilakukan pada penelitian ini yaituanalisis deret waktu (time series) atauanalisis beruntun terhadap waktu [5]. Pemilihan analisis deret waktu untuk peramalan ini dikarenakan menggunakandata kemiskinan yang bergulir tahunan periode tahun 2009-2021. Beberapa metode peramalan dapat digunakan dalam analisis deret waktu seperti Pemulusan Eksponensial Satu (SES), Pemulusan Eksponensial Ganda (DES), Pemulusan Eksponensial Tiga (TES). Oleh karena itu, metode peramalan time series yangdigunakan dalam penelitian ini adalah metode Double Exponential Smoothing(DES) untuk meramalkan data dengan pola trend. Double Exponential Smoothingadalah metode yang biasa digunakan untuk menampilkan pola data yang mengalami trend. Metode Double Exponential Smoothing dibagi menjadi dua yaitu Double Exponential Smoothing satu parameter dari Browndan Double Exponential Smoothing dua parameter dari Holt. Metode Double Exponential Smoothingdua parameter dari Holt dapat digunakan untuk menyelesaikan trend linier. Metode Holt digunakan sedemikian rupa sehingga nilai trend tidak direktifikasi dengan Double Smoothing, tetapi menggunakan berbagai parameter yang berbeda dengan parameter yang digunakan pada data asli trend Smoothing baru bisa dilakukan[6].Penelitian prediksi atau peramalan merupakan hal yang umum dalam penelitian, maka dari beberapa penelitian tersebut dapat dijadikan acuan untuk memulai penelitian ini. Terdapat beberapa penelitian sebelumnya yang menggunakan metode Double Exponential Smoothing, salah satunya dengan judul “Prediksi tingkat inflasi kota Samarinda dengan menggunakan metode double exponential smoothing” (studi kasus:Badan Pusat Statistik Kota Samarinda)”, yang ditulisoleh Akmal Erfani Armi, Awang Harsa Kridalaksana dan Zainal Arifin. Penelitian ini mengenai kenaikan atau penurunan inflasi pada suatu periode waktu tertentu yang akan membantu Kota Samarinda dalam menghadapinya, hal tersebut supaya tidak berdampak negatif bagi masyarakat sekitar di masa yang akan datang. Data yang digunakan inflasi Januari 2013 sampai dengan Desember 2017 untuk meramalkan inflasi tahun 2018 dan kesimpulannya sistem ini mempermudah masyarakat dalam membuat peramalan inflasi sehingga dapat mempersiapkan langkah selanjutnya untuk mencegah deflasi. Ada juga penelitian peramalan atau forecasting lainnya yang berjudul “Prakiraan Inflasi di Indonesia dengan menggunakan metode Moving Average, Single Exponential Smoothingdan Double Exponential Smoothing” oleh Nugroho Arif Sudibyo, Ardymulya Iswardani, Arif Wicaksono Septyanto dan Tyan Ganang Wicaksono yang berhasil membandingkan ketiga metode tersebut. Dari ketiga metode tersebut, MAPE, MAD dan MSD adalah yang terbaik yaitu. metode Single Exponential Smoothing yang menghasilkan peramalan inflasi Indonesia akan menjadi 1,41746% pada Agustus 2020[7]. Berdasarkan penjelasan yang telah dipaparkan penelitian ini dilakukan bertujuan agar memperoleh nilai yang paling akurat terhadap peramalan dengan model estimasi pemulusan menggunakan metode pemulusan eksponensial ganda (DES) dua parameter dari Holt dengan data yang berkisar dari periode tahun 2009 hingga tahun 2021. Kemiskinan adalah sebuah permasalahan dalam suatu negara yang bersifat kompleks hampir dialami di seluruh negara di berbagai belahan bumi. Berbagai upaya telah dilakukan agarmengurangi angka kemiskinan, dimulai dari suatu wilayah atau lingkup daerah, nasional dan internasional. Kemiskinan timbul adanya masalah pengangguran. Kedua masalah ini saling keterkaitan dengan suatu daerah yang memiliki sumber daya manusia. Terdapat beberapa contoh salah satunya yaitu jika seseorang ingin melanjutkan pendidikan yang lebih tinggi tetapi terkendala dengan biaya yang tidak mencukupi maka seseorang tersebut tidak dapat melanjutkan pendidikan dikarenakan rendahnya sebuah pendidikan yang dimiliki seseorang terbatas membuat dirinya terbatas untuk memperoleh pekerjaan [8]. Oleh karena itu, rantai kemiskinan harus diatasi apabila terus dibiarkan maka siklus tersebut akan terus berputar. Salah satu upaya yang harus dilakukan yaitu memperbaiki kualitas sumber daya manusia di setiap daerah yang berperan sebagai motor penggerak perekonomian suatu daerah [9]. Peramalan berasal dari kata forecast yang berarti meramalkan keadaan yang akan datang. Peramalan merupakan salah satu bentuk kegiatan dalam memprediksi kondisi masa depan dengan cara menguji kondisi masa lalu dalam bentuk model matematis. Jika ingin memprediksi suatu kondisi, maka membutuhkan perhitungan yang akurat agar mendapatkan prediksi yang tepat. Secara umum, peramalan diklasifikasikan menjadi dua jenis. Pertama, peramalan kualitatif adalah salah satu yang menggabungkan beberapa faktor seperti pengambilan keputusan, pengalaman pribadi, dan sistem nilai. Kedua, peramalan kuantitatif adalah peramalan model matematis  yang  menguji kondisi masa lalu dan variabel penyebab untuk memprediksi permintaan [10]. Tentunya dalam keseharian kita bahwa segala sesuatu tidak pasti adanya sehingga dibutuhkan suatu peramalan agar lebih memudahkan dalam melakukan segala hal. D engan  kata  lain, peramalan ditujukan untuk memperoleh peramalan dengan kesalahan ramalan bernilai kecil [11].Metode Pemulusan Eksponensial (Exponential Smoothing)Metode Pemulusan Eksponensial (Exponential Smoothing)adalah metodeyang berfokus pada pengurangan objek pengamatan yang lebih panjang secara eksponensial. Dengan Exponential Smoothing satu atau lebih parameter pemulusan didefinisikan secara eksplisit sehingga hasilnya menentukan bobot nilai yang diamati[12].2.4.Metode Pemulusan Eksponensial Ganda (Double Exponential Smoothing) Metode Pemulusan Eksponensial Ganda (Double Exponential Smoothing) adalah model pemulusan eksponensial linier, biasanya digunakan ketika ada trend pada data. Trendmerupakanestimasi pemulusan dari rata-rata kenaikan pada akhir setiap periode. Metode DES merupakan pengembangan dari metode pemulusan eksponensial yang menggunakan dua parameter untuk menghilangkan perbedaan antara data aktual dan data nilai prediksi ketika terdapat kecenderungan pola data. Parameter yang digunakan adalah a dan ß. Kedua parameter ini adalah kunci untuk menentukan model terbaik.Mean Absolute Percentage Error(MAPE) Metode yang biasa digunakan dalam mengetahui besar error dalam suatu system adalah MAPE. Metode evaluasi ini digunakan karena variabel peramalan menentukan besarnya kesalahan peramalan dibandingan dengan nilai asli [13]. Perhitungan MAPE dilakukan menggunakan rata-rata persentase absolute kesalahan dan biasa digunakan untuk data interval kurun waktu berbeda. Nilai MAPE dapat dihitung menggunakan rumus persamaan.Metode Penelitian Penelitian ini menggunakan data tahunan penduduk miskin kota Probolinggo dari tahun 2009 sampai dengan 2021. Data diambil dari website resmi Badan Pusat Statistik https://probolinggokota.bps.go.id/. Sampel data dapat dilihat pada tabel Tabel 2. Sampel Data Penduduk Miskin Tahun Penduduk Miskin200947,10201041,40201138,80??201916,37202017,72202117,91. Berikut ini Langkah-langkah untuk melakukan permalan menggunakan metode Double Exponential Smoothing (DES) : 1.Mencari data sebagai acuan penelitian dan juga referensi penelitian yang berhubungan dengan peramalan atau prediksi.2.Tahap kedua yaitu mengambil data kemiskinan dalam situs resmi yaitu BPS Kota Probolinggo.3.Menginputkan data kemiskinan pada tahun 2009 hingga tahun 2021.4.Tahap selanjutnya, melakukan plotting data menggunakan analisis time series (Stasioner, Trend dan Seasonal).5.Melukakan trial dan error menggunakan parameter a dengan rentan bernilai 0 hingga 1.6.Menghitung dan membandingkan tingkat akurasi MAPE.7.Menyeleksi peramalan untuk menentukan model terbaik.8.Melakukan peramalan dengan model yang telah dihitung sebelumnya berdasarkan nilai MAPE terkecil. Hasil dan Pembahasan Pada penelitian ini data yang diolah yaitu data penduduk miskin kota Probolinggo tahun 2009 hingga 2021. Langkah pertama yang harus dilakukan adalah plotting data penduduk miskin untuk mengetahui pola data time series yang terbentuk. Pola pada suatu data berguna untuk mengidentifikasi metode yang cocok digunakan dalam melakukan peramalan. Gambar 2 : Plot Pola Data Time Series KemiskinanPada Gambar 2 terlihat bahwa pola time series menunjukkan trend naik dan turun tanpa ada pola musiman. Setelah dilakukannya analisis pola time series, selanjutnya adalah melakukan pembentukan model untuk menentukan metode terbaik dalam melakukan peramalan penduduk miskin kota Probolinggo.Berdasarkan Tabel 3,telah dibentuk enam model menggunakan nilai alpha (a) dan beta (ß) yang berbeda. Berdasarkan model yang didapat terlihat perbedaan nilai MAPE yang sangat kecil antara parameter-parameter data saat dilakukan trial and error. Dari percobaan tersebut dapat terlihat bahwa pada parameter alpha 0,9 dan beta 0,4 menghasilkan nilai MAPE yang terkecil, yaitu 14,92%. Selanjutnya adalah melakukan plotting dengan menggunakan model terbaik yang didapatkan. Plotting hasil peramalan menggunakan DES diperlihatkan pada Gambar 3. Berdasarkan Gambar 3 dapat terlihat bahwa hasil prediksi menunjukkan pola trend naik. Pada metode ini didapatkan nilai MAPE sebesar 14,92% yang didasarkan pada Tabel 3. Nilai tersebut termasuk kategori baik dalam melakukan peramalan. Terdapat beberapa faktor angka kemiskinan penduduk di Kota Probolinggo belum bisa berkurang. Pertama,kurangnya lapangan pekerjaan sehingga masyarakat sulit untuk mencukupi kebutuhan sehari-hari. Kedua, dari faktor Pendidikan kurangnya fasilitas pendidikan sekaligus tenaga pendidik sehingga masyarakat tidak mendapatkan pendidikan selayaknya mengakibatkan sulit medapatkan pekerjaan. Langkah selanjutnya yaitu menghitung nilai peramalan dengan menggunakan model yang telah didapatkan berdasarkan Gambar 3. Hasil perhitungan peramalan diperlihatkan pada Tabel 4.Berdasarkan Tabel 4 terlihat bahwa kemiskinan di kota Probolinggo mengalami kenaikan pada tiap tahunnya. Langkah yang harus dilakukan untuk mencegah adanya peningkatan kemiskinan yaitu pemerintah Kota Probolinggo seharusnya melakukan evaluasi terhadap masyarakat dan segera melakukan upaya seperti bantuan langsung secara tunai, program keuarga harapan, jaminan Kesehatan, bantuan Pendidikan, bantuan modal usaha dan lain sebagainya. Hasil peramalan yang didapatkan dari model terbaik memiliki pola trend yang naik untuk 5 tahun kedepan.5.SIMPULAN Berdasarkan perhitungan yang telah dilakukan dan tersususn secara sistematis dapat ditarik kesimpulan bahwa pada penelitian ini data aktual yang berbeda berubah secara signifikan dari tahun ke tahun dapat mengubah nilai a terbaik, sehingga prediksi tingkat kemiskinan penduduk Kota Probolinggo dapat berubah sebesar nilai a setiap tahunnya sesuai dengan data aktual yang diperoleh. Hasil prediksi diambil dari error terkecil yang menghasilkan nilai MAPE (Mean Absolute Percentage Error). Hasil yang diperoleh untuk memprediksi tingkat kemiskinan Kota Probolinggo adalah 14,52% dengan a = 0,9 dan ß = 0,4. Pola data prediksiyang  dihasilkan cenderung naik terhadap data historis..\"]\n",
        "predictions=[\"Kemiskinan merupakan masalah penting dalam pembangunan perekonomian di Indonesia. Masalah kemiskinan merupakan masalah penting dalam pembangunan perekonomian Indonesia. Dalam penelitian ini, deret waktu menunjukkan pola data yang signifikan. Distribusi data dilakukan secara acak pada periode tahun 2009-2018. Penelitian ini menggunakan metode double exponential smoothing, model prediksi peramalan untuk prediksi  inflasi. Metode ini menghasilkan peramalan persentase efisien peramalan dengan model prediksi pemulusan cepat, efisien, dan efisien. Peramalan menggunakan metode Exponential Smoothing untuk mengoptimalkan kemampuan berpikir kritis siswa. Metode pemulusan merupakan metode umum untuk menentukan model pemulusan. Metode ini menggunakan rata-rata persentase penurunan pada data peramalan dengan model yang digunakan. Metode Double Exponential Smoothing digunakan untuk mencari model terbaik. Model untuk peramalan kemiskinan kota Probolinggo memiliki pola time series. Model terbaik adalah model MAPE, dengan nilai MAPE sebesar 14,92%. Plotting hasil prediksi menunjukkan pola data cerah.Diperlukan data lebih akurat dan cepat untuk prediksi peramalan.Data aktual menunjukkan nilai µ yang berbeda, namun pola data yang dihasilkan cenderung naik.\"]\n",
        "references=[[\"Kemiskinan merupakan permasalahan serius yang dapat menghambat pembangunan ekonomi dalam sebuah negara. Kemiskinan di Jawa Timur untuk saat ini telah mengalami penurunan. Namun, saat ini untuk daerah tertentu terjadi kenaikan angka  kemiskinan yaitu Kota Probolinggo. Kota  Probolinggo  terkenal  sebagai  kota wisata dengan destinasi Gunung Bromo, di sisi lain kemiskinan Kota Probolinggo dalam dua tahun terakhir terjadi kenaikan akibat adanya pandemic Covid-19.Jika  angka kemiskinan wilayah tersebut mengalami kenaikan secara signifikan tiap tahunnya maka menyebabkan negara atau wilayah tersebut mengalami hambatan dalam sebuah pembangunan ekonomi. Penelitian ini dilakukan bertujuan agar memperoleh nilai yang paling akurat terhadap peramalan dengan model estimasi pemulusan menggunakan metode pemulusan eksponensial ganda (DES) dua parameter dari Holt.Hasil peramalan yang paling baik ialah nilai a= 0,9 dan ß= 0,4 dengan MAPE didapatkan yaitu sebesar 14,92% menunjukkan  bahwa  model yang  didapatkan tergolong kategori baik dalam melakukan sebuah peramalan. Hasil prediksi yang dihasilkan menunjukkan trend naik dalam melakukan prediksi kemiskinan dengan jangka waktu 5 tahun kemudian.\"]]\n",
        "sari_score = sari.compute(sources=sources, predictions=predictions, references=references)\n",
        "print(sari_score)"
      ],
      "metadata": {
        "colab": {
          "base_uri": "https://localhost:8080/"
        },
        "id": "udamJvHNyFdf",
        "outputId": "ffde668c-f7ae-4e3e-84fe-f26d1f36cc23"
      },
      "execution_count": null,
      "outputs": [
        {
          "output_type": "stream",
          "name": "stdout",
          "text": [
            "{'sari': 37.977332231395586}\n"
          ]
        }
      ]
    }
  ],
  "metadata": {
    "accelerator": "GPU",
    "colab": {
      "provenance": [],
      "gpuType": "T4",
      "toc_visible": true
    },
    "kernelspec": {
      "display_name": "Python 3",
      "name": "python3"
    },
    "language_info": {
      "codemirror_mode": {
        "name": "ipython",
        "version": 3
      },
      "file_extension": ".py",
      "mimetype": "text/x-python",
      "name": "python",
      "nbconvert_exporter": "python",
      "pygments_lexer": "ipython3",
      "version": "3.7.6"
    },
    "papermill": {
      "duration": 774.717733,
      "end_time": "2020-12-21T04:56:45.364802",
      "environment_variables": {},
      "exception": null,
      "input_path": "__notebook__.ipynb",
      "output_path": "__notebook__.ipynb",
      "parameters": {},
      "start_time": "2020-12-21T04:43:50.647069",
      "version": "2.1.0"
    },
    "widgets": {
      "application/vnd.jupyter.widget-state+json": {
        "25199f6da84543de8730a1f219167aa3": {
          "model_module": "@jupyter-widgets/controls",
          "model_name": "HBoxModel",
          "model_module_version": "1.5.0",
          "state": {
            "_dom_classes": [],
            "_model_module": "@jupyter-widgets/controls",
            "_model_module_version": "1.5.0",
            "_model_name": "HBoxModel",
            "_view_count": null,
            "_view_module": "@jupyter-widgets/controls",
            "_view_module_version": "1.5.0",
            "_view_name": "HBoxView",
            "box_style": "",
            "children": [
              "IPY_MODEL_f98f9d6ebb83442ab20e40e6c68e5025",
              "IPY_MODEL_4abfe0494035444d884f7a5b9656743d",
              "IPY_MODEL_87ca2ab063244851bfbd8d034fcf2461"
            ],
            "layout": "IPY_MODEL_7d14cc6bf67845fe8a15be5df46bbf72"
          }
        },
        "f98f9d6ebb83442ab20e40e6c68e5025": {
          "model_module": "@jupyter-widgets/controls",
          "model_name": "HTMLModel",
          "model_module_version": "1.5.0",
          "state": {
            "_dom_classes": [],
            "_model_module": "@jupyter-widgets/controls",
            "_model_module_version": "1.5.0",
            "_model_name": "HTMLModel",
            "_view_count": null,
            "_view_module": "@jupyter-widgets/controls",
            "_view_module_version": "1.5.0",
            "_view_name": "HTMLView",
            "description": "",
            "description_tooltip": null,
            "layout": "IPY_MODEL_012607f9c1b14583b73baa622d66dd55",
            "placeholder": "​",
            "style": "IPY_MODEL_70273c06b9a14e63a6774b785c2ee37a",
            "value": "Downloading (…)okenizer_config.json: 100%"
          }
        },
        "4abfe0494035444d884f7a5b9656743d": {
          "model_module": "@jupyter-widgets/controls",
          "model_name": "FloatProgressModel",
          "model_module_version": "1.5.0",
          "state": {
            "_dom_classes": [],
            "_model_module": "@jupyter-widgets/controls",
            "_model_module_version": "1.5.0",
            "_model_name": "FloatProgressModel",
            "_view_count": null,
            "_view_module": "@jupyter-widgets/controls",
            "_view_module_version": "1.5.0",
            "_view_name": "ProgressView",
            "bar_style": "success",
            "description": "",
            "description_tooltip": null,
            "layout": "IPY_MODEL_5a7ee41585674a508553783a5241fa32",
            "max": 16,
            "min": 0,
            "orientation": "horizontal",
            "style": "IPY_MODEL_b122b88e36f94136bf9b8fa7aa76a4c1",
            "value": 16
          }
        },
        "87ca2ab063244851bfbd8d034fcf2461": {
          "model_module": "@jupyter-widgets/controls",
          "model_name": "HTMLModel",
          "model_module_version": "1.5.0",
          "state": {
            "_dom_classes": [],
            "_model_module": "@jupyter-widgets/controls",
            "_model_module_version": "1.5.0",
            "_model_name": "HTMLModel",
            "_view_count": null,
            "_view_module": "@jupyter-widgets/controls",
            "_view_module_version": "1.5.0",
            "_view_name": "HTMLView",
            "description": "",
            "description_tooltip": null,
            "layout": "IPY_MODEL_f35d733c56d340ada31546fe47682e49",
            "placeholder": "​",
            "style": "IPY_MODEL_49b9be77529148f8a190d20de408843c",
            "value": " 16.0/16.0 [00:00&lt;00:00, 308B/s]"
          }
        },
        "7d14cc6bf67845fe8a15be5df46bbf72": {
          "model_module": "@jupyter-widgets/base",
          "model_name": "LayoutModel",
          "model_module_version": "1.2.0",
          "state": {
            "_model_module": "@jupyter-widgets/base",
            "_model_module_version": "1.2.0",
            "_model_name": "LayoutModel",
            "_view_count": null,
            "_view_module": "@jupyter-widgets/base",
            "_view_module_version": "1.2.0",
            "_view_name": "LayoutView",
            "align_content": null,
            "align_items": null,
            "align_self": null,
            "border": null,
            "bottom": null,
            "display": null,
            "flex": null,
            "flex_flow": null,
            "grid_area": null,
            "grid_auto_columns": null,
            "grid_auto_flow": null,
            "grid_auto_rows": null,
            "grid_column": null,
            "grid_gap": null,
            "grid_row": null,
            "grid_template_areas": null,
            "grid_template_columns": null,
            "grid_template_rows": null,
            "height": null,
            "justify_content": null,
            "justify_items": null,
            "left": null,
            "margin": null,
            "max_height": null,
            "max_width": null,
            "min_height": null,
            "min_width": null,
            "object_fit": null,
            "object_position": null,
            "order": null,
            "overflow": null,
            "overflow_x": null,
            "overflow_y": null,
            "padding": null,
            "right": null,
            "top": null,
            "visibility": null,
            "width": null
          }
        },
        "012607f9c1b14583b73baa622d66dd55": {
          "model_module": "@jupyter-widgets/base",
          "model_name": "LayoutModel",
          "model_module_version": "1.2.0",
          "state": {
            "_model_module": "@jupyter-widgets/base",
            "_model_module_version": "1.2.0",
            "_model_name": "LayoutModel",
            "_view_count": null,
            "_view_module": "@jupyter-widgets/base",
            "_view_module_version": "1.2.0",
            "_view_name": "LayoutView",
            "align_content": null,
            "align_items": null,
            "align_self": null,
            "border": null,
            "bottom": null,
            "display": null,
            "flex": null,
            "flex_flow": null,
            "grid_area": null,
            "grid_auto_columns": null,
            "grid_auto_flow": null,
            "grid_auto_rows": null,
            "grid_column": null,
            "grid_gap": null,
            "grid_row": null,
            "grid_template_areas": null,
            "grid_template_columns": null,
            "grid_template_rows": null,
            "height": null,
            "justify_content": null,
            "justify_items": null,
            "left": null,
            "margin": null,
            "max_height": null,
            "max_width": null,
            "min_height": null,
            "min_width": null,
            "object_fit": null,
            "object_position": null,
            "order": null,
            "overflow": null,
            "overflow_x": null,
            "overflow_y": null,
            "padding": null,
            "right": null,
            "top": null,
            "visibility": null,
            "width": null
          }
        },
        "70273c06b9a14e63a6774b785c2ee37a": {
          "model_module": "@jupyter-widgets/controls",
          "model_name": "DescriptionStyleModel",
          "model_module_version": "1.5.0",
          "state": {
            "_model_module": "@jupyter-widgets/controls",
            "_model_module_version": "1.5.0",
            "_model_name": "DescriptionStyleModel",
            "_view_count": null,
            "_view_module": "@jupyter-widgets/base",
            "_view_module_version": "1.2.0",
            "_view_name": "StyleView",
            "description_width": ""
          }
        },
        "5a7ee41585674a508553783a5241fa32": {
          "model_module": "@jupyter-widgets/base",
          "model_name": "LayoutModel",
          "model_module_version": "1.2.0",
          "state": {
            "_model_module": "@jupyter-widgets/base",
            "_model_module_version": "1.2.0",
            "_model_name": "LayoutModel",
            "_view_count": null,
            "_view_module": "@jupyter-widgets/base",
            "_view_module_version": "1.2.0",
            "_view_name": "LayoutView",
            "align_content": null,
            "align_items": null,
            "align_self": null,
            "border": null,
            "bottom": null,
            "display": null,
            "flex": null,
            "flex_flow": null,
            "grid_area": null,
            "grid_auto_columns": null,
            "grid_auto_flow": null,
            "grid_auto_rows": null,
            "grid_column": null,
            "grid_gap": null,
            "grid_row": null,
            "grid_template_areas": null,
            "grid_template_columns": null,
            "grid_template_rows": null,
            "height": null,
            "justify_content": null,
            "justify_items": null,
            "left": null,
            "margin": null,
            "max_height": null,
            "max_width": null,
            "min_height": null,
            "min_width": null,
            "object_fit": null,
            "object_position": null,
            "order": null,
            "overflow": null,
            "overflow_x": null,
            "overflow_y": null,
            "padding": null,
            "right": null,
            "top": null,
            "visibility": null,
            "width": null
          }
        },
        "b122b88e36f94136bf9b8fa7aa76a4c1": {
          "model_module": "@jupyter-widgets/controls",
          "model_name": "ProgressStyleModel",
          "model_module_version": "1.5.0",
          "state": {
            "_model_module": "@jupyter-widgets/controls",
            "_model_module_version": "1.5.0",
            "_model_name": "ProgressStyleModel",
            "_view_count": null,
            "_view_module": "@jupyter-widgets/base",
            "_view_module_version": "1.2.0",
            "_view_name": "StyleView",
            "bar_color": null,
            "description_width": ""
          }
        },
        "f35d733c56d340ada31546fe47682e49": {
          "model_module": "@jupyter-widgets/base",
          "model_name": "LayoutModel",
          "model_module_version": "1.2.0",
          "state": {
            "_model_module": "@jupyter-widgets/base",
            "_model_module_version": "1.2.0",
            "_model_name": "LayoutModel",
            "_view_count": null,
            "_view_module": "@jupyter-widgets/base",
            "_view_module_version": "1.2.0",
            "_view_name": "LayoutView",
            "align_content": null,
            "align_items": null,
            "align_self": null,
            "border": null,
            "bottom": null,
            "display": null,
            "flex": null,
            "flex_flow": null,
            "grid_area": null,
            "grid_auto_columns": null,
            "grid_auto_flow": null,
            "grid_auto_rows": null,
            "grid_column": null,
            "grid_gap": null,
            "grid_row": null,
            "grid_template_areas": null,
            "grid_template_columns": null,
            "grid_template_rows": null,
            "height": null,
            "justify_content": null,
            "justify_items": null,
            "left": null,
            "margin": null,
            "max_height": null,
            "max_width": null,
            "min_height": null,
            "min_width": null,
            "object_fit": null,
            "object_position": null,
            "order": null,
            "overflow": null,
            "overflow_x": null,
            "overflow_y": null,
            "padding": null,
            "right": null,
            "top": null,
            "visibility": null,
            "width": null
          }
        },
        "49b9be77529148f8a190d20de408843c": {
          "model_module": "@jupyter-widgets/controls",
          "model_name": "DescriptionStyleModel",
          "model_module_version": "1.5.0",
          "state": {
            "_model_module": "@jupyter-widgets/controls",
            "_model_module_version": "1.5.0",
            "_model_name": "DescriptionStyleModel",
            "_view_count": null,
            "_view_module": "@jupyter-widgets/base",
            "_view_module_version": "1.2.0",
            "_view_name": "StyleView",
            "description_width": ""
          }
        },
        "72a2f55b05d04c93827765ea7cfdac0e": {
          "model_module": "@jupyter-widgets/controls",
          "model_name": "HBoxModel",
          "model_module_version": "1.5.0",
          "state": {
            "_dom_classes": [],
            "_model_module": "@jupyter-widgets/controls",
            "_model_module_version": "1.5.0",
            "_model_name": "HBoxModel",
            "_view_count": null,
            "_view_module": "@jupyter-widgets/controls",
            "_view_module_version": "1.5.0",
            "_view_name": "HBoxView",
            "box_style": "",
            "children": [
              "IPY_MODEL_24a792b176bf4d2b8d140de2fe6ec6b8",
              "IPY_MODEL_1a2dd704df79459d83f734bfe5e65467",
              "IPY_MODEL_4e8e2dc60b6543a8b938634fb3d3a0eb"
            ],
            "layout": "IPY_MODEL_f5b1838fd1b848d580d8a7fb1027eb80"
          }
        },
        "24a792b176bf4d2b8d140de2fe6ec6b8": {
          "model_module": "@jupyter-widgets/controls",
          "model_name": "HTMLModel",
          "model_module_version": "1.5.0",
          "state": {
            "_dom_classes": [],
            "_model_module": "@jupyter-widgets/controls",
            "_model_module_version": "1.5.0",
            "_model_name": "HTMLModel",
            "_view_count": null,
            "_view_module": "@jupyter-widgets/controls",
            "_view_module_version": "1.5.0",
            "_view_name": "HTMLView",
            "description": "",
            "description_tooltip": null,
            "layout": "IPY_MODEL_d5f023e958604b799959a6c2a75a5a24",
            "placeholder": "​",
            "style": "IPY_MODEL_792b3fd0b1624621a39806fa415112da",
            "value": "Downloading (…)lve/main/config.json: 100%"
          }
        },
        "1a2dd704df79459d83f734bfe5e65467": {
          "model_module": "@jupyter-widgets/controls",
          "model_name": "FloatProgressModel",
          "model_module_version": "1.5.0",
          "state": {
            "_dom_classes": [],
            "_model_module": "@jupyter-widgets/controls",
            "_model_module_version": "1.5.0",
            "_model_name": "FloatProgressModel",
            "_view_count": null,
            "_view_module": "@jupyter-widgets/controls",
            "_view_module_version": "1.5.0",
            "_view_name": "ProgressView",
            "bar_style": "success",
            "description": "",
            "description_tooltip": null,
            "layout": "IPY_MODEL_f173aa0ab7384191acb0842ab853e493",
            "max": 573,
            "min": 0,
            "orientation": "horizontal",
            "style": "IPY_MODEL_1defeb6e0d0c4f1691598b70da170503",
            "value": 573
          }
        },
        "4e8e2dc60b6543a8b938634fb3d3a0eb": {
          "model_module": "@jupyter-widgets/controls",
          "model_name": "HTMLModel",
          "model_module_version": "1.5.0",
          "state": {
            "_dom_classes": [],
            "_model_module": "@jupyter-widgets/controls",
            "_model_module_version": "1.5.0",
            "_model_name": "HTMLModel",
            "_view_count": null,
            "_view_module": "@jupyter-widgets/controls",
            "_view_module_version": "1.5.0",
            "_view_name": "HTMLView",
            "description": "",
            "description_tooltip": null,
            "layout": "IPY_MODEL_e841c3c83aa74def98b291dee75897f1",
            "placeholder": "​",
            "style": "IPY_MODEL_ee11504e073f4e2fb2dfb88f42d82e64",
            "value": " 573/573 [00:00&lt;00:00, 11.4kB/s]"
          }
        },
        "f5b1838fd1b848d580d8a7fb1027eb80": {
          "model_module": "@jupyter-widgets/base",
          "model_name": "LayoutModel",
          "model_module_version": "1.2.0",
          "state": {
            "_model_module": "@jupyter-widgets/base",
            "_model_module_version": "1.2.0",
            "_model_name": "LayoutModel",
            "_view_count": null,
            "_view_module": "@jupyter-widgets/base",
            "_view_module_version": "1.2.0",
            "_view_name": "LayoutView",
            "align_content": null,
            "align_items": null,
            "align_self": null,
            "border": null,
            "bottom": null,
            "display": null,
            "flex": null,
            "flex_flow": null,
            "grid_area": null,
            "grid_auto_columns": null,
            "grid_auto_flow": null,
            "grid_auto_rows": null,
            "grid_column": null,
            "grid_gap": null,
            "grid_row": null,
            "grid_template_areas": null,
            "grid_template_columns": null,
            "grid_template_rows": null,
            "height": null,
            "justify_content": null,
            "justify_items": null,
            "left": null,
            "margin": null,
            "max_height": null,
            "max_width": null,
            "min_height": null,
            "min_width": null,
            "object_fit": null,
            "object_position": null,
            "order": null,
            "overflow": null,
            "overflow_x": null,
            "overflow_y": null,
            "padding": null,
            "right": null,
            "top": null,
            "visibility": null,
            "width": null
          }
        },
        "d5f023e958604b799959a6c2a75a5a24": {
          "model_module": "@jupyter-widgets/base",
          "model_name": "LayoutModel",
          "model_module_version": "1.2.0",
          "state": {
            "_model_module": "@jupyter-widgets/base",
            "_model_module_version": "1.2.0",
            "_model_name": "LayoutModel",
            "_view_count": null,
            "_view_module": "@jupyter-widgets/base",
            "_view_module_version": "1.2.0",
            "_view_name": "LayoutView",
            "align_content": null,
            "align_items": null,
            "align_self": null,
            "border": null,
            "bottom": null,
            "display": null,
            "flex": null,
            "flex_flow": null,
            "grid_area": null,
            "grid_auto_columns": null,
            "grid_auto_flow": null,
            "grid_auto_rows": null,
            "grid_column": null,
            "grid_gap": null,
            "grid_row": null,
            "grid_template_areas": null,
            "grid_template_columns": null,
            "grid_template_rows": null,
            "height": null,
            "justify_content": null,
            "justify_items": null,
            "left": null,
            "margin": null,
            "max_height": null,
            "max_width": null,
            "min_height": null,
            "min_width": null,
            "object_fit": null,
            "object_position": null,
            "order": null,
            "overflow": null,
            "overflow_x": null,
            "overflow_y": null,
            "padding": null,
            "right": null,
            "top": null,
            "visibility": null,
            "width": null
          }
        },
        "792b3fd0b1624621a39806fa415112da": {
          "model_module": "@jupyter-widgets/controls",
          "model_name": "DescriptionStyleModel",
          "model_module_version": "1.5.0",
          "state": {
            "_model_module": "@jupyter-widgets/controls",
            "_model_module_version": "1.5.0",
            "_model_name": "DescriptionStyleModel",
            "_view_count": null,
            "_view_module": "@jupyter-widgets/base",
            "_view_module_version": "1.2.0",
            "_view_name": "StyleView",
            "description_width": ""
          }
        },
        "f173aa0ab7384191acb0842ab853e493": {
          "model_module": "@jupyter-widgets/base",
          "model_name": "LayoutModel",
          "model_module_version": "1.2.0",
          "state": {
            "_model_module": "@jupyter-widgets/base",
            "_model_module_version": "1.2.0",
            "_model_name": "LayoutModel",
            "_view_count": null,
            "_view_module": "@jupyter-widgets/base",
            "_view_module_version": "1.2.0",
            "_view_name": "LayoutView",
            "align_content": null,
            "align_items": null,
            "align_self": null,
            "border": null,
            "bottom": null,
            "display": null,
            "flex": null,
            "flex_flow": null,
            "grid_area": null,
            "grid_auto_columns": null,
            "grid_auto_flow": null,
            "grid_auto_rows": null,
            "grid_column": null,
            "grid_gap": null,
            "grid_row": null,
            "grid_template_areas": null,
            "grid_template_columns": null,
            "grid_template_rows": null,
            "height": null,
            "justify_content": null,
            "justify_items": null,
            "left": null,
            "margin": null,
            "max_height": null,
            "max_width": null,
            "min_height": null,
            "min_width": null,
            "object_fit": null,
            "object_position": null,
            "order": null,
            "overflow": null,
            "overflow_x": null,
            "overflow_y": null,
            "padding": null,
            "right": null,
            "top": null,
            "visibility": null,
            "width": null
          }
        },
        "1defeb6e0d0c4f1691598b70da170503": {
          "model_module": "@jupyter-widgets/controls",
          "model_name": "ProgressStyleModel",
          "model_module_version": "1.5.0",
          "state": {
            "_model_module": "@jupyter-widgets/controls",
            "_model_module_version": "1.5.0",
            "_model_name": "ProgressStyleModel",
            "_view_count": null,
            "_view_module": "@jupyter-widgets/base",
            "_view_module_version": "1.2.0",
            "_view_name": "StyleView",
            "bar_color": null,
            "description_width": ""
          }
        },
        "e841c3c83aa74def98b291dee75897f1": {
          "model_module": "@jupyter-widgets/base",
          "model_name": "LayoutModel",
          "model_module_version": "1.2.0",
          "state": {
            "_model_module": "@jupyter-widgets/base",
            "_model_module_version": "1.2.0",
            "_model_name": "LayoutModel",
            "_view_count": null,
            "_view_module": "@jupyter-widgets/base",
            "_view_module_version": "1.2.0",
            "_view_name": "LayoutView",
            "align_content": null,
            "align_items": null,
            "align_self": null,
            "border": null,
            "bottom": null,
            "display": null,
            "flex": null,
            "flex_flow": null,
            "grid_area": null,
            "grid_auto_columns": null,
            "grid_auto_flow": null,
            "grid_auto_rows": null,
            "grid_column": null,
            "grid_gap": null,
            "grid_row": null,
            "grid_template_areas": null,
            "grid_template_columns": null,
            "grid_template_rows": null,
            "height": null,
            "justify_content": null,
            "justify_items": null,
            "left": null,
            "margin": null,
            "max_height": null,
            "max_width": null,
            "min_height": null,
            "min_width": null,
            "object_fit": null,
            "object_position": null,
            "order": null,
            "overflow": null,
            "overflow_x": null,
            "overflow_y": null,
            "padding": null,
            "right": null,
            "top": null,
            "visibility": null,
            "width": null
          }
        },
        "ee11504e073f4e2fb2dfb88f42d82e64": {
          "model_module": "@jupyter-widgets/controls",
          "model_name": "DescriptionStyleModel",
          "model_module_version": "1.5.0",
          "state": {
            "_model_module": "@jupyter-widgets/controls",
            "_model_module_version": "1.5.0",
            "_model_name": "DescriptionStyleModel",
            "_view_count": null,
            "_view_module": "@jupyter-widgets/base",
            "_view_module_version": "1.2.0",
            "_view_name": "StyleView",
            "description_width": ""
          }
        },
        "e9afad8e4ad84de9a299516f48a231db": {
          "model_module": "@jupyter-widgets/controls",
          "model_name": "HBoxModel",
          "model_module_version": "1.5.0",
          "state": {
            "_dom_classes": [],
            "_model_module": "@jupyter-widgets/controls",
            "_model_module_version": "1.5.0",
            "_model_name": "HBoxModel",
            "_view_count": null,
            "_view_module": "@jupyter-widgets/controls",
            "_view_module_version": "1.5.0",
            "_view_name": "HBoxView",
            "box_style": "",
            "children": [
              "IPY_MODEL_f032cb047a3b49208ac0c77285e3dbc2",
              "IPY_MODEL_f4b44933331c46829f2806e112175d39",
              "IPY_MODEL_9744838a8591481ab27cbe3b53c1807c"
            ],
            "layout": "IPY_MODEL_0fce381c4afb4dd895a99812cae59325"
          }
        },
        "f032cb047a3b49208ac0c77285e3dbc2": {
          "model_module": "@jupyter-widgets/controls",
          "model_name": "HTMLModel",
          "model_module_version": "1.5.0",
          "state": {
            "_dom_classes": [],
            "_model_module": "@jupyter-widgets/controls",
            "_model_module_version": "1.5.0",
            "_model_name": "HTMLModel",
            "_view_count": null,
            "_view_module": "@jupyter-widgets/controls",
            "_view_module_version": "1.5.0",
            "_view_name": "HTMLView",
            "description": "",
            "description_tooltip": null,
            "layout": "IPY_MODEL_2502ee6312614f8da1d3d61b009fac23",
            "placeholder": "​",
            "style": "IPY_MODEL_df752527b396442691e98106545d7a26",
            "value": "Downloading (…)olve/main/vocab.json: 100%"
          }
        },
        "f4b44933331c46829f2806e112175d39": {
          "model_module": "@jupyter-widgets/controls",
          "model_name": "FloatProgressModel",
          "model_module_version": "1.5.0",
          "state": {
            "_dom_classes": [],
            "_model_module": "@jupyter-widgets/controls",
            "_model_module_version": "1.5.0",
            "_model_name": "FloatProgressModel",
            "_view_count": null,
            "_view_module": "@jupyter-widgets/controls",
            "_view_module_version": "1.5.0",
            "_view_name": "ProgressView",
            "bar_style": "success",
            "description": "",
            "description_tooltip": null,
            "layout": "IPY_MODEL_12a782d3503d447089118f6757c6dd71",
            "max": 894365,
            "min": 0,
            "orientation": "horizontal",
            "style": "IPY_MODEL_90e4f77ef8444bcda18a57bdeb3a3004",
            "value": 894365
          }
        },
        "9744838a8591481ab27cbe3b53c1807c": {
          "model_module": "@jupyter-widgets/controls",
          "model_name": "HTMLModel",
          "model_module_version": "1.5.0",
          "state": {
            "_dom_classes": [],
            "_model_module": "@jupyter-widgets/controls",
            "_model_module_version": "1.5.0",
            "_model_name": "HTMLModel",
            "_view_count": null,
            "_view_module": "@jupyter-widgets/controls",
            "_view_module_version": "1.5.0",
            "_view_name": "HTMLView",
            "description": "",
            "description_tooltip": null,
            "layout": "IPY_MODEL_d91960ade6084c9abcb9306c4a300353",
            "placeholder": "​",
            "style": "IPY_MODEL_43aa2ede86034bcf8be01aa03705487a",
            "value": " 894k/894k [00:00&lt;00:00, 13.3MB/s]"
          }
        },
        "0fce381c4afb4dd895a99812cae59325": {
          "model_module": "@jupyter-widgets/base",
          "model_name": "LayoutModel",
          "model_module_version": "1.2.0",
          "state": {
            "_model_module": "@jupyter-widgets/base",
            "_model_module_version": "1.2.0",
            "_model_name": "LayoutModel",
            "_view_count": null,
            "_view_module": "@jupyter-widgets/base",
            "_view_module_version": "1.2.0",
            "_view_name": "LayoutView",
            "align_content": null,
            "align_items": null,
            "align_self": null,
            "border": null,
            "bottom": null,
            "display": null,
            "flex": null,
            "flex_flow": null,
            "grid_area": null,
            "grid_auto_columns": null,
            "grid_auto_flow": null,
            "grid_auto_rows": null,
            "grid_column": null,
            "grid_gap": null,
            "grid_row": null,
            "grid_template_areas": null,
            "grid_template_columns": null,
            "grid_template_rows": null,
            "height": null,
            "justify_content": null,
            "justify_items": null,
            "left": null,
            "margin": null,
            "max_height": null,
            "max_width": null,
            "min_height": null,
            "min_width": null,
            "object_fit": null,
            "object_position": null,
            "order": null,
            "overflow": null,
            "overflow_x": null,
            "overflow_y": null,
            "padding": null,
            "right": null,
            "top": null,
            "visibility": null,
            "width": null
          }
        },
        "2502ee6312614f8da1d3d61b009fac23": {
          "model_module": "@jupyter-widgets/base",
          "model_name": "LayoutModel",
          "model_module_version": "1.2.0",
          "state": {
            "_model_module": "@jupyter-widgets/base",
            "_model_module_version": "1.2.0",
            "_model_name": "LayoutModel",
            "_view_count": null,
            "_view_module": "@jupyter-widgets/base",
            "_view_module_version": "1.2.0",
            "_view_name": "LayoutView",
            "align_content": null,
            "align_items": null,
            "align_self": null,
            "border": null,
            "bottom": null,
            "display": null,
            "flex": null,
            "flex_flow": null,
            "grid_area": null,
            "grid_auto_columns": null,
            "grid_auto_flow": null,
            "grid_auto_rows": null,
            "grid_column": null,
            "grid_gap": null,
            "grid_row": null,
            "grid_template_areas": null,
            "grid_template_columns": null,
            "grid_template_rows": null,
            "height": null,
            "justify_content": null,
            "justify_items": null,
            "left": null,
            "margin": null,
            "max_height": null,
            "max_width": null,
            "min_height": null,
            "min_width": null,
            "object_fit": null,
            "object_position": null,
            "order": null,
            "overflow": null,
            "overflow_x": null,
            "overflow_y": null,
            "padding": null,
            "right": null,
            "top": null,
            "visibility": null,
            "width": null
          }
        },
        "df752527b396442691e98106545d7a26": {
          "model_module": "@jupyter-widgets/controls",
          "model_name": "DescriptionStyleModel",
          "model_module_version": "1.5.0",
          "state": {
            "_model_module": "@jupyter-widgets/controls",
            "_model_module_version": "1.5.0",
            "_model_name": "DescriptionStyleModel",
            "_view_count": null,
            "_view_module": "@jupyter-widgets/base",
            "_view_module_version": "1.2.0",
            "_view_name": "StyleView",
            "description_width": ""
          }
        },
        "12a782d3503d447089118f6757c6dd71": {
          "model_module": "@jupyter-widgets/base",
          "model_name": "LayoutModel",
          "model_module_version": "1.2.0",
          "state": {
            "_model_module": "@jupyter-widgets/base",
            "_model_module_version": "1.2.0",
            "_model_name": "LayoutModel",
            "_view_count": null,
            "_view_module": "@jupyter-widgets/base",
            "_view_module_version": "1.2.0",
            "_view_name": "LayoutView",
            "align_content": null,
            "align_items": null,
            "align_self": null,
            "border": null,
            "bottom": null,
            "display": null,
            "flex": null,
            "flex_flow": null,
            "grid_area": null,
            "grid_auto_columns": null,
            "grid_auto_flow": null,
            "grid_auto_rows": null,
            "grid_column": null,
            "grid_gap": null,
            "grid_row": null,
            "grid_template_areas": null,
            "grid_template_columns": null,
            "grid_template_rows": null,
            "height": null,
            "justify_content": null,
            "justify_items": null,
            "left": null,
            "margin": null,
            "max_height": null,
            "max_width": null,
            "min_height": null,
            "min_width": null,
            "object_fit": null,
            "object_position": null,
            "order": null,
            "overflow": null,
            "overflow_x": null,
            "overflow_y": null,
            "padding": null,
            "right": null,
            "top": null,
            "visibility": null,
            "width": null
          }
        },
        "90e4f77ef8444bcda18a57bdeb3a3004": {
          "model_module": "@jupyter-widgets/controls",
          "model_name": "ProgressStyleModel",
          "model_module_version": "1.5.0",
          "state": {
            "_model_module": "@jupyter-widgets/controls",
            "_model_module_version": "1.5.0",
            "_model_name": "ProgressStyleModel",
            "_view_count": null,
            "_view_module": "@jupyter-widgets/base",
            "_view_module_version": "1.2.0",
            "_view_name": "StyleView",
            "bar_color": null,
            "description_width": ""
          }
        },
        "d91960ade6084c9abcb9306c4a300353": {
          "model_module": "@jupyter-widgets/base",
          "model_name": "LayoutModel",
          "model_module_version": "1.2.0",
          "state": {
            "_model_module": "@jupyter-widgets/base",
            "_model_module_version": "1.2.0",
            "_model_name": "LayoutModel",
            "_view_count": null,
            "_view_module": "@jupyter-widgets/base",
            "_view_module_version": "1.2.0",
            "_view_name": "LayoutView",
            "align_content": null,
            "align_items": null,
            "align_self": null,
            "border": null,
            "bottom": null,
            "display": null,
            "flex": null,
            "flex_flow": null,
            "grid_area": null,
            "grid_auto_columns": null,
            "grid_auto_flow": null,
            "grid_auto_rows": null,
            "grid_column": null,
            "grid_gap": null,
            "grid_row": null,
            "grid_template_areas": null,
            "grid_template_columns": null,
            "grid_template_rows": null,
            "height": null,
            "justify_content": null,
            "justify_items": null,
            "left": null,
            "margin": null,
            "max_height": null,
            "max_width": null,
            "min_height": null,
            "min_width": null,
            "object_fit": null,
            "object_position": null,
            "order": null,
            "overflow": null,
            "overflow_x": null,
            "overflow_y": null,
            "padding": null,
            "right": null,
            "top": null,
            "visibility": null,
            "width": null
          }
        },
        "43aa2ede86034bcf8be01aa03705487a": {
          "model_module": "@jupyter-widgets/controls",
          "model_name": "DescriptionStyleModel",
          "model_module_version": "1.5.0",
          "state": {
            "_model_module": "@jupyter-widgets/controls",
            "_model_module_version": "1.5.0",
            "_model_name": "DescriptionStyleModel",
            "_view_count": null,
            "_view_module": "@jupyter-widgets/base",
            "_view_module_version": "1.2.0",
            "_view_name": "StyleView",
            "description_width": ""
          }
        },
        "3d2f38cf23fb4ff682cf052349076f4d": {
          "model_module": "@jupyter-widgets/controls",
          "model_name": "HBoxModel",
          "model_module_version": "1.5.0",
          "state": {
            "_dom_classes": [],
            "_model_module": "@jupyter-widgets/controls",
            "_model_module_version": "1.5.0",
            "_model_name": "HBoxModel",
            "_view_count": null,
            "_view_module": "@jupyter-widgets/controls",
            "_view_module_version": "1.5.0",
            "_view_name": "HBoxView",
            "box_style": "",
            "children": [
              "IPY_MODEL_01393b3990504e4fb99a2b38799e5f11",
              "IPY_MODEL_7fae2259afb7477db4c034c69249dcb4",
              "IPY_MODEL_2c47ba4e345c41628e0d1b1b29d113f9"
            ],
            "layout": "IPY_MODEL_a99d60ea2bb94a708a71cdceb40b7e80"
          }
        },
        "01393b3990504e4fb99a2b38799e5f11": {
          "model_module": "@jupyter-widgets/controls",
          "model_name": "HTMLModel",
          "model_module_version": "1.5.0",
          "state": {
            "_dom_classes": [],
            "_model_module": "@jupyter-widgets/controls",
            "_model_module_version": "1.5.0",
            "_model_name": "HTMLModel",
            "_view_count": null,
            "_view_module": "@jupyter-widgets/controls",
            "_view_module_version": "1.5.0",
            "_view_name": "HTMLView",
            "description": "",
            "description_tooltip": null,
            "layout": "IPY_MODEL_61309ad2b7f4472487d22a1100ce0dee",
            "placeholder": "​",
            "style": "IPY_MODEL_4462f3c4b3014c70af145cc353edb116",
            "value": "Downloading (…)olve/main/merges.txt: 100%"
          }
        },
        "7fae2259afb7477db4c034c69249dcb4": {
          "model_module": "@jupyter-widgets/controls",
          "model_name": "FloatProgressModel",
          "model_module_version": "1.5.0",
          "state": {
            "_dom_classes": [],
            "_model_module": "@jupyter-widgets/controls",
            "_model_module_version": "1.5.0",
            "_model_name": "FloatProgressModel",
            "_view_count": null,
            "_view_module": "@jupyter-widgets/controls",
            "_view_module_version": "1.5.0",
            "_view_name": "ProgressView",
            "bar_style": "success",
            "description": "",
            "description_tooltip": null,
            "layout": "IPY_MODEL_abbb51b12a974ef2a3775a904cdd11bb",
            "max": 452165,
            "min": 0,
            "orientation": "horizontal",
            "style": "IPY_MODEL_ac0fce26a6e54f7e89cbe7095130458c",
            "value": 452165
          }
        },
        "2c47ba4e345c41628e0d1b1b29d113f9": {
          "model_module": "@jupyter-widgets/controls",
          "model_name": "HTMLModel",
          "model_module_version": "1.5.0",
          "state": {
            "_dom_classes": [],
            "_model_module": "@jupyter-widgets/controls",
            "_model_module_version": "1.5.0",
            "_model_name": "HTMLModel",
            "_view_count": null,
            "_view_module": "@jupyter-widgets/controls",
            "_view_module_version": "1.5.0",
            "_view_name": "HTMLView",
            "description": "",
            "description_tooltip": null,
            "layout": "IPY_MODEL_0045b5e1bcff40efa2a10a39b761a363",
            "placeholder": "​",
            "style": "IPY_MODEL_f6e13629259740a6be43c95b8690b3ff",
            "value": " 452k/452k [00:00&lt;00:00, 13.3MB/s]"
          }
        },
        "a99d60ea2bb94a708a71cdceb40b7e80": {
          "model_module": "@jupyter-widgets/base",
          "model_name": "LayoutModel",
          "model_module_version": "1.2.0",
          "state": {
            "_model_module": "@jupyter-widgets/base",
            "_model_module_version": "1.2.0",
            "_model_name": "LayoutModel",
            "_view_count": null,
            "_view_module": "@jupyter-widgets/base",
            "_view_module_version": "1.2.0",
            "_view_name": "LayoutView",
            "align_content": null,
            "align_items": null,
            "align_self": null,
            "border": null,
            "bottom": null,
            "display": null,
            "flex": null,
            "flex_flow": null,
            "grid_area": null,
            "grid_auto_columns": null,
            "grid_auto_flow": null,
            "grid_auto_rows": null,
            "grid_column": null,
            "grid_gap": null,
            "grid_row": null,
            "grid_template_areas": null,
            "grid_template_columns": null,
            "grid_template_rows": null,
            "height": null,
            "justify_content": null,
            "justify_items": null,
            "left": null,
            "margin": null,
            "max_height": null,
            "max_width": null,
            "min_height": null,
            "min_width": null,
            "object_fit": null,
            "object_position": null,
            "order": null,
            "overflow": null,
            "overflow_x": null,
            "overflow_y": null,
            "padding": null,
            "right": null,
            "top": null,
            "visibility": null,
            "width": null
          }
        },
        "61309ad2b7f4472487d22a1100ce0dee": {
          "model_module": "@jupyter-widgets/base",
          "model_name": "LayoutModel",
          "model_module_version": "1.2.0",
          "state": {
            "_model_module": "@jupyter-widgets/base",
            "_model_module_version": "1.2.0",
            "_model_name": "LayoutModel",
            "_view_count": null,
            "_view_module": "@jupyter-widgets/base",
            "_view_module_version": "1.2.0",
            "_view_name": "LayoutView",
            "align_content": null,
            "align_items": null,
            "align_self": null,
            "border": null,
            "bottom": null,
            "display": null,
            "flex": null,
            "flex_flow": null,
            "grid_area": null,
            "grid_auto_columns": null,
            "grid_auto_flow": null,
            "grid_auto_rows": null,
            "grid_column": null,
            "grid_gap": null,
            "grid_row": null,
            "grid_template_areas": null,
            "grid_template_columns": null,
            "grid_template_rows": null,
            "height": null,
            "justify_content": null,
            "justify_items": null,
            "left": null,
            "margin": null,
            "max_height": null,
            "max_width": null,
            "min_height": null,
            "min_width": null,
            "object_fit": null,
            "object_position": null,
            "order": null,
            "overflow": null,
            "overflow_x": null,
            "overflow_y": null,
            "padding": null,
            "right": null,
            "top": null,
            "visibility": null,
            "width": null
          }
        },
        "4462f3c4b3014c70af145cc353edb116": {
          "model_module": "@jupyter-widgets/controls",
          "model_name": "DescriptionStyleModel",
          "model_module_version": "1.5.0",
          "state": {
            "_model_module": "@jupyter-widgets/controls",
            "_model_module_version": "1.5.0",
            "_model_name": "DescriptionStyleModel",
            "_view_count": null,
            "_view_module": "@jupyter-widgets/base",
            "_view_module_version": "1.2.0",
            "_view_name": "StyleView",
            "description_width": ""
          }
        },
        "abbb51b12a974ef2a3775a904cdd11bb": {
          "model_module": "@jupyter-widgets/base",
          "model_name": "LayoutModel",
          "model_module_version": "1.2.0",
          "state": {
            "_model_module": "@jupyter-widgets/base",
            "_model_module_version": "1.2.0",
            "_model_name": "LayoutModel",
            "_view_count": null,
            "_view_module": "@jupyter-widgets/base",
            "_view_module_version": "1.2.0",
            "_view_name": "LayoutView",
            "align_content": null,
            "align_items": null,
            "align_self": null,
            "border": null,
            "bottom": null,
            "display": null,
            "flex": null,
            "flex_flow": null,
            "grid_area": null,
            "grid_auto_columns": null,
            "grid_auto_flow": null,
            "grid_auto_rows": null,
            "grid_column": null,
            "grid_gap": null,
            "grid_row": null,
            "grid_template_areas": null,
            "grid_template_columns": null,
            "grid_template_rows": null,
            "height": null,
            "justify_content": null,
            "justify_items": null,
            "left": null,
            "margin": null,
            "max_height": null,
            "max_width": null,
            "min_height": null,
            "min_width": null,
            "object_fit": null,
            "object_position": null,
            "order": null,
            "overflow": null,
            "overflow_x": null,
            "overflow_y": null,
            "padding": null,
            "right": null,
            "top": null,
            "visibility": null,
            "width": null
          }
        },
        "ac0fce26a6e54f7e89cbe7095130458c": {
          "model_module": "@jupyter-widgets/controls",
          "model_name": "ProgressStyleModel",
          "model_module_version": "1.5.0",
          "state": {
            "_model_module": "@jupyter-widgets/controls",
            "_model_module_version": "1.5.0",
            "_model_name": "ProgressStyleModel",
            "_view_count": null,
            "_view_module": "@jupyter-widgets/base",
            "_view_module_version": "1.2.0",
            "_view_name": "StyleView",
            "bar_color": null,
            "description_width": ""
          }
        },
        "0045b5e1bcff40efa2a10a39b761a363": {
          "model_module": "@jupyter-widgets/base",
          "model_name": "LayoutModel",
          "model_module_version": "1.2.0",
          "state": {
            "_model_module": "@jupyter-widgets/base",
            "_model_module_version": "1.2.0",
            "_model_name": "LayoutModel",
            "_view_count": null,
            "_view_module": "@jupyter-widgets/base",
            "_view_module_version": "1.2.0",
            "_view_name": "LayoutView",
            "align_content": null,
            "align_items": null,
            "align_self": null,
            "border": null,
            "bottom": null,
            "display": null,
            "flex": null,
            "flex_flow": null,
            "grid_area": null,
            "grid_auto_columns": null,
            "grid_auto_flow": null,
            "grid_auto_rows": null,
            "grid_column": null,
            "grid_gap": null,
            "grid_row": null,
            "grid_template_areas": null,
            "grid_template_columns": null,
            "grid_template_rows": null,
            "height": null,
            "justify_content": null,
            "justify_items": null,
            "left": null,
            "margin": null,
            "max_height": null,
            "max_width": null,
            "min_height": null,
            "min_width": null,
            "object_fit": null,
            "object_position": null,
            "order": null,
            "overflow": null,
            "overflow_x": null,
            "overflow_y": null,
            "padding": null,
            "right": null,
            "top": null,
            "visibility": null,
            "width": null
          }
        },
        "f6e13629259740a6be43c95b8690b3ff": {
          "model_module": "@jupyter-widgets/controls",
          "model_name": "DescriptionStyleModel",
          "model_module_version": "1.5.0",
          "state": {
            "_model_module": "@jupyter-widgets/controls",
            "_model_module_version": "1.5.0",
            "_model_name": "DescriptionStyleModel",
            "_view_count": null,
            "_view_module": "@jupyter-widgets/base",
            "_view_module_version": "1.2.0",
            "_view_name": "StyleView",
            "description_width": ""
          }
        },
        "05c4e44f79574cf5ae67916c83d6b864": {
          "model_module": "@jupyter-widgets/controls",
          "model_name": "HBoxModel",
          "model_module_version": "1.5.0",
          "state": {
            "_dom_classes": [],
            "_model_module": "@jupyter-widgets/controls",
            "_model_module_version": "1.5.0",
            "_model_name": "HBoxModel",
            "_view_count": null,
            "_view_module": "@jupyter-widgets/controls",
            "_view_module_version": "1.5.0",
            "_view_name": "HBoxView",
            "box_style": "",
            "children": [
              "IPY_MODEL_b41b81e156c34e1a9fc7ce62c112bef4",
              "IPY_MODEL_b521528d35c14dca8bfdeb182d01304d",
              "IPY_MODEL_3f775222ec4f44a5bb371f81456ac806"
            ],
            "layout": "IPY_MODEL_9889b5eb630141f695739d480d77a805"
          }
        },
        "b41b81e156c34e1a9fc7ce62c112bef4": {
          "model_module": "@jupyter-widgets/controls",
          "model_name": "HTMLModel",
          "model_module_version": "1.5.0",
          "state": {
            "_dom_classes": [],
            "_model_module": "@jupyter-widgets/controls",
            "_model_module_version": "1.5.0",
            "_model_name": "HTMLModel",
            "_view_count": null,
            "_view_module": "@jupyter-widgets/controls",
            "_view_module_version": "1.5.0",
            "_view_name": "HTMLView",
            "description": "",
            "description_tooltip": null,
            "layout": "IPY_MODEL_aca1d8f843c44466b4ff18d812cdaabc",
            "placeholder": "​",
            "style": "IPY_MODEL_8de5857ab4ce455fb35eda1a93a92449",
            "value": "Downloading (…)cial_tokens_map.json: 100%"
          }
        },
        "b521528d35c14dca8bfdeb182d01304d": {
          "model_module": "@jupyter-widgets/controls",
          "model_name": "FloatProgressModel",
          "model_module_version": "1.5.0",
          "state": {
            "_dom_classes": [],
            "_model_module": "@jupyter-widgets/controls",
            "_model_module_version": "1.5.0",
            "_model_name": "FloatProgressModel",
            "_view_count": null,
            "_view_module": "@jupyter-widgets/controls",
            "_view_module_version": "1.5.0",
            "_view_name": "ProgressView",
            "bar_style": "success",
            "description": "",
            "description_tooltip": null,
            "layout": "IPY_MODEL_b1d070e532104e888c0b4fe0ac60c40f",
            "max": 357,
            "min": 0,
            "orientation": "horizontal",
            "style": "IPY_MODEL_5415892e1c3e4f4bb3c663bcbd48f37e",
            "value": 357
          }
        },
        "3f775222ec4f44a5bb371f81456ac806": {
          "model_module": "@jupyter-widgets/controls",
          "model_name": "HTMLModel",
          "model_module_version": "1.5.0",
          "state": {
            "_dom_classes": [],
            "_model_module": "@jupyter-widgets/controls",
            "_model_module_version": "1.5.0",
            "_model_name": "HTMLModel",
            "_view_count": null,
            "_view_module": "@jupyter-widgets/controls",
            "_view_module_version": "1.5.0",
            "_view_name": "HTMLView",
            "description": "",
            "description_tooltip": null,
            "layout": "IPY_MODEL_f1365fc001904cd385b81cb41a154e7e",
            "placeholder": "​",
            "style": "IPY_MODEL_da89c056b0c542fb89c24e0cdd1d7510",
            "value": " 357/357 [00:00&lt;00:00, 7.95kB/s]"
          }
        },
        "9889b5eb630141f695739d480d77a805": {
          "model_module": "@jupyter-widgets/base",
          "model_name": "LayoutModel",
          "model_module_version": "1.2.0",
          "state": {
            "_model_module": "@jupyter-widgets/base",
            "_model_module_version": "1.2.0",
            "_model_name": "LayoutModel",
            "_view_count": null,
            "_view_module": "@jupyter-widgets/base",
            "_view_module_version": "1.2.0",
            "_view_name": "LayoutView",
            "align_content": null,
            "align_items": null,
            "align_self": null,
            "border": null,
            "bottom": null,
            "display": null,
            "flex": null,
            "flex_flow": null,
            "grid_area": null,
            "grid_auto_columns": null,
            "grid_auto_flow": null,
            "grid_auto_rows": null,
            "grid_column": null,
            "grid_gap": null,
            "grid_row": null,
            "grid_template_areas": null,
            "grid_template_columns": null,
            "grid_template_rows": null,
            "height": null,
            "justify_content": null,
            "justify_items": null,
            "left": null,
            "margin": null,
            "max_height": null,
            "max_width": null,
            "min_height": null,
            "min_width": null,
            "object_fit": null,
            "object_position": null,
            "order": null,
            "overflow": null,
            "overflow_x": null,
            "overflow_y": null,
            "padding": null,
            "right": null,
            "top": null,
            "visibility": null,
            "width": null
          }
        },
        "aca1d8f843c44466b4ff18d812cdaabc": {
          "model_module": "@jupyter-widgets/base",
          "model_name": "LayoutModel",
          "model_module_version": "1.2.0",
          "state": {
            "_model_module": "@jupyter-widgets/base",
            "_model_module_version": "1.2.0",
            "_model_name": "LayoutModel",
            "_view_count": null,
            "_view_module": "@jupyter-widgets/base",
            "_view_module_version": "1.2.0",
            "_view_name": "LayoutView",
            "align_content": null,
            "align_items": null,
            "align_self": null,
            "border": null,
            "bottom": null,
            "display": null,
            "flex": null,
            "flex_flow": null,
            "grid_area": null,
            "grid_auto_columns": null,
            "grid_auto_flow": null,
            "grid_auto_rows": null,
            "grid_column": null,
            "grid_gap": null,
            "grid_row": null,
            "grid_template_areas": null,
            "grid_template_columns": null,
            "grid_template_rows": null,
            "height": null,
            "justify_content": null,
            "justify_items": null,
            "left": null,
            "margin": null,
            "max_height": null,
            "max_width": null,
            "min_height": null,
            "min_width": null,
            "object_fit": null,
            "object_position": null,
            "order": null,
            "overflow": null,
            "overflow_x": null,
            "overflow_y": null,
            "padding": null,
            "right": null,
            "top": null,
            "visibility": null,
            "width": null
          }
        },
        "8de5857ab4ce455fb35eda1a93a92449": {
          "model_module": "@jupyter-widgets/controls",
          "model_name": "DescriptionStyleModel",
          "model_module_version": "1.5.0",
          "state": {
            "_model_module": "@jupyter-widgets/controls",
            "_model_module_version": "1.5.0",
            "_model_name": "DescriptionStyleModel",
            "_view_count": null,
            "_view_module": "@jupyter-widgets/base",
            "_view_module_version": "1.2.0",
            "_view_name": "StyleView",
            "description_width": ""
          }
        },
        "b1d070e532104e888c0b4fe0ac60c40f": {
          "model_module": "@jupyter-widgets/base",
          "model_name": "LayoutModel",
          "model_module_version": "1.2.0",
          "state": {
            "_model_module": "@jupyter-widgets/base",
            "_model_module_version": "1.2.0",
            "_model_name": "LayoutModel",
            "_view_count": null,
            "_view_module": "@jupyter-widgets/base",
            "_view_module_version": "1.2.0",
            "_view_name": "LayoutView",
            "align_content": null,
            "align_items": null,
            "align_self": null,
            "border": null,
            "bottom": null,
            "display": null,
            "flex": null,
            "flex_flow": null,
            "grid_area": null,
            "grid_auto_columns": null,
            "grid_auto_flow": null,
            "grid_auto_rows": null,
            "grid_column": null,
            "grid_gap": null,
            "grid_row": null,
            "grid_template_areas": null,
            "grid_template_columns": null,
            "grid_template_rows": null,
            "height": null,
            "justify_content": null,
            "justify_items": null,
            "left": null,
            "margin": null,
            "max_height": null,
            "max_width": null,
            "min_height": null,
            "min_width": null,
            "object_fit": null,
            "object_position": null,
            "order": null,
            "overflow": null,
            "overflow_x": null,
            "overflow_y": null,
            "padding": null,
            "right": null,
            "top": null,
            "visibility": null,
            "width": null
          }
        },
        "5415892e1c3e4f4bb3c663bcbd48f37e": {
          "model_module": "@jupyter-widgets/controls",
          "model_name": "ProgressStyleModel",
          "model_module_version": "1.5.0",
          "state": {
            "_model_module": "@jupyter-widgets/controls",
            "_model_module_version": "1.5.0",
            "_model_name": "ProgressStyleModel",
            "_view_count": null,
            "_view_module": "@jupyter-widgets/base",
            "_view_module_version": "1.2.0",
            "_view_name": "StyleView",
            "bar_color": null,
            "description_width": ""
          }
        },
        "f1365fc001904cd385b81cb41a154e7e": {
          "model_module": "@jupyter-widgets/base",
          "model_name": "LayoutModel",
          "model_module_version": "1.2.0",
          "state": {
            "_model_module": "@jupyter-widgets/base",
            "_model_module_version": "1.2.0",
            "_model_name": "LayoutModel",
            "_view_count": null,
            "_view_module": "@jupyter-widgets/base",
            "_view_module_version": "1.2.0",
            "_view_name": "LayoutView",
            "align_content": null,
            "align_items": null,
            "align_self": null,
            "border": null,
            "bottom": null,
            "display": null,
            "flex": null,
            "flex_flow": null,
            "grid_area": null,
            "grid_auto_columns": null,
            "grid_auto_flow": null,
            "grid_auto_rows": null,
            "grid_column": null,
            "grid_gap": null,
            "grid_row": null,
            "grid_template_areas": null,
            "grid_template_columns": null,
            "grid_template_rows": null,
            "height": null,
            "justify_content": null,
            "justify_items": null,
            "left": null,
            "margin": null,
            "max_height": null,
            "max_width": null,
            "min_height": null,
            "min_width": null,
            "object_fit": null,
            "object_position": null,
            "order": null,
            "overflow": null,
            "overflow_x": null,
            "overflow_y": null,
            "padding": null,
            "right": null,
            "top": null,
            "visibility": null,
            "width": null
          }
        },
        "da89c056b0c542fb89c24e0cdd1d7510": {
          "model_module": "@jupyter-widgets/controls",
          "model_name": "DescriptionStyleModel",
          "model_module_version": "1.5.0",
          "state": {
            "_model_module": "@jupyter-widgets/controls",
            "_model_module_version": "1.5.0",
            "_model_name": "DescriptionStyleModel",
            "_view_count": null,
            "_view_module": "@jupyter-widgets/base",
            "_view_module_version": "1.2.0",
            "_view_name": "StyleView",
            "description_width": ""
          }
        },
        "cf251a89730d400e8bfda40ff9ebc10b": {
          "model_module": "@jupyter-widgets/controls",
          "model_name": "HBoxModel",
          "model_module_version": "1.5.0",
          "state": {
            "_dom_classes": [],
            "_model_module": "@jupyter-widgets/controls",
            "_model_module_version": "1.5.0",
            "_model_name": "HBoxModel",
            "_view_count": null,
            "_view_module": "@jupyter-widgets/controls",
            "_view_module_version": "1.5.0",
            "_view_name": "HBoxView",
            "box_style": "",
            "children": [
              "IPY_MODEL_9074d4f558f747d3b4a3584f873bfb14",
              "IPY_MODEL_56e92bec7bf645278005ba6013f2b779",
              "IPY_MODEL_b5f470c465114ad4a87df7349167702a"
            ],
            "layout": "IPY_MODEL_c970992b19484dd88bfc8c9f7c947c46"
          }
        },
        "9074d4f558f747d3b4a3584f873bfb14": {
          "model_module": "@jupyter-widgets/controls",
          "model_name": "HTMLModel",
          "model_module_version": "1.5.0",
          "state": {
            "_dom_classes": [],
            "_model_module": "@jupyter-widgets/controls",
            "_model_module_version": "1.5.0",
            "_model_name": "HTMLModel",
            "_view_count": null,
            "_view_module": "@jupyter-widgets/controls",
            "_view_module_version": "1.5.0",
            "_view_name": "HTMLView",
            "description": "",
            "description_tooltip": null,
            "layout": "IPY_MODEL_a9bb5365b273473888a8e900cb68a6f5",
            "placeholder": "​",
            "style": "IPY_MODEL_16646f9264794e77bb2d068368ba8f69",
            "value": "Downloading builder script: 100%"
          }
        },
        "56e92bec7bf645278005ba6013f2b779": {
          "model_module": "@jupyter-widgets/controls",
          "model_name": "FloatProgressModel",
          "model_module_version": "1.5.0",
          "state": {
            "_dom_classes": [],
            "_model_module": "@jupyter-widgets/controls",
            "_model_module_version": "1.5.0",
            "_model_name": "FloatProgressModel",
            "_view_count": null,
            "_view_module": "@jupyter-widgets/controls",
            "_view_module_version": "1.5.0",
            "_view_name": "ProgressView",
            "bar_style": "success",
            "description": "",
            "description_tooltip": null,
            "layout": "IPY_MODEL_727e2897aa96477483fe7436d9952527",
            "max": 12063,
            "min": 0,
            "orientation": "horizontal",
            "style": "IPY_MODEL_895dc6513263475ab940034f1f8c5fd8",
            "value": 12063
          }
        },
        "b5f470c465114ad4a87df7349167702a": {
          "model_module": "@jupyter-widgets/controls",
          "model_name": "HTMLModel",
          "model_module_version": "1.5.0",
          "state": {
            "_dom_classes": [],
            "_model_module": "@jupyter-widgets/controls",
            "_model_module_version": "1.5.0",
            "_model_name": "HTMLModel",
            "_view_count": null,
            "_view_module": "@jupyter-widgets/controls",
            "_view_module_version": "1.5.0",
            "_view_name": "HTMLView",
            "description": "",
            "description_tooltip": null,
            "layout": "IPY_MODEL_ec740b6457014ac88dfad0ebd6b98871",
            "placeholder": "​",
            "style": "IPY_MODEL_c4226418c1044e509d875e2cbf1c634a",
            "value": " 12.1k/12.1k [00:00&lt;00:00, 773kB/s]"
          }
        },
        "c970992b19484dd88bfc8c9f7c947c46": {
          "model_module": "@jupyter-widgets/base",
          "model_name": "LayoutModel",
          "model_module_version": "1.2.0",
          "state": {
            "_model_module": "@jupyter-widgets/base",
            "_model_module_version": "1.2.0",
            "_model_name": "LayoutModel",
            "_view_count": null,
            "_view_module": "@jupyter-widgets/base",
            "_view_module_version": "1.2.0",
            "_view_name": "LayoutView",
            "align_content": null,
            "align_items": null,
            "align_self": null,
            "border": null,
            "bottom": null,
            "display": null,
            "flex": null,
            "flex_flow": null,
            "grid_area": null,
            "grid_auto_columns": null,
            "grid_auto_flow": null,
            "grid_auto_rows": null,
            "grid_column": null,
            "grid_gap": null,
            "grid_row": null,
            "grid_template_areas": null,
            "grid_template_columns": null,
            "grid_template_rows": null,
            "height": null,
            "justify_content": null,
            "justify_items": null,
            "left": null,
            "margin": null,
            "max_height": null,
            "max_width": null,
            "min_height": null,
            "min_width": null,
            "object_fit": null,
            "object_position": null,
            "order": null,
            "overflow": null,
            "overflow_x": null,
            "overflow_y": null,
            "padding": null,
            "right": null,
            "top": null,
            "visibility": null,
            "width": null
          }
        },
        "a9bb5365b273473888a8e900cb68a6f5": {
          "model_module": "@jupyter-widgets/base",
          "model_name": "LayoutModel",
          "model_module_version": "1.2.0",
          "state": {
            "_model_module": "@jupyter-widgets/base",
            "_model_module_version": "1.2.0",
            "_model_name": "LayoutModel",
            "_view_count": null,
            "_view_module": "@jupyter-widgets/base",
            "_view_module_version": "1.2.0",
            "_view_name": "LayoutView",
            "align_content": null,
            "align_items": null,
            "align_self": null,
            "border": null,
            "bottom": null,
            "display": null,
            "flex": null,
            "flex_flow": null,
            "grid_area": null,
            "grid_auto_columns": null,
            "grid_auto_flow": null,
            "grid_auto_rows": null,
            "grid_column": null,
            "grid_gap": null,
            "grid_row": null,
            "grid_template_areas": null,
            "grid_template_columns": null,
            "grid_template_rows": null,
            "height": null,
            "justify_content": null,
            "justify_items": null,
            "left": null,
            "margin": null,
            "max_height": null,
            "max_width": null,
            "min_height": null,
            "min_width": null,
            "object_fit": null,
            "object_position": null,
            "order": null,
            "overflow": null,
            "overflow_x": null,
            "overflow_y": null,
            "padding": null,
            "right": null,
            "top": null,
            "visibility": null,
            "width": null
          }
        },
        "16646f9264794e77bb2d068368ba8f69": {
          "model_module": "@jupyter-widgets/controls",
          "model_name": "DescriptionStyleModel",
          "model_module_version": "1.5.0",
          "state": {
            "_model_module": "@jupyter-widgets/controls",
            "_model_module_version": "1.5.0",
            "_model_name": "DescriptionStyleModel",
            "_view_count": null,
            "_view_module": "@jupyter-widgets/base",
            "_view_module_version": "1.2.0",
            "_view_name": "StyleView",
            "description_width": ""
          }
        },
        "727e2897aa96477483fe7436d9952527": {
          "model_module": "@jupyter-widgets/base",
          "model_name": "LayoutModel",
          "model_module_version": "1.2.0",
          "state": {
            "_model_module": "@jupyter-widgets/base",
            "_model_module_version": "1.2.0",
            "_model_name": "LayoutModel",
            "_view_count": null,
            "_view_module": "@jupyter-widgets/base",
            "_view_module_version": "1.2.0",
            "_view_name": "LayoutView",
            "align_content": null,
            "align_items": null,
            "align_self": null,
            "border": null,
            "bottom": null,
            "display": null,
            "flex": null,
            "flex_flow": null,
            "grid_area": null,
            "grid_auto_columns": null,
            "grid_auto_flow": null,
            "grid_auto_rows": null,
            "grid_column": null,
            "grid_gap": null,
            "grid_row": null,
            "grid_template_areas": null,
            "grid_template_columns": null,
            "grid_template_rows": null,
            "height": null,
            "justify_content": null,
            "justify_items": null,
            "left": null,
            "margin": null,
            "max_height": null,
            "max_width": null,
            "min_height": null,
            "min_width": null,
            "object_fit": null,
            "object_position": null,
            "order": null,
            "overflow": null,
            "overflow_x": null,
            "overflow_y": null,
            "padding": null,
            "right": null,
            "top": null,
            "visibility": null,
            "width": null
          }
        },
        "895dc6513263475ab940034f1f8c5fd8": {
          "model_module": "@jupyter-widgets/controls",
          "model_name": "ProgressStyleModel",
          "model_module_version": "1.5.0",
          "state": {
            "_model_module": "@jupyter-widgets/controls",
            "_model_module_version": "1.5.0",
            "_model_name": "ProgressStyleModel",
            "_view_count": null,
            "_view_module": "@jupyter-widgets/base",
            "_view_module_version": "1.2.0",
            "_view_name": "StyleView",
            "bar_color": null,
            "description_width": ""
          }
        },
        "ec740b6457014ac88dfad0ebd6b98871": {
          "model_module": "@jupyter-widgets/base",
          "model_name": "LayoutModel",
          "model_module_version": "1.2.0",
          "state": {
            "_model_module": "@jupyter-widgets/base",
            "_model_module_version": "1.2.0",
            "_model_name": "LayoutModel",
            "_view_count": null,
            "_view_module": "@jupyter-widgets/base",
            "_view_module_version": "1.2.0",
            "_view_name": "LayoutView",
            "align_content": null,
            "align_items": null,
            "align_self": null,
            "border": null,
            "bottom": null,
            "display": null,
            "flex": null,
            "flex_flow": null,
            "grid_area": null,
            "grid_auto_columns": null,
            "grid_auto_flow": null,
            "grid_auto_rows": null,
            "grid_column": null,
            "grid_gap": null,
            "grid_row": null,
            "grid_template_areas": null,
            "grid_template_columns": null,
            "grid_template_rows": null,
            "height": null,
            "justify_content": null,
            "justify_items": null,
            "left": null,
            "margin": null,
            "max_height": null,
            "max_width": null,
            "min_height": null,
            "min_width": null,
            "object_fit": null,
            "object_position": null,
            "order": null,
            "overflow": null,
            "overflow_x": null,
            "overflow_y": null,
            "padding": null,
            "right": null,
            "top": null,
            "visibility": null,
            "width": null
          }
        },
        "c4226418c1044e509d875e2cbf1c634a": {
          "model_module": "@jupyter-widgets/controls",
          "model_name": "DescriptionStyleModel",
          "model_module_version": "1.5.0",
          "state": {
            "_model_module": "@jupyter-widgets/controls",
            "_model_module_version": "1.5.0",
            "_model_name": "DescriptionStyleModel",
            "_view_count": null,
            "_view_module": "@jupyter-widgets/base",
            "_view_module_version": "1.2.0",
            "_view_name": "StyleView",
            "description_width": ""
          }
        }
      }
    }
  },
  "nbformat": 4,
  "nbformat_minor": 0
}